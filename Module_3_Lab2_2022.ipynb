{
  "nbformat": 4,
  "nbformat_minor": 0,
  "metadata": {
    "colab": {
      "provenance": [],
      "include_colab_link": true
    },
    "kernelspec": {
      "name": "python3",
      "display_name": "Python 3"
    },
    "language_info": {
      "name": "python"
    }
  },
  "cells": [
    {
      "cell_type": "markdown",
      "metadata": {
        "id": "view-in-github",
        "colab_type": "text"
      },
      "source": [
        "<a href=\"https://colab.research.google.com/github/vijayareddy2002/fmml20220092/blob/main/Module_3_Lab2_2022.ipynb\" target=\"_parent\"><img src=\"https://colab.research.google.com/assets/colab-badge.svg\" alt=\"Open In Colab\"/></a>"
      ]
    },
    {
      "cell_type": "markdown",
      "source": [
        "# **FOUNDATIONS OF MODERN MACHINE LEARNING, IIIT Hyderabad**\n",
        "### MODULE 3: CLASSIFICATION-1\n",
        "### LAB-2 : Implementing KNN from scratch and visualize Algorithm performance \n",
        "#### Module Coordinator: Tanvi Kamble\n",
        "\n",
        "---"
      ],
      "metadata": {
        "id": "7lNmnA0_AhlE"
      }
    },
    {
      "cell_type": "markdown",
      "source": [
        "# **Section 1: Implementing KNN** "
      ],
      "metadata": {
        "id": "Q7v6N5-LBHWS"
      }
    },
    {
      "cell_type": "markdown",
      "source": [
        "In the last lab we had started discussing about KNN or K Nearest Neighbour method for clasification. We used the pre-built scikit-learn library for KNN. Now let's see how to implement this algorithm from scratch  "
      ],
      "metadata": {
        "id": "DIKaq_foFSXD"
      }
    },
    {
      "cell_type": "code",
      "metadata": {
        "id": "A7877e44n6Kd"
      },
      "source": [
        "import pandas as pd\n",
        "import numpy as np\n",
        "from sklearn.model_selection import train_test_split\n",
        "from sklearn.metrics import accuracy_score\n",
        "from sklearn import preprocessing\n",
        "from collections import Counter"
      ],
      "execution_count": null,
      "outputs": []
    },
    {
      "cell_type": "code",
      "metadata": {
        "id": "nHzdQE_8oPM1"
      },
      "source": [
        "def predict(X_train, y_train, X_test, k):\n",
        "    distances = []\n",
        "    targets = []\n",
        "\n",
        "    for i in range(len(X_train)):\n",
        "        # compute and store L2 distance\n",
        "        distances.append([np.sqrt(np.sum(np.square(X_test - X_train[i, :]))), i])\n",
        "    print(len(distances))\n",
        "    distances = sorted(distances)\n",
        "\n",
        "    for i in range(k):\n",
        "        index = distances[i][1]\n",
        "        targets.append(y_train[index])\n",
        "\n",
        "    # return most common target\n",
        "    return Counter(targets).most_common(1)[0][0]"
      ],
      "execution_count": null,
      "outputs": []
    },
    {
      "cell_type": "code",
      "metadata": {
        "id": "9_kulEM0oWJ-"
      },
      "source": [
        "def k_nearest_neighbor(X_train, y_train, X_test, k):\n",
        "\n",
        "    assert k <= len(X_train), \"[!] K cannot be larger than number of samples.\"\n",
        "\n",
        "    # loop over all observations\n",
        "    predictions = []\n",
        "    for i in range(len(X_test)):\n",
        "        predictions.append(predict(X_train, y_train, X_test[i, :], k))\n",
        "\n",
        "    return np.asarray(predictions)"
      ],
      "execution_count": null,
      "outputs": []
    },
    {
      "cell_type": "markdown",
      "source": [
        "[[6.2 3.4 5.4 2.3]\n",
        " [6.6 2.9 4.6 1.3]\n",
        " [5.8 2.7 3.9 1.2]\n",
        " [6.7 3.  5.  1.7]\n",
        " [5.6 2.7 4.2 1.3]]\n",
        "xtest\n",
        "[[5.4 3.9 1.3 0.4]\n",
        " [6.  2.9 4.5 1.5]\n",
        " [6.7 3.  5.2 2.3]\n",
        " [5.7 2.8 4.1 1.3]\n",
        " [6.2 2.8 4.8 1.8]]"
      ],
      "metadata": {
        "id": "Sg-eq4K2mxhZ"
      }
    },
    {
      "cell_type": "markdown",
      "source": [
        "**Note** : If k = 1 then the algorithm will simply return the label of the nearest neighbour. When we give k > 1 the most common label out of the given labels in the k neighbours will be selected.The code for 1 NN is given as follows and does not have to be so complicated. "
      ],
      "metadata": {
        "id": "W_saK1gP2zd1"
      }
    },
    {
      "cell_type": "code",
      "source": [
        "def NN1(traindata, trainlabel, query):\n",
        "  diff  = traindata - query  # find the difference between features. Numpy automatically takes care of the size here \n",
        "  sq = diff*diff # square the differences\n",
        "  dist = sq.sum(1) # add up the squares\n",
        "  label = trainlabel[np.argmin(dist)] # our predicted label is the label of the training data which has the least distance from the query\n",
        "  return label"
      ],
      "metadata": {
        "id": "wa4lAr9p3Tqk"
      },
      "execution_count": null,
      "outputs": []
    },
    {
      "cell_type": "markdown",
      "metadata": {
        "id": "1Hjf1KHs7fU5"
      },
      "source": [
        "Let us define a metric 'Accuracy' to see how good our learning algorithm is. Accuracy is the ratio of the number of correctly classified samples to the total number of samples. The higher the accuracy, the better the algorithm. "
      ]
    },
    {
      "cell_type": "code",
      "metadata": {
        "id": "ouuCqWU07bz-"
      },
      "source": [
        "def Accuracy(gtlabel, predlabel):\n",
        "  assert len(gtlabel)==len(predlabel), \"Length of the groundtruth labels and predicted labels should be the same\"\n",
        "  correct = (gtlabel==predlabel).sum() # count the number of times the groundtruth label is equal to the predicted label.\n",
        "  return correct/len(gtlabel)"
      ],
      "execution_count": null,
      "outputs": []
    },
    {
      "cell_type": "markdown",
      "source": [
        "## Section 1.1 - Iris Dataset\n",
        "Let's try it out on Iris Dataset present in the scikit learn library"
      ],
      "metadata": {
        "id": "97MTzRbMKHfl"
      }
    },
    {
      "cell_type": "code",
      "source": [
        "from sklearn.datasets import load_iris\n",
        "\n",
        "data = load_iris()\n",
        "\n",
        "df = pd.DataFrame(data=data.data, columns=data.feature_names)\n",
        "\n",
        "df[\"target\"] = data.target\n",
        "\n",
        "df.head()"
      ],
      "metadata": {
        "colab": {
          "base_uri": "https://localhost:8080/",
          "height": 206
        },
        "id": "VJ7YJCT1KN29",
        "outputId": "f7a9a443-23b1-4202-d024-0f442aa56067"
      },
      "execution_count": null,
      "outputs": [
        {
          "output_type": "execute_result",
          "data": {
            "text/plain": [
              "   sepal length (cm)  sepal width (cm)  petal length (cm)  petal width (cm)  \\\n",
              "0                5.1               3.5                1.4               0.2   \n",
              "1                4.9               3.0                1.4               0.2   \n",
              "2                4.7               3.2                1.3               0.2   \n",
              "3                4.6               3.1                1.5               0.2   \n",
              "4                5.0               3.6                1.4               0.2   \n",
              "\n",
              "   target  \n",
              "0       0  \n",
              "1       0  \n",
              "2       0  \n",
              "3       0  \n",
              "4       0  "
            ],
            "text/html": [
              "\n",
              "  <div id=\"df-640cdd3b-90ad-44df-9b70-22e7734ebdea\">\n",
              "    <div class=\"colab-df-container\">\n",
              "      <div>\n",
              "<style scoped>\n",
              "    .dataframe tbody tr th:only-of-type {\n",
              "        vertical-align: middle;\n",
              "    }\n",
              "\n",
              "    .dataframe tbody tr th {\n",
              "        vertical-align: top;\n",
              "    }\n",
              "\n",
              "    .dataframe thead th {\n",
              "        text-align: right;\n",
              "    }\n",
              "</style>\n",
              "<table border=\"1\" class=\"dataframe\">\n",
              "  <thead>\n",
              "    <tr style=\"text-align: right;\">\n",
              "      <th></th>\n",
              "      <th>sepal length (cm)</th>\n",
              "      <th>sepal width (cm)</th>\n",
              "      <th>petal length (cm)</th>\n",
              "      <th>petal width (cm)</th>\n",
              "      <th>target</th>\n",
              "    </tr>\n",
              "  </thead>\n",
              "  <tbody>\n",
              "    <tr>\n",
              "      <th>0</th>\n",
              "      <td>5.1</td>\n",
              "      <td>3.5</td>\n",
              "      <td>1.4</td>\n",
              "      <td>0.2</td>\n",
              "      <td>0</td>\n",
              "    </tr>\n",
              "    <tr>\n",
              "      <th>1</th>\n",
              "      <td>4.9</td>\n",
              "      <td>3.0</td>\n",
              "      <td>1.4</td>\n",
              "      <td>0.2</td>\n",
              "      <td>0</td>\n",
              "    </tr>\n",
              "    <tr>\n",
              "      <th>2</th>\n",
              "      <td>4.7</td>\n",
              "      <td>3.2</td>\n",
              "      <td>1.3</td>\n",
              "      <td>0.2</td>\n",
              "      <td>0</td>\n",
              "    </tr>\n",
              "    <tr>\n",
              "      <th>3</th>\n",
              "      <td>4.6</td>\n",
              "      <td>3.1</td>\n",
              "      <td>1.5</td>\n",
              "      <td>0.2</td>\n",
              "      <td>0</td>\n",
              "    </tr>\n",
              "    <tr>\n",
              "      <th>4</th>\n",
              "      <td>5.0</td>\n",
              "      <td>3.6</td>\n",
              "      <td>1.4</td>\n",
              "      <td>0.2</td>\n",
              "      <td>0</td>\n",
              "    </tr>\n",
              "  </tbody>\n",
              "</table>\n",
              "</div>\n",
              "      <button class=\"colab-df-convert\" onclick=\"convertToInteractive('df-640cdd3b-90ad-44df-9b70-22e7734ebdea')\"\n",
              "              title=\"Convert this dataframe to an interactive table.\"\n",
              "              style=\"display:none;\">\n",
              "        \n",
              "  <svg xmlns=\"http://www.w3.org/2000/svg\" height=\"24px\"viewBox=\"0 0 24 24\"\n",
              "       width=\"24px\">\n",
              "    <path d=\"M0 0h24v24H0V0z\" fill=\"none\"/>\n",
              "    <path d=\"M18.56 5.44l.94 2.06.94-2.06 2.06-.94-2.06-.94-.94-2.06-.94 2.06-2.06.94zm-11 1L8.5 8.5l.94-2.06 2.06-.94-2.06-.94L8.5 2.5l-.94 2.06-2.06.94zm10 10l.94 2.06.94-2.06 2.06-.94-2.06-.94-.94-2.06-.94 2.06-2.06.94z\"/><path d=\"M17.41 7.96l-1.37-1.37c-.4-.4-.92-.59-1.43-.59-.52 0-1.04.2-1.43.59L10.3 9.45l-7.72 7.72c-.78.78-.78 2.05 0 2.83L4 21.41c.39.39.9.59 1.41.59.51 0 1.02-.2 1.41-.59l7.78-7.78 2.81-2.81c.8-.78.8-2.07 0-2.86zM5.41 20L4 18.59l7.72-7.72 1.47 1.35L5.41 20z\"/>\n",
              "  </svg>\n",
              "      </button>\n",
              "      \n",
              "  <style>\n",
              "    .colab-df-container {\n",
              "      display:flex;\n",
              "      flex-wrap:wrap;\n",
              "      gap: 12px;\n",
              "    }\n",
              "\n",
              "    .colab-df-convert {\n",
              "      background-color: #E8F0FE;\n",
              "      border: none;\n",
              "      border-radius: 50%;\n",
              "      cursor: pointer;\n",
              "      display: none;\n",
              "      fill: #1967D2;\n",
              "      height: 32px;\n",
              "      padding: 0 0 0 0;\n",
              "      width: 32px;\n",
              "    }\n",
              "\n",
              "    .colab-df-convert:hover {\n",
              "      background-color: #E2EBFA;\n",
              "      box-shadow: 0px 1px 2px rgba(60, 64, 67, 0.3), 0px 1px 3px 1px rgba(60, 64, 67, 0.15);\n",
              "      fill: #174EA6;\n",
              "    }\n",
              "\n",
              "    [theme=dark] .colab-df-convert {\n",
              "      background-color: #3B4455;\n",
              "      fill: #D2E3FC;\n",
              "    }\n",
              "\n",
              "    [theme=dark] .colab-df-convert:hover {\n",
              "      background-color: #434B5C;\n",
              "      box-shadow: 0px 1px 3px 1px rgba(0, 0, 0, 0.15);\n",
              "      filter: drop-shadow(0px 1px 2px rgba(0, 0, 0, 0.3));\n",
              "      fill: #FFFFFF;\n",
              "    }\n",
              "  </style>\n",
              "\n",
              "      <script>\n",
              "        const buttonEl =\n",
              "          document.querySelector('#df-640cdd3b-90ad-44df-9b70-22e7734ebdea button.colab-df-convert');\n",
              "        buttonEl.style.display =\n",
              "          google.colab.kernel.accessAllowed ? 'block' : 'none';\n",
              "\n",
              "        async function convertToInteractive(key) {\n",
              "          const element = document.querySelector('#df-640cdd3b-90ad-44df-9b70-22e7734ebdea');\n",
              "          const dataTable =\n",
              "            await google.colab.kernel.invokeFunction('convertToInteractive',\n",
              "                                                     [key], {});\n",
              "          if (!dataTable) return;\n",
              "\n",
              "          const docLinkHtml = 'Like what you see? Visit the ' +\n",
              "            '<a target=\"_blank\" href=https://colab.research.google.com/notebooks/data_table.ipynb>data table notebook</a>'\n",
              "            + ' to learn more about interactive tables.';\n",
              "          element.innerHTML = '';\n",
              "          dataTable['output_type'] = 'display_data';\n",
              "          await google.colab.output.renderOutput(dataTable, element);\n",
              "          const docLink = document.createElement('div');\n",
              "          docLink.innerHTML = docLinkHtml;\n",
              "          element.appendChild(docLink);\n",
              "        }\n",
              "      </script>\n",
              "    </div>\n",
              "  </div>\n",
              "  "
            ]
          },
          "metadata": {},
          "execution_count": 15
        }
      ]
    },
    {
      "cell_type": "code",
      "source": [
        "df.tail()"
      ],
      "metadata": {
        "colab": {
          "base_uri": "https://localhost:8080/",
          "height": 206
        },
        "id": "Www5zEL3kZt-",
        "outputId": "f03c796c-71d9-45f1-80b0-95a9909194e3"
      },
      "execution_count": null,
      "outputs": [
        {
          "output_type": "execute_result",
          "data": {
            "text/plain": [
              "     sepal length (cm)  sepal width (cm)  petal length (cm)  petal width (cm)  \\\n",
              "145                6.7               3.0                5.2               2.3   \n",
              "146                6.3               2.5                5.0               1.9   \n",
              "147                6.5               3.0                5.2               2.0   \n",
              "148                6.2               3.4                5.4               2.3   \n",
              "149                5.9               3.0                5.1               1.8   \n",
              "\n",
              "     target  \n",
              "145       2  \n",
              "146       2  \n",
              "147       2  \n",
              "148       2  \n",
              "149       2  "
            ],
            "text/html": [
              "\n",
              "  <div id=\"df-5831469f-edec-4d86-9ab2-da445a3aea90\">\n",
              "    <div class=\"colab-df-container\">\n",
              "      <div>\n",
              "<style scoped>\n",
              "    .dataframe tbody tr th:only-of-type {\n",
              "        vertical-align: middle;\n",
              "    }\n",
              "\n",
              "    .dataframe tbody tr th {\n",
              "        vertical-align: top;\n",
              "    }\n",
              "\n",
              "    .dataframe thead th {\n",
              "        text-align: right;\n",
              "    }\n",
              "</style>\n",
              "<table border=\"1\" class=\"dataframe\">\n",
              "  <thead>\n",
              "    <tr style=\"text-align: right;\">\n",
              "      <th></th>\n",
              "      <th>sepal length (cm)</th>\n",
              "      <th>sepal width (cm)</th>\n",
              "      <th>petal length (cm)</th>\n",
              "      <th>petal width (cm)</th>\n",
              "      <th>target</th>\n",
              "    </tr>\n",
              "  </thead>\n",
              "  <tbody>\n",
              "    <tr>\n",
              "      <th>145</th>\n",
              "      <td>6.7</td>\n",
              "      <td>3.0</td>\n",
              "      <td>5.2</td>\n",
              "      <td>2.3</td>\n",
              "      <td>2</td>\n",
              "    </tr>\n",
              "    <tr>\n",
              "      <th>146</th>\n",
              "      <td>6.3</td>\n",
              "      <td>2.5</td>\n",
              "      <td>5.0</td>\n",
              "      <td>1.9</td>\n",
              "      <td>2</td>\n",
              "    </tr>\n",
              "    <tr>\n",
              "      <th>147</th>\n",
              "      <td>6.5</td>\n",
              "      <td>3.0</td>\n",
              "      <td>5.2</td>\n",
              "      <td>2.0</td>\n",
              "      <td>2</td>\n",
              "    </tr>\n",
              "    <tr>\n",
              "      <th>148</th>\n",
              "      <td>6.2</td>\n",
              "      <td>3.4</td>\n",
              "      <td>5.4</td>\n",
              "      <td>2.3</td>\n",
              "      <td>2</td>\n",
              "    </tr>\n",
              "    <tr>\n",
              "      <th>149</th>\n",
              "      <td>5.9</td>\n",
              "      <td>3.0</td>\n",
              "      <td>5.1</td>\n",
              "      <td>1.8</td>\n",
              "      <td>2</td>\n",
              "    </tr>\n",
              "  </tbody>\n",
              "</table>\n",
              "</div>\n",
              "      <button class=\"colab-df-convert\" onclick=\"convertToInteractive('df-5831469f-edec-4d86-9ab2-da445a3aea90')\"\n",
              "              title=\"Convert this dataframe to an interactive table.\"\n",
              "              style=\"display:none;\">\n",
              "        \n",
              "  <svg xmlns=\"http://www.w3.org/2000/svg\" height=\"24px\"viewBox=\"0 0 24 24\"\n",
              "       width=\"24px\">\n",
              "    <path d=\"M0 0h24v24H0V0z\" fill=\"none\"/>\n",
              "    <path d=\"M18.56 5.44l.94 2.06.94-2.06 2.06-.94-2.06-.94-.94-2.06-.94 2.06-2.06.94zm-11 1L8.5 8.5l.94-2.06 2.06-.94-2.06-.94L8.5 2.5l-.94 2.06-2.06.94zm10 10l.94 2.06.94-2.06 2.06-.94-2.06-.94-.94-2.06-.94 2.06-2.06.94z\"/><path d=\"M17.41 7.96l-1.37-1.37c-.4-.4-.92-.59-1.43-.59-.52 0-1.04.2-1.43.59L10.3 9.45l-7.72 7.72c-.78.78-.78 2.05 0 2.83L4 21.41c.39.39.9.59 1.41.59.51 0 1.02-.2 1.41-.59l7.78-7.78 2.81-2.81c.8-.78.8-2.07 0-2.86zM5.41 20L4 18.59l7.72-7.72 1.47 1.35L5.41 20z\"/>\n",
              "  </svg>\n",
              "      </button>\n",
              "      \n",
              "  <style>\n",
              "    .colab-df-container {\n",
              "      display:flex;\n",
              "      flex-wrap:wrap;\n",
              "      gap: 12px;\n",
              "    }\n",
              "\n",
              "    .colab-df-convert {\n",
              "      background-color: #E8F0FE;\n",
              "      border: none;\n",
              "      border-radius: 50%;\n",
              "      cursor: pointer;\n",
              "      display: none;\n",
              "      fill: #1967D2;\n",
              "      height: 32px;\n",
              "      padding: 0 0 0 0;\n",
              "      width: 32px;\n",
              "    }\n",
              "\n",
              "    .colab-df-convert:hover {\n",
              "      background-color: #E2EBFA;\n",
              "      box-shadow: 0px 1px 2px rgba(60, 64, 67, 0.3), 0px 1px 3px 1px rgba(60, 64, 67, 0.15);\n",
              "      fill: #174EA6;\n",
              "    }\n",
              "\n",
              "    [theme=dark] .colab-df-convert {\n",
              "      background-color: #3B4455;\n",
              "      fill: #D2E3FC;\n",
              "    }\n",
              "\n",
              "    [theme=dark] .colab-df-convert:hover {\n",
              "      background-color: #434B5C;\n",
              "      box-shadow: 0px 1px 3px 1px rgba(0, 0, 0, 0.15);\n",
              "      filter: drop-shadow(0px 1px 2px rgba(0, 0, 0, 0.3));\n",
              "      fill: #FFFFFF;\n",
              "    }\n",
              "  </style>\n",
              "\n",
              "      <script>\n",
              "        const buttonEl =\n",
              "          document.querySelector('#df-5831469f-edec-4d86-9ab2-da445a3aea90 button.colab-df-convert');\n",
              "        buttonEl.style.display =\n",
              "          google.colab.kernel.accessAllowed ? 'block' : 'none';\n",
              "\n",
              "        async function convertToInteractive(key) {\n",
              "          const element = document.querySelector('#df-5831469f-edec-4d86-9ab2-da445a3aea90');\n",
              "          const dataTable =\n",
              "            await google.colab.kernel.invokeFunction('convertToInteractive',\n",
              "                                                     [key], {});\n",
              "          if (!dataTable) return;\n",
              "\n",
              "          const docLinkHtml = 'Like what you see? Visit the ' +\n",
              "            '<a target=\"_blank\" href=https://colab.research.google.com/notebooks/data_table.ipynb>data table notebook</a>'\n",
              "            + ' to learn more about interactive tables.';\n",
              "          element.innerHTML = '';\n",
              "          dataTable['output_type'] = 'display_data';\n",
              "          await google.colab.output.renderOutput(dataTable, element);\n",
              "          const docLink = document.createElement('div');\n",
              "          docLink.innerHTML = docLinkHtml;\n",
              "          element.appendChild(docLink);\n",
              "        }\n",
              "      </script>\n",
              "    </div>\n",
              "  </div>\n",
              "  "
            ]
          },
          "metadata": {},
          "execution_count": 16
        }
      ]
    },
    {
      "cell_type": "code",
      "source": [
        "df.iloc[9:16,:]"
      ],
      "metadata": {
        "colab": {
          "base_uri": "https://localhost:8080/",
          "height": 269
        },
        "id": "mpUiZikRkcDX",
        "outputId": "839ea9c9-1e5b-48fc-d225-c7ece1ffb3b1"
      },
      "execution_count": null,
      "outputs": [
        {
          "output_type": "execute_result",
          "data": {
            "text/plain": [
              "    sepal length (cm)  sepal width (cm)  petal length (cm)  petal width (cm)  \\\n",
              "9                 4.9               3.1                1.5               0.1   \n",
              "10                5.4               3.7                1.5               0.2   \n",
              "11                4.8               3.4                1.6               0.2   \n",
              "12                4.8               3.0                1.4               0.1   \n",
              "13                4.3               3.0                1.1               0.1   \n",
              "14                5.8               4.0                1.2               0.2   \n",
              "15                5.7               4.4                1.5               0.4   \n",
              "\n",
              "    target  \n",
              "9        0  \n",
              "10       0  \n",
              "11       0  \n",
              "12       0  \n",
              "13       0  \n",
              "14       0  \n",
              "15       0  "
            ],
            "text/html": [
              "\n",
              "  <div id=\"df-757563dc-963d-42d4-98a1-c8ced57355ba\">\n",
              "    <div class=\"colab-df-container\">\n",
              "      <div>\n",
              "<style scoped>\n",
              "    .dataframe tbody tr th:only-of-type {\n",
              "        vertical-align: middle;\n",
              "    }\n",
              "\n",
              "    .dataframe tbody tr th {\n",
              "        vertical-align: top;\n",
              "    }\n",
              "\n",
              "    .dataframe thead th {\n",
              "        text-align: right;\n",
              "    }\n",
              "</style>\n",
              "<table border=\"1\" class=\"dataframe\">\n",
              "  <thead>\n",
              "    <tr style=\"text-align: right;\">\n",
              "      <th></th>\n",
              "      <th>sepal length (cm)</th>\n",
              "      <th>sepal width (cm)</th>\n",
              "      <th>petal length (cm)</th>\n",
              "      <th>petal width (cm)</th>\n",
              "      <th>target</th>\n",
              "    </tr>\n",
              "  </thead>\n",
              "  <tbody>\n",
              "    <tr>\n",
              "      <th>9</th>\n",
              "      <td>4.9</td>\n",
              "      <td>3.1</td>\n",
              "      <td>1.5</td>\n",
              "      <td>0.1</td>\n",
              "      <td>0</td>\n",
              "    </tr>\n",
              "    <tr>\n",
              "      <th>10</th>\n",
              "      <td>5.4</td>\n",
              "      <td>3.7</td>\n",
              "      <td>1.5</td>\n",
              "      <td>0.2</td>\n",
              "      <td>0</td>\n",
              "    </tr>\n",
              "    <tr>\n",
              "      <th>11</th>\n",
              "      <td>4.8</td>\n",
              "      <td>3.4</td>\n",
              "      <td>1.6</td>\n",
              "      <td>0.2</td>\n",
              "      <td>0</td>\n",
              "    </tr>\n",
              "    <tr>\n",
              "      <th>12</th>\n",
              "      <td>4.8</td>\n",
              "      <td>3.0</td>\n",
              "      <td>1.4</td>\n",
              "      <td>0.1</td>\n",
              "      <td>0</td>\n",
              "    </tr>\n",
              "    <tr>\n",
              "      <th>13</th>\n",
              "      <td>4.3</td>\n",
              "      <td>3.0</td>\n",
              "      <td>1.1</td>\n",
              "      <td>0.1</td>\n",
              "      <td>0</td>\n",
              "    </tr>\n",
              "    <tr>\n",
              "      <th>14</th>\n",
              "      <td>5.8</td>\n",
              "      <td>4.0</td>\n",
              "      <td>1.2</td>\n",
              "      <td>0.2</td>\n",
              "      <td>0</td>\n",
              "    </tr>\n",
              "    <tr>\n",
              "      <th>15</th>\n",
              "      <td>5.7</td>\n",
              "      <td>4.4</td>\n",
              "      <td>1.5</td>\n",
              "      <td>0.4</td>\n",
              "      <td>0</td>\n",
              "    </tr>\n",
              "  </tbody>\n",
              "</table>\n",
              "</div>\n",
              "      <button class=\"colab-df-convert\" onclick=\"convertToInteractive('df-757563dc-963d-42d4-98a1-c8ced57355ba')\"\n",
              "              title=\"Convert this dataframe to an interactive table.\"\n",
              "              style=\"display:none;\">\n",
              "        \n",
              "  <svg xmlns=\"http://www.w3.org/2000/svg\" height=\"24px\"viewBox=\"0 0 24 24\"\n",
              "       width=\"24px\">\n",
              "    <path d=\"M0 0h24v24H0V0z\" fill=\"none\"/>\n",
              "    <path d=\"M18.56 5.44l.94 2.06.94-2.06 2.06-.94-2.06-.94-.94-2.06-.94 2.06-2.06.94zm-11 1L8.5 8.5l.94-2.06 2.06-.94-2.06-.94L8.5 2.5l-.94 2.06-2.06.94zm10 10l.94 2.06.94-2.06 2.06-.94-2.06-.94-.94-2.06-.94 2.06-2.06.94z\"/><path d=\"M17.41 7.96l-1.37-1.37c-.4-.4-.92-.59-1.43-.59-.52 0-1.04.2-1.43.59L10.3 9.45l-7.72 7.72c-.78.78-.78 2.05 0 2.83L4 21.41c.39.39.9.59 1.41.59.51 0 1.02-.2 1.41-.59l7.78-7.78 2.81-2.81c.8-.78.8-2.07 0-2.86zM5.41 20L4 18.59l7.72-7.72 1.47 1.35L5.41 20z\"/>\n",
              "  </svg>\n",
              "      </button>\n",
              "      \n",
              "  <style>\n",
              "    .colab-df-container {\n",
              "      display:flex;\n",
              "      flex-wrap:wrap;\n",
              "      gap: 12px;\n",
              "    }\n",
              "\n",
              "    .colab-df-convert {\n",
              "      background-color: #E8F0FE;\n",
              "      border: none;\n",
              "      border-radius: 50%;\n",
              "      cursor: pointer;\n",
              "      display: none;\n",
              "      fill: #1967D2;\n",
              "      height: 32px;\n",
              "      padding: 0 0 0 0;\n",
              "      width: 32px;\n",
              "    }\n",
              "\n",
              "    .colab-df-convert:hover {\n",
              "      background-color: #E2EBFA;\n",
              "      box-shadow: 0px 1px 2px rgba(60, 64, 67, 0.3), 0px 1px 3px 1px rgba(60, 64, 67, 0.15);\n",
              "      fill: #174EA6;\n",
              "    }\n",
              "\n",
              "    [theme=dark] .colab-df-convert {\n",
              "      background-color: #3B4455;\n",
              "      fill: #D2E3FC;\n",
              "    }\n",
              "\n",
              "    [theme=dark] .colab-df-convert:hover {\n",
              "      background-color: #434B5C;\n",
              "      box-shadow: 0px 1px 3px 1px rgba(0, 0, 0, 0.15);\n",
              "      filter: drop-shadow(0px 1px 2px rgba(0, 0, 0, 0.3));\n",
              "      fill: #FFFFFF;\n",
              "    }\n",
              "  </style>\n",
              "\n",
              "      <script>\n",
              "        const buttonEl =\n",
              "          document.querySelector('#df-757563dc-963d-42d4-98a1-c8ced57355ba button.colab-df-convert');\n",
              "        buttonEl.style.display =\n",
              "          google.colab.kernel.accessAllowed ? 'block' : 'none';\n",
              "\n",
              "        async function convertToInteractive(key) {\n",
              "          const element = document.querySelector('#df-757563dc-963d-42d4-98a1-c8ced57355ba');\n",
              "          const dataTable =\n",
              "            await google.colab.kernel.invokeFunction('convertToInteractive',\n",
              "                                                     [key], {});\n",
              "          if (!dataTable) return;\n",
              "\n",
              "          const docLinkHtml = 'Like what you see? Visit the ' +\n",
              "            '<a target=\"_blank\" href=https://colab.research.google.com/notebooks/data_table.ipynb>data table notebook</a>'\n",
              "            + ' to learn more about interactive tables.';\n",
              "          element.innerHTML = '';\n",
              "          dataTable['output_type'] = 'display_data';\n",
              "          await google.colab.output.renderOutput(dataTable, element);\n",
              "          const docLink = document.createElement('div');\n",
              "          docLink.innerHTML = docLinkHtml;\n",
              "          element.appendChild(docLink);\n",
              "        }\n",
              "      </script>\n",
              "    </div>\n",
              "  </div>\n",
              "  "
            ]
          },
          "metadata": {},
          "execution_count": 17
        }
      ]
    },
    {
      "cell_type": "code",
      "source": [
        "df['target'].unique()"
      ],
      "metadata": {
        "colab": {
          "base_uri": "https://localhost:8080/"
        },
        "id": "_4qxGh-wku9w",
        "outputId": "ead2bc7f-01b7-4dec-a5e1-7ac1b78c96c6"
      },
      "execution_count": null,
      "outputs": [
        {
          "output_type": "execute_result",
          "data": {
            "text/plain": [
              "array([0, 1, 2])"
            ]
          },
          "metadata": {},
          "execution_count": 18
        }
      ]
    },
    {
      "cell_type": "code",
      "source": [
        "X = np.array(df[['sepal length (cm)','sepal width (cm)','petal length (cm)','petal width (cm)']])\n",
        "y = np.array(df['target'])\n",
        "X_train, X_test, y_train, y_test = train_test_split(X, y, test_size=0.33, random_state=17)"
      ],
      "metadata": {
        "id": "r8SHprUbKtuI"
      },
      "execution_count": null,
      "outputs": []
    },
    {
      "cell_type": "code",
      "source": [
        "print(len(X_train))\n",
        "print(\"xtest\")\n",
        "print(X_test[:5])\n",
        "print('------>')\n",
        "print(y_train)\n",
        "print(y_test)"
      ],
      "metadata": {
        "colab": {
          "base_uri": "https://localhost:8080/"
        },
        "id": "CDrzq_zkj_Q2",
        "outputId": "feccb220-1c88-4e8f-e827-48429003d010"
      },
      "execution_count": null,
      "outputs": [
        {
          "output_type": "stream",
          "name": "stdout",
          "text": [
            "100\n",
            "xtest\n",
            "[[5.4 3.9 1.3 0.4]\n",
            " [6.  2.9 4.5 1.5]\n",
            " [6.7 3.  5.2 2.3]\n",
            " [5.7 2.8 4.1 1.3]\n",
            " [6.2 2.8 4.8 1.8]]\n",
            "------>\n",
            "[2 1 1 1 1 0 1 2 2 0 0 2 0 2 2 0 2 0 0 1 2 0 0 1 0 2 2 0 0 1 2 2 0 0 2 0 0\n",
            " 2 2 2 2 0 2 1 0 1 0 0 1 1 1 2 1 2 2 1 1 2 2 1 0 2 2 1 2 1 0 1 0 1 1 2 0 1\n",
            " 0 2 1 0 0 1 0 2 0 2 0 1 2 0 0 0 2 0 0 1 0 0 1 2 2 2]\n",
            "[0 1 2 1 2 2 1 2 1 2 2 0 1 0 2 0 0 2 2 2 2 0 2 1 1 1 1 1 0 1 0 1 0 0 1 1 1\n",
            " 2 1 0 1 1 0 1 2 1 1 2 1 0]\n"
          ]
        }
      ]
    },
    {
      "cell_type": "code",
      "source": [
        "# Making our predictions\n",
        "predictions = k_nearest_neighbor(X_train, y_train, X_test, 7)\n",
        "\n",
        "# evaluating accuracy\n",
        "accuracy = Accuracy(y_test, predictions)\n",
        "print(\"The accuracy of our classifier is {} %\".format(100*accuracy))"
      ],
      "metadata": {
        "colab": {
          "base_uri": "https://localhost:8080/"
        },
        "id": "SUYb80o6LHUt",
        "outputId": "9965dc3a-af77-4621-c1d9-fc82ad5a66d5"
      },
      "execution_count": null,
      "outputs": [
        {
          "output_type": "stream",
          "name": "stdout",
          "text": [
            "100\n",
            "100\n",
            "100\n",
            "100\n",
            "100\n",
            "100\n",
            "100\n",
            "100\n",
            "100\n",
            "100\n",
            "100\n",
            "100\n",
            "100\n",
            "100\n",
            "100\n",
            "100\n",
            "100\n",
            "100\n",
            "100\n",
            "100\n",
            "100\n",
            "100\n",
            "100\n",
            "100\n",
            "100\n",
            "100\n",
            "100\n",
            "100\n",
            "100\n",
            "100\n",
            "100\n",
            "100\n",
            "100\n",
            "100\n",
            "100\n",
            "100\n",
            "100\n",
            "100\n",
            "100\n",
            "100\n",
            "100\n",
            "100\n",
            "100\n",
            "100\n",
            "100\n",
            "100\n",
            "100\n",
            "100\n",
            "100\n",
            "100\n",
            "The accuracy of our classifier is 94.0 %\n"
          ]
        }
      ]
    },
    {
      "cell_type": "markdown",
      "metadata": {
        "id": "iwQ3qP-UXY5x"
      },
      "source": [
        "Voila! You have implemented your own version of the K-Nearest Neighbours algorithm, which works very well on the Iris Dataset. Congratulations!  \n",
        "\n",
        "Now try out the sklearn implementation and compare your results.  "
      ]
    },
    {
      "cell_type": "code",
      "metadata": {
        "colab": {
          "base_uri": "https://localhost:8080/"
        },
        "id": "c0jJj5_7dg-o",
        "outputId": "ffc86884-4082-482c-9f8d-f93f62dd5cfd"
      },
      "source": [
        "from sklearn.neighbors import KNeighborsClassifier\n",
        "\n",
        "sklearn_knn = KNeighborsClassifier(n_neighbors=7)\n",
        "sklearn_knn.fit(X_train,y_train)\n",
        "sklearn_predictions = sklearn_knn.predict(X_test)\n",
        "accuracy = accuracy_score(y_test, sklearn_predictions)\n",
        "print(\"The accuracy of Sklearn classifier is {} %\".format(100*accuracy))"
      ],
      "execution_count": null,
      "outputs": [
        {
          "output_type": "stream",
          "name": "stdout",
          "text": [
            "The accuracy of Sklearn classifier is 94.0 %\n"
          ]
        }
      ]
    },
    {
      "cell_type": "markdown",
      "source": [
        "##  Section 1.2: Weighted NN\n",
        "For KNN, If k is too small, the algorithm would be more sensitive to outliers. If k is too large, then the neighborhood may include too many points from other classes. We also take the label with max votes in the neighbourhood. Another choice can be that instead of giving equal weights to each of the neighbours we can give weighted points in the neighbourhood. So we weigh points by the inverse of their distance. Therefore, closer points will be given a higher priority as compared to the far off points.\n",
        "\n",
        "An easy way to implement this is by specifying the 'weights' parameter as distance when defining the sklearn KNN function. For more information go through this [site](https://scikit-learn.org/stable/modules/generated/sklearn.neighbors.KNeighborsClassifier.html)"
      ],
      "metadata": {
        "id": "8Yi2tX6h0_Ka"
      }
    },
    {
      "cell_type": "code",
      "source": [
        "def predict(X_train, y_train, X_test, k):\n",
        "    distances = []\n",
        "    targets = []\n",
        "    for i in range(len(X_train)):\n",
        "        # compute and store L2 distance\n",
        "        distances.append([np.sqrt(np.sum(np.square(X_test - X_train[i, :]))), i])\n",
        "    print(len(distances))\n",
        "    distances = sorted(distances)\n",
        "    for i in range(k):\n",
        "        index = distances[i][1]\n",
        "        targets.append(y_train[index])\n",
        "    # return most common target\n",
        "    return distances,targets"
      ],
      "metadata": {
        "id": "UytGZLHh0W88"
      },
      "execution_count": null,
      "outputs": []
    },
    {
      "cell_type": "code",
      "source": [
        "def k_nearest_neighbor(X_train, y_train, X_test, k):\n",
        "    assert k <= len(X_train), \"[!] K cannot be larger than number of samples.\"\n",
        "    # loop over all observations\n",
        "    predictions = []\n",
        "    for i in range(len(X_test)):\n",
        "        predictions.append(predict(X_train, y_train, X_test[i, :], k))\n",
        "    return np.asarray(predictions)"
      ],
      "metadata": {
        "id": "-XBFYNZX0V3a"
      },
      "execution_count": null,
      "outputs": []
    },
    {
      "cell_type": "code",
      "metadata": {
        "id": "2hXZP4wXqtmK"
      },
      "source": [
        "## TASK\n",
        "## Modify the KNN function you wrote to return all the K-nearest neighbours along with their distances,\n",
        "## instead of just the output that was most common. You don't need to find out accuracy, just modify the function\n",
        "## and return the k-nearest neighbours and distances."
      ],
      "execution_count": null,
      "outputs": []
    },
    {
      "cell_type": "code",
      "source": [
        "X = np.array(df[['sepal length (cm)','sepal width (cm)','petal length (cm)','petal width (cm)']])\n",
        "y = np.array(df['target'])\n",
        "X_train, X_test, y_train, y_test = train_test_split(X, y, test_size=0.33, random_state=17)"
      ],
      "metadata": {
        "id": "lPQzm1SV1J1o"
      },
      "execution_count": null,
      "outputs": []
    },
    {
      "cell_type": "code",
      "source": [
        "# Making our predictions\n",
        "predictions = k_nearest_neighbor(X_train, y_train, X_test, 7)\n"
      ],
      "metadata": {
        "colab": {
          "base_uri": "https://localhost:8080/"
        },
        "id": "d3tkwSg51Zh2",
        "outputId": "42c97ced-2c1f-4745-e855-9daca457b5e0"
      },
      "execution_count": null,
      "outputs": [
        {
          "output_type": "stream",
          "name": "stdout",
          "text": [
            "1381\n",
            "1381\n",
            "1381\n",
            "1381\n",
            "1381\n",
            "1381\n",
            "1381\n",
            "1381\n",
            "1381\n",
            "1381\n",
            "1381\n",
            "1381\n",
            "1381\n",
            "1381\n",
            "1381\n",
            "1381\n",
            "1381\n",
            "1381\n",
            "1381\n",
            "1381\n",
            "1381\n",
            "1381\n",
            "1381\n",
            "1381\n",
            "1381\n",
            "1381\n",
            "1381\n",
            "1381\n",
            "1381\n",
            "1381\n",
            "1381\n",
            "1381\n",
            "1381\n",
            "1381\n",
            "1381\n",
            "1381\n",
            "1381\n",
            "1381\n",
            "1381\n",
            "1381\n",
            "1381\n",
            "1381\n",
            "1381\n",
            "1381\n",
            "1381\n",
            "1381\n",
            "1381\n",
            "1381\n",
            "1381\n",
            "1381\n",
            "1381\n",
            "1381\n",
            "1381\n",
            "1381\n",
            "1381\n",
            "1381\n",
            "1381\n",
            "1381\n",
            "1381\n",
            "1381\n",
            "1381\n",
            "1381\n",
            "1381\n",
            "1381\n",
            "1381\n",
            "1381\n",
            "1381\n",
            "1381\n",
            "1381\n",
            "1381\n",
            "1381\n",
            "1381\n",
            "1381\n",
            "1381\n",
            "1381\n",
            "1381\n",
            "1381\n",
            "1381\n",
            "1381\n",
            "1381\n",
            "1381\n",
            "1381\n",
            "1381\n",
            "1381\n",
            "1381\n",
            "1381\n",
            "1381\n",
            "1381\n",
            "1381\n",
            "1381\n",
            "1381\n",
            "1381\n",
            "1381\n",
            "1381\n",
            "1381\n",
            "1381\n",
            "1381\n",
            "1381\n",
            "1381\n",
            "1381\n",
            "1381\n",
            "1381\n",
            "1381\n",
            "1381\n",
            "1381\n",
            "1381\n",
            "1381\n",
            "1381\n",
            "1381\n",
            "1381\n",
            "1381\n",
            "1381\n",
            "1381\n",
            "1381\n",
            "1381\n",
            "1381\n",
            "1381\n",
            "1381\n",
            "1381\n",
            "1381\n",
            "1381\n",
            "1381\n",
            "1381\n",
            "1381\n",
            "1381\n",
            "1381\n",
            "1381\n",
            "1381\n",
            "1381\n",
            "1381\n",
            "1381\n",
            "1381\n",
            "1381\n",
            "1381\n",
            "1381\n",
            "1381\n",
            "1381\n",
            "1381\n",
            "1381\n",
            "1381\n",
            "1381\n",
            "1381\n",
            "1381\n",
            "1381\n",
            "1381\n",
            "1381\n",
            "1381\n",
            "1381\n",
            "1381\n",
            "1381\n",
            "1381\n",
            "1381\n",
            "1381\n",
            "1381\n",
            "1381\n",
            "1381\n",
            "1381\n",
            "1381\n",
            "1381\n",
            "1381\n",
            "1381\n",
            "1381\n",
            "1381\n",
            "1381\n",
            "1381\n",
            "1381\n",
            "1381\n",
            "1381\n",
            "1381\n",
            "1381\n",
            "1381\n",
            "1381\n",
            "1381\n",
            "1381\n",
            "1381\n",
            "1381\n",
            "1381\n",
            "1381\n",
            "1381\n",
            "1381\n",
            "1381\n",
            "1381\n",
            "1381\n",
            "1381\n",
            "1381\n",
            "1381\n",
            "1381\n",
            "1381\n",
            "1381\n",
            "1381\n",
            "1381\n",
            "1381\n",
            "1381\n",
            "1381\n",
            "1381\n",
            "1381\n",
            "1381\n",
            "1381\n",
            "1381\n",
            "1381\n",
            "1381\n",
            "1381\n",
            "1381\n",
            "1381\n",
            "1381\n",
            "1381\n",
            "1381\n",
            "1381\n",
            "1381\n",
            "1381\n",
            "1381\n",
            "1381\n",
            "1381\n",
            "1381\n",
            "1381\n",
            "1381\n",
            "1381\n",
            "1381\n",
            "1381\n",
            "1381\n",
            "1381\n",
            "1381\n",
            "1381\n",
            "1381\n",
            "1381\n",
            "1381\n",
            "1381\n",
            "1381\n",
            "1381\n",
            "1381\n",
            "1381\n",
            "1381\n",
            "1381\n",
            "1381\n",
            "1381\n",
            "1381\n",
            "1381\n",
            "1381\n",
            "1381\n",
            "1381\n",
            "1381\n",
            "1381\n",
            "1381\n",
            "1381\n",
            "1381\n",
            "1381\n",
            "1381\n",
            "1381\n",
            "1381\n",
            "1381\n",
            "1381\n",
            "1381\n",
            "1381\n",
            "1381\n",
            "1381\n",
            "1381\n",
            "1381\n",
            "1381\n",
            "1381\n",
            "1381\n",
            "1381\n",
            "1381\n",
            "1381\n",
            "1381\n",
            "1381\n",
            "1381\n",
            "1381\n",
            "1381\n",
            "1381\n",
            "1381\n",
            "1381\n",
            "1381\n",
            "1381\n",
            "1381\n",
            "1381\n",
            "1381\n",
            "1381\n",
            "1381\n",
            "1381\n",
            "1381\n",
            "1381\n",
            "1381\n",
            "1381\n",
            "1381\n",
            "1381\n",
            "1381\n",
            "1381\n",
            "1381\n",
            "1381\n",
            "1381\n",
            "1381\n",
            "1381\n",
            "1381\n",
            "1381\n",
            "1381\n",
            "1381\n",
            "1381\n",
            "1381\n",
            "1381\n",
            "1381\n",
            "1381\n",
            "1381\n",
            "1381\n",
            "1381\n",
            "1381\n",
            "1381\n",
            "1381\n",
            "1381\n",
            "1381\n",
            "1381\n",
            "1381\n",
            "1381\n",
            "1381\n",
            "1381\n",
            "1381\n",
            "1381\n",
            "1381\n",
            "1381\n",
            "1381\n",
            "1381\n",
            "1381\n",
            "1381\n",
            "1381\n",
            "1381\n",
            "1381\n",
            "1381\n",
            "1381\n",
            "1381\n",
            "1381\n",
            "1381\n",
            "1381\n",
            "1381\n",
            "1381\n",
            "1381\n",
            "1381\n",
            "1381\n",
            "1381\n",
            "1381\n",
            "1381\n",
            "1381\n",
            "1381\n",
            "1381\n",
            "1381\n",
            "1381\n",
            "1381\n",
            "1381\n"
          ]
        },
        {
          "output_type": "stream",
          "name": "stderr",
          "text": [
            "<ipython-input-24-9bfff34162e0>:7: VisibleDeprecationWarning: Creating an ndarray from ragged nested sequences (which is a list-or-tuple of lists-or-tuples-or ndarrays with different lengths or shapes) is deprecated. If you meant to do this, you must specify 'dtype=object' when creating the ndarray.\n",
            "  return np.asarray(predictions)\n"
          ]
        }
      ]
    },
    {
      "cell_type": "markdown",
      "metadata": {
        "id": "SxcBnLl8GHWz"
      },
      "source": [
        "# **Section 2: Visualizing Data**  \n",
        "\n",
        "We will look into something called **Voronoi** diagrams.  \n",
        "\n",
        "**Note**: Ideally, we should perform data visualization to see what the data looks like before we apply any Machine Learning algorithm.  Only for the purpose of this lab session, we're explaining it after you've applied KNN."
      ]
    },
    {
      "cell_type": "markdown",
      "metadata": {
        "id": "4aDsDfmXG79k"
      },
      "source": [
        "### Voronoi Diagrams  \n",
        "\n",
        "In simple terms, Voronoi diagrams help you to visualize the dataset by partioning the plane into regions that are close to a given set of points. These regions are also called Voronoi cells.  \n",
        "\n",
        "Note that the cells/regions depend on the Distance metric being used. One way of interpreting this is by understanding that the distance metric decides the degree to which a 'point' or 'seed' in the Voronoi diagram has influence.  For each seed there is a corresponding region, called a Voronoi cell, consisting of all points of the plane closer to that seed than to any other. \n",
        "\n",
        "This [link](https://en.wikipedia.org/wiki/Voronoi_diagram#Illustration) provides a wonderful illustration of Voronoi plots for 20 points in two cases: (1) Using Euclidean distance, and (2) Using Manhattan distance.  \n",
        "\n"
      ]
    },
    {
      "cell_type": "markdown",
      "metadata": {
        "id": "AdcdjthOKwra"
      },
      "source": [
        "Since our Iris data is 4-dimensional (as it has 4 attributes), we need to convert into a form that can be represented in 2-D.   \n",
        "\n",
        "While there are methods to visualize data higher than 2-dimensions, that is beyond scope for now.  \n",
        "\n",
        "For simplicity, we just take the first two columns of the iris dataset attributes and observe the Voronoi diagram generated for that.  \n",
        "Alternatively, one can also perform PCA (Principal Component Analysis), to reduce the 4D data to just two dimensions."
      ]
    },
    {
      "cell_type": "code",
      "metadata": {
        "id": "ZNOPcS3f7sZg",
        "cellView": "form"
      },
      "source": [
        "#@title Plotting Voronoi regions\n",
        "import matplotlib.pyplot as plt\n",
        "from scipy.spatial import Voronoi, voronoi_plot_2d\n",
        "\n",
        "def voronoi_finite_polygons_2d(vor, radius=None):\n",
        "    \"\"\"\n",
        "    Reconstruct infinite voronoi regions in a 2D diagram to finite\n",
        "    regions.\n",
        "\n",
        "    Parameters\n",
        "    ----------\n",
        "    vor : Voronoi\n",
        "        Input diagram\n",
        "    radius : float, optional\n",
        "        Distance to 'points at infinity'.\n",
        "\n",
        "    Returns\n",
        "    -------\n",
        "    regions : list of tuples\n",
        "        Indices of vertices in each revised Voronoi regions.\n",
        "    vertices : list of tuples\n",
        "        Coordinates for revised Voronoi vertices. Same as coordinates\n",
        "        of input vertices, with 'points at infinity' appended to the\n",
        "        end.\n",
        "\n",
        "    \"\"\"\n",
        "\n",
        "    if vor.points.shape[1] != 2:\n",
        "        raise ValueError(\"Requires 2D input\")\n",
        "\n",
        "    new_regions = []\n",
        "    new_vertices = vor.vertices.tolist()\n",
        "\n",
        "    center = vor.points.mean(axis=0)\n",
        "    if radius is None:\n",
        "        radius = vor.points.ptp().max()\n",
        "\n",
        "    # Construct a map containing all ridges for a given point\n",
        "    all_ridges = {}\n",
        "    for (p1, p2), (v1, v2) in zip(vor.ridge_points, vor.ridge_vertices):\n",
        "        all_ridges.setdefault(p1, []).append((p2, v1, v2))\n",
        "        all_ridges.setdefault(p2, []).append((p1, v1, v2))\n",
        "\n",
        "    # Reconstruct infinite regions\n",
        "    for p1, region in enumerate(vor.point_region):\n",
        "        vertices = vor.regions[region]\n",
        "\n",
        "        if all(v >= 0 for v in vertices):\n",
        "            # finite region\n",
        "            new_regions.append(vertices)\n",
        "            continue\n",
        "\n",
        "        # reconstruct a non-finite region\n",
        "        ridges = all_ridges[p1]\n",
        "        new_region = [v for v in vertices if v >= 0]\n",
        "\n",
        "        for p2, v1, v2 in ridges:\n",
        "            if v2 < 0:\n",
        "                v1, v2 = v2, v1\n",
        "            if v1 >= 0:\n",
        "                # finite ridge: already in the region\n",
        "                continue\n",
        "\n",
        "            # Compute the missing endpoint of an infinite ridge\n",
        "\n",
        "            t = vor.points[p2] - vor.points[p1] # tangent\n",
        "            t /= np.linalg.norm(t)\n",
        "            n = np.array([-t[1], t[0]])  # normal\n",
        "\n",
        "            midpoint = vor.points[[p1, p2]].mean(axis=0)\n",
        "            direction = np.sign(np.dot(midpoint - center, n)) * n\n",
        "            far_point = vor.vertices[v2] + direction * radius\n",
        "\n",
        "            new_region.append(len(new_vertices))\n",
        "            new_vertices.append(far_point.tolist())\n",
        "\n",
        "        # sort region counterclockwise\n",
        "        vs = np.asarray([new_vertices[v] for v in new_region])\n",
        "        c = vs.mean(axis=0)\n",
        "        angles = np.arctan2(vs[:,1] - c[1], vs[:,0] - c[0])\n",
        "        new_region = np.array(new_region)[np.argsort(angles)]\n",
        "\n",
        "        # finish\n",
        "        new_regions.append(new_region.tolist())\n",
        "\n",
        "    return new_regions, np.asarray(new_vertices)"
      ],
      "execution_count": null,
      "outputs": []
    },
    {
      "cell_type": "code",
      "metadata": {
        "colab": {
          "base_uri": "https://localhost:8080/",
          "height": 269
        },
        "id": "9NIVhxz8KvG3",
        "outputId": "1e7f76ef-44ed-48b5-8c7a-3764fffc90d0"
      },
      "source": [
        "## Plotting Voronoi regions for the Iris dataset\n",
        "\n",
        "points = []\n",
        "xpts = np.array(df['sepal length (cm)'])\n",
        "ypts = np.array(df['sepal width (cm)'])\n",
        "for i in range(len(xpts)):\n",
        "  points.append([xpts[i],ypts[i]])\n",
        "# print(points)\n",
        "points = np.array(points)\n",
        "# compute Voronoi tesselation\n",
        "vor = Voronoi(points)\n",
        "\n",
        "regions, vertices = voronoi_finite_polygons_2d(vor)\n",
        "\n",
        "for region in regions:\n",
        "    polygon = vertices[region]\n",
        "    plt.fill(*zip(*polygon), alpha=0.4)\n",
        "\n",
        "plt.plot(points[:,0], points[:,1], 'ko')\n",
        "plt.xlim(vor.min_bound[0] - 0.1, vor.max_bound[0] + 0.1)\n",
        "plt.ylim(vor.min_bound[1] - 0.1, vor.max_bound[1] + 0.1)\n",
        "\n",
        "plt.show()"
      ],
      "execution_count": null,
      "outputs": [
        {
          "output_type": "display_data",
          "data": {
            "text/plain": [
              "<Figure size 432x288 with 1 Axes>"
            ],
            "image/png": "[encoded data removed]"
          },
          "metadata": {
            "needs_background": "light"
          }
        }
      ]
    },
    {
      "cell_type": "markdown",
      "metadata": {
        "id": "WSK-GI0Knurk"
      },
      "source": [
        "## Section 2.2: Understanding Decision Boundaries  \n",
        "So you have seen the Voronoi diagram of the dataset, implemented KNN, and also seen your algorithm's performance in terms of accuracy? Impressive!  \n",
        "Wouldn't it also be great to know how exactly these 'votes' or neighbours are decided through some kind of visualization?  \n"
      ]
    },
    {
      "cell_type": "markdown",
      "metadata": {
        "id": "ytP_AImALiZX"
      },
      "source": [
        "### Decision Boundary\n",
        "\n",
        "While the Voronoi diagram gave us a good idea of the points present in our dataset, to understand how KNN performed on our dataset we can plot decision boundaries. Decision boundaries, as the name suggests, divide the plane into different regions of classification.  \n",
        "\n",
        "Note that here again, for simplicity, we have only considered first two attributes of the DataFrame (ie, Sepal Length and Sepal Width).  "
      ]
    },
    {
      "cell_type": "code",
      "metadata": {
        "id": "8P8Pqav4DI4N"
      },
      "source": [
        "from matplotlib.colors import ListedColormap\n",
        "import seaborn as sns\n",
        "\n",
        "\n",
        "def decision_boundary_plot(x_dec,y_dec,k):\n",
        "  h = .02  # step size in the mesh\n",
        "\n",
        "  # Create color maps\n",
        "  n = len(set(y_dec))\n",
        "  cmap_light = ListedColormap(['pink', 'green', 'cyan','yellow'][:n])\n",
        "  cmap_bold = ['pink', 'darkgreen', 'blue','yellow'][:n]\n",
        "\n",
        "  for weights in ['uniform', 'distance']:\n",
        "      # we create an instance of Neighbours Classifier and fit the data.\n",
        "      clf = KNeighborsClassifier(n_neighbors=k, weights=weights)\n",
        "      clf.fit(x_dec, y_dec)\n",
        "\n",
        "      # Plot the decision boundary. For that, we will assign a color to each\n",
        "      # point in the mesh [x_min, x_max]x[y_min, y_max].\n",
        "      x_min, x_max = x_dec[:, 0].min() - 1, x_dec[:, 0].max() + 1\n",
        "      y_min, y_max = x_dec[:, 1].min() - 1, x_dec[:, 1].max() + 1\n",
        "      xx, yy = np.meshgrid(np.arange(x_min, x_max, h),\n",
        "                          np.arange(y_min, y_max, h))\n",
        "      Z = clf.predict(np.c_[xx.ravel(), yy.ravel()])\n",
        "\n",
        "      # Put the result into a color plot\n",
        "      Z = Z.reshape(xx.shape)\n",
        "      plt.figure(figsize=(8, 6))\n",
        "      plt.contourf(xx, yy, Z, cmap=cmap_light)\n",
        "\n",
        "      # Plot also the training points\n",
        "      sns.scatterplot(x=x_dec[:, 0], y=x_dec[:, 1], hue=y_dec,\n",
        "                      palette=cmap_bold, alpha=1.0, edgecolor=\"black\")\n",
        "      plt.xlim(xx.min(), xx.max())\n",
        "      plt.ylim(yy.min(), yy.max())\n",
        "      plt.title(\"Multi-Classification (k = %i, weights = '%s')\"% (k, weights))\n",
        "\n",
        "  plt.show()\n"
      ],
      "execution_count": null,
      "outputs": []
    },
    {
      "cell_type": "code",
      "metadata": {
        "colab": {
          "base_uri": "https://localhost:8080/",
          "height": 763
        },
        "id": "bgAO62vWKPHt",
        "outputId": "9706cdf7-775a-44eb-a249-8ef988f8b3e5"
      },
      "source": [
        "x_pts = X[:,:2]\n",
        "y_pts = y\n",
        "decision_boundary_plot(x_pts,y_pts,7)"
      ],
      "execution_count": null,
      "outputs": [
        {
          "output_type": "display_data",
          "data": {
            "text/plain": [
              "<Figure size 576x432 with 1 Axes>"
            ],
            "image/png": "[encoded data removed]"
          },
          "metadata": {
            "needs_background": "light"
          }
        },
        {
          "output_type": "display_data",
          "data": {
            "text/plain": [
              "<Figure size 576x432 with 1 Axes>"
            ],
            "image/png": "[encoded data removed]"
          },
          "metadata": {
            "needs_background": "light"
          }
        }
      ]
    },
    {
      "cell_type": "code",
      "metadata": {
        "id": "TFRJidIgr6gt"
      },
      "source": [
        "## TASK-2\n",
        "## In the above cells, we saw the Voronoi diagram of the data and plotted the KNN decision boundaries\n",
        "## by only considering two attributes of the dataset. You must be already familiar with PCA.\n",
        "## Apply PCA on the dataset above to reduce it to two dimensions. \n",
        "## Plot the Voronoi diagram and Decision boundaries after that."
      ],
      "execution_count": null,
      "outputs": []
    },
    {
      "cell_type": "code",
      "source": [
        "import missingno as msno\n",
        "p=msno.bar(df)"
      ],
      "metadata": {
        "colab": {
          "base_uri": "https://localhost:8080/",
          "height": 552
        },
        "id": "srvua8hh2Lc2",
        "outputId": "69c1a1c7-d6d0-4ca3-ffb7-d0d28b8c56f1"
      },
      "execution_count": null,
      "outputs": [
        {
          "output_type": "display_data",
          "data": {
            "text/plain": [
              "<Figure size 1800x720 with 3 Axes>"
            ],
            "image/png": "[encoded data removed]"
          },
          "metadata": {
            "needs_background": "light"
          }
        }
      ]
    },
    {
      "cell_type": "code",
      "source": [
        "df.describe()"
      ],
      "metadata": {
        "colab": {
          "base_uri": "https://localhost:8080/",
          "height": 300
        },
        "id": "0-Y6dNgZ6gP6",
        "outputId": "fe4c8990-98f3-4b5d-de9d-9d1969e28b32"
      },
      "execution_count": null,
      "outputs": [
        {
          "output_type": "execute_result",
          "data": {
            "text/plain": [
              "       sepal length (cm)  sepal width (cm)  petal length (cm)  \\\n",
              "count         150.000000        150.000000         150.000000   \n",
              "mean            5.843333          3.057333           3.758000   \n",
              "std             0.828066          0.435866           1.765298   \n",
              "min             4.300000          2.000000           1.000000   \n",
              "25%             5.100000          2.800000           1.600000   \n",
              "50%             5.800000          3.000000           4.350000   \n",
              "75%             6.400000          3.300000           5.100000   \n",
              "max             7.900000          4.400000           6.900000   \n",
              "\n",
              "       petal width (cm)      target  \n",
              "count        150.000000  150.000000  \n",
              "mean           1.199333    1.000000  \n",
              "std            0.762238    0.819232  \n",
              "min            0.100000    0.000000  \n",
              "25%            0.300000    0.000000  \n",
              "50%            1.300000    1.000000  \n",
              "75%            1.800000    2.000000  \n",
              "max            2.500000    2.000000  "
            ],
            "text/html": [
              "\n",
              "  <div id=\"df-33308cdc-d6c0-441e-b346-1aad3666dbb8\">\n",
              "    <div class=\"colab-df-container\">\n",
              "      <div>\n",
              "<style scoped>\n",
              "    .dataframe tbody tr th:only-of-type {\n",
              "        vertical-align: middle;\n",
              "    }\n",
              "\n",
              "    .dataframe tbody tr th {\n",
              "        vertical-align: top;\n",
              "    }\n",
              "\n",
              "    .dataframe thead th {\n",
              "        text-align: right;\n",
              "    }\n",
              "</style>\n",
              "<table border=\"1\" class=\"dataframe\">\n",
              "  <thead>\n",
              "    <tr style=\"text-align: right;\">\n",
              "      <th></th>\n",
              "      <th>sepal length (cm)</th>\n",
              "      <th>sepal width (cm)</th>\n",
              "      <th>petal length (cm)</th>\n",
              "      <th>petal width (cm)</th>\n",
              "      <th>target</th>\n",
              "    </tr>\n",
              "  </thead>\n",
              "  <tbody>\n",
              "    <tr>\n",
              "      <th>count</th>\n",
              "      <td>150.000000</td>\n",
              "      <td>150.000000</td>\n",
              "      <td>150.000000</td>\n",
              "      <td>150.000000</td>\n",
              "      <td>150.000000</td>\n",
              "    </tr>\n",
              "    <tr>\n",
              "      <th>mean</th>\n",
              "      <td>5.843333</td>\n",
              "      <td>3.057333</td>\n",
              "      <td>3.758000</td>\n",
              "      <td>1.199333</td>\n",
              "      <td>1.000000</td>\n",
              "    </tr>\n",
              "    <tr>\n",
              "      <th>std</th>\n",
              "      <td>0.828066</td>\n",
              "      <td>0.435866</td>\n",
              "      <td>1.765298</td>\n",
              "      <td>0.762238</td>\n",
              "      <td>0.819232</td>\n",
              "    </tr>\n",
              "    <tr>\n",
              "      <th>min</th>\n",
              "      <td>4.300000</td>\n",
              "      <td>2.000000</td>\n",
              "      <td>1.000000</td>\n",
              "      <td>0.100000</td>\n",
              "      <td>0.000000</td>\n",
              "    </tr>\n",
              "    <tr>\n",
              "      <th>25%</th>\n",
              "      <td>5.100000</td>\n",
              "      <td>2.800000</td>\n",
              "      <td>1.600000</td>\n",
              "      <td>0.300000</td>\n",
              "      <td>0.000000</td>\n",
              "    </tr>\n",
              "    <tr>\n",
              "      <th>50%</th>\n",
              "      <td>5.800000</td>\n",
              "      <td>3.000000</td>\n",
              "      <td>4.350000</td>\n",
              "      <td>1.300000</td>\n",
              "      <td>1.000000</td>\n",
              "    </tr>\n",
              "    <tr>\n",
              "      <th>75%</th>\n",
              "      <td>6.400000</td>\n",
              "      <td>3.300000</td>\n",
              "      <td>5.100000</td>\n",
              "      <td>1.800000</td>\n",
              "      <td>2.000000</td>\n",
              "    </tr>\n",
              "    <tr>\n",
              "      <th>max</th>\n",
              "      <td>7.900000</td>\n",
              "      <td>4.400000</td>\n",
              "      <td>6.900000</td>\n",
              "      <td>2.500000</td>\n",
              "      <td>2.000000</td>\n",
              "    </tr>\n",
              "  </tbody>\n",
              "</table>\n",
              "</div>\n",
              "      <button class=\"colab-df-convert\" onclick=\"convertToInteractive('df-33308cdc-d6c0-441e-b346-1aad3666dbb8')\"\n",
              "              title=\"Convert this dataframe to an interactive table.\"\n",
              "              style=\"display:none;\">\n",
              "        \n",
              "  <svg xmlns=\"http://www.w3.org/2000/svg\" height=\"24px\"viewBox=\"0 0 24 24\"\n",
              "       width=\"24px\">\n",
              "    <path d=\"M0 0h24v24H0V0z\" fill=\"none\"/>\n",
              "    <path d=\"M18.56 5.44l.94 2.06.94-2.06 2.06-.94-2.06-.94-.94-2.06-.94 2.06-2.06.94zm-11 1L8.5 8.5l.94-2.06 2.06-.94-2.06-.94L8.5 2.5l-.94 2.06-2.06.94zm10 10l.94 2.06.94-2.06 2.06-.94-2.06-.94-.94-2.06-.94 2.06-2.06.94z\"/><path d=\"M17.41 7.96l-1.37-1.37c-.4-.4-.92-.59-1.43-.59-.52 0-1.04.2-1.43.59L10.3 9.45l-7.72 7.72c-.78.78-.78 2.05 0 2.83L4 21.41c.39.39.9.59 1.41.59.51 0 1.02-.2 1.41-.59l7.78-7.78 2.81-2.81c.8-.78.8-2.07 0-2.86zM5.41 20L4 18.59l7.72-7.72 1.47 1.35L5.41 20z\"/>\n",
              "  </svg>\n",
              "      </button>\n",
              "      \n",
              "  <style>\n",
              "    .colab-df-container {\n",
              "      display:flex;\n",
              "      flex-wrap:wrap;\n",
              "      gap: 12px;\n",
              "    }\n",
              "\n",
              "    .colab-df-convert {\n",
              "      background-color: #E8F0FE;\n",
              "      border: none;\n",
              "      border-radius: 50%;\n",
              "      cursor: pointer;\n",
              "      display: none;\n",
              "      fill: #1967D2;\n",
              "      height: 32px;\n",
              "      padding: 0 0 0 0;\n",
              "      width: 32px;\n",
              "    }\n",
              "\n",
              "    .colab-df-convert:hover {\n",
              "      background-color: #E2EBFA;\n",
              "      box-shadow: 0px 1px 2px rgba(60, 64, 67, 0.3), 0px 1px 3px 1px rgba(60, 64, 67, 0.15);\n",
              "      fill: #174EA6;\n",
              "    }\n",
              "\n",
              "    [theme=dark] .colab-df-convert {\n",
              "      background-color: #3B4455;\n",
              "      fill: #D2E3FC;\n",
              "    }\n",
              "\n",
              "    [theme=dark] .colab-df-convert:hover {\n",
              "      background-color: #434B5C;\n",
              "      box-shadow: 0px 1px 3px 1px rgba(0, 0, 0, 0.15);\n",
              "      filter: drop-shadow(0px 1px 2px rgba(0, 0, 0, 0.3));\n",
              "      fill: #FFFFFF;\n",
              "    }\n",
              "  </style>\n",
              "\n",
              "      <script>\n",
              "        const buttonEl =\n",
              "          document.querySelector('#df-33308cdc-d6c0-441e-b346-1aad3666dbb8 button.colab-df-convert');\n",
              "        buttonEl.style.display =\n",
              "          google.colab.kernel.accessAllowed ? 'block' : 'none';\n",
              "\n",
              "        async function convertToInteractive(key) {\n",
              "          const element = document.querySelector('#df-33308cdc-d6c0-441e-b346-1aad3666dbb8');\n",
              "          const dataTable =\n",
              "            await google.colab.kernel.invokeFunction('convertToInteractive',\n",
              "                                                     [key], {});\n",
              "          if (!dataTable) return;\n",
              "\n",
              "          const docLinkHtml = 'Like what you see? Visit the ' +\n",
              "            '<a target=\"_blank\" href=https://colab.research.google.com/notebooks/data_table.ipynb>data table notebook</a>'\n",
              "            + ' to learn more about interactive tables.';\n",
              "          element.innerHTML = '';\n",
              "          dataTable['output_type'] = 'display_data';\n",
              "          await google.colab.output.renderOutput(dataTable, element);\n",
              "          const docLink = document.createElement('div');\n",
              "          docLink.innerHTML = docLinkHtml;\n",
              "          element.appendChild(docLink);\n",
              "        }\n",
              "      </script>\n",
              "    </div>\n",
              "  </div>\n",
              "  "
            ]
          },
          "metadata": {},
          "execution_count": 56
        }
      ]
    },
    {
      "cell_type": "code",
      "source": [
        "sns.countplot(y=df.target ,data=df)\n",
        "plt.xlabel(\"Count of each Target class\")\n",
        "plt.ylabel(\"Target classes\")\n",
        "plt.show()"
      ],
      "metadata": {
        "colab": {
          "base_uri": "https://localhost:8080/",
          "height": 279
        },
        "id": "PxEjDUaQ6udF",
        "outputId": "b51a92cf-c84d-4d50-b3f4-7a08e11f66fe"
      },
      "execution_count": null,
      "outputs": [
        {
          "output_type": "display_data",
          "data": {
            "text/plain": [
              "<Figure size 432x288 with 1 Axes>"
            ],
            "image/png": "[encoded data removed]"
          },
          "metadata": {
            "needs_background": "light"
          }
        }
      ]
    },
    {
      "cell_type": "code",
      "source": [
        "X = np.array(df[['sepal length (cm)','sepal width (cm)','petal length (cm)','petal width (cm)']])\n",
        "y = np.array(df['target'])"
      ],
      "metadata": {
        "id": "-qNl9yNe60k6"
      },
      "execution_count": null,
      "outputs": []
    },
    {
      "cell_type": "code",
      "source": [
        "from sklearn.preprocessing import MinMaxScaler\n",
        "scaler = MinMaxScaler()\n",
        "X=scaler.fit_transform(X)"
      ],
      "metadata": {
        "id": "f-DEsLTp7917"
      },
      "execution_count": null,
      "outputs": []
    },
    {
      "cell_type": "code",
      "source": [
        "X_train, X_test, y_train, y_test = train_test_split(X, y, test_size = 0.3, random_state=20, stratify=y)"
      ],
      "metadata": {
        "id": "1ljhXyrd7_TI"
      },
      "execution_count": null,
      "outputs": []
    },
    {
      "cell_type": "code",
      "source": [
        "knn = KNeighborsClassifier(7)\n",
        "knn.fit(X_train,y_train)\n",
        "print(\"Train score before PCA\",knn.score(X_train,y_train),\"%\")\n",
        "print(\"Test score before PCA\",knn.score(X_test,y_test),\"%\")"
      ],
      "metadata": {
        "colab": {
          "base_uri": "https://localhost:8080/"
        },
        "id": "pzdxvbt28DCl",
        "outputId": "20020dc1-660c-4336-ed3d-c486216c942c"
      },
      "execution_count": null,
      "outputs": [
        {
          "output_type": "stream",
          "name": "stdout",
          "text": [
            "Train score before PCA 0.9714285714285714 %\n",
            "Test score before PCA 0.9777777777777777 %\n"
          ]
        }
      ]
    },
    {
      "cell_type": "code",
      "source": [
        "from sklearn.decomposition import PCA\n",
        "pca = PCA()\n",
        "X_new = pca.fit_transform(X)"
      ],
      "metadata": {
        "id": "GJMwxbS-8J_V"
      },
      "execution_count": null,
      "outputs": []
    },
    {
      "cell_type": "code",
      "source": [
        "pca.get_covariance()"
      ],
      "metadata": {
        "colab": {
          "base_uri": "https://localhost:8080/"
        },
        "id": "TbNQP_kc8PNO",
        "outputId": "9ed0bf41-c10f-44a5-d1e8-f35f3c23eebe"
      },
      "execution_count": null,
      "outputs": [
        {
          "output_type": "execute_result",
          "data": {
            "text/plain": [
              "array([[ 0.05290845, -0.00491134,  0.05999602,  0.05975355],\n",
              "       [-0.00491134,  0.03298254, -0.02328082, -0.02111795],\n",
              "       [ 0.05999602, -0.02328082,  0.08952249,  0.09149784],\n",
              "       [ 0.05975355, -0.02111795,  0.09149784,  0.10086914]])"
            ]
          },
          "metadata": {},
          "execution_count": 67
        }
      ]
    },
    {
      "cell_type": "code",
      "source": [
        "explained_variance=pca.explained_variance_ratio_\n",
        "explained_variance"
      ],
      "metadata": {
        "colab": {
          "base_uri": "https://localhost:8080/"
        },
        "id": "210oDP9h8SjM",
        "outputId": "07df11cf-68a2-4c04-8912-5a9078574160"
      },
      "execution_count": null,
      "outputs": [
        {
          "output_type": "execute_result",
          "data": {
            "text/plain": [
              "array([0.84136038, 0.11751808, 0.03473561, 0.00638592])"
            ]
          },
          "metadata": {},
          "execution_count": 68
        }
      ]
    },
    {
      "cell_type": "code",
      "source": [
        "pca=PCA(n_components=2)\n",
        "X_new=pca.fit_transform(X)"
      ],
      "metadata": {
        "id": "qu3TeHH38cDj"
      },
      "execution_count": null,
      "outputs": []
    },
    {
      "cell_type": "code",
      "source": [
        "print(X_new)"
      ],
      "metadata": {
        "colab": {
          "base_uri": "https://localhost:8080/"
        },
        "id": "8DPlw-Bv9SPt",
        "outputId": "725908ed-47fd-49bd-8036-128f2343503a"
      },
      "execution_count": null,
      "outputs": [
        {
          "output_type": "stream",
          "name": "stdout",
          "text": [
            "[[-6.30702931e-01  1.07577910e-01]\n",
            " [-6.22904943e-01 -1.04259833e-01]\n",
            " [-6.69520395e-01 -5.14170597e-02]\n",
            " [-6.54152759e-01 -1.02884871e-01]\n",
            " [-6.48788056e-01  1.33487576e-01]\n",
            " [-5.35272778e-01  2.89615724e-01]\n",
            " [-6.56537790e-01  1.07244911e-02]\n",
            " [-6.25780499e-01  5.71335411e-02]\n",
            " [-6.75643504e-01 -2.00703283e-01]\n",
            " [-6.45644619e-01 -6.72080097e-02]\n",
            " [-5.97408238e-01  2.17151953e-01]\n",
            " [-6.38943190e-01  3.25988375e-02]\n",
            " [-6.61612593e-01 -1.15605495e-01]\n",
            " [-7.51967943e-01 -1.71313322e-01]\n",
            " [-6.00371589e-01  3.80240692e-01]\n",
            " [-5.52157227e-01  5.15255982e-01]\n",
            " [-5.77053593e-01  2.93709492e-01]\n",
            " [-6.03799228e-01  1.07167941e-01]\n",
            " [-5.20483461e-01  2.87627289e-01]\n",
            " [-6.12197555e-01  2.19140388e-01]\n",
            " [-5.57674300e-01  1.02109180e-01]\n",
            " [-5.79012675e-01  1.81065123e-01]\n",
            " [-7.37784662e-01  9.05588211e-02]\n",
            " [-5.06093857e-01  2.79470846e-02]\n",
            " [-6.07607579e-01  2.95285112e-02]\n",
            " [-5.90210587e-01 -9.45510863e-02]\n",
            " [-5.61527888e-01  5.52901611e-02]\n",
            " [-6.08453780e-01  1.18310099e-01]\n",
            " [-6.12617807e-01  8.16682448e-02]\n",
            " [-6.38184784e-01 -5.44873860e-02]\n",
            " [-6.20099660e-01 -8.03970516e-02]\n",
            " [-5.24757301e-01  1.03336126e-01]\n",
            " [-6.73044544e-01  3.44711846e-01]\n",
            " [-6.27455379e-01  4.18257508e-01]\n",
            " [-6.18740916e-01 -6.76179787e-02]\n",
            " [-6.44553756e-01 -1.51267253e-02]\n",
            " [-5.93932344e-01  1.55623876e-01]\n",
            " [-6.87495707e-01  1.22141914e-01]\n",
            " [-6.92369885e-01 -1.62014545e-01]\n",
            " [-6.13976551e-01  6.88891719e-02]\n",
            " [-6.26048380e-01  9.64357527e-02]\n",
            " [-6.09693996e-01 -4.14325957e-01]\n",
            " [-7.04932239e-01 -8.66839521e-02]\n",
            " [-5.14001659e-01  9.21355196e-02]\n",
            " [-5.43513037e-01  2.14636651e-01]\n",
            " [-6.07805187e-01 -1.16425433e-01]\n",
            " [-6.28656055e-01  2.18526915e-01]\n",
            " [-6.70879139e-01 -6.41961326e-02]\n",
            " [-6.09212186e-01  2.05396323e-01]\n",
            " [-6.29944525e-01  2.04916869e-02]\n",
            " [ 2.79951766e-01  1.79245790e-01]\n",
            " [ 2.15141376e-01  1.10348921e-01]\n",
            " [ 3.22223106e-01  1.27368010e-01]\n",
            " [ 5.94030131e-02 -3.28502275e-01]\n",
            " [ 2.62515235e-01 -2.95800761e-02]\n",
            " [ 1.03831043e-01 -1.21781742e-01]\n",
            " [ 2.44850362e-01  1.33801733e-01]\n",
            " [-1.71529386e-01 -3.52976762e-01]\n",
            " [ 2.14230599e-01  2.06607890e-02]\n",
            " [ 1.53249619e-02 -2.12494509e-01]\n",
            " [-1.13710323e-01 -4.93929201e-01]\n",
            " [ 1.37348380e-01 -2.06894998e-02]\n",
            " [ 4.39928190e-02 -3.06159511e-01]\n",
            " [ 1.92559767e-01 -3.95507760e-02]\n",
            " [-8.26091518e-03 -8.66610981e-02]\n",
            " [ 2.19485489e-01  1.09383928e-01]\n",
            " [ 1.33272148e-01 -5.90267184e-02]\n",
            " [-5.75757060e-04 -1.42367733e-01]\n",
            " [ 2.54345249e-01 -2.89815304e-01]\n",
            " [-5.60800300e-03 -2.39572672e-01]\n",
            " [ 2.68168358e-01  4.72705335e-02]\n",
            " [ 9.88208151e-02 -6.96420088e-02]\n",
            " [ 2.89086481e-01 -1.69157553e-01]\n",
            " [ 1.45033538e-01 -7.63961345e-02]\n",
            " [ 1.59287093e-01  2.19853643e-04]\n",
            " [ 2.13962718e-01  5.99630005e-02]\n",
            " [ 2.91913782e-01  4.04990109e-03]\n",
            " [ 3.69148997e-01  6.43480720e-02]\n",
            " [ 1.86769115e-01 -4.96694916e-02]\n",
            " [-6.87697501e-02 -1.85648007e-01]\n",
            " [-2.15759776e-02 -2.87970157e-01]\n",
            " [-5.89248844e-02 -2.86536746e-01]\n",
            " [ 3.23412419e-02 -1.41140786e-01]\n",
            " [ 2.88906394e-01 -1.31550706e-01]\n",
            " [ 1.09664252e-01 -8.25379800e-02]\n",
            " [ 1.82266934e-01  1.38247021e-01]\n",
            " [ 2.77724803e-01  1.05903632e-01]\n",
            " [ 1.95615410e-01 -2.38550997e-01]\n",
            " [ 3.76839264e-02 -5.41130122e-02]\n",
            " [ 4.68406593e-02 -2.53171683e-01]\n",
            " [ 5.54365941e-02 -2.19190186e-01]\n",
            " [ 1.75833387e-01 -8.62037590e-04]\n",
            " [ 4.90676225e-02 -1.79829525e-01]\n",
            " [-1.53444261e-01 -3.78886428e-01]\n",
            " [ 6.69726607e-02 -1.68132343e-01]\n",
            " [ 3.30293747e-02 -4.29708545e-02]\n",
            " [ 6.62142547e-02 -8.10461198e-02]\n",
            " [ 1.35679197e-01 -2.32914079e-02]\n",
            " [-1.58634575e-01 -2.89139847e-01]\n",
            " [ 6.20502279e-02 -1.17687974e-01]\n",
            " [ 6.22771338e-01  1.16807265e-01]\n",
            " [ 3.46009609e-01 -1.56291874e-01]\n",
            " [ 6.17986434e-01  1.00519741e-01]\n",
            " [ 4.17789309e-01 -2.68903690e-02]\n",
            " [ 5.63621248e-01  3.05994289e-02]\n",
            " [ 7.50122599e-01  1.52133800e-01]\n",
            " [ 1.35857804e-01 -3.30462554e-01]\n",
            " [ 6.08945212e-01  8.35018443e-02]\n",
            " [ 5.11020215e-01 -1.32575915e-01]\n",
            " [ 7.20608541e-01  3.34580389e-01]\n",
            " [ 4.24135062e-01  1.13914054e-01]\n",
            " [ 4.37723702e-01 -8.78049736e-02]\n",
            " [ 5.40793776e-01  6.93466165e-02]\n",
            " [ 3.63226514e-01 -2.42764625e-01]\n",
            " [ 4.74246948e-01 -1.20676423e-01]\n",
            " [ 5.13932631e-01  9.88816323e-02]\n",
            " [ 4.24670824e-01  3.53096310e-02]\n",
            " [ 7.49026039e-01  4.63778390e-01]\n",
            " [ 8.72194272e-01  9.33798117e-03]\n",
            " [ 2.82963372e-01 -3.18443776e-01]\n",
            " [ 6.14733184e-01  1.53566018e-01]\n",
            " [ 3.22133832e-01 -1.40500924e-01]\n",
            " [ 7.58030401e-01  8.79453649e-02]\n",
            " [ 3.57235237e-01 -9.50568671e-02]\n",
            " [ 5.31036706e-01  1.68539991e-01]\n",
            " [ 5.46962123e-01  1.87812429e-01]\n",
            " [ 3.28704908e-01 -6.81237595e-02]\n",
            " [ 3.14783811e-01 -5.57223965e-03]\n",
            " [ 5.16585543e-01 -5.40299414e-02]\n",
            " [ 4.84826663e-01  1.15348658e-01]\n",
            " [ 6.33043632e-01  5.92290940e-02]\n",
            " [ 6.87490917e-01  4.91179916e-01]\n",
            " [ 5.43489246e-01 -5.44399104e-02]\n",
            " [ 2.91133358e-01 -5.82085481e-02]\n",
            " [ 3.05410131e-01 -1.61757644e-01]\n",
            " [ 7.63507935e-01  1.68186703e-01]\n",
            " [ 5.47805644e-01  1.58976299e-01]\n",
            " [ 4.06585699e-01  6.12192966e-02]\n",
            " [ 2.92534659e-01 -1.63044284e-02]\n",
            " [ 5.35871344e-01  1.19790986e-01]\n",
            " [ 6.13864965e-01  9.30029331e-02]\n",
            " [ 5.58343139e-01  1.22041374e-01]\n",
            " [ 3.46009609e-01 -1.56291874e-01]\n",
            " [ 6.23819644e-01  1.39763503e-01]\n",
            " [ 6.38651518e-01  1.66900115e-01]\n",
            " [ 5.51461624e-01  5.98413741e-02]\n",
            " [ 4.07146497e-01 -1.71820871e-01]\n",
            " [ 4.47142619e-01  3.75600193e-02]\n",
            " [ 4.88207585e-01  1.49677521e-01]\n",
            " [ 3.12066323e-01 -3.11303854e-02]]\n"
          ]
        }
      ]
    },
    {
      "cell_type": "code",
      "source": [
        "X_new.shape"
      ],
      "metadata": {
        "colab": {
          "base_uri": "https://localhost:8080/"
        },
        "id": "PoGkGYwL9Yxd",
        "outputId": "99e95b7c-22d9-4c22-f2b0-0ebd46005e5c"
      },
      "execution_count": null,
      "outputs": [
        {
          "output_type": "execute_result",
          "data": {
            "text/plain": [
              "(150, 2)"
            ]
          },
          "metadata": {},
          "execution_count": 76
        }
      ]
    },
    {
      "cell_type": "code",
      "source": [
        "print(y)"
      ],
      "metadata": {
        "colab": {
          "base_uri": "https://localhost:8080/"
        },
        "id": "eWrwmohe9b-h",
        "outputId": "89e55837-b1a4-41ec-d16f-ce48c09be1c2"
      },
      "execution_count": null,
      "outputs": [
        {
          "output_type": "stream",
          "name": "stdout",
          "text": [
            "[0 0 0 0 0 0 0 0 0 0 0 0 0 0 0 0 0 0 0 0 0 0 0 0 0 0 0 0 0 0 0 0 0 0 0 0 0\n",
            " 0 0 0 0 0 0 0 0 0 0 0 0 0 1 1 1 1 1 1 1 1 1 1 1 1 1 1 1 1 1 1 1 1 1 1 1 1\n",
            " 1 1 1 1 1 1 1 1 1 1 1 1 1 1 1 1 1 1 1 1 1 1 1 1 1 1 2 2 2 2 2 2 2 2 2 2 2\n",
            " 2 2 2 2 2 2 2 2 2 2 2 2 2 2 2 2 2 2 2 2 2 2 2 2 2 2 2 2 2 2 2 2 2 2 2 2 2\n",
            " 2 2]\n"
          ]
        }
      ]
    },
    {
      "cell_type": "code",
      "source": [
        "X_train_new, X_test_new, y_train, y_test = train_test_split(X_new, y, test_size = 0.3, random_state=20, stratify=y)"
      ],
      "metadata": {
        "id": "IUBudoVD8dMc"
      },
      "execution_count": null,
      "outputs": []
    },
    {
      "cell_type": "code",
      "source": [
        "knn_pca = KNeighborsClassifier(7)\n",
        "knn_pca.fit(X_train_new,y_train)\n",
        "print(\"Train score after PCA\",knn_pca.score(X_train_new,y_train),\"%\")\n",
        "print(\"Test score after PCA\",knn_pca.score(X_test_new,y_test),\"%\")"
      ],
      "metadata": {
        "colab": {
          "base_uri": "https://localhost:8080/"
        },
        "id": "AvuCfklR8n75",
        "outputId": "c9789575-d392-40c4-fd7f-49ec2d74fe2f"
      },
      "execution_count": null,
      "outputs": [
        {
          "output_type": "stream",
          "name": "stdout",
          "text": [
            "Train score after PCA 0.9619047619047619 %\n",
            "Test score after PCA 0.9777777777777777 %\n"
          ]
        }
      ]
    },
    {
      "cell_type": "code",
      "source": [
        "x_pts = X_new[:,:2]\n",
        "y_pts = y\n",
        "decision_boundary_plot(x_pts,y_pts,7)"
      ],
      "metadata": {
        "colab": {
          "base_uri": "https://localhost:8080/",
          "height": 763
        },
        "id": "5SpGTtWE8qZy",
        "outputId": "f57a6834-b469-4a7f-832b-a7f461cc189e"
      },
      "execution_count": null,
      "outputs": [
        {
          "output_type": "display_data",
          "data": {
            "text/plain": [
              "<Figure size 576x432 with 1 Axes>"
            ],
            "image/png": "[encoded data removed]"
          },
          "metadata": {
            "needs_background": "light"
          }
        },
        {
          "output_type": "display_data",
          "data": {
            "text/plain": [
              "<Figure size 576x432 with 1 Axes>"
            ],
            "image/png": "[encoded data removed]"
          },
          "metadata": {
            "needs_background": "light"
          }
        }
      ]
    },
    {
      "cell_type": "markdown",
      "metadata": {
        "id": "gti-Jgu_VBDl"
      },
      "source": [
        "## Section 2.3: Confusion Matrix  \n",
        "In classification problems, a confusion matrix, also known as an error matrix, is a table that allows visualization of the performance of an algorithm, typically a supervised learning one. Each row of the matrix represents the instances in an actual class while each column represents the instances in a predicted class."
      ]
    },
    {
      "cell_type": "code",
      "metadata": {
        "id": "LPfc8YFBA8Oh"
      },
      "source": [
        "from sklearn.metrics import confusion_matrix"
      ],
      "execution_count": null,
      "outputs": []
    },
    {
      "cell_type": "code",
      "metadata": {
        "colab": {
          "base_uri": "https://localhost:8080/",
          "height": 206
        },
        "id": "XMXIM9apA99s",
        "outputId": "f89c2ddc-55cb-4aea-ac85-5ca1f504d00d"
      },
      "source": [
        "# print(confusion_matrix(y_test,predictions))\n",
        "pd.crosstab(y_test, predictions, rownames=['True'], colnames=['Predicted'], margins=True)"
      ],
      "execution_count": null,
      "outputs": [
        {
          "output_type": "execute_result",
          "data": {
            "text/plain": [
              "Predicted   0   1   2  All\n",
              "True                      \n",
              "0          13   0   0   13\n",
              "1           0  22   0   22\n",
              "2           0   3  12   15\n",
              "All        13  25  12   50"
            ],
            "text/html": [
              "\n",
              "  <div id=\"df-4a84efe3-b4ac-42bf-b8b0-47e41c903100\">\n",
              "    <div class=\"colab-df-container\">\n",
              "      <div>\n",
              "<style scoped>\n",
              "    .dataframe tbody tr th:only-of-type {\n",
              "        vertical-align: middle;\n",
              "    }\n",
              "\n",
              "    .dataframe tbody tr th {\n",
              "        vertical-align: top;\n",
              "    }\n",
              "\n",
              "    .dataframe thead th {\n",
              "        text-align: right;\n",
              "    }\n",
              "</style>\n",
              "<table border=\"1\" class=\"dataframe\">\n",
              "  <thead>\n",
              "    <tr style=\"text-align: right;\">\n",
              "      <th>Predicted</th>\n",
              "      <th>0</th>\n",
              "      <th>1</th>\n",
              "      <th>2</th>\n",
              "      <th>All</th>\n",
              "    </tr>\n",
              "    <tr>\n",
              "      <th>True</th>\n",
              "      <th></th>\n",
              "      <th></th>\n",
              "      <th></th>\n",
              "      <th></th>\n",
              "    </tr>\n",
              "  </thead>\n",
              "  <tbody>\n",
              "    <tr>\n",
              "      <th>0</th>\n",
              "      <td>13</td>\n",
              "      <td>0</td>\n",
              "      <td>0</td>\n",
              "      <td>13</td>\n",
              "    </tr>\n",
              "    <tr>\n",
              "      <th>1</th>\n",
              "      <td>0</td>\n",
              "      <td>22</td>\n",
              "      <td>0</td>\n",
              "      <td>22</td>\n",
              "    </tr>\n",
              "    <tr>\n",
              "      <th>2</th>\n",
              "      <td>0</td>\n",
              "      <td>3</td>\n",
              "      <td>12</td>\n",
              "      <td>15</td>\n",
              "    </tr>\n",
              "    <tr>\n",
              "      <th>All</th>\n",
              "      <td>13</td>\n",
              "      <td>25</td>\n",
              "      <td>12</td>\n",
              "      <td>50</td>\n",
              "    </tr>\n",
              "  </tbody>\n",
              "</table>\n",
              "</div>\n",
              "      <button class=\"colab-df-convert\" onclick=\"convertToInteractive('df-4a84efe3-b4ac-42bf-b8b0-47e41c903100')\"\n",
              "              title=\"Convert this dataframe to an interactive table.\"\n",
              "              style=\"display:none;\">\n",
              "        \n",
              "  <svg xmlns=\"http://www.w3.org/2000/svg\" height=\"24px\"viewBox=\"0 0 24 24\"\n",
              "       width=\"24px\">\n",
              "    <path d=\"M0 0h24v24H0V0z\" fill=\"none\"/>\n",
              "    <path d=\"M18.56 5.44l.94 2.06.94-2.06 2.06-.94-2.06-.94-.94-2.06-.94 2.06-2.06.94zm-11 1L8.5 8.5l.94-2.06 2.06-.94-2.06-.94L8.5 2.5l-.94 2.06-2.06.94zm10 10l.94 2.06.94-2.06 2.06-.94-2.06-.94-.94-2.06-.94 2.06-2.06.94z\"/><path d=\"M17.41 7.96l-1.37-1.37c-.4-.4-.92-.59-1.43-.59-.52 0-1.04.2-1.43.59L10.3 9.45l-7.72 7.72c-.78.78-.78 2.05 0 2.83L4 21.41c.39.39.9.59 1.41.59.51 0 1.02-.2 1.41-.59l7.78-7.78 2.81-2.81c.8-.78.8-2.07 0-2.86zM5.41 20L4 18.59l7.72-7.72 1.47 1.35L5.41 20z\"/>\n",
              "  </svg>\n",
              "      </button>\n",
              "      \n",
              "  <style>\n",
              "    .colab-df-container {\n",
              "      display:flex;\n",
              "      flex-wrap:wrap;\n",
              "      gap: 12px;\n",
              "    }\n",
              "\n",
              "    .colab-df-convert {\n",
              "      background-color: #E8F0FE;\n",
              "      border: none;\n",
              "      border-radius: 50%;\n",
              "      cursor: pointer;\n",
              "      display: none;\n",
              "      fill: #1967D2;\n",
              "      height: 32px;\n",
              "      padding: 0 0 0 0;\n",
              "      width: 32px;\n",
              "    }\n",
              "\n",
              "    .colab-df-convert:hover {\n",
              "      background-color: #E2EBFA;\n",
              "      box-shadow: 0px 1px 2px rgba(60, 64, 67, 0.3), 0px 1px 3px 1px rgba(60, 64, 67, 0.15);\n",
              "      fill: #174EA6;\n",
              "    }\n",
              "\n",
              "    [theme=dark] .colab-df-convert {\n",
              "      background-color: #3B4455;\n",
              "      fill: #D2E3FC;\n",
              "    }\n",
              "\n",
              "    [theme=dark] .colab-df-convert:hover {\n",
              "      background-color: #434B5C;\n",
              "      box-shadow: 0px 1px 3px 1px rgba(0, 0, 0, 0.15);\n",
              "      filter: drop-shadow(0px 1px 2px rgba(0, 0, 0, 0.3));\n",
              "      fill: #FFFFFF;\n",
              "    }\n",
              "  </style>\n",
              "\n",
              "      <script>\n",
              "        const buttonEl =\n",
              "          document.querySelector('#df-4a84efe3-b4ac-42bf-b8b0-47e41c903100 button.colab-df-convert');\n",
              "        buttonEl.style.display =\n",
              "          google.colab.kernel.accessAllowed ? 'block' : 'none';\n",
              "\n",
              "        async function convertToInteractive(key) {\n",
              "          const element = document.querySelector('#df-4a84efe3-b4ac-42bf-b8b0-47e41c903100');\n",
              "          const dataTable =\n",
              "            await google.colab.kernel.invokeFunction('convertToInteractive',\n",
              "                                                     [key], {});\n",
              "          if (!dataTable) return;\n",
              "\n",
              "          const docLinkHtml = 'Like what you see? Visit the ' +\n",
              "            '<a target=\"_blank\" href=https://colab.research.google.com/notebooks/data_table.ipynb>data table notebook</a>'\n",
              "            + ' to learn more about interactive tables.';\n",
              "          element.innerHTML = '';\n",
              "          dataTable['output_type'] = 'display_data';\n",
              "          await google.colab.output.renderOutput(dataTable, element);\n",
              "          const docLink = document.createElement('div');\n",
              "          docLink.innerHTML = docLinkHtml;\n",
              "          element.appendChild(docLink);\n",
              "        }\n",
              "      </script>\n",
              "    </div>\n",
              "  </div>\n",
              "  "
            ]
          },
          "metadata": {},
          "execution_count": 33
        }
      ]
    },
    {
      "cell_type": "code",
      "metadata": {
        "colab": {
          "base_uri": "https://localhost:8080/",
          "height": 312
        },
        "id": "5cgYG0E5UHdy",
        "outputId": "ad88316b-c22c-450c-f993-9f68635dd2ab"
      },
      "source": [
        "from sklearn import metrics\n",
        "\n",
        "cnf_matrix = metrics.confusion_matrix(y_test, predictions)\n",
        "p = sns.heatmap(pd.DataFrame(cnf_matrix), annot=True, cmap=\"viridis\" ,fmt='g')\n",
        "plt.title('Confusion matrix', y=1.1)\n",
        "plt.ylabel('Actual label')\n",
        "plt.xlabel('Predicted label')"
      ],
      "execution_count": null,
      "outputs": [
        {
          "output_type": "execute_result",
          "data": {
            "text/plain": [
              "Text(0.5, 15.0, 'Predicted label')"
            ]
          },
          "metadata": {},
          "execution_count": 34
        },
        {
          "output_type": "display_data",
          "data": {
            "text/plain": [
              "<Figure size 432x288 with 2 Axes>"
            ],
            "image/png": "[encoded data removed]"
          },
          "metadata": {
            "needs_background": "light"
          }
        }
      ]
    },
    {
      "cell_type": "markdown",
      "metadata": {
        "id": "TTPQOPStVtmI"
      },
      "source": [
        "## Section 2.4: Classification Report\n",
        "\n",
        "Precision, Recall, and F1-Score are other metrics besides accuracy that one might look for in an algorithm.  Depending on the use-case, one might consider one metric more important than the other.  \n",
        "\n",
        "Note: *T-> True, F->False, P->Positive, N->Negative*\n",
        "    \n",
        "Mathematically, Accuracy is :  \n",
        "\n",
        "$Accuracy = \\frac{TP+TN}{TP+TN+FP+FN}$  \n",
        "\n",
        "**Precision**: The accuracy of positive predictions\n",
        "\n",
        "\n",
        "$Precision = \\frac{TP}{TP+FP}$ \n",
        "\n",
        "**Recall**:Fraction of positives that were correctly identified\n",
        "\n",
        "\n",
        "$Recall = \\frac{TP}{TP+FN}$\n",
        "\n",
        "\n",
        "**F1-score**: Harmonic mean of precision and recall  \n",
        "\n",
        "\n",
        "$F1 = \\frac{2*Precision*Recall}{Precision+Recall} = \\frac{2*TP}{2*TP+FP+FN}$  \n",
        "\n"
      ]
    },
    {
      "cell_type": "code",
      "metadata": {
        "colab": {
          "base_uri": "https://localhost:8080/"
        },
        "id": "VH3KEfEYW190",
        "outputId": "fe1e4b53-bec8-4bb4-d35e-f696d58fa6c5"
      },
      "source": [
        "#import classification_report\n",
        "from sklearn.metrics import classification_report\n",
        "print(classification_report(y_test,predictions))"
      ],
      "execution_count": null,
      "outputs": [
        {
          "output_type": "stream",
          "name": "stdout",
          "text": [
            "              precision    recall  f1-score   support\n",
            "\n",
            "           0       1.00      1.00      1.00        13\n",
            "           1       0.88      1.00      0.94        22\n",
            "           2       1.00      0.80      0.89        15\n",
            "\n",
            "    accuracy                           0.94        50\n",
            "   macro avg       0.96      0.93      0.94        50\n",
            "weighted avg       0.95      0.94      0.94        50\n",
            "\n"
          ]
        }
      ]
    },
    {
      "cell_type": "markdown",
      "metadata": {
        "id": "YtYNFoJh0LU-"
      },
      "source": [
        "### **Car Evaluation Dataset**"
      ]
    },
    {
      "cell_type": "code",
      "metadata": {
        "id": "RsBukCMi4UjJ",
        "colab": {
          "base_uri": "https://localhost:8080/",
          "height": 73
        },
        "outputId": "18dc6cd2-854b-4204-b4ee-bf40836194b9"
      },
      "source": [
        "# Upload the Car evaluation data CSV file that has been shared with you.\n",
        "# Run this cell, click on the 'Choose files' button and upload the file.\n",
        "from google.colab import files\n",
        "uploaded = files.upload()"
      ],
      "execution_count": null,
      "outputs": [
        {
          "output_type": "display_data",
          "data": {
            "text/plain": [
              "<IPython.core.display.HTML object>"
            ],
            "text/html": [
              "\n",
              "     <input type=\"file\" id=\"files-718e94f7-3363-4367-b33c-8eae2a4b5f93\" name=\"files[]\" multiple disabled\n",
              "        style=\"border:none\" />\n",
              "     <output id=\"result-718e94f7-3363-4367-b33c-8eae2a4b5f93\">\n",
              "      Upload widget is only available when the cell has been executed in the\n",
              "      current browser session. Please rerun this cell to enable.\n",
              "      </output>\n",
              "      <script>// Copyright 2017 Google LLC\n",
              "//\n",
              "// Licensed under the Apache License, Version 2.0 (the \"License\");\n",
              "// you may not use this file except in compliance with the License.\n",
              "// You may obtain a copy of the License at\n",
              "//\n",
              "//      http://www.apache.org/licenses/LICENSE-2.0\n",
              "//\n",
              "// Unless required by applicable law or agreed to in writing, software\n",
              "// distributed under the License is distributed on an \"AS IS\" BASIS,\n",
              "// WITHOUT WARRANTIES OR CONDITIONS OF ANY KIND, either express or implied.\n",
              "// See the License for the specific language governing permissions and\n",
              "// limitations under the License.\n",
              "\n",
              "/**\n",
              " * @fileoverview Helpers for google.colab Python module.\n",
              " */\n",
              "(function(scope) {\n",
              "function span(text, styleAttributes = {}) {\n",
              "  const element = document.createElement('span');\n",
              "  element.textContent = text;\n",
              "  for (const key of Object.keys(styleAttributes)) {\n",
              "    element.style[key] = styleAttributes[key];\n",
              "  }\n",
              "  return element;\n",
              "}\n",
              "\n",
              "// Max number of bytes which will be uploaded at a time.\n",
              "const MAX_PAYLOAD_SIZE = 100 * 1024;\n",
              "\n",
              "function _uploadFiles(inputId, outputId) {\n",
              "  const steps = uploadFilesStep(inputId, outputId);\n",
              "  const outputElement = document.getElementById(outputId);\n",
              "  // Cache steps on the outputElement to make it available for the next call\n",
              "  // to uploadFilesContinue from Python.\n",
              "  outputElement.steps = steps;\n",
              "\n",
              "  return _uploadFilesContinue(outputId);\n",
              "}\n",
              "\n",
              "// This is roughly an async generator (not supported in the browser yet),\n",
              "// where there are multiple asynchronous steps and the Python side is going\n",
              "// to poll for completion of each step.\n",
              "// This uses a Promise to block the python side on completion of each step,\n",
              "// then passes the result of the previous step as the input to the next step.\n",
              "function _uploadFilesContinue(outputId) {\n",
              "  const outputElement = document.getElementById(outputId);\n",
              "  const steps = outputElement.steps;\n",
              "\n",
              "  const next = steps.next(outputElement.lastPromiseValue);\n",
              "  return Promise.resolve(next.value.promise).then((value) => {\n",
              "    // Cache the last promise value to make it available to the next\n",
              "    // step of the generator.\n",
              "    outputElement.lastPromiseValue = value;\n",
              "    return next.value.response;\n",
              "  });\n",
              "}\n",
              "\n",
              "/**\n",
              " * Generator function which is called between each async step of the upload\n",
              " * process.\n",
              " * @param {string} inputId Element ID of the input file picker element.\n",
              " * @param {string} outputId Element ID of the output display.\n",
              " * @return {!Iterable<!Object>} Iterable of next steps.\n",
              " */\n",
              "function* uploadFilesStep(inputId, outputId) {\n",
              "  const inputElement = document.getElementById(inputId);\n",
              "  inputElement.disabled = false;\n",
              "\n",
              "  const outputElement = document.getElementById(outputId);\n",
              "  outputElement.innerHTML = '';\n",
              "\n",
              "  const pickedPromise = new Promise((resolve) => {\n",
              "    inputElement.addEventListener('change', (e) => {\n",
              "      resolve(e.target.files);\n",
              "    });\n",
              "  });\n",
              "\n",
              "  const cancel = document.createElement('button');\n",
              "  inputElement.parentElement.appendChild(cancel);\n",
              "  cancel.textContent = 'Cancel upload';\n",
              "  const cancelPromise = new Promise((resolve) => {\n",
              "    cancel.onclick = () => {\n",
              "      resolve(null);\n",
              "    };\n",
              "  });\n",
              "\n",
              "  // Wait for the user to pick the files.\n",
              "  const files = yield {\n",
              "    promise: Promise.race([pickedPromise, cancelPromise]),\n",
              "    response: {\n",
              "      action: 'starting',\n",
              "    }\n",
              "  };\n",
              "\n",
              "  cancel.remove();\n",
              "\n",
              "  // Disable the input element since further picks are not allowed.\n",
              "  inputElement.disabled = true;\n",
              "\n",
              "  if (!files) {\n",
              "    return {\n",
              "      response: {\n",
              "        action: 'complete',\n",
              "      }\n",
              "    };\n",
              "  }\n",
              "\n",
              "  for (const file of files) {\n",
              "    const li = document.createElement('li');\n",
              "    li.append(span(file.name, {fontWeight: 'bold'}));\n",
              "    li.append(span(\n",
              "        `(${file.type || 'n/a'}) - ${file.size} bytes, ` +\n",
              "        `last modified: ${\n",
              "            file.lastModifiedDate ? file.lastModifiedDate.toLocaleDateString() :\n",
              "                                    'n/a'} - `));\n",
              "    const percent = span('0% done');\n",
              "    li.appendChild(percent);\n",
              "\n",
              "    outputElement.appendChild(li);\n",
              "\n",
              "    const fileDataPromise = new Promise((resolve) => {\n",
              "      const reader = new FileReader();\n",
              "      reader.onload = (e) => {\n",
              "        resolve(e.target.result);\n",
              "      };\n",
              "      reader.readAsArrayBuffer(file);\n",
              "    });\n",
              "    // Wait for the data to be ready.\n",
              "    let fileData = yield {\n",
              "      promise: fileDataPromise,\n",
              "      response: {\n",
              "        action: 'continue',\n",
              "      }\n",
              "    };\n",
              "\n",
              "    // Use a chunked sending to avoid message size limits. See b/62115660.\n",
              "    let position = 0;\n",
              "    do {\n",
              "      const length = Math.min(fileData.byteLength - position, MAX_PAYLOAD_SIZE);\n",
              "      const chunk = new Uint8Array(fileData, position, length);\n",
              "      position += length;\n",
              "\n",
              "      const base64 = btoa(String.fromCharCode.apply(null, chunk));\n",
              "      yield {\n",
              "        response: {\n",
              "          action: 'append',\n",
              "          file: file.name,\n",
              "          data: base64,\n",
              "        },\n",
              "      };\n",
              "\n",
              "      let percentDone = fileData.byteLength === 0 ?\n",
              "          100 :\n",
              "          Math.round((position / fileData.byteLength) * 100);\n",
              "      percent.textContent = `${percentDone}% done`;\n",
              "\n",
              "    } while (position < fileData.byteLength);\n",
              "  }\n",
              "\n",
              "  // All done.\n",
              "  yield {\n",
              "    response: {\n",
              "      action: 'complete',\n",
              "    }\n",
              "  };\n",
              "}\n",
              "\n",
              "scope.google = scope.google || {};\n",
              "scope.google.colab = scope.google.colab || {};\n",
              "scope.google.colab._files = {\n",
              "  _uploadFiles,\n",
              "  _uploadFilesContinue,\n",
              "};\n",
              "})(self);\n",
              "</script> "
            ]
          },
          "metadata": {}
        },
        {
          "output_type": "stream",
          "name": "stdout",
          "text": [
            "Saving car_evaluation.csv to car_evaluation.csv\n"
          ]
        }
      ]
    },
    {
      "cell_type": "code",
      "metadata": {
        "id": "0T5yvzVH4jrQ",
        "colab": {
          "base_uri": "https://localhost:8080/",
          "height": 424
        },
        "outputId": "634683c9-28b8-4234-c772-fb340731e4c4"
      },
      "source": [
        "car_df = pd.read_csv('car_evaluation.csv')\n",
        "car_df"
      ],
      "execution_count": null,
      "outputs": [
        {
          "output_type": "execute_result",
          "data": {
            "text/plain": [
              "      vhigh vhigh.1      2   2.1  small   low  unacc\n",
              "0     vhigh   vhigh      2     2  small   med  unacc\n",
              "1     vhigh   vhigh      2     2  small  high  unacc\n",
              "2     vhigh   vhigh      2     2    med   low  unacc\n",
              "3     vhigh   vhigh      2     2    med   med  unacc\n",
              "4     vhigh   vhigh      2     2    med  high  unacc\n",
              "...     ...     ...    ...   ...    ...   ...    ...\n",
              "1722    low     low  5more  more    med   med   good\n",
              "1723    low     low  5more  more    med  high  vgood\n",
              "1724    low     low  5more  more    big   low  unacc\n",
              "1725    low     low  5more  more    big   med   good\n",
              "1726    low     low  5more  more    big  high  vgood\n",
              "\n",
              "[1727 rows x 7 columns]"
            ],
            "text/html": [
              "\n",
              "  <div id=\"df-84695dd6-0667-4b4b-b6c2-f6cad95b6f21\">\n",
              "    <div class=\"colab-df-container\">\n",
              "      <div>\n",
              "<style scoped>\n",
              "    .dataframe tbody tr th:only-of-type {\n",
              "        vertical-align: middle;\n",
              "    }\n",
              "\n",
              "    .dataframe tbody tr th {\n",
              "        vertical-align: top;\n",
              "    }\n",
              "\n",
              "    .dataframe thead th {\n",
              "        text-align: right;\n",
              "    }\n",
              "</style>\n",
              "<table border=\"1\" class=\"dataframe\">\n",
              "  <thead>\n",
              "    <tr style=\"text-align: right;\">\n",
              "      <th></th>\n",
              "      <th>vhigh</th>\n",
              "      <th>vhigh.1</th>\n",
              "      <th>2</th>\n",
              "      <th>2.1</th>\n",
              "      <th>small</th>\n",
              "      <th>low</th>\n",
              "      <th>unacc</th>\n",
              "    </tr>\n",
              "  </thead>\n",
              "  <tbody>\n",
              "    <tr>\n",
              "      <th>0</th>\n",
              "      <td>vhigh</td>\n",
              "      <td>vhigh</td>\n",
              "      <td>2</td>\n",
              "      <td>2</td>\n",
              "      <td>small</td>\n",
              "      <td>med</td>\n",
              "      <td>unacc</td>\n",
              "    </tr>\n",
              "    <tr>\n",
              "      <th>1</th>\n",
              "      <td>vhigh</td>\n",
              "      <td>vhigh</td>\n",
              "      <td>2</td>\n",
              "      <td>2</td>\n",
              "      <td>small</td>\n",
              "      <td>high</td>\n",
              "      <td>unacc</td>\n",
              "    </tr>\n",
              "    <tr>\n",
              "      <th>2</th>\n",
              "      <td>vhigh</td>\n",
              "      <td>vhigh</td>\n",
              "      <td>2</td>\n",
              "      <td>2</td>\n",
              "      <td>med</td>\n",
              "      <td>low</td>\n",
              "      <td>unacc</td>\n",
              "    </tr>\n",
              "    <tr>\n",
              "      <th>3</th>\n",
              "      <td>vhigh</td>\n",
              "      <td>vhigh</td>\n",
              "      <td>2</td>\n",
              "      <td>2</td>\n",
              "      <td>med</td>\n",
              "      <td>med</td>\n",
              "      <td>unacc</td>\n",
              "    </tr>\n",
              "    <tr>\n",
              "      <th>4</th>\n",
              "      <td>vhigh</td>\n",
              "      <td>vhigh</td>\n",
              "      <td>2</td>\n",
              "      <td>2</td>\n",
              "      <td>med</td>\n",
              "      <td>high</td>\n",
              "      <td>unacc</td>\n",
              "    </tr>\n",
              "    <tr>\n",
              "      <th>...</th>\n",
              "      <td>...</td>\n",
              "      <td>...</td>\n",
              "      <td>...</td>\n",
              "      <td>...</td>\n",
              "      <td>...</td>\n",
              "      <td>...</td>\n",
              "      <td>...</td>\n",
              "    </tr>\n",
              "    <tr>\n",
              "      <th>1722</th>\n",
              "      <td>low</td>\n",
              "      <td>low</td>\n",
              "      <td>5more</td>\n",
              "      <td>more</td>\n",
              "      <td>med</td>\n",
              "      <td>med</td>\n",
              "      <td>good</td>\n",
              "    </tr>\n",
              "    <tr>\n",
              "      <th>1723</th>\n",
              "      <td>low</td>\n",
              "      <td>low</td>\n",
              "      <td>5more</td>\n",
              "      <td>more</td>\n",
              "      <td>med</td>\n",
              "      <td>high</td>\n",
              "      <td>vgood</td>\n",
              "    </tr>\n",
              "    <tr>\n",
              "      <th>1724</th>\n",
              "      <td>low</td>\n",
              "      <td>low</td>\n",
              "      <td>5more</td>\n",
              "      <td>more</td>\n",
              "      <td>big</td>\n",
              "      <td>low</td>\n",
              "      <td>unacc</td>\n",
              "    </tr>\n",
              "    <tr>\n",
              "      <th>1725</th>\n",
              "      <td>low</td>\n",
              "      <td>low</td>\n",
              "      <td>5more</td>\n",
              "      <td>more</td>\n",
              "      <td>big</td>\n",
              "      <td>med</td>\n",
              "      <td>good</td>\n",
              "    </tr>\n",
              "    <tr>\n",
              "      <th>1726</th>\n",
              "      <td>low</td>\n",
              "      <td>low</td>\n",
              "      <td>5more</td>\n",
              "      <td>more</td>\n",
              "      <td>big</td>\n",
              "      <td>high</td>\n",
              "      <td>vgood</td>\n",
              "    </tr>\n",
              "  </tbody>\n",
              "</table>\n",
              "<p>1727 rows × 7 columns</p>\n",
              "</div>\n",
              "      <button class=\"colab-df-convert\" onclick=\"convertToInteractive('df-84695dd6-0667-4b4b-b6c2-f6cad95b6f21')\"\n",
              "              title=\"Convert this dataframe to an interactive table.\"\n",
              "              style=\"display:none;\">\n",
              "        \n",
              "  <svg xmlns=\"http://www.w3.org/2000/svg\" height=\"24px\"viewBox=\"0 0 24 24\"\n",
              "       width=\"24px\">\n",
              "    <path d=\"M0 0h24v24H0V0z\" fill=\"none\"/>\n",
              "    <path d=\"M18.56 5.44l.94 2.06.94-2.06 2.06-.94-2.06-.94-.94-2.06-.94 2.06-2.06.94zm-11 1L8.5 8.5l.94-2.06 2.06-.94-2.06-.94L8.5 2.5l-.94 2.06-2.06.94zm10 10l.94 2.06.94-2.06 2.06-.94-2.06-.94-.94-2.06-.94 2.06-2.06.94z\"/><path d=\"M17.41 7.96l-1.37-1.37c-.4-.4-.92-.59-1.43-.59-.52 0-1.04.2-1.43.59L10.3 9.45l-7.72 7.72c-.78.78-.78 2.05 0 2.83L4 21.41c.39.39.9.59 1.41.59.51 0 1.02-.2 1.41-.59l7.78-7.78 2.81-2.81c.8-.78.8-2.07 0-2.86zM5.41 20L4 18.59l7.72-7.72 1.47 1.35L5.41 20z\"/>\n",
              "  </svg>\n",
              "      </button>\n",
              "      \n",
              "  <style>\n",
              "    .colab-df-container {\n",
              "      display:flex;\n",
              "      flex-wrap:wrap;\n",
              "      gap: 12px;\n",
              "    }\n",
              "\n",
              "    .colab-df-convert {\n",
              "      background-color: #E8F0FE;\n",
              "      border: none;\n",
              "      border-radius: 50%;\n",
              "      cursor: pointer;\n",
              "      display: none;\n",
              "      fill: #1967D2;\n",
              "      height: 32px;\n",
              "      padding: 0 0 0 0;\n",
              "      width: 32px;\n",
              "    }\n",
              "\n",
              "    .colab-df-convert:hover {\n",
              "      background-color: #E2EBFA;\n",
              "      box-shadow: 0px 1px 2px rgba(60, 64, 67, 0.3), 0px 1px 3px 1px rgba(60, 64, 67, 0.15);\n",
              "      fill: #174EA6;\n",
              "    }\n",
              "\n",
              "    [theme=dark] .colab-df-convert {\n",
              "      background-color: #3B4455;\n",
              "      fill: #D2E3FC;\n",
              "    }\n",
              "\n",
              "    [theme=dark] .colab-df-convert:hover {\n",
              "      background-color: #434B5C;\n",
              "      box-shadow: 0px 1px 3px 1px rgba(0, 0, 0, 0.15);\n",
              "      filter: drop-shadow(0px 1px 2px rgba(0, 0, 0, 0.3));\n",
              "      fill: #FFFFFF;\n",
              "    }\n",
              "  </style>\n",
              "\n",
              "      <script>\n",
              "        const buttonEl =\n",
              "          document.querySelector('#df-84695dd6-0667-4b4b-b6c2-f6cad95b6f21 button.colab-df-convert');\n",
              "        buttonEl.style.display =\n",
              "          google.colab.kernel.accessAllowed ? 'block' : 'none';\n",
              "\n",
              "        async function convertToInteractive(key) {\n",
              "          const element = document.querySelector('#df-84695dd6-0667-4b4b-b6c2-f6cad95b6f21');\n",
              "          const dataTable =\n",
              "            await google.colab.kernel.invokeFunction('convertToInteractive',\n",
              "                                                     [key], {});\n",
              "          if (!dataTable) return;\n",
              "\n",
              "          const docLinkHtml = 'Like what you see? Visit the ' +\n",
              "            '<a target=\"_blank\" href=https://colab.research.google.com/notebooks/data_table.ipynb>data table notebook</a>'\n",
              "            + ' to learn more about interactive tables.';\n",
              "          element.innerHTML = '';\n",
              "          dataTable['output_type'] = 'display_data';\n",
              "          await google.colab.output.renderOutput(dataTable, element);\n",
              "          const docLink = document.createElement('div');\n",
              "          docLink.innerHTML = docLinkHtml;\n",
              "          element.appendChild(docLink);\n",
              "        }\n",
              "      </script>\n",
              "    </div>\n",
              "  </div>\n",
              "  "
            ]
          },
          "metadata": {},
          "execution_count": 45
        }
      ]
    },
    {
      "cell_type": "code",
      "metadata": {
        "id": "qwjBankjB9Os",
        "colab": {
          "base_uri": "https://localhost:8080/",
          "height": 545
        },
        "outputId": "4914a666-0ed4-4e13-e751-ce9951be2e21"
      },
      "source": [
        "for x in car_df.columns:\n",
        "  print(x)\n",
        "  le = preprocessing.LabelEncoder()\n",
        "  #print(le)\n",
        "  le.fit(car_df[x])\n",
        "  #print(le.fit(car_df[x]))\n",
        "  car_df[x]=le.transform(car_df[x])\n",
        " \n",
        "\n",
        "car_df"
      ],
      "execution_count": null,
      "outputs": [
        {
          "output_type": "stream",
          "name": "stdout",
          "text": [
            "vhigh\n",
            "vhigh.1\n",
            "2\n",
            "2.1\n",
            "small\n",
            "low\n",
            "unacc\n"
          ]
        },
        {
          "output_type": "execute_result",
          "data": {
            "text/plain": [
              "      vhigh  vhigh.1  2  2.1  small  low  unacc\n",
              "0         3        3  0    0      2    2      2\n",
              "1         3        3  0    0      2    0      2\n",
              "2         3        3  0    0      1    1      2\n",
              "3         3        3  0    0      1    2      2\n",
              "4         3        3  0    0      1    0      2\n",
              "...     ...      ... ..  ...    ...  ...    ...\n",
              "1722      1        1  3    2      1    2      1\n",
              "1723      1        1  3    2      1    0      3\n",
              "1724      1        1  3    2      0    1      2\n",
              "1725      1        1  3    2      0    2      1\n",
              "1726      1        1  3    2      0    0      3\n",
              "\n",
              "[1727 rows x 7 columns]"
            ],
            "text/html": [
              "\n",
              "  <div id=\"df-d52d0522-265e-48a5-a843-fa8e4845e05e\">\n",
              "    <div class=\"colab-df-container\">\n",
              "      <div>\n",
              "<style scoped>\n",
              "    .dataframe tbody tr th:only-of-type {\n",
              "        vertical-align: middle;\n",
              "    }\n",
              "\n",
              "    .dataframe tbody tr th {\n",
              "        vertical-align: top;\n",
              "    }\n",
              "\n",
              "    .dataframe thead th {\n",
              "        text-align: right;\n",
              "    }\n",
              "</style>\n",
              "<table border=\"1\" class=\"dataframe\">\n",
              "  <thead>\n",
              "    <tr style=\"text-align: right;\">\n",
              "      <th></th>\n",
              "      <th>vhigh</th>\n",
              "      <th>vhigh.1</th>\n",
              "      <th>2</th>\n",
              "      <th>2.1</th>\n",
              "      <th>small</th>\n",
              "      <th>low</th>\n",
              "      <th>unacc</th>\n",
              "    </tr>\n",
              "  </thead>\n",
              "  <tbody>\n",
              "    <tr>\n",
              "      <th>0</th>\n",
              "      <td>3</td>\n",
              "      <td>3</td>\n",
              "      <td>0</td>\n",
              "      <td>0</td>\n",
              "      <td>2</td>\n",
              "      <td>2</td>\n",
              "      <td>2</td>\n",
              "    </tr>\n",
              "    <tr>\n",
              "      <th>1</th>\n",
              "      <td>3</td>\n",
              "      <td>3</td>\n",
              "      <td>0</td>\n",
              "      <td>0</td>\n",
              "      <td>2</td>\n",
              "      <td>0</td>\n",
              "      <td>2</td>\n",
              "    </tr>\n",
              "    <tr>\n",
              "      <th>2</th>\n",
              "      <td>3</td>\n",
              "      <td>3</td>\n",
              "      <td>0</td>\n",
              "      <td>0</td>\n",
              "      <td>1</td>\n",
              "      <td>1</td>\n",
              "      <td>2</td>\n",
              "    </tr>\n",
              "    <tr>\n",
              "      <th>3</th>\n",
              "      <td>3</td>\n",
              "      <td>3</td>\n",
              "      <td>0</td>\n",
              "      <td>0</td>\n",
              "      <td>1</td>\n",
              "      <td>2</td>\n",
              "      <td>2</td>\n",
              "    </tr>\n",
              "    <tr>\n",
              "      <th>4</th>\n",
              "      <td>3</td>\n",
              "      <td>3</td>\n",
              "      <td>0</td>\n",
              "      <td>0</td>\n",
              "      <td>1</td>\n",
              "      <td>0</td>\n",
              "      <td>2</td>\n",
              "    </tr>\n",
              "    <tr>\n",
              "      <th>...</th>\n",
              "      <td>...</td>\n",
              "      <td>...</td>\n",
              "      <td>...</td>\n",
              "      <td>...</td>\n",
              "      <td>...</td>\n",
              "      <td>...</td>\n",
              "      <td>...</td>\n",
              "    </tr>\n",
              "    <tr>\n",
              "      <th>1722</th>\n",
              "      <td>1</td>\n",
              "      <td>1</td>\n",
              "      <td>3</td>\n",
              "      <td>2</td>\n",
              "      <td>1</td>\n",
              "      <td>2</td>\n",
              "      <td>1</td>\n",
              "    </tr>\n",
              "    <tr>\n",
              "      <th>1723</th>\n",
              "      <td>1</td>\n",
              "      <td>1</td>\n",
              "      <td>3</td>\n",
              "      <td>2</td>\n",
              "      <td>1</td>\n",
              "      <td>0</td>\n",
              "      <td>3</td>\n",
              "    </tr>\n",
              "    <tr>\n",
              "      <th>1724</th>\n",
              "      <td>1</td>\n",
              "      <td>1</td>\n",
              "      <td>3</td>\n",
              "      <td>2</td>\n",
              "      <td>0</td>\n",
              "      <td>1</td>\n",
              "      <td>2</td>\n",
              "    </tr>\n",
              "    <tr>\n",
              "      <th>1725</th>\n",
              "      <td>1</td>\n",
              "      <td>1</td>\n",
              "      <td>3</td>\n",
              "      <td>2</td>\n",
              "      <td>0</td>\n",
              "      <td>2</td>\n",
              "      <td>1</td>\n",
              "    </tr>\n",
              "    <tr>\n",
              "      <th>1726</th>\n",
              "      <td>1</td>\n",
              "      <td>1</td>\n",
              "      <td>3</td>\n",
              "      <td>2</td>\n",
              "      <td>0</td>\n",
              "      <td>0</td>\n",
              "      <td>3</td>\n",
              "    </tr>\n",
              "  </tbody>\n",
              "</table>\n",
              "<p>1727 rows × 7 columns</p>\n",
              "</div>\n",
              "      <button class=\"colab-df-convert\" onclick=\"convertToInteractive('df-d52d0522-265e-48a5-a843-fa8e4845e05e')\"\n",
              "              title=\"Convert this dataframe to an interactive table.\"\n",
              "              style=\"display:none;\">\n",
              "        \n",
              "  <svg xmlns=\"http://www.w3.org/2000/svg\" height=\"24px\"viewBox=\"0 0 24 24\"\n",
              "       width=\"24px\">\n",
              "    <path d=\"M0 0h24v24H0V0z\" fill=\"none\"/>\n",
              "    <path d=\"M18.56 5.44l.94 2.06.94-2.06 2.06-.94-2.06-.94-.94-2.06-.94 2.06-2.06.94zm-11 1L8.5 8.5l.94-2.06 2.06-.94-2.06-.94L8.5 2.5l-.94 2.06-2.06.94zm10 10l.94 2.06.94-2.06 2.06-.94-2.06-.94-.94-2.06-.94 2.06-2.06.94z\"/><path d=\"M17.41 7.96l-1.37-1.37c-.4-.4-.92-.59-1.43-.59-.52 0-1.04.2-1.43.59L10.3 9.45l-7.72 7.72c-.78.78-.78 2.05 0 2.83L4 21.41c.39.39.9.59 1.41.59.51 0 1.02-.2 1.41-.59l7.78-7.78 2.81-2.81c.8-.78.8-2.07 0-2.86zM5.41 20L4 18.59l7.72-7.72 1.47 1.35L5.41 20z\"/>\n",
              "  </svg>\n",
              "      </button>\n",
              "      \n",
              "  <style>\n",
              "    .colab-df-container {\n",
              "      display:flex;\n",
              "      flex-wrap:wrap;\n",
              "      gap: 12px;\n",
              "    }\n",
              "\n",
              "    .colab-df-convert {\n",
              "      background-color: #E8F0FE;\n",
              "      border: none;\n",
              "      border-radius: 50%;\n",
              "      cursor: pointer;\n",
              "      display: none;\n",
              "      fill: #1967D2;\n",
              "      height: 32px;\n",
              "      padding: 0 0 0 0;\n",
              "      width: 32px;\n",
              "    }\n",
              "\n",
              "    .colab-df-convert:hover {\n",
              "      background-color: #E2EBFA;\n",
              "      box-shadow: 0px 1px 2px rgba(60, 64, 67, 0.3), 0px 1px 3px 1px rgba(60, 64, 67, 0.15);\n",
              "      fill: #174EA6;\n",
              "    }\n",
              "\n",
              "    [theme=dark] .colab-df-convert {\n",
              "      background-color: #3B4455;\n",
              "      fill: #D2E3FC;\n",
              "    }\n",
              "\n",
              "    [theme=dark] .colab-df-convert:hover {\n",
              "      background-color: #434B5C;\n",
              "      box-shadow: 0px 1px 3px 1px rgba(0, 0, 0, 0.15);\n",
              "      filter: drop-shadow(0px 1px 2px rgba(0, 0, 0, 0.3));\n",
              "      fill: #FFFFFF;\n",
              "    }\n",
              "  </style>\n",
              "\n",
              "      <script>\n",
              "        const buttonEl =\n",
              "          document.querySelector('#df-d52d0522-265e-48a5-a843-fa8e4845e05e button.colab-df-convert');\n",
              "        buttonEl.style.display =\n",
              "          google.colab.kernel.accessAllowed ? 'block' : 'none';\n",
              "\n",
              "        async function convertToInteractive(key) {\n",
              "          const element = document.querySelector('#df-d52d0522-265e-48a5-a843-fa8e4845e05e');\n",
              "          const dataTable =\n",
              "            await google.colab.kernel.invokeFunction('convertToInteractive',\n",
              "                                                     [key], {});\n",
              "          if (!dataTable) return;\n",
              "\n",
              "          const docLinkHtml = 'Like what you see? Visit the ' +\n",
              "            '<a target=\"_blank\" href=https://colab.research.google.com/notebooks/data_table.ipynb>data table notebook</a>'\n",
              "            + ' to learn more about interactive tables.';\n",
              "          element.innerHTML = '';\n",
              "          dataTable['output_type'] = 'display_data';\n",
              "          await google.colab.output.renderOutput(dataTable, element);\n",
              "          const docLink = document.createElement('div');\n",
              "          docLink.innerHTML = docLinkHtml;\n",
              "          element.appendChild(docLink);\n",
              "        }\n",
              "      </script>\n",
              "    </div>\n",
              "  </div>\n",
              "  "
            ]
          },
          "metadata": {},
          "execution_count": 49
        }
      ]
    },
    {
      "cell_type": "code",
      "metadata": {
        "id": "W5Klx4yMCgKa"
      },
      "source": [
        "dataset = car_df.values\n",
        "X = dataset[:,0:6]\n",
        "y = np.array(dataset[:,6])\n",
        "X_train, X_test, y_train, y_test = train_test_split(X, y, test_size=0.2, random_state=19)"
      ],
      "execution_count": null,
      "outputs": []
    },
    {
      "cell_type": "code",
      "metadata": {
        "id": "1HL5ufCHDANh",
        "colab": {
          "base_uri": "https://localhost:8080/"
        },
        "outputId": "af2e4340-d62e-4333-f6cf-e275ff229210"
      },
      "source": [
        "knn = KNeighborsClassifier(n_neighbors=5)\n",
        "knn.fit(X_train, y_train)\n",
        "predictions = knn.predict(X_test)\n",
        "score = accuracy_score(y_test, predictions)\n",
        "print(\"The accuracy of the classifier on Car evaluation dataset is {:.2f} %\".format(100*score))"
      ],
      "execution_count": null,
      "outputs": [
        {
          "output_type": "stream",
          "name": "stdout",
          "text": [
            "The accuracy of the classifier on Car evaluation dataset is 89.88 %\n"
          ]
        }
      ]
    },
    {
      "cell_type": "markdown",
      "source": [
        "## TASK-3\n",
        "## Plot a Confusion Matrix for the results of the Car evaluation dataset"
      ],
      "metadata": {
        "id": "i9wBlHuo6WI8"
      }
    },
    {
      "cell_type": "code",
      "source": [
        "# print(confusion_matrix(y_test,predictions))\n",
        "pd.crosstab(y_test, predictions, rownames=['True'], colnames=['Predicted'], margins=True)"
      ],
      "metadata": {
        "colab": {
          "base_uri": "https://localhost:8080/",
          "height": 238
        },
        "id": "e1zC3kLL36l8",
        "outputId": "6588b9d1-f9bb-4de6-c95b-080b3a477f4b"
      },
      "execution_count": null,
      "outputs": [
        {
          "output_type": "execute_result",
          "data": {
            "text/plain": [
              "Predicted   0  1    2   3  All\n",
              "True                          \n",
              "0          56  2   14   0   72\n",
              "1           9  6    0   0   15\n",
              "2           3  0  239   0  242\n",
              "3           5  0    2  10   17\n",
              "All        73  8  255  10  346"
            ],
            "text/html": [
              "\n",
              "  <div id=\"df-b314c429-f8a3-4654-a172-fa2d2d9dcda8\">\n",
              "    <div class=\"colab-df-container\">\n",
              "      <div>\n",
              "<style scoped>\n",
              "    .dataframe tbody tr th:only-of-type {\n",
              "        vertical-align: middle;\n",
              "    }\n",
              "\n",
              "    .dataframe tbody tr th {\n",
              "        vertical-align: top;\n",
              "    }\n",
              "\n",
              "    .dataframe thead th {\n",
              "        text-align: right;\n",
              "    }\n",
              "</style>\n",
              "<table border=\"1\" class=\"dataframe\">\n",
              "  <thead>\n",
              "    <tr style=\"text-align: right;\">\n",
              "      <th>Predicted</th>\n",
              "      <th>0</th>\n",
              "      <th>1</th>\n",
              "      <th>2</th>\n",
              "      <th>3</th>\n",
              "      <th>All</th>\n",
              "    </tr>\n",
              "    <tr>\n",
              "      <th>True</th>\n",
              "      <th></th>\n",
              "      <th></th>\n",
              "      <th></th>\n",
              "      <th></th>\n",
              "      <th></th>\n",
              "    </tr>\n",
              "  </thead>\n",
              "  <tbody>\n",
              "    <tr>\n",
              "      <th>0</th>\n",
              "      <td>56</td>\n",
              "      <td>2</td>\n",
              "      <td>14</td>\n",
              "      <td>0</td>\n",
              "      <td>72</td>\n",
              "    </tr>\n",
              "    <tr>\n",
              "      <th>1</th>\n",
              "      <td>9</td>\n",
              "      <td>6</td>\n",
              "      <td>0</td>\n",
              "      <td>0</td>\n",
              "      <td>15</td>\n",
              "    </tr>\n",
              "    <tr>\n",
              "      <th>2</th>\n",
              "      <td>3</td>\n",
              "      <td>0</td>\n",
              "      <td>239</td>\n",
              "      <td>0</td>\n",
              "      <td>242</td>\n",
              "    </tr>\n",
              "    <tr>\n",
              "      <th>3</th>\n",
              "      <td>5</td>\n",
              "      <td>0</td>\n",
              "      <td>2</td>\n",
              "      <td>10</td>\n",
              "      <td>17</td>\n",
              "    </tr>\n",
              "    <tr>\n",
              "      <th>All</th>\n",
              "      <td>73</td>\n",
              "      <td>8</td>\n",
              "      <td>255</td>\n",
              "      <td>10</td>\n",
              "      <td>346</td>\n",
              "    </tr>\n",
              "  </tbody>\n",
              "</table>\n",
              "</div>\n",
              "      <button class=\"colab-df-convert\" onclick=\"convertToInteractive('df-b314c429-f8a3-4654-a172-fa2d2d9dcda8')\"\n",
              "              title=\"Convert this dataframe to an interactive table.\"\n",
              "              style=\"display:none;\">\n",
              "        \n",
              "  <svg xmlns=\"http://www.w3.org/2000/svg\" height=\"24px\"viewBox=\"0 0 24 24\"\n",
              "       width=\"24px\">\n",
              "    <path d=\"M0 0h24v24H0V0z\" fill=\"none\"/>\n",
              "    <path d=\"M18.56 5.44l.94 2.06.94-2.06 2.06-.94-2.06-.94-.94-2.06-.94 2.06-2.06.94zm-11 1L8.5 8.5l.94-2.06 2.06-.94-2.06-.94L8.5 2.5l-.94 2.06-2.06.94zm10 10l.94 2.06.94-2.06 2.06-.94-2.06-.94-.94-2.06-.94 2.06-2.06.94z\"/><path d=\"M17.41 7.96l-1.37-1.37c-.4-.4-.92-.59-1.43-.59-.52 0-1.04.2-1.43.59L10.3 9.45l-7.72 7.72c-.78.78-.78 2.05 0 2.83L4 21.41c.39.39.9.59 1.41.59.51 0 1.02-.2 1.41-.59l7.78-7.78 2.81-2.81c.8-.78.8-2.07 0-2.86zM5.41 20L4 18.59l7.72-7.72 1.47 1.35L5.41 20z\"/>\n",
              "  </svg>\n",
              "      </button>\n",
              "      \n",
              "  <style>\n",
              "    .colab-df-container {\n",
              "      display:flex;\n",
              "      flex-wrap:wrap;\n",
              "      gap: 12px;\n",
              "    }\n",
              "\n",
              "    .colab-df-convert {\n",
              "      background-color: #E8F0FE;\n",
              "      border: none;\n",
              "      border-radius: 50%;\n",
              "      cursor: pointer;\n",
              "      display: none;\n",
              "      fill: #1967D2;\n",
              "      height: 32px;\n",
              "      padding: 0 0 0 0;\n",
              "      width: 32px;\n",
              "    }\n",
              "\n",
              "    .colab-df-convert:hover {\n",
              "      background-color: #E2EBFA;\n",
              "      box-shadow: 0px 1px 2px rgba(60, 64, 67, 0.3), 0px 1px 3px 1px rgba(60, 64, 67, 0.15);\n",
              "      fill: #174EA6;\n",
              "    }\n",
              "\n",
              "    [theme=dark] .colab-df-convert {\n",
              "      background-color: #3B4455;\n",
              "      fill: #D2E3FC;\n",
              "    }\n",
              "\n",
              "    [theme=dark] .colab-df-convert:hover {\n",
              "      background-color: #434B5C;\n",
              "      box-shadow: 0px 1px 3px 1px rgba(0, 0, 0, 0.15);\n",
              "      filter: drop-shadow(0px 1px 2px rgba(0, 0, 0, 0.3));\n",
              "      fill: #FFFFFF;\n",
              "    }\n",
              "  </style>\n",
              "\n",
              "      <script>\n",
              "        const buttonEl =\n",
              "          document.querySelector('#df-b314c429-f8a3-4654-a172-fa2d2d9dcda8 button.colab-df-convert');\n",
              "        buttonEl.style.display =\n",
              "          google.colab.kernel.accessAllowed ? 'block' : 'none';\n",
              "\n",
              "        async function convertToInteractive(key) {\n",
              "          const element = document.querySelector('#df-b314c429-f8a3-4654-a172-fa2d2d9dcda8');\n",
              "          const dataTable =\n",
              "            await google.colab.kernel.invokeFunction('convertToInteractive',\n",
              "                                                     [key], {});\n",
              "          if (!dataTable) return;\n",
              "\n",
              "          const docLinkHtml = 'Like what you see? Visit the ' +\n",
              "            '<a target=\"_blank\" href=https://colab.research.google.com/notebooks/data_table.ipynb>data table notebook</a>'\n",
              "            + ' to learn more about interactive tables.';\n",
              "          element.innerHTML = '';\n",
              "          dataTable['output_type'] = 'display_data';\n",
              "          await google.colab.output.renderOutput(dataTable, element);\n",
              "          const docLink = document.createElement('div');\n",
              "          docLink.innerHTML = docLinkHtml;\n",
              "          element.appendChild(docLink);\n",
              "        }\n",
              "      </script>\n",
              "    </div>\n",
              "  </div>\n",
              "  "
            ]
          },
          "metadata": {},
          "execution_count": 52
        }
      ]
    },
    {
      "cell_type": "code",
      "source": [
        "from sklearn import metrics\n",
        "\n",
        "cnf_matrix = metrics.confusion_matrix(y_test, predictions)\n",
        "p = sns.heatmap(pd.DataFrame(cnf_matrix), annot=True, cmap=\"viridis\" ,fmt='g')\n",
        "plt.title('Confusion matrix', y=1.1)\n",
        "plt.ylabel('Actual label')\n",
        "plt.xlabel('Predicted label')"
      ],
      "metadata": {
        "colab": {
          "base_uri": "https://localhost:8080/",
          "height": 312
        },
        "id": "6JTSnF9j5jnb",
        "outputId": "df2899b1-3e83-4b41-f99a-0b61033b5907"
      },
      "execution_count": null,
      "outputs": [
        {
          "output_type": "execute_result",
          "data": {
            "text/plain": [
              "Text(0.5, 15.0, 'Predicted label')"
            ]
          },
          "metadata": {},
          "execution_count": 54
        },
        {
          "output_type": "display_data",
          "data": {
            "text/plain": [
              "<Figure size 432x288 with 2 Axes>"
            ],
            "image/png": "[encoded data removed]"
          },
          "metadata": {
            "needs_background": "light"
          }
        }
      ]
    },
    {
      "cell_type": "markdown",
      "source": [
        "### TASK-4\n",
        "## Print a Classification Report for the results of the Car evaluation dataset"
      ],
      "metadata": {
        "id": "-MKt1hNF6SpI"
      }
    },
    {
      "cell_type": "code",
      "source": [
        "#import classification_report\n",
        "from sklearn.metrics import classification_report\n",
        "print(classification_report(y_test,predictions))"
      ],
      "metadata": {
        "colab": {
          "base_uri": "https://localhost:8080/"
        },
        "id": "YDMxEH8c4bzY",
        "outputId": "6bd2bd46-7ee4-4cee-b0dd-40f83c2be152"
      },
      "execution_count": null,
      "outputs": [
        {
          "output_type": "stream",
          "name": "stdout",
          "text": [
            "              precision    recall  f1-score   support\n",
            "\n",
            "           0       0.77      0.78      0.77        72\n",
            "           1       0.75      0.40      0.52        15\n",
            "           2       0.94      0.99      0.96       242\n",
            "           3       1.00      0.59      0.74        17\n",
            "\n",
            "    accuracy                           0.90       346\n",
            "   macro avg       0.86      0.69      0.75       346\n",
            "weighted avg       0.90      0.90      0.89       346\n",
            "\n"
          ]
        }
      ]
    },
    {
      "cell_type": "markdown",
      "metadata": {
        "id": "xr9dI1Kqsprz"
      },
      "source": [
        "### Questions to Think About and Answer\n",
        "1. In the section on Decision boundaries, you must have seen that we ran the KNN algorithm twice: first with the _weights_ set to 'uniform' and then set to 'distance'. Find out the difference between these two.  \n",
        "2. What do you think could be the drawbacks of using KNN ?"
      ]
    },
    {
      "cell_type": "markdown",
      "source": [
        "#1.In the section on Decision boundaries, you must have seen that we ran the KNN algorithm twice: first with the weights set to 'uniform' and then set to 'distance'. Find out the difference between these two.\n",
        "\n"
      ],
      "metadata": {
        "id": "VzmYGfed-zNT"
      }
    },
    {
      "cell_type": "markdown",
      "source": [
        "#2.\n",
        " What do you think could be the drawbacks of using KNN ?\n",
        "Doesn't work well with a large dataset:\n",
        "\n",
        "Since KNN is a distance-based algorithm, the cost of calculating distance between a new point and each existing point is very high which in turn degrades the performance of the algorithm"
      ],
      "metadata": {
        "id": "DTKnx2u1-m41"
      }
    },
    {
      "cell_type": "markdown",
      "metadata": {
        "id": "TRlrn4EctZrC"
      },
      "source": [
        "### Useful Resources for further reading\n",
        "1. Interactive KNN visualization, with class boundaries: http://vision.stanford.edu/teaching/cs231n-demos/knn/  \n"
      ]
    }
  ]
}