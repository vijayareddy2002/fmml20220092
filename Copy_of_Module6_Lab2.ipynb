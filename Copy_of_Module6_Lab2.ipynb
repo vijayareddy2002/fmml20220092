{
  "nbformat": 4,
  "nbformat_minor": 0,
  "metadata": {
    "colab": {
      "provenance": [],
      "include_colab_link": true
    },
    "kernelspec": {
      "name": "python3",
      "display_name": "Python 3"
    },
    "language_info": {
      "name": "python"
    }
  },
  "cells": [
    {
      "cell_type": "markdown",
      "metadata": {
        "id": "view-in-github",
        "colab_type": "text"
      },
      "source": [
        "<a href=\"https://colab.research.google.com/github/vijayareddy2002/fmml20220092/blob/main/Copy_of_Module6_Lab2.ipynb\" target=\"_parent\"><img src=\"https://colab.research.google.com/assets/colab-badge.svg\" alt=\"Open In Colab\"/></a>"
      ]
    },
    {
      "cell_type": "markdown",
      "metadata": {
        "id": "H-Cp5UaReiof"
      },
      "source": [
        "#Regression Lab 2: Loss Functions\n"
      ]
    },
    {
      "cell_type": "markdown",
      "source": [
        "\n",
        "```\n",
        "Module Coordinator : Sajal Khandelwal\n",
        "```\n"
      ],
      "metadata": {
        "id": "TSBLUen_aWef"
      }
    },
    {
      "cell_type": "markdown",
      "metadata": {
        "id": "rbxg8WQcetL2"
      },
      "source": [
        "## Motivation\n",
        "\n",
        "The main goal of machine learning tasks is to \"learn\" something about data we feed to our models. But how does the model actually learn anything? To understand this, we need to first understand what objective functions are.\n",
        "\n",
        "Mathematically, objective functions are a function whose values we desire to minimize/maximize. In the context of machine learning, the objective is commonly referred to as a **loss function**. Loss functions indicate how well the model is doing on the dataset. \n",
        "\n",
        "The value of the objective function is simply called **loss**. Our goal is to eventually find the best model parameters that has the least average loss on the data after training.\n",
        "\n",
        "\n",
        "We are familiar with the idea of **error** from the linear regression lab. RMSE is a common loss function used in machine learning. However, there are many other loss functions employed, depending on what the task is (classification, regression etc.). In this lab, we will take a look at some common loss functions, and understand why they are used where they are.\n"
      ]
    },
    {
      "cell_type": "code",
      "metadata": {
        "id": "Q_TjX0v1Upyt"
      },
      "source": [
        "import numpy as np\n",
        "import matplotlib.pyplot as plt\n",
        "plt.style.use('ggplot')\n",
        "\n",
        "# interactive visualization"
      ],
      "execution_count": null,
      "outputs": []
    },
    {
      "cell_type": "markdown",
      "metadata": {
        "id": "o9lGgMhd9hAX"
      },
      "source": [
        "# 1. Regression\n"
      ]
    },
    {
      "cell_type": "code",
      "metadata": {
        "id": "f9qiER5ef8Sh",
        "colab": {
          "base_uri": "https://localhost:8080/",
          "height": 430
        },
        "outputId": "31f2a82a-4ed7-4ac7-9750-93b3122dc353"
      },
      "source": [
        "# initializing random data\n",
        "\n",
        "np.random.seed(0)\n",
        "x = np.linspace(0,100,100)\n",
        "y_actual = np.copy(x)\n",
        "y_pred = x + np.random.randint(-10,10,100)\n",
        "\n",
        "plt.plot(x,y_actual,color=\"red\")\n",
        "plt.scatter(x,y_pred,color=\"blue\")\n",
        "plt.show()"
      ],
      "execution_count": null,
      "outputs": [
        {
          "output_type": "display_data",
          "data": {
            "text/plain": [
              "<Figure size 640x480 with 1 Axes>"
            ],
            "image/png": "[encoded data removed]"
          },
          "metadata": {}
        }
      ]
    },
    {
      "cell_type": "markdown",
      "metadata": {
        "id": "JAOKu9cGhf7t"
      },
      "source": [
        "### Mean Squared Error\n",
        "\n",
        "As we have seen before, the formula for MSE is \n",
        "\n",
        "$MSE = \\frac{1}{m} \\sum_{i=1}^n (y-y_p)^2$\n",
        "\n",
        "The image below depicts a visualization of what the squared error is. \n",
        "\n",
        "<img src=\"https://drive.google.com/uc?export=view&id=12jmqRrrqknIWKhwRpgRIJAErBjkEcyx9\" width=\"350\" height=\"350\" align=\"middle\"/>\n",
        "\n",
        "MSE is also referred to as L2 loss.\n",
        "\n",
        "Typically, we would want the units of error to be the same as the data, so we use Root Mean Squared Error instead.\n",
        "\n"
      ]
    },
    {
      "cell_type": "code",
      "metadata": {
        "colab": {
          "base_uri": "https://localhost:8080/"
        },
        "id": "y0KIs1xP2AbG",
        "outputId": "7e2ae723-5492-4671-f149-b4449b5f484b"
      },
      "source": [
        "mse = np.mean((y_actual-y_pred)**2)\n",
        "print(\"MSE is: {}\".format(mse))\n",
        "print(\"RMSE is: {}\".format(np.sqrt(mse)))"
      ],
      "execution_count": null,
      "outputs": [
        {
          "output_type": "stream",
          "name": "stdout",
          "text": [
            "MSE is: 38.68\n",
            "RMSE is: 6.219324722186485\n"
          ]
        }
      ]
    },
    {
      "cell_type": "markdown",
      "metadata": {
        "id": "05Gx5pbfhk3P"
      },
      "source": [
        "### Mean Absolute Error\n",
        "\n",
        "$MAE = \\frac{1}{m} \\sum_{i=1}^n |y-y_p|$\n",
        "\n",
        "MAE is also commonly referred to as L1 loss."
      ]
    },
    {
      "cell_type": "code",
      "metadata": {
        "id": "PfqvIN2ThjWO",
        "colab": {
          "base_uri": "https://localhost:8080/"
        },
        "outputId": "afd99dc7-7555-4137-8e04-6020fd21d134"
      },
      "source": [
        "mae = np.mean(np.abs(y_actual-y_pred))\n",
        "print(\"MAE is: {}\".format(mae))"
      ],
      "execution_count": null,
      "outputs": [
        {
          "output_type": "stream",
          "name": "stdout",
          "text": [
            "MAE is: 5.5\n"
          ]
        }
      ]
    },
    {
      "cell_type": "markdown",
      "metadata": {
        "id": "4j7VlwmH4WVU"
      },
      "source": [
        "MSE penalizes the model for making large errors by squaring the difference. However, this also means that MSE cannot handle outliers well, since they would throw the model off.\n",
        "\n",
        "On the other hand, MAE is robust to outliers. But, MAE is non-differentiable, making it difficult to perform mathematical operations on it.\n",
        "\n",
        "Hence, RMSE is most commonly used as a metric for evaluation."
      ]
    },
    {
      "cell_type": "markdown",
      "metadata": {
        "id": "buXwWqWjhT_9"
      },
      "source": [
        "# 2. Classification\n",
        "\n",
        "Classification tasks involve some data, along with labels assigned to that data. For example, we may have pictures of cats and dogs, and the corresponding labels assigned to those images. We then want to train a model that can predict a label for some input image belonging to either label class (cat or dog)."
      ]
    },
    {
      "cell_type": "markdown",
      "metadata": {
        "id": "qiJUcm4vhthC"
      },
      "source": [
        "## The concept of maximum likelihood\n",
        "\n",
        "Ideally, we would want to obtain a model $\\hat{\\theta}$ which maximizes the probability of correctly predicting data. Mathematically, the likelihood is:\n",
        "\n",
        "$ \\prod_{i=1}^{N}  \\: \\hat{\\theta_i}^{\\theta_i}$\n",
        "\n",
        "This is because our actual data ($\\theta_i$) is either 0 or 1 depending on the label of the data, and our predicted data ($\\hat{\\theta_i}$) is a probability. \n",
        "\n",
        "We usually consider the negative log of the likelihood, since log is monotonic and easier to deal with as an optimization problem.\n",
        "\n",
        "Hence, we have\n",
        "\n",
        "$MLE = $ arg min $\\: - \\sum_{i=1}^{N} \\theta_i \\: log \\: \\hat{\\theta_i}$\n",
        "\n",
        "\\\n",
        "\n",
        "\n",
        "## Entropy and Cross-Entropy\n",
        "\n",
        "For some event $x$, we can obtain **information** based on its probability distribution. For example, for some event that occurs with $p=1$, we gain no information. Now, if we flip a coin and see that we obtained heads, we say that we got 1 bit of information. \n",
        "\n",
        "Thus, the information $I$ of some event $x$ is:\n",
        "\n",
        "$I = -log_2 \\: p(x)$\n",
        "\n",
        "We say that events with a low probability of occuring give high information, and those with a low probability give low information.\n",
        "\n",
        "Now, if we have some random variable $X$, its **entropy** is the expected value of the information obtained.\n",
        "\n",
        "$H(x) = - \\sum_{k} p_k \\: log \\: p_k$\n",
        "\n",
        "Now, suppose we are trying to correctly predict labels of some data. Let P be the true distribution of the labels, and Q be the predicted distribution of labels. \n",
        "\n",
        "Cross-Entropy is then defined as:\n",
        "\n",
        "$H(P,Q) = - \\sum_{x} P(x)\\: log \\: Q(x)$\n",
        "\n",
        "which is basically the entropy between two probability distributions over the same events.\n",
        "\n",
        "\\\n",
        "\n",
        "\n",
        "## MLE and Cross-Entropy\n",
        "\n",
        "So, in the case of classification, the equation for minimization of the cross-entropy between the actual data and the predicted data would be:\n",
        "\n",
        "arg min $\\: -\\sum_{i=1}^{N} P(x) \\: log \\: Q(x)$\n",
        "\n",
        "$= $ arg min $\\: -\\sum_{i=1}^{N} \\theta_i \\: log \\: \\hat{\\theta_i}$\n",
        "\n",
        "\n",
        "which is exactly the same as what we had obtained for minimizing the negative log likelihood. Hence, the two problems are equivalent."
      ]
    },
    {
      "cell_type": "markdown",
      "source": [
        "1/1+e^(-x)"
      ],
      "metadata": {
        "id": "UyJN_UiEbbch"
      }
    },
    {
      "cell_type": "code",
      "metadata": {
        "id": "mLKuJyHth5-4",
        "colab": {
          "base_uri": "https://localhost:8080/",
          "height": 441
        },
        "outputId": "a815a00e-942c-4cfd-be6e-ef846bff6778"
      },
      "source": [
        "def sigmoid(z):\n",
        "  return 1/(1 + np.exp(-z))\n",
        "\n",
        "def cross_entropy_loss(y_,y):\n",
        "  if y==1:\n",
        "    return -np.log(y_)\n",
        "  \n",
        "  return -np.log(1-y_)\n",
        "\n",
        "z = np.arange(-10, 10, 0.1)\n",
        "h_z = sigmoid(z)\n",
        "\n",
        "cost_1 = cross_entropy_loss(h_z, 1)\n",
        "cost_0 = cross_entropy_loss(h_z, 0)\n",
        "\n",
        "fig, ax = plt.subplots(figsize=(8,6))\n",
        "plt.plot(h_z, cost_1, label='y=1')\n",
        "plt.plot(h_z, cost_0, label='y=0')\n",
        "plt.xlabel('predicted probability')\n",
        "plt.ylabel('loss')\n",
        "plt.legend(loc='best')\n",
        "plt.tight_layout()\n",
        "plt.show()"
      ],
      "execution_count": null,
      "outputs": [
        {
          "output_type": "display_data",
          "data": {
            "text/plain": [
              "<Figure size 576x432 with 1 Axes>"
            ],
            "image/png": "[encoded data removed]"
          },
          "metadata": {}
        }
      ]
    },
    {
      "cell_type": "markdown",
      "source": [
        "## KNN-regression\n",
        "\n",
        "Till now, we have studied KNN as a classification algorithm, which uses feature similarity and voting to decide the class labels of unseen data. \n",
        "\n",
        "For regression, we use the same idea: We take the y-values of the k nearest neighbours, and compute their average, which is our predicted y-value. We do this for every x whose value we want to predict.\n",
        "\n",
        "In the visualization below, we have k=3, and the red dots are the new x-values whose output we want to predict.\n",
        "\n",
        "![image.png](data:image/png;base64,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)"
      ],
      "metadata": {
        "id": "f42L9ZmuWVIQ"
      }
    },
    {
      "cell_type": "code",
      "source": [
        "from sklearn import neighbors\n",
        "from sklearn.metrics import mean_squared_error \n",
        "from math import sqrt\n",
        "import matplotlib.pyplot as plt\n",
        "import pandas as pd\n",
        "from sklearn.model_selection import train_test_split\n",
        "from sklearn.preprocessing import MinMaxScaler\n",
        "import numpy as np"
      ],
      "metadata": {
        "id": "cQIX2HoAbqqD"
      },
      "execution_count": null,
      "outputs": []
    },
    {
      "cell_type": "code",
      "source": [
        "train_path = \"https://raw.githubusercontent.com/PranavTadimeti/Regression-lab2/main/BigMart-train.csv\"\n",
        "\n",
        "train = pd.read_csv(train_path)"
      ],
      "metadata": {
        "id": "VLMVfcylWlWB"
      },
      "execution_count": null,
      "outputs": []
    },
    {
      "cell_type": "code",
      "source": [
        "train"
      ],
      "metadata": {
        "colab": {
          "base_uri": "https://localhost:8080/",
          "height": 661
        },
        "id": "uX7BYyDt1NfL",
        "outputId": "b833ce14-a540-4542-f291-9b92fce4e2f9"
      },
      "execution_count": null,
      "outputs": [
        {
          "output_type": "execute_result",
          "data": {
            "text/plain": [
              "     Item_Identifier  Item_Weight Item_Fat_Content  Item_Visibility  \\\n",
              "0              FDA15        9.300          Low Fat         0.016047   \n",
              "1              DRC01        5.920          Regular         0.019278   \n",
              "2              FDN15       17.500          Low Fat         0.016760   \n",
              "3              FDX07       19.200          Regular         0.000000   \n",
              "4              NCD19        8.930          Low Fat         0.000000   \n",
              "...              ...          ...              ...              ...   \n",
              "8518           FDF22        6.865          Low Fat         0.056783   \n",
              "8519           FDS36        8.380          Regular         0.046982   \n",
              "8520           NCJ29       10.600          Low Fat         0.035186   \n",
              "8521           FDN46        7.210          Regular         0.145221   \n",
              "8522           DRG01       14.800          Low Fat         0.044878   \n",
              "\n",
              "                  Item_Type  Item_MRP Outlet_Identifier  \\\n",
              "0                     Dairy  249.8092            OUT049   \n",
              "1               Soft Drinks   48.2692            OUT018   \n",
              "2                      Meat  141.6180            OUT049   \n",
              "3     Fruits and Vegetables  182.0950            OUT010   \n",
              "4                 Household   53.8614            OUT013   \n",
              "...                     ...       ...               ...   \n",
              "8518            Snack Foods  214.5218            OUT013   \n",
              "8519           Baking Goods  108.1570            OUT045   \n",
              "8520     Health and Hygiene   85.1224            OUT035   \n",
              "8521            Snack Foods  103.1332            OUT018   \n",
              "8522            Soft Drinks   75.4670            OUT046   \n",
              "\n",
              "      Outlet_Establishment_Year Outlet_Size Outlet_Location_Type  \\\n",
              "0                          1999      Medium               Tier 1   \n",
              "1                          2009      Medium               Tier 3   \n",
              "2                          1999      Medium               Tier 1   \n",
              "3                          1998         NaN               Tier 3   \n",
              "4                          1987        High               Tier 3   \n",
              "...                         ...         ...                  ...   \n",
              "8518                       1987        High               Tier 3   \n",
              "8519                       2002         NaN               Tier 2   \n",
              "8520                       2004       Small               Tier 2   \n",
              "8521                       2009      Medium               Tier 3   \n",
              "8522                       1997       Small               Tier 1   \n",
              "\n",
              "            Outlet_Type  Item_Outlet_Sales  \n",
              "0     Supermarket Type1          3735.1380  \n",
              "1     Supermarket Type2           443.4228  \n",
              "2     Supermarket Type1          2097.2700  \n",
              "3         Grocery Store           732.3800  \n",
              "4     Supermarket Type1           994.7052  \n",
              "...                 ...                ...  \n",
              "8518  Supermarket Type1          2778.3834  \n",
              "8519  Supermarket Type1           549.2850  \n",
              "8520  Supermarket Type1          1193.1136  \n",
              "8521  Supermarket Type2          1845.5976  \n",
              "8522  Supermarket Type1           765.6700  \n",
              "\n",
              "[8523 rows x 12 columns]"
            ],
            "text/html": [
              "\n",
              "  <div id=\"df-ce1d015b-a51a-4bac-8846-0db789ebb5a4\">\n",
              "    <div class=\"colab-df-container\">\n",
              "      <div>\n",
              "<style scoped>\n",
              "    .dataframe tbody tr th:only-of-type {\n",
              "        vertical-align: middle;\n",
              "    }\n",
              "\n",
              "    .dataframe tbody tr th {\n",
              "        vertical-align: top;\n",
              "    }\n",
              "\n",
              "    .dataframe thead th {\n",
              "        text-align: right;\n",
              "    }\n",
              "</style>\n",
              "<table border=\"1\" class=\"dataframe\">\n",
              "  <thead>\n",
              "    <tr style=\"text-align: right;\">\n",
              "      <th></th>\n",
              "      <th>Item_Identifier</th>\n",
              "      <th>Item_Weight</th>\n",
              "      <th>Item_Fat_Content</th>\n",
              "      <th>Item_Visibility</th>\n",
              "      <th>Item_Type</th>\n",
              "      <th>Item_MRP</th>\n",
              "      <th>Outlet_Identifier</th>\n",
              "      <th>Outlet_Establishment_Year</th>\n",
              "      <th>Outlet_Size</th>\n",
              "      <th>Outlet_Location_Type</th>\n",
              "      <th>Outlet_Type</th>\n",
              "      <th>Item_Outlet_Sales</th>\n",
              "    </tr>\n",
              "  </thead>\n",
              "  <tbody>\n",
              "    <tr>\n",
              "      <th>0</th>\n",
              "      <td>FDA15</td>\n",
              "      <td>9.300</td>\n",
              "      <td>Low Fat</td>\n",
              "      <td>0.016047</td>\n",
              "      <td>Dairy</td>\n",
              "      <td>249.8092</td>\n",
              "      <td>OUT049</td>\n",
              "      <td>1999</td>\n",
              "      <td>Medium</td>\n",
              "      <td>Tier 1</td>\n",
              "      <td>Supermarket Type1</td>\n",
              "      <td>3735.1380</td>\n",
              "    </tr>\n",
              "    <tr>\n",
              "      <th>1</th>\n",
              "      <td>DRC01</td>\n",
              "      <td>5.920</td>\n",
              "      <td>Regular</td>\n",
              "      <td>0.019278</td>\n",
              "      <td>Soft Drinks</td>\n",
              "      <td>48.2692</td>\n",
              "      <td>OUT018</td>\n",
              "      <td>2009</td>\n",
              "      <td>Medium</td>\n",
              "      <td>Tier 3</td>\n",
              "      <td>Supermarket Type2</td>\n",
              "      <td>443.4228</td>\n",
              "    </tr>\n",
              "    <tr>\n",
              "      <th>2</th>\n",
              "      <td>FDN15</td>\n",
              "      <td>17.500</td>\n",
              "      <td>Low Fat</td>\n",
              "      <td>0.016760</td>\n",
              "      <td>Meat</td>\n",
              "      <td>141.6180</td>\n",
              "      <td>OUT049</td>\n",
              "      <td>1999</td>\n",
              "      <td>Medium</td>\n",
              "      <td>Tier 1</td>\n",
              "      <td>Supermarket Type1</td>\n",
              "      <td>2097.2700</td>\n",
              "    </tr>\n",
              "    <tr>\n",
              "      <th>3</th>\n",
              "      <td>FDX07</td>\n",
              "      <td>19.200</td>\n",
              "      <td>Regular</td>\n",
              "      <td>0.000000</td>\n",
              "      <td>Fruits and Vegetables</td>\n",
              "      <td>182.0950</td>\n",
              "      <td>OUT010</td>\n",
              "      <td>1998</td>\n",
              "      <td>NaN</td>\n",
              "      <td>Tier 3</td>\n",
              "      <td>Grocery Store</td>\n",
              "      <td>732.3800</td>\n",
              "    </tr>\n",
              "    <tr>\n",
              "      <th>4</th>\n",
              "      <td>NCD19</td>\n",
              "      <td>8.930</td>\n",
              "      <td>Low Fat</td>\n",
              "      <td>0.000000</td>\n",
              "      <td>Household</td>\n",
              "      <td>53.8614</td>\n",
              "      <td>OUT013</td>\n",
              "      <td>1987</td>\n",
              "      <td>High</td>\n",
              "      <td>Tier 3</td>\n",
              "      <td>Supermarket Type1</td>\n",
              "      <td>994.7052</td>\n",
              "    </tr>\n",
              "    <tr>\n",
              "      <th>...</th>\n",
              "      <td>...</td>\n",
              "      <td>...</td>\n",
              "      <td>...</td>\n",
              "      <td>...</td>\n",
              "      <td>...</td>\n",
              "      <td>...</td>\n",
              "      <td>...</td>\n",
              "      <td>...</td>\n",
              "      <td>...</td>\n",
              "      <td>...</td>\n",
              "      <td>...</td>\n",
              "      <td>...</td>\n",
              "    </tr>\n",
              "    <tr>\n",
              "      <th>8518</th>\n",
              "      <td>FDF22</td>\n",
              "      <td>6.865</td>\n",
              "      <td>Low Fat</td>\n",
              "      <td>0.056783</td>\n",
              "      <td>Snack Foods</td>\n",
              "      <td>214.5218</td>\n",
              "      <td>OUT013</td>\n",
              "      <td>1987</td>\n",
              "      <td>High</td>\n",
              "      <td>Tier 3</td>\n",
              "      <td>Supermarket Type1</td>\n",
              "      <td>2778.3834</td>\n",
              "    </tr>\n",
              "    <tr>\n",
              "      <th>8519</th>\n",
              "      <td>FDS36</td>\n",
              "      <td>8.380</td>\n",
              "      <td>Regular</td>\n",
              "      <td>0.046982</td>\n",
              "      <td>Baking Goods</td>\n",
              "      <td>108.1570</td>\n",
              "      <td>OUT045</td>\n",
              "      <td>2002</td>\n",
              "      <td>NaN</td>\n",
              "      <td>Tier 2</td>\n",
              "      <td>Supermarket Type1</td>\n",
              "      <td>549.2850</td>\n",
              "    </tr>\n",
              "    <tr>\n",
              "      <th>8520</th>\n",
              "      <td>NCJ29</td>\n",
              "      <td>10.600</td>\n",
              "      <td>Low Fat</td>\n",
              "      <td>0.035186</td>\n",
              "      <td>Health and Hygiene</td>\n",
              "      <td>85.1224</td>\n",
              "      <td>OUT035</td>\n",
              "      <td>2004</td>\n",
              "      <td>Small</td>\n",
              "      <td>Tier 2</td>\n",
              "      <td>Supermarket Type1</td>\n",
              "      <td>1193.1136</td>\n",
              "    </tr>\n",
              "    <tr>\n",
              "      <th>8521</th>\n",
              "      <td>FDN46</td>\n",
              "      <td>7.210</td>\n",
              "      <td>Regular</td>\n",
              "      <td>0.145221</td>\n",
              "      <td>Snack Foods</td>\n",
              "      <td>103.1332</td>\n",
              "      <td>OUT018</td>\n",
              "      <td>2009</td>\n",
              "      <td>Medium</td>\n",
              "      <td>Tier 3</td>\n",
              "      <td>Supermarket Type2</td>\n",
              "      <td>1845.5976</td>\n",
              "    </tr>\n",
              "    <tr>\n",
              "      <th>8522</th>\n",
              "      <td>DRG01</td>\n",
              "      <td>14.800</td>\n",
              "      <td>Low Fat</td>\n",
              "      <td>0.044878</td>\n",
              "      <td>Soft Drinks</td>\n",
              "      <td>75.4670</td>\n",
              "      <td>OUT046</td>\n",
              "      <td>1997</td>\n",
              "      <td>Small</td>\n",
              "      <td>Tier 1</td>\n",
              "      <td>Supermarket Type1</td>\n",
              "      <td>765.6700</td>\n",
              "    </tr>\n",
              "  </tbody>\n",
              "</table>\n",
              "<p>8523 rows × 12 columns</p>\n",
              "</div>\n",
              "      <button class=\"colab-df-convert\" onclick=\"convertToInteractive('df-ce1d015b-a51a-4bac-8846-0db789ebb5a4')\"\n",
              "              title=\"Convert this dataframe to an interactive table.\"\n",
              "              style=\"display:none;\">\n",
              "        \n",
              "  <svg xmlns=\"http://www.w3.org/2000/svg\" height=\"24px\"viewBox=\"0 0 24 24\"\n",
              "       width=\"24px\">\n",
              "    <path d=\"M0 0h24v24H0V0z\" fill=\"none\"/>\n",
              "    <path d=\"M18.56 5.44l.94 2.06.94-2.06 2.06-.94-2.06-.94-.94-2.06-.94 2.06-2.06.94zm-11 1L8.5 8.5l.94-2.06 2.06-.94-2.06-.94L8.5 2.5l-.94 2.06-2.06.94zm10 10l.94 2.06.94-2.06 2.06-.94-2.06-.94-.94-2.06-.94 2.06-2.06.94z\"/><path d=\"M17.41 7.96l-1.37-1.37c-.4-.4-.92-.59-1.43-.59-.52 0-1.04.2-1.43.59L10.3 9.45l-7.72 7.72c-.78.78-.78 2.05 0 2.83L4 21.41c.39.39.9.59 1.41.59.51 0 1.02-.2 1.41-.59l7.78-7.78 2.81-2.81c.8-.78.8-2.07 0-2.86zM5.41 20L4 18.59l7.72-7.72 1.47 1.35L5.41 20z\"/>\n",
              "  </svg>\n",
              "      </button>\n",
              "      \n",
              "  <style>\n",
              "    .colab-df-container {\n",
              "      display:flex;\n",
              "      flex-wrap:wrap;\n",
              "      gap: 12px;\n",
              "    }\n",
              "\n",
              "    .colab-df-convert {\n",
              "      background-color: #E8F0FE;\n",
              "      border: none;\n",
              "      border-radius: 50%;\n",
              "      cursor: pointer;\n",
              "      display: none;\n",
              "      fill: #1967D2;\n",
              "      height: 32px;\n",
              "      padding: 0 0 0 0;\n",
              "      width: 32px;\n",
              "    }\n",
              "\n",
              "    .colab-df-convert:hover {\n",
              "      background-color: #E2EBFA;\n",
              "      box-shadow: 0px 1px 2px rgba(60, 64, 67, 0.3), 0px 1px 3px 1px rgba(60, 64, 67, 0.15);\n",
              "      fill: #174EA6;\n",
              "    }\n",
              "\n",
              "    [theme=dark] .colab-df-convert {\n",
              "      background-color: #3B4455;\n",
              "      fill: #D2E3FC;\n",
              "    }\n",
              "\n",
              "    [theme=dark] .colab-df-convert:hover {\n",
              "      background-color: #434B5C;\n",
              "      box-shadow: 0px 1px 3px 1px rgba(0, 0, 0, 0.15);\n",
              "      filter: drop-shadow(0px 1px 2px rgba(0, 0, 0, 0.3));\n",
              "      fill: #FFFFFF;\n",
              "    }\n",
              "  </style>\n",
              "\n",
              "      <script>\n",
              "        const buttonEl =\n",
              "          document.querySelector('#df-ce1d015b-a51a-4bac-8846-0db789ebb5a4 button.colab-df-convert');\n",
              "        buttonEl.style.display =\n",
              "          google.colab.kernel.accessAllowed ? 'block' : 'none';\n",
              "\n",
              "        async function convertToInteractive(key) {\n",
              "          const element = document.querySelector('#df-ce1d015b-a51a-4bac-8846-0db789ebb5a4');\n",
              "          const dataTable =\n",
              "            await google.colab.kernel.invokeFunction('convertToInteractive',\n",
              "                                                     [key], {});\n",
              "          if (!dataTable) return;\n",
              "\n",
              "          const docLinkHtml = 'Like what you see? Visit the ' +\n",
              "            '<a target=\"_blank\" href=https://colab.research.google.com/notebooks/data_table.ipynb>data table notebook</a>'\n",
              "            + ' to learn more about interactive tables.';\n",
              "          element.innerHTML = '';\n",
              "          dataTable['output_type'] = 'display_data';\n",
              "          await google.colab.output.renderOutput(dataTable, element);\n",
              "          const docLink = document.createElement('div');\n",
              "          docLink.innerHTML = docLinkHtml;\n",
              "          element.appendChild(docLink);\n",
              "        }\n",
              "      </script>\n",
              "    </div>\n",
              "  </div>\n",
              "  "
            ]
          },
          "metadata": {},
          "execution_count": 7
        }
      ]
    },
    {
      "cell_type": "code",
      "source": [
        "# Preprocess Data\n",
        "\n",
        "def preprocess(df):\n",
        "  mean_weight = df['Item_Weight'].mean()\n",
        "  df['Item_Weight'].fillna(mean_weight,inplace=True)\n",
        "\n",
        "  mode_size = df['Outlet_Size'].mode()\n",
        "  df['Outlet_Size'].fillna(mode_size,inplace=True)\n",
        "\n",
        "  df.drop(['Item_Identifier','Outlet_Identifier'],axis=1,inplace=True)\n",
        "\n",
        "  return pd.get_dummies(df)\n",
        "\n",
        "train = preprocess(train)\n",
        "\n",
        "train.head()"
      ],
      "metadata": {
        "colab": {
          "base_uri": "https://localhost:8080/",
          "height": 317
        },
        "id": "bkMzDwYaYTlQ",
        "outputId": "f7721630-3e48-47cc-d995-b3c977ab6ce4"
      },
      "execution_count": null,
      "outputs": [
        {
          "output_type": "execute_result",
          "data": {
            "text/plain": [
              "   Item_Weight  Item_Visibility  Item_MRP  Outlet_Establishment_Year  \\\n",
              "0         9.30         0.016047  249.8092                       1999   \n",
              "1         5.92         0.019278   48.2692                       2009   \n",
              "2        17.50         0.016760  141.6180                       1999   \n",
              "3        19.20         0.000000  182.0950                       1998   \n",
              "4         8.93         0.000000   53.8614                       1987   \n",
              "\n",
              "   Item_Outlet_Sales  Item_Fat_Content_LF  Item_Fat_Content_Low Fat  \\\n",
              "0          3735.1380                    0                         1   \n",
              "1           443.4228                    0                         0   \n",
              "2          2097.2700                    0                         1   \n",
              "3           732.3800                    0                         0   \n",
              "4           994.7052                    0                         1   \n",
              "\n",
              "   Item_Fat_Content_Regular  Item_Fat_Content_low fat  Item_Fat_Content_reg  \\\n",
              "0                         0                         0                     0   \n",
              "1                         1                         0                     0   \n",
              "2                         0                         0                     0   \n",
              "3                         1                         0                     0   \n",
              "4                         0                         0                     0   \n",
              "\n",
              "   ...  Outlet_Size_High  Outlet_Size_Medium  Outlet_Size_Small  \\\n",
              "0  ...                 0                   1                  0   \n",
              "1  ...                 0                   1                  0   \n",
              "2  ...                 0                   1                  0   \n",
              "3  ...                 0                   0                  0   \n",
              "4  ...                 1                   0                  0   \n",
              "\n",
              "   Outlet_Location_Type_Tier 1  Outlet_Location_Type_Tier 2  \\\n",
              "0                            1                            0   \n",
              "1                            0                            0   \n",
              "2                            1                            0   \n",
              "3                            0                            0   \n",
              "4                            0                            0   \n",
              "\n",
              "   Outlet_Location_Type_Tier 3  Outlet_Type_Grocery Store  \\\n",
              "0                            0                          0   \n",
              "1                            1                          0   \n",
              "2                            0                          0   \n",
              "3                            1                          1   \n",
              "4                            1                          0   \n",
              "\n",
              "   Outlet_Type_Supermarket Type1  Outlet_Type_Supermarket Type2  \\\n",
              "0                              1                              0   \n",
              "1                              0                              1   \n",
              "2                              1                              0   \n",
              "3                              0                              0   \n",
              "4                              1                              0   \n",
              "\n",
              "   Outlet_Type_Supermarket Type3  \n",
              "0                              0  \n",
              "1                              0  \n",
              "2                              0  \n",
              "3                              0  \n",
              "4                              0  \n",
              "\n",
              "[5 rows x 36 columns]"
            ],
            "text/html": [
              "\n",
              "  <div id=\"df-5ebb42b8-6716-4d0e-af30-cab040df92cc\">\n",
              "    <div class=\"colab-df-container\">\n",
              "      <div>\n",
              "<style scoped>\n",
              "    .dataframe tbody tr th:only-of-type {\n",
              "        vertical-align: middle;\n",
              "    }\n",
              "\n",
              "    .dataframe tbody tr th {\n",
              "        vertical-align: top;\n",
              "    }\n",
              "\n",
              "    .dataframe thead th {\n",
              "        text-align: right;\n",
              "    }\n",
              "</style>\n",
              "<table border=\"1\" class=\"dataframe\">\n",
              "  <thead>\n",
              "    <tr style=\"text-align: right;\">\n",
              "      <th></th>\n",
              "      <th>Item_Weight</th>\n",
              "      <th>Item_Visibility</th>\n",
              "      <th>Item_MRP</th>\n",
              "      <th>Outlet_Establishment_Year</th>\n",
              "      <th>Item_Outlet_Sales</th>\n",
              "      <th>Item_Fat_Content_LF</th>\n",
              "      <th>Item_Fat_Content_Low Fat</th>\n",
              "      <th>Item_Fat_Content_Regular</th>\n",
              "      <th>Item_Fat_Content_low fat</th>\n",
              "      <th>Item_Fat_Content_reg</th>\n",
              "      <th>...</th>\n",
              "      <th>Outlet_Size_High</th>\n",
              "      <th>Outlet_Size_Medium</th>\n",
              "      <th>Outlet_Size_Small</th>\n",
              "      <th>Outlet_Location_Type_Tier 1</th>\n",
              "      <th>Outlet_Location_Type_Tier 2</th>\n",
              "      <th>Outlet_Location_Type_Tier 3</th>\n",
              "      <th>Outlet_Type_Grocery Store</th>\n",
              "      <th>Outlet_Type_Supermarket Type1</th>\n",
              "      <th>Outlet_Type_Supermarket Type2</th>\n",
              "      <th>Outlet_Type_Supermarket Type3</th>\n",
              "    </tr>\n",
              "  </thead>\n",
              "  <tbody>\n",
              "    <tr>\n",
              "      <th>0</th>\n",
              "      <td>9.30</td>\n",
              "      <td>0.016047</td>\n",
              "      <td>249.8092</td>\n",
              "      <td>1999</td>\n",
              "      <td>3735.1380</td>\n",
              "      <td>0</td>\n",
              "      <td>1</td>\n",
              "      <td>0</td>\n",
              "      <td>0</td>\n",
              "      <td>0</td>\n",
              "      <td>...</td>\n",
              "      <td>0</td>\n",
              "      <td>1</td>\n",
              "      <td>0</td>\n",
              "      <td>1</td>\n",
              "      <td>0</td>\n",
              "      <td>0</td>\n",
              "      <td>0</td>\n",
              "      <td>1</td>\n",
              "      <td>0</td>\n",
              "      <td>0</td>\n",
              "    </tr>\n",
              "    <tr>\n",
              "      <th>1</th>\n",
              "      <td>5.92</td>\n",
              "      <td>0.019278</td>\n",
              "      <td>48.2692</td>\n",
              "      <td>2009</td>\n",
              "      <td>443.4228</td>\n",
              "      <td>0</td>\n",
              "      <td>0</td>\n",
              "      <td>1</td>\n",
              "      <td>0</td>\n",
              "      <td>0</td>\n",
              "      <td>...</td>\n",
              "      <td>0</td>\n",
              "      <td>1</td>\n",
              "      <td>0</td>\n",
              "      <td>0</td>\n",
              "      <td>0</td>\n",
              "      <td>1</td>\n",
              "      <td>0</td>\n",
              "      <td>0</td>\n",
              "      <td>1</td>\n",
              "      <td>0</td>\n",
              "    </tr>\n",
              "    <tr>\n",
              "      <th>2</th>\n",
              "      <td>17.50</td>\n",
              "      <td>0.016760</td>\n",
              "      <td>141.6180</td>\n",
              "      <td>1999</td>\n",
              "      <td>2097.2700</td>\n",
              "      <td>0</td>\n",
              "      <td>1</td>\n",
              "      <td>0</td>\n",
              "      <td>0</td>\n",
              "      <td>0</td>\n",
              "      <td>...</td>\n",
              "      <td>0</td>\n",
              "      <td>1</td>\n",
              "      <td>0</td>\n",
              "      <td>1</td>\n",
              "      <td>0</td>\n",
              "      <td>0</td>\n",
              "      <td>0</td>\n",
              "      <td>1</td>\n",
              "      <td>0</td>\n",
              "      <td>0</td>\n",
              "    </tr>\n",
              "    <tr>\n",
              "      <th>3</th>\n",
              "      <td>19.20</td>\n",
              "      <td>0.000000</td>\n",
              "      <td>182.0950</td>\n",
              "      <td>1998</td>\n",
              "      <td>732.3800</td>\n",
              "      <td>0</td>\n",
              "      <td>0</td>\n",
              "      <td>1</td>\n",
              "      <td>0</td>\n",
              "      <td>0</td>\n",
              "      <td>...</td>\n",
              "      <td>0</td>\n",
              "      <td>0</td>\n",
              "      <td>0</td>\n",
              "      <td>0</td>\n",
              "      <td>0</td>\n",
              "      <td>1</td>\n",
              "      <td>1</td>\n",
              "      <td>0</td>\n",
              "      <td>0</td>\n",
              "      <td>0</td>\n",
              "    </tr>\n",
              "    <tr>\n",
              "      <th>4</th>\n",
              "      <td>8.93</td>\n",
              "      <td>0.000000</td>\n",
              "      <td>53.8614</td>\n",
              "      <td>1987</td>\n",
              "      <td>994.7052</td>\n",
              "      <td>0</td>\n",
              "      <td>1</td>\n",
              "      <td>0</td>\n",
              "      <td>0</td>\n",
              "      <td>0</td>\n",
              "      <td>...</td>\n",
              "      <td>1</td>\n",
              "      <td>0</td>\n",
              "      <td>0</td>\n",
              "      <td>0</td>\n",
              "      <td>0</td>\n",
              "      <td>1</td>\n",
              "      <td>0</td>\n",
              "      <td>1</td>\n",
              "      <td>0</td>\n",
              "      <td>0</td>\n",
              "    </tr>\n",
              "  </tbody>\n",
              "</table>\n",
              "<p>5 rows × 36 columns</p>\n",
              "</div>\n",
              "      <button class=\"colab-df-convert\" onclick=\"convertToInteractive('df-5ebb42b8-6716-4d0e-af30-cab040df92cc')\"\n",
              "              title=\"Convert this dataframe to an interactive table.\"\n",
              "              style=\"display:none;\">\n",
              "        \n",
              "  <svg xmlns=\"http://www.w3.org/2000/svg\" height=\"24px\"viewBox=\"0 0 24 24\"\n",
              "       width=\"24px\">\n",
              "    <path d=\"M0 0h24v24H0V0z\" fill=\"none\"/>\n",
              "    <path d=\"M18.56 5.44l.94 2.06.94-2.06 2.06-.94-2.06-.94-.94-2.06-.94 2.06-2.06.94zm-11 1L8.5 8.5l.94-2.06 2.06-.94-2.06-.94L8.5 2.5l-.94 2.06-2.06.94zm10 10l.94 2.06.94-2.06 2.06-.94-2.06-.94-.94-2.06-.94 2.06-2.06.94z\"/><path d=\"M17.41 7.96l-1.37-1.37c-.4-.4-.92-.59-1.43-.59-.52 0-1.04.2-1.43.59L10.3 9.45l-7.72 7.72c-.78.78-.78 2.05 0 2.83L4 21.41c.39.39.9.59 1.41.59.51 0 1.02-.2 1.41-.59l7.78-7.78 2.81-2.81c.8-.78.8-2.07 0-2.86zM5.41 20L4 18.59l7.72-7.72 1.47 1.35L5.41 20z\"/>\n",
              "  </svg>\n",
              "      </button>\n",
              "      \n",
              "  <style>\n",
              "    .colab-df-container {\n",
              "      display:flex;\n",
              "      flex-wrap:wrap;\n",
              "      gap: 12px;\n",
              "    }\n",
              "\n",
              "    .colab-df-convert {\n",
              "      background-color: #E8F0FE;\n",
              "      border: none;\n",
              "      border-radius: 50%;\n",
              "      cursor: pointer;\n",
              "      display: none;\n",
              "      fill: #1967D2;\n",
              "      height: 32px;\n",
              "      padding: 0 0 0 0;\n",
              "      width: 32px;\n",
              "    }\n",
              "\n",
              "    .colab-df-convert:hover {\n",
              "      background-color: #E2EBFA;\n",
              "      box-shadow: 0px 1px 2px rgba(60, 64, 67, 0.3), 0px 1px 3px 1px rgba(60, 64, 67, 0.15);\n",
              "      fill: #174EA6;\n",
              "    }\n",
              "\n",
              "    [theme=dark] .colab-df-convert {\n",
              "      background-color: #3B4455;\n",
              "      fill: #D2E3FC;\n",
              "    }\n",
              "\n",
              "    [theme=dark] .colab-df-convert:hover {\n",
              "      background-color: #434B5C;\n",
              "      box-shadow: 0px 1px 3px 1px rgba(0, 0, 0, 0.15);\n",
              "      filter: drop-shadow(0px 1px 2px rgba(0, 0, 0, 0.3));\n",
              "      fill: #FFFFFF;\n",
              "    }\n",
              "  </style>\n",
              "\n",
              "      <script>\n",
              "        const buttonEl =\n",
              "          document.querySelector('#df-5ebb42b8-6716-4d0e-af30-cab040df92cc button.colab-df-convert');\n",
              "        buttonEl.style.display =\n",
              "          google.colab.kernel.accessAllowed ? 'block' : 'none';\n",
              "\n",
              "        async function convertToInteractive(key) {\n",
              "          const element = document.querySelector('#df-5ebb42b8-6716-4d0e-af30-cab040df92cc');\n",
              "          const dataTable =\n",
              "            await google.colab.kernel.invokeFunction('convertToInteractive',\n",
              "                                                     [key], {});\n",
              "          if (!dataTable) return;\n",
              "\n",
              "          const docLinkHtml = 'Like what you see? Visit the ' +\n",
              "            '<a target=\"_blank\" href=https://colab.research.google.com/notebooks/data_table.ipynb>data table notebook</a>'\n",
              "            + ' to learn more about interactive tables.';\n",
              "          element.innerHTML = '';\n",
              "          dataTable['output_type'] = 'display_data';\n",
              "          await google.colab.output.renderOutput(dataTable, element);\n",
              "          const docLink = document.createElement('div');\n",
              "          docLink.innerHTML = docLinkHtml;\n",
              "          element.appendChild(docLink);\n",
              "        }\n",
              "      </script>\n",
              "    </div>\n",
              "  </div>\n",
              "  "
            ]
          },
          "metadata": {},
          "execution_count": 8
        }
      ]
    },
    {
      "cell_type": "code",
      "source": [
        "train , test = train_test_split(train, test_size = 0.3)\n",
        "\n",
        "x_train = train.drop('Item_Outlet_Sales', axis=1)\n",
        "y_train = train['Item_Outlet_Sales']\n",
        "\n",
        "x_test = test.drop('Item_Outlet_Sales', axis = 1)\n",
        "y_test = test['Item_Outlet_Sales']"
      ],
      "metadata": {
        "id": "JyYJSSj-Z3mT"
      },
      "execution_count": null,
      "outputs": []
    },
    {
      "cell_type": "code",
      "source": [
        "scaler = MinMaxScaler(feature_range=(0, 1))\n",
        "\n",
        "x_train_scaled = scaler.fit_transform(x_train)\n",
        "x_train = pd.DataFrame(x_train_scaled)\n",
        "\n",
        "x_test_scaled = scaler.fit_transform(x_test)\n",
        "x_test = pd.DataFrame(x_test_scaled)"
      ],
      "metadata": {
        "id": "Pp38lIDgZsyn"
      },
      "execution_count": null,
      "outputs": []
    },
    {
      "cell_type": "code",
      "source": [
        "def knn_regression(k,x_train,y_train,x_test,y_test):\n",
        "    model = neighbors.KNeighborsRegressor(n_neighbors = k)\n",
        "\n",
        "    model.fit(x_train, y_train)  \n",
        "    pred=model.predict(x_test) \n",
        "    error = sqrt(mean_squared_error(y_test,pred)) \n",
        "    rmse_val.append(error) "
      ],
      "metadata": {
        "id": "XM_GDnVqbVKI"
      },
      "execution_count": null,
      "outputs": []
    },
    {
      "cell_type": "code",
      "source": [
        "rmse_val = [] \n",
        "\n",
        "for k in range(1,21):\n",
        "  knn_regression(k,x_train,y_train,x_test,y_test)\n",
        "\n",
        "figure = plt.figure(figsize=(10,10))\n",
        "plt.plot(np.arange(1,21),rmse_val)\n",
        "plt.xlabel(\"K\")\n",
        "plt.ylabel(\"Loss\")\n",
        "plt.show()\n",
        "\n",
        "rmse_val = np.asarray(rmse_val)\n",
        "print(\"Minimum error {} is at k = {}\".format(np.min(rmse_val),np.argmin(rmse_val)))"
      ],
      "metadata": {
        "colab": {
          "base_uri": "https://localhost:8080/",
          "height": 871
        },
        "id": "P0rIZOClcKI6",
        "outputId": "be89f830-1e3d-446d-d9ac-2c4a5825f100"
      },
      "execution_count": null,
      "outputs": [
        {
          "output_type": "display_data",
          "data": {
            "text/plain": [
              "<Figure size 1000x1000 with 1 Axes>"
            ],
            "image/png": "[encoded data removed]"
          },
          "metadata": {}
        },
        {
          "output_type": "stream",
          "name": "stdout",
          "text": [
            "Minimum error 1278.5816281094171 is at k = 6\n"
          ]
        }
      ]
    },
    {
      "cell_type": "markdown",
      "source": [
        "## Exercises\n",
        "\n",
        "1. Try out these loss functions on regression tasks, and try to understand the model performance based on the loss function.\n",
        "2. Explore other loss functions and try to understand when and why they are used.\n",
        "3. Try out KNN-regression on other datasets see which values of K give the best results."
      ],
      "metadata": {
        "id": "0QNjfdMXk2AH"
      }
    },
    {
      "cell_type": "code",
      "source": [
        "train1=pd.read_csv(\"/content/train.csv\")"
      ],
      "metadata": {
        "id": "as73DsU82nml"
      },
      "execution_count": null,
      "outputs": []
    },
    {
      "cell_type": "code",
      "source": [
        "test1=pd.read_csv(\"/content/test.csv\")"
      ],
      "metadata": {
        "id": "3GFaLviv3Jrt"
      },
      "execution_count": null,
      "outputs": []
    },
    {
      "cell_type": "code",
      "source": [
        "train1"
      ],
      "metadata": {
        "colab": {
          "base_uri": "https://localhost:8080/",
          "height": 423
        },
        "id": "UOv94d3f3OQT",
        "outputId": "d58abaf5-1716-44d7-ed97-ab341ecab6cd"
      },
      "execution_count": null,
      "outputs": [
        {
          "output_type": "execute_result",
          "data": {
            "text/plain": [
              "        x          y\n",
              "0    24.0  21.549452\n",
              "1    50.0  47.464463\n",
              "2    15.0  17.218656\n",
              "3    38.0  36.586398\n",
              "4    87.0  87.288984\n",
              "..    ...        ...\n",
              "695  58.0  58.595006\n",
              "696  93.0  94.625094\n",
              "697  82.0  88.603770\n",
              "698  66.0  63.648685\n",
              "699  97.0  94.975266\n",
              "\n",
              "[700 rows x 2 columns]"
            ],
            "text/html": [
              "\n",
              "  <div id=\"df-f4a7cb5f-714b-46ca-8db5-563e7d9349d2\">\n",
              "    <div class=\"colab-df-container\">\n",
              "      <div>\n",
              "<style scoped>\n",
              "    .dataframe tbody tr th:only-of-type {\n",
              "        vertical-align: middle;\n",
              "    }\n",
              "\n",
              "    .dataframe tbody tr th {\n",
              "        vertical-align: top;\n",
              "    }\n",
              "\n",
              "    .dataframe thead th {\n",
              "        text-align: right;\n",
              "    }\n",
              "</style>\n",
              "<table border=\"1\" class=\"dataframe\">\n",
              "  <thead>\n",
              "    <tr style=\"text-align: right;\">\n",
              "      <th></th>\n",
              "      <th>x</th>\n",
              "      <th>y</th>\n",
              "    </tr>\n",
              "  </thead>\n",
              "  <tbody>\n",
              "    <tr>\n",
              "      <th>0</th>\n",
              "      <td>24.0</td>\n",
              "      <td>21.549452</td>\n",
              "    </tr>\n",
              "    <tr>\n",
              "      <th>1</th>\n",
              "      <td>50.0</td>\n",
              "      <td>47.464463</td>\n",
              "    </tr>\n",
              "    <tr>\n",
              "      <th>2</th>\n",
              "      <td>15.0</td>\n",
              "      <td>17.218656</td>\n",
              "    </tr>\n",
              "    <tr>\n",
              "      <th>3</th>\n",
              "      <td>38.0</td>\n",
              "      <td>36.586398</td>\n",
              "    </tr>\n",
              "    <tr>\n",
              "      <th>4</th>\n",
              "      <td>87.0</td>\n",
              "      <td>87.288984</td>\n",
              "    </tr>\n",
              "    <tr>\n",
              "      <th>...</th>\n",
              "      <td>...</td>\n",
              "      <td>...</td>\n",
              "    </tr>\n",
              "    <tr>\n",
              "      <th>695</th>\n",
              "      <td>58.0</td>\n",
              "      <td>58.595006</td>\n",
              "    </tr>\n",
              "    <tr>\n",
              "      <th>696</th>\n",
              "      <td>93.0</td>\n",
              "      <td>94.625094</td>\n",
              "    </tr>\n",
              "    <tr>\n",
              "      <th>697</th>\n",
              "      <td>82.0</td>\n",
              "      <td>88.603770</td>\n",
              "    </tr>\n",
              "    <tr>\n",
              "      <th>698</th>\n",
              "      <td>66.0</td>\n",
              "      <td>63.648685</td>\n",
              "    </tr>\n",
              "    <tr>\n",
              "      <th>699</th>\n",
              "      <td>97.0</td>\n",
              "      <td>94.975266</td>\n",
              "    </tr>\n",
              "  </tbody>\n",
              "</table>\n",
              "<p>700 rows × 2 columns</p>\n",
              "</div>\n",
              "      <button class=\"colab-df-convert\" onclick=\"convertToInteractive('df-f4a7cb5f-714b-46ca-8db5-563e7d9349d2')\"\n",
              "              title=\"Convert this dataframe to an interactive table.\"\n",
              "              style=\"display:none;\">\n",
              "        \n",
              "  <svg xmlns=\"http://www.w3.org/2000/svg\" height=\"24px\"viewBox=\"0 0 24 24\"\n",
              "       width=\"24px\">\n",
              "    <path d=\"M0 0h24v24H0V0z\" fill=\"none\"/>\n",
              "    <path d=\"M18.56 5.44l.94 2.06.94-2.06 2.06-.94-2.06-.94-.94-2.06-.94 2.06-2.06.94zm-11 1L8.5 8.5l.94-2.06 2.06-.94-2.06-.94L8.5 2.5l-.94 2.06-2.06.94zm10 10l.94 2.06.94-2.06 2.06-.94-2.06-.94-.94-2.06-.94 2.06-2.06.94z\"/><path d=\"M17.41 7.96l-1.37-1.37c-.4-.4-.92-.59-1.43-.59-.52 0-1.04.2-1.43.59L10.3 9.45l-7.72 7.72c-.78.78-.78 2.05 0 2.83L4 21.41c.39.39.9.59 1.41.59.51 0 1.02-.2 1.41-.59l7.78-7.78 2.81-2.81c.8-.78.8-2.07 0-2.86zM5.41 20L4 18.59l7.72-7.72 1.47 1.35L5.41 20z\"/>\n",
              "  </svg>\n",
              "      </button>\n",
              "      \n",
              "  <style>\n",
              "    .colab-df-container {\n",
              "      display:flex;\n",
              "      flex-wrap:wrap;\n",
              "      gap: 12px;\n",
              "    }\n",
              "\n",
              "    .colab-df-convert {\n",
              "      background-color: #E8F0FE;\n",
              "      border: none;\n",
              "      border-radius: 50%;\n",
              "      cursor: pointer;\n",
              "      display: none;\n",
              "      fill: #1967D2;\n",
              "      height: 32px;\n",
              "      padding: 0 0 0 0;\n",
              "      width: 32px;\n",
              "    }\n",
              "\n",
              "    .colab-df-convert:hover {\n",
              "      background-color: #E2EBFA;\n",
              "      box-shadow: 0px 1px 2px rgba(60, 64, 67, 0.3), 0px 1px 3px 1px rgba(60, 64, 67, 0.15);\n",
              "      fill: #174EA6;\n",
              "    }\n",
              "\n",
              "    [theme=dark] .colab-df-convert {\n",
              "      background-color: #3B4455;\n",
              "      fill: #D2E3FC;\n",
              "    }\n",
              "\n",
              "    [theme=dark] .colab-df-convert:hover {\n",
              "      background-color: #434B5C;\n",
              "      box-shadow: 0px 1px 3px 1px rgba(0, 0, 0, 0.15);\n",
              "      filter: drop-shadow(0px 1px 2px rgba(0, 0, 0, 0.3));\n",
              "      fill: #FFFFFF;\n",
              "    }\n",
              "  </style>\n",
              "\n",
              "      <script>\n",
              "        const buttonEl =\n",
              "          document.querySelector('#df-f4a7cb5f-714b-46ca-8db5-563e7d9349d2 button.colab-df-convert');\n",
              "        buttonEl.style.display =\n",
              "          google.colab.kernel.accessAllowed ? 'block' : 'none';\n",
              "\n",
              "        async function convertToInteractive(key) {\n",
              "          const element = document.querySelector('#df-f4a7cb5f-714b-46ca-8db5-563e7d9349d2');\n",
              "          const dataTable =\n",
              "            await google.colab.kernel.invokeFunction('convertToInteractive',\n",
              "                                                     [key], {});\n",
              "          if (!dataTable) return;\n",
              "\n",
              "          const docLinkHtml = 'Like what you see? Visit the ' +\n",
              "            '<a target=\"_blank\" href=https://colab.research.google.com/notebooks/data_table.ipynb>data table notebook</a>'\n",
              "            + ' to learn more about interactive tables.';\n",
              "          element.innerHTML = '';\n",
              "          dataTable['output_type'] = 'display_data';\n",
              "          await google.colab.output.renderOutput(dataTable, element);\n",
              "          const docLink = document.createElement('div');\n",
              "          docLink.innerHTML = docLinkHtml;\n",
              "          element.appendChild(docLink);\n",
              "        }\n",
              "      </script>\n",
              "    </div>\n",
              "  </div>\n",
              "  "
            ]
          },
          "metadata": {},
          "execution_count": 31
        }
      ]
    },
    {
      "cell_type": "code",
      "source": [
        "train1.fillna(train1['y'].mean(),inplace=True)"
      ],
      "metadata": {
        "id": "KIRZJORa4sld"
      },
      "execution_count": null,
      "outputs": []
    },
    {
      "cell_type": "code",
      "source": [
        "test1.isnull().sum()"
      ],
      "metadata": {
        "id": "XjTi6TMQ5Kvc",
        "outputId": "30f23be9-e78f-4565-805e-b2827dda532e",
        "colab": {
          "base_uri": "https://localhost:8080/"
        }
      },
      "execution_count": null,
      "outputs": [
        {
          "output_type": "execute_result",
          "data": {
            "text/plain": [
              "x    0\n",
              "y    0\n",
              "dtype: int64"
            ]
          },
          "metadata": {},
          "execution_count": 37
        }
      ]
    },
    {
      "cell_type": "code",
      "source": [
        "test1"
      ],
      "metadata": {
        "colab": {
          "base_uri": "https://localhost:8080/",
          "height": 423
        },
        "id": "k2Ksk9A63Qtd",
        "outputId": "76a1bc32-180f-48b8-ee7e-45e9c8a08cf0"
      },
      "execution_count": null,
      "outputs": [
        {
          "output_type": "execute_result",
          "data": {
            "text/plain": [
              "      x          y\n",
              "0    77  79.775152\n",
              "1    21  23.177279\n",
              "2    22  25.609262\n",
              "3    20  17.857388\n",
              "4    36  41.849864\n",
              "..   ..        ...\n",
              "295  71  68.545888\n",
              "296  46  47.334876\n",
              "297  55  54.090637\n",
              "298  62  63.297171\n",
              "299  47  52.459467\n",
              "\n",
              "[300 rows x 2 columns]"
            ],
            "text/html": [
              "\n",
              "  <div id=\"df-d04dd241-f7da-4a26-9978-14d2c6e9278e\">\n",
              "    <div class=\"colab-df-container\">\n",
              "      <div>\n",
              "<style scoped>\n",
              "    .dataframe tbody tr th:only-of-type {\n",
              "        vertical-align: middle;\n",
              "    }\n",
              "\n",
              "    .dataframe tbody tr th {\n",
              "        vertical-align: top;\n",
              "    }\n",
              "\n",
              "    .dataframe thead th {\n",
              "        text-align: right;\n",
              "    }\n",
              "</style>\n",
              "<table border=\"1\" class=\"dataframe\">\n",
              "  <thead>\n",
              "    <tr style=\"text-align: right;\">\n",
              "      <th></th>\n",
              "      <th>x</th>\n",
              "      <th>y</th>\n",
              "    </tr>\n",
              "  </thead>\n",
              "  <tbody>\n",
              "    <tr>\n",
              "      <th>0</th>\n",
              "      <td>77</td>\n",
              "      <td>79.775152</td>\n",
              "    </tr>\n",
              "    <tr>\n",
              "      <th>1</th>\n",
              "      <td>21</td>\n",
              "      <td>23.177279</td>\n",
              "    </tr>\n",
              "    <tr>\n",
              "      <th>2</th>\n",
              "      <td>22</td>\n",
              "      <td>25.609262</td>\n",
              "    </tr>\n",
              "    <tr>\n",
              "      <th>3</th>\n",
              "      <td>20</td>\n",
              "      <td>17.857388</td>\n",
              "    </tr>\n",
              "    <tr>\n",
              "      <th>4</th>\n",
              "      <td>36</td>\n",
              "      <td>41.849864</td>\n",
              "    </tr>\n",
              "    <tr>\n",
              "      <th>...</th>\n",
              "      <td>...</td>\n",
              "      <td>...</td>\n",
              "    </tr>\n",
              "    <tr>\n",
              "      <th>295</th>\n",
              "      <td>71</td>\n",
              "      <td>68.545888</td>\n",
              "    </tr>\n",
              "    <tr>\n",
              "      <th>296</th>\n",
              "      <td>46</td>\n",
              "      <td>47.334876</td>\n",
              "    </tr>\n",
              "    <tr>\n",
              "      <th>297</th>\n",
              "      <td>55</td>\n",
              "      <td>54.090637</td>\n",
              "    </tr>\n",
              "    <tr>\n",
              "      <th>298</th>\n",
              "      <td>62</td>\n",
              "      <td>63.297171</td>\n",
              "    </tr>\n",
              "    <tr>\n",
              "      <th>299</th>\n",
              "      <td>47</td>\n",
              "      <td>52.459467</td>\n",
              "    </tr>\n",
              "  </tbody>\n",
              "</table>\n",
              "<p>300 rows × 2 columns</p>\n",
              "</div>\n",
              "      <button class=\"colab-df-convert\" onclick=\"convertToInteractive('df-d04dd241-f7da-4a26-9978-14d2c6e9278e')\"\n",
              "              title=\"Convert this dataframe to an interactive table.\"\n",
              "              style=\"display:none;\">\n",
              "        \n",
              "  <svg xmlns=\"http://www.w3.org/2000/svg\" height=\"24px\"viewBox=\"0 0 24 24\"\n",
              "       width=\"24px\">\n",
              "    <path d=\"M0 0h24v24H0V0z\" fill=\"none\"/>\n",
              "    <path d=\"M18.56 5.44l.94 2.06.94-2.06 2.06-.94-2.06-.94-.94-2.06-.94 2.06-2.06.94zm-11 1L8.5 8.5l.94-2.06 2.06-.94-2.06-.94L8.5 2.5l-.94 2.06-2.06.94zm10 10l.94 2.06.94-2.06 2.06-.94-2.06-.94-.94-2.06-.94 2.06-2.06.94z\"/><path d=\"M17.41 7.96l-1.37-1.37c-.4-.4-.92-.59-1.43-.59-.52 0-1.04.2-1.43.59L10.3 9.45l-7.72 7.72c-.78.78-.78 2.05 0 2.83L4 21.41c.39.39.9.59 1.41.59.51 0 1.02-.2 1.41-.59l7.78-7.78 2.81-2.81c.8-.78.8-2.07 0-2.86zM5.41 20L4 18.59l7.72-7.72 1.47 1.35L5.41 20z\"/>\n",
              "  </svg>\n",
              "      </button>\n",
              "      \n",
              "  <style>\n",
              "    .colab-df-container {\n",
              "      display:flex;\n",
              "      flex-wrap:wrap;\n",
              "      gap: 12px;\n",
              "    }\n",
              "\n",
              "    .colab-df-convert {\n",
              "      background-color: #E8F0FE;\n",
              "      border: none;\n",
              "      border-radius: 50%;\n",
              "      cursor: pointer;\n",
              "      display: none;\n",
              "      fill: #1967D2;\n",
              "      height: 32px;\n",
              "      padding: 0 0 0 0;\n",
              "      width: 32px;\n",
              "    }\n",
              "\n",
              "    .colab-df-convert:hover {\n",
              "      background-color: #E2EBFA;\n",
              "      box-shadow: 0px 1px 2px rgba(60, 64, 67, 0.3), 0px 1px 3px 1px rgba(60, 64, 67, 0.15);\n",
              "      fill: #174EA6;\n",
              "    }\n",
              "\n",
              "    [theme=dark] .colab-df-convert {\n",
              "      background-color: #3B4455;\n",
              "      fill: #D2E3FC;\n",
              "    }\n",
              "\n",
              "    [theme=dark] .colab-df-convert:hover {\n",
              "      background-color: #434B5C;\n",
              "      box-shadow: 0px 1px 3px 1px rgba(0, 0, 0, 0.15);\n",
              "      filter: drop-shadow(0px 1px 2px rgba(0, 0, 0, 0.3));\n",
              "      fill: #FFFFFF;\n",
              "    }\n",
              "  </style>\n",
              "\n",
              "      <script>\n",
              "        const buttonEl =\n",
              "          document.querySelector('#df-d04dd241-f7da-4a26-9978-14d2c6e9278e button.colab-df-convert');\n",
              "        buttonEl.style.display =\n",
              "          google.colab.kernel.accessAllowed ? 'block' : 'none';\n",
              "\n",
              "        async function convertToInteractive(key) {\n",
              "          const element = document.querySelector('#df-d04dd241-f7da-4a26-9978-14d2c6e9278e');\n",
              "          const dataTable =\n",
              "            await google.colab.kernel.invokeFunction('convertToInteractive',\n",
              "                                                     [key], {});\n",
              "          if (!dataTable) return;\n",
              "\n",
              "          const docLinkHtml = 'Like what you see? Visit the ' +\n",
              "            '<a target=\"_blank\" href=https://colab.research.google.com/notebooks/data_table.ipynb>data table notebook</a>'\n",
              "            + ' to learn more about interactive tables.';\n",
              "          element.innerHTML = '';\n",
              "          dataTable['output_type'] = 'display_data';\n",
              "          await google.colab.output.renderOutput(dataTable, element);\n",
              "          const docLink = document.createElement('div');\n",
              "          docLink.innerHTML = docLinkHtml;\n",
              "          element.appendChild(docLink);\n",
              "        }\n",
              "      </script>\n",
              "    </div>\n",
              "  </div>\n",
              "  "
            ]
          },
          "metadata": {},
          "execution_count": 38
        }
      ]
    },
    {
      "cell_type": "code",
      "source": [
        "test1.columns"
      ],
      "metadata": {
        "colab": {
          "base_uri": "https://localhost:8080/"
        },
        "id": "DmYIy2v53njm",
        "outputId": "dd4945c0-4d2f-4c9b-bdf3-388ee6af9479"
      },
      "execution_count": null,
      "outputs": [
        {
          "output_type": "execute_result",
          "data": {
            "text/plain": [
              "Index(['x', 'y'], dtype='object')"
            ]
          },
          "metadata": {},
          "execution_count": 39
        }
      ]
    },
    {
      "cell_type": "code",
      "source": [
        "x_train=train1.drop('y',axis=1)"
      ],
      "metadata": {
        "id": "Qh0V0qVm3fcI"
      },
      "execution_count": null,
      "outputs": []
    },
    {
      "cell_type": "code",
      "source": [
        "x_train"
      ],
      "metadata": {
        "colab": {
          "base_uri": "https://localhost:8080/",
          "height": 423
        },
        "id": "ifFBNvzn3sNy",
        "outputId": "cd2d4eb5-d9c3-4248-8ab0-a56d9a88b3ae"
      },
      "execution_count": null,
      "outputs": [
        {
          "output_type": "execute_result",
          "data": {
            "text/plain": [
              "        x\n",
              "0    24.0\n",
              "1    50.0\n",
              "2    15.0\n",
              "3    38.0\n",
              "4    87.0\n",
              "..    ...\n",
              "695  58.0\n",
              "696  93.0\n",
              "697  82.0\n",
              "698  66.0\n",
              "699  97.0\n",
              "\n",
              "[700 rows x 1 columns]"
            ],
            "text/html": [
              "\n",
              "  <div id=\"df-9e506128-1222-4184-b838-a73a4a6c7bcd\">\n",
              "    <div class=\"colab-df-container\">\n",
              "      <div>\n",
              "<style scoped>\n",
              "    .dataframe tbody tr th:only-of-type {\n",
              "        vertical-align: middle;\n",
              "    }\n",
              "\n",
              "    .dataframe tbody tr th {\n",
              "        vertical-align: top;\n",
              "    }\n",
              "\n",
              "    .dataframe thead th {\n",
              "        text-align: right;\n",
              "    }\n",
              "</style>\n",
              "<table border=\"1\" class=\"dataframe\">\n",
              "  <thead>\n",
              "    <tr style=\"text-align: right;\">\n",
              "      <th></th>\n",
              "      <th>x</th>\n",
              "    </tr>\n",
              "  </thead>\n",
              "  <tbody>\n",
              "    <tr>\n",
              "      <th>0</th>\n",
              "      <td>24.0</td>\n",
              "    </tr>\n",
              "    <tr>\n",
              "      <th>1</th>\n",
              "      <td>50.0</td>\n",
              "    </tr>\n",
              "    <tr>\n",
              "      <th>2</th>\n",
              "      <td>15.0</td>\n",
              "    </tr>\n",
              "    <tr>\n",
              "      <th>3</th>\n",
              "      <td>38.0</td>\n",
              "    </tr>\n",
              "    <tr>\n",
              "      <th>4</th>\n",
              "      <td>87.0</td>\n",
              "    </tr>\n",
              "    <tr>\n",
              "      <th>...</th>\n",
              "      <td>...</td>\n",
              "    </tr>\n",
              "    <tr>\n",
              "      <th>695</th>\n",
              "      <td>58.0</td>\n",
              "    </tr>\n",
              "    <tr>\n",
              "      <th>696</th>\n",
              "      <td>93.0</td>\n",
              "    </tr>\n",
              "    <tr>\n",
              "      <th>697</th>\n",
              "      <td>82.0</td>\n",
              "    </tr>\n",
              "    <tr>\n",
              "      <th>698</th>\n",
              "      <td>66.0</td>\n",
              "    </tr>\n",
              "    <tr>\n",
              "      <th>699</th>\n",
              "      <td>97.0</td>\n",
              "    </tr>\n",
              "  </tbody>\n",
              "</table>\n",
              "<p>700 rows × 1 columns</p>\n",
              "</div>\n",
              "      <button class=\"colab-df-convert\" onclick=\"convertToInteractive('df-9e506128-1222-4184-b838-a73a4a6c7bcd')\"\n",
              "              title=\"Convert this dataframe to an interactive table.\"\n",
              "              style=\"display:none;\">\n",
              "        \n",
              "  <svg xmlns=\"http://www.w3.org/2000/svg\" height=\"24px\"viewBox=\"0 0 24 24\"\n",
              "       width=\"24px\">\n",
              "    <path d=\"M0 0h24v24H0V0z\" fill=\"none\"/>\n",
              "    <path d=\"M18.56 5.44l.94 2.06.94-2.06 2.06-.94-2.06-.94-.94-2.06-.94 2.06-2.06.94zm-11 1L8.5 8.5l.94-2.06 2.06-.94-2.06-.94L8.5 2.5l-.94 2.06-2.06.94zm10 10l.94 2.06.94-2.06 2.06-.94-2.06-.94-.94-2.06-.94 2.06-2.06.94z\"/><path d=\"M17.41 7.96l-1.37-1.37c-.4-.4-.92-.59-1.43-.59-.52 0-1.04.2-1.43.59L10.3 9.45l-7.72 7.72c-.78.78-.78 2.05 0 2.83L4 21.41c.39.39.9.59 1.41.59.51 0 1.02-.2 1.41-.59l7.78-7.78 2.81-2.81c.8-.78.8-2.07 0-2.86zM5.41 20L4 18.59l7.72-7.72 1.47 1.35L5.41 20z\"/>\n",
              "  </svg>\n",
              "      </button>\n",
              "      \n",
              "  <style>\n",
              "    .colab-df-container {\n",
              "      display:flex;\n",
              "      flex-wrap:wrap;\n",
              "      gap: 12px;\n",
              "    }\n",
              "\n",
              "    .colab-df-convert {\n",
              "      background-color: #E8F0FE;\n",
              "      border: none;\n",
              "      border-radius: 50%;\n",
              "      cursor: pointer;\n",
              "      display: none;\n",
              "      fill: #1967D2;\n",
              "      height: 32px;\n",
              "      padding: 0 0 0 0;\n",
              "      width: 32px;\n",
              "    }\n",
              "\n",
              "    .colab-df-convert:hover {\n",
              "      background-color: #E2EBFA;\n",
              "      box-shadow: 0px 1px 2px rgba(60, 64, 67, 0.3), 0px 1px 3px 1px rgba(60, 64, 67, 0.15);\n",
              "      fill: #174EA6;\n",
              "    }\n",
              "\n",
              "    [theme=dark] .colab-df-convert {\n",
              "      background-color: #3B4455;\n",
              "      fill: #D2E3FC;\n",
              "    }\n",
              "\n",
              "    [theme=dark] .colab-df-convert:hover {\n",
              "      background-color: #434B5C;\n",
              "      box-shadow: 0px 1px 3px 1px rgba(0, 0, 0, 0.15);\n",
              "      filter: drop-shadow(0px 1px 2px rgba(0, 0, 0, 0.3));\n",
              "      fill: #FFFFFF;\n",
              "    }\n",
              "  </style>\n",
              "\n",
              "      <script>\n",
              "        const buttonEl =\n",
              "          document.querySelector('#df-9e506128-1222-4184-b838-a73a4a6c7bcd button.colab-df-convert');\n",
              "        buttonEl.style.display =\n",
              "          google.colab.kernel.accessAllowed ? 'block' : 'none';\n",
              "\n",
              "        async function convertToInteractive(key) {\n",
              "          const element = document.querySelector('#df-9e506128-1222-4184-b838-a73a4a6c7bcd');\n",
              "          const dataTable =\n",
              "            await google.colab.kernel.invokeFunction('convertToInteractive',\n",
              "                                                     [key], {});\n",
              "          if (!dataTable) return;\n",
              "\n",
              "          const docLinkHtml = 'Like what you see? Visit the ' +\n",
              "            '<a target=\"_blank\" href=https://colab.research.google.com/notebooks/data_table.ipynb>data table notebook</a>'\n",
              "            + ' to learn more about interactive tables.';\n",
              "          element.innerHTML = '';\n",
              "          dataTable['output_type'] = 'display_data';\n",
              "          await google.colab.output.renderOutput(dataTable, element);\n",
              "          const docLink = document.createElement('div');\n",
              "          docLink.innerHTML = docLinkHtml;\n",
              "          element.appendChild(docLink);\n",
              "        }\n",
              "      </script>\n",
              "    </div>\n",
              "  </div>\n",
              "  "
            ]
          },
          "metadata": {},
          "execution_count": 41
        }
      ]
    },
    {
      "cell_type": "code",
      "source": [
        "y_train=train1.y"
      ],
      "metadata": {
        "id": "G3JljfVF3uCs"
      },
      "execution_count": null,
      "outputs": []
    },
    {
      "cell_type": "code",
      "source": [
        "x_test=test1.drop('y',axis=1)"
      ],
      "metadata": {
        "id": "UHlwFeEF3zrc"
      },
      "execution_count": null,
      "outputs": []
    },
    {
      "cell_type": "code",
      "source": [
        "y_test=test1.y"
      ],
      "metadata": {
        "id": "T30a72Gp34bW"
      },
      "execution_count": null,
      "outputs": []
    },
    {
      "cell_type": "code",
      "source": [
        "def knn_regression(k,x_train,y_train,x_test,y_test):\n",
        "    model = neighbors.KNeighborsRegressor(n_neighbors = k)\n",
        "\n",
        "    model.fit(x_train, y_train)  \n",
        "    pred=model.predict(x_test) \n",
        "    error = sqrt(mean_squared_error(y_test,pred)) \n",
        "    rmse_val.append(error) "
      ],
      "metadata": {
        "id": "orLhBbLL4Ij4"
      },
      "execution_count": null,
      "outputs": []
    },
    {
      "cell_type": "code",
      "source": [
        "rmse_val = [] \n",
        "\n",
        "for k in range(1,31):\n",
        "  knn_regression(k,x_train,y_train,x_test,y_test)\n",
        "\n",
        "figure = plt.figure(figsize=(10,10))\n",
        "plt.plot(np.arange(1,31),rmse_val)\n",
        "plt.xlabel(\"K\")\n",
        "plt.ylabel(\"Loss\")\n",
        "plt.show()\n",
        "\n",
        "rmse_val = np.asarray(rmse_val)\n",
        "print(\"Minimum error {} is at k = {}\".format(np.min(rmse_val),np.argmin(rmse_val)))"
      ],
      "metadata": {
        "id": "zzWhv0gC4SI3",
        "outputId": "ff79d72d-ab33-4d74-f2e9-0144d5e1a84d",
        "colab": {
          "base_uri": "https://localhost:8080/",
          "height": 871
        }
      },
      "execution_count": null,
      "outputs": [
        {
          "output_type": "display_data",
          "data": {
            "text/plain": [
              "<Figure size 1000x1000 with 1 Axes>"
            ],
            "image/png": "[encoded data removed]"
          },
          "metadata": {}
        },
        {
          "output_type": "stream",
          "name": "stdout",
          "text": [
            "Minimum error 3.1412324217159324 is at k = 19\n"
          ]
        }
      ]
    },
    {
      "cell_type": "markdown",
      "source": [
        "![Screenshot 2023-04-02 082926.png](data:image/png;base64,iVBORw0KGgoAAAANSUhEUgAAAm0AAAKkCAYAAABS7AjCAAAAAXNSR0IArs4c6QAAAARnQU1BAACxjwv8YQUAAAAJcEhZcwAAEnQAABJ0Ad5mH3gAAP+lSURBVHhe7J0HgCRF+fafyTMbL+fE5cgBBwd3ZCSLZEGCCRETqAiGP2bUz0BQJImKoEgWEJAoknM80gEXuZw3h8n9vU/11Gzv7OzeXt7w/vbe657u6urq6gpPV1VX+xwBiqIoiqIoSpfGn1sqiqIoiqIoXRgVbYqiKIqiKN0AFW2KoiiKoijdABVtiqIoiqIo3QAVbYqiKIqiKN0AFW2KoiiKoijdABVtiqIoiqIo3QAVbYqiKIqiKN0AFW2KoiiKoijdABVtiqIoiqIo3QAVbYqiKIqiKN0AFW2KoiiKoijdABVtiqIoiqIo3QAVbYqiKIqiKN0AFW2KoiiKoijdABVtiqIoiqIo3QAVbYqiKIqiKN0AFW2KoiiKoijdABVtiqIoiqIo3QAVbYqiKIqiKN0AFW2KoiiKoijdABVtiqIoiqIo3QAVbYqiKIqiKN0AFW2KoiiKoijdABVtiqIoiqIo3QAVbYqiKIqiKN0AFW2KoiiKoijdABVtiqIoiqIo3QAVbYqiKIqiKN0AFW2KoiiKoijdABVtiqIoiqIo3QAVbYqiKIqiKN0AFW2KoiiKoijdABVtiqIoiqIo3QAVbd2QbM4UpSuh6VJRFGXH4nOE3LrSTWivYmylwPWuKtsDX27ZCWy67BlPgrmrcfS5VtmBePJXYbmuKU8phoq2bkHr7Oz+8rfRZcz/bkYXF3pXle0BE1WhcMlVNIWVjKXbVjY2z/h4ZbmrywY923PLzrK1x1n0eJeefDz3iTG1WecW7vIXzWUq53ozKtq6BW0zrrulbeYtnskVZVvpBRVFvpJlHsrlI6eToq2zpWh7fujxnaOnHi/bC0vu9styFW29GRVt3YqCTGzvHJcsDEzGby+jK8q2ks5VFyJkuFas67C9Sqkr481HxOQl5iMaq073OttWopupPL3+tcL6o8d3SI8/vgj2GEurYzdzPqVXoKKtW+HJ7Kwweec8BUNKNmVyPxVlR8Bqg/WIWUraM9UIN3jSYbfDhj23zMo1OGLMbdzUySpaUbYKZpkA85JNh178XoGnKVBhuauirZvAzGszcK7LRnJ7OiW/QkBVrayH3V0R+c22kDSdbgHdsb5Vdjy2gGD6YJpKy39OEiiNuNtiASCZSSEcCLVUK7n02aXxXliORrmuiOSjRslXSclufslLIbkoucS88/bwVq+KsjkkaZmH7KQkLCcuv+VHVApuyUZGwPmY6IjPluTMXSrcejsq2roNrBKYeSXTOkGT2QNS2TTIpuWrgedfWoB3F6xEUzKDeDyORCKBdMZm9s7h83X1WlbZFZhWJ18WKSQRDodRFilHSSiEfWZOxtz9RmPUUKBc3DFN8mGhmBjqknjCydyVkP9Yga5eBzz7wgd498OP0ZzKoj6ekPyUQogZrhWtK1CHTXStsPtzcs50uRK7LKiA23Q36/EuPfP4VDKJkOSnklgMJeEA9ttjOvaYNhqTxktJLw8NpSLejG4zoo3HMHcVnkPpbaho6zYw0ybF/FI5hqUCBaqagFvumo+35i9Dc5IjbiRT+wN58cVbm92C2+tX0aa0A7veE8G0pKcAApkoAmkHIUcqHTTg8ENm4qRjRmJQFJIyhTaizVZWu7bCccd7+ltCwXCaitRv8lNC7K+3vI+XX5uPhmQA2UAU6UAQ2aADX8AvFahPXNqLKrwWv4g2b14r3J+Lg3zFXUC7Fb5Fjzf0kOMdJ+OWz9ncdllWiHiL+lPYb+9J+OwpoxGUXTHxJmDKfbpj7ir0V+ltqGjrNjDTMvOG0SQZt1nWfnf1S3j3o3VodkoQDJVJIeATwRbIiy8KttYVScf4/CralOJk/FnEpRbJiGjzp0MIpn1SwTgI+5PIZqowdVwFfvqtA0y1YqoWprt8espVTLu4wiku2kSQyiIu9qvfP4uFH9cjngoh7YTghKIi3HxiUrlKZetjS1phfvJU1m2LUrvPXr9QWOm3qey96PEuPe94Plj7/e5+CjemnYAkyADSiPibMH3CQHzna7NRKvtLzPFu2d/ip9JbUdHWXTB3STK3z4+1snbTfQvw/POLpRItkwpFMjKnJmCG9hQiW3prtXtUaRepbDJ8CJAk4pM0xjE3bHnymTdK0wj46rD77gPxpTP2xtAIEMsd5jZMtZFLu4R8KGy2kOtJibCsks033fkuXnh1pQi4CpOXmM+I0Wlmzc1PRQeL5+jcQ4/1zbKlcaLHt6Y7H+89VvKXGWCQRcDJIuhrwPRp/fCNz++H0Sza43H4ItFcflJ6M1ua4pRdiVSWbBVYuAp48Y2PkPKVIO0LSzYP5ioXvxFweePvLTHvsWq93tziIVdESNoLZP0IZmQplYpPUgyN+7MIS1osw5vvrcTKDUCYFYutXIzI8fjTlRCRxcHgqzYBL7y5EEm5hpQvKkIuKPmK1yVhNgK1xVquZWuvZ1v90ON7yvF+yU/W+Ju9JHzzJeuPIO0vxbwP3fxkshMFm6IIW5PqlF1IbQPw9rwlCPglE7MS8Zqi7Cok/fkQwfz3VpsB/UbPdQM2NAKvv7bEhF2LQ2WXkSvDfRRwufVQsBTvvLMcDewZ1RY2JYeWUt0JuVsRqVvefvtDWS2VjG3fJrKmKLsKPxJxB2++MV/Spfyzos3XlaZ7bp1Hksm0VIzMTwvR2MQmQc1Dyq6B3e6tWnKlbE8lA3jtlXmm01RRLFpKdTM4B9um9Q1INAekYgyZaQaM5cev2WaOLHxSEnRkAV9r8x6rptZigogvv6QZYxxELenFkW3W2DJQWjYYGzY0iRtxbvp0csd2UcKi2GLyELRubS2ikQr4EDDj9KxxjGeH5m9tirLt5LrhnbAsS1FXk0Q0DGQScW1tUwwq2rojDrtGOcaBty93C81TmqJsZyi82oivtmLMDNzPSpqkUf93pwomK7ViPj8pyq7CW5bn8pNJl8xfZqEoWkp1S0xmZkXjuX2mYt1CsxVyvmJWU/NYu2lCaJN2BJMmae7PLotpBcyZwBcpsgy3FofKLsZv806utc2U9YriQUupbgkztL11uQrTUliZdmStKuLcNjU1a4Vpy2L2FSN3TBdvFfCG3q0jmZe0KFS6CPn85b7F3dWfgZSdi5ZU3QwOXcs6KcnIKTMuLW++tjUln9o6skKKuVHrvVaImVaGxsqERYdpDciZEWtJOTA39qYbCTeXrJmI2kEmbz7HNfvbillOtGvMHNViirIlZP2ShqxJfvH5WI7nTDKgE5D05xcTt2Y6EEURVLR1W1iB2G/SabWhdAGYHo1xvaunSW/YNO8ouxiTX3JLY7ZsV5TWqGjrThRp/chndkur1g81tZ1phRTb1nWwOUcHeStdAdN+bcr4tmLNtGwriqApoVujT2KKsi2ocFO6Jlq2K8VR0daL8Y5fcp/wFKXz5Me4dRPBw8LOaxZv+LckP7Tnn6JsC1oeKx2hZY2iKIqidEHYAqxtbooXFW29GG9LSXdpLVGUHYXmB2VX42unhU277xWLijZFUXolWvgpXQV2h7Yn2BTFi5ZbPRg2q3dkitKrYKVoLUdHBWB7LW48RgtORVF2BVr2KIrSq9FB34qidBdUtPViOtvypm8zKT0SSdOFDWmdyQ+Koii7ChVtiqIoiqIo3QAVbYq+mdTFsC2b2sK5g5F0vy3R2/Y+bV0bnbbsbS9sTLZnitL9UdGmKEqvRqf3UBSlu6CiTWmXlmfTrvKk6oajq4Rmq8l/G7Y9PFfXgbuWFh6lq6ACcMdRmO+7fTmgKFuBiraeCD8iL2Y+QIx0zvgxYr8xi+P44CAoa/7czNvuPr/jHud+jN4tFjmHUJcRCLnraym2XfN2U2Vlf0b+uDTXI1bonpY/RuLFye6EC2wjwhgOu5Q4N5Yj59aG0ZqTziIAH3w+9u+JG2vK1pNPU1sHxZovEIBf7knGcYx58d6/oGQ2mj8r+ZGWc6N0DjfniuVvF1fcfONIvDNf+P0B81tRehpaXvQgeDNdcZYVkZWSEiwhlXsSkUAWpcEgfyLgRIzbVDYjBVxYqv6IFHIiAWiBEAKBIEJBEQWBJAK+lBE9XQU7b5YVlVl/Wq4jgbSThE9qQ5Fdct2uYEv7MkiKUbolE83IplNyvRm5Rh/CYbnGUABBv4jWTBqZpByT4rESgyLcKN62TsDlq5NW1rImd0fCb5AwMpx5k2uBP+6a/CbBUAihcBjN8TgyqaQJazLebO6zi9/ct8I/Vlq7wnoC7oOOa5vD3k+TJiUtufHgNw8Lkruo4iQvRRCWfBXyBxH2+5nbEJZdIfE+SMGWCbjpTY7o7XiFrdcs+QdO5g+xVCqDgD+Eyn5lCEb9SKSbTMzLLZDyy3XaGjcXtpiidD9ayn+lx5D1Z+GwtAs4ImjSSDTH0dRQh7LSsFQQSXkoTbFqF9HCVja3dKOgSafqkEpWi0DYKG7qpSIRlZcrILsaFG5BubaoXGeZCM0SEWM+c91iUmqzAo2EWInGpdJsQEWsSSrNavgyVUgnakXANsl6swjTjAijAGKRiBT0Ozo7uJWFEWnuBsE9p1s5iQywlZRUULyGpqYGlJVEUF4WEmFZj1hYKny5Vrl0uZc+IxgyARGeYloN7QJyQsKR9Mg85MiNYZriQ0U6FUci3iBCu0kEhgiKdCPS2Sak0wkk07I/K/fMJzeyC+avrgpj25H4Ys8AWzWliEPNmtVI1lRL/g6KeJZHN7kXmaw8uPaQBwlF8aKirUfhCoK0CJdkMIu4KIBsMIxIuBxlsXLU1a2SCqIa0WAaMXEbkIItIBWN0Xf+FKKhJpx5+iH42nmfwu4zRpqKh352hc+rsFpjQU2YaFlYxzI+lMmOSHMzMnW1SGYbkQiwbU3EqBNGqRTgfYMJHH/s7vjMqXvi0h98Et/80tHYd9o4pOqr5bqbpZBvRlbEW1wq1xRbs9xTbFfyrTc+Ecx+MVtRO1LJZIMIZeR6sn4EMlHZHJWLFWUmR9TV1yAaCYiQrkFD7Sr0lYsNoQG+VEIEt1ROfh8ybG0MxsWa5DdFgAqAnQ1jPC1CIcXWXBFiYcl/McljJYEEInLPQ3LPw8EUIrEUglERa0GfyZuJYDOS4SZXuBlf9N4Vg+WTNcLcJFnftEKnGprQH2EMCkZQ4mfrudtymRFRnG3pP1WUHoOKth4ECzO2MhEjuNINKAvFMbwfMH5YECccPRNnnDAHR8yZiJH9gSg2igioc0WEHB2vX4eJY/2YMxWYMHYIfOKHdwzcLkfC4go3CkkRqKkmnHzcwfjqFw7D7iLEAhQy5vpFADkS9niV7DsGxx8zCnNmD8SgAcCe04AZU0ejvCSCSROG4JwvHIHTTjkQoUASO3YYDFvReIco2NISTv5mOEV0SkUfyaSNcHOyAQR8IaTTIj0DQQSlgs+mEzj5pGPxpXOPFjE9FuGQ6xevM8vuOIkTt5tOK6ldBVs90xL9GbmXURHPFcEkZk8dgTnTh2LOtOHYe+pQ7D19GHYbEkV5pFFEXa3c2ybJY3FJ1iLkJX0oHcPyiPHklgGS9jPyEONL4dRPHYzzPncoRo0cyh3guDYKaG1pU3oigZ8JuXWlG8Bi61+PLEImUCHFFyt/buV/IlackFTwGfhFAITTzRhemcVF5x6D844fjk/MHYK9p5Rj6m4hzJpWhsMPGonRY0bj4xWLsaE+aboG+5Vmxd1kVJQCCxevxwcLNyLrlNBn9xxSCNrWrp2NecjmuX2OK8iQQEkkg699dQKGSVntC/TDa++uREakqE/+D6Mee02qxElHjzCvWtx9/wf4z6PLMW9+CAsWrMGmmtU49LAZOGjfEuw2AnjvnY2ob0og6w+Zwn7rCvxcU0ARRI5JuERsyjJrmi59CEgog8kU+kZSck3NYKd1VgRbIBBCJpVGKhk31xKN+vCtr0/EMBGd0fIBeO2Vj5DKyL32RWSvuGV4jQAM5u7VzoexRdHsz9Th1GMmSZy3xAWvnOyipNOCST85M+HzgXLpnkcXIuUvy23z3sPNhdjdL7Fvsl/WL8tMM/rL/bzq50fh8Nn9MXf3Adh/Vn8csrcsdx+IY+aMxGEHj8OAPn1RW1WNRklzGRHnToAtRH74qL5zwdhRooMtVvTZ2q7K0xYbno5hd6eUd/6spHe2pPMFjgxGDSnH184ZjOHDZFNpX7wpZYBP7kMoxLG7PIbxmDM5wuZt1wp/b5ttCzxafMn9cNOglHQI+5pwylHj4M/KL8lfiqKpoAdRXl6O0kgYZYE05u45Hr/+4acwYwzQJPtWVQHzPkrgrXcasXyZ2+W57xQfLvj6IejXt0QKBCnoMu4AaTY4sQXIRxFgW9pMK86ubw2wXbWsaJpE8CxcBjRIuJetrZeCLYxQOihh53i3JPaYPBYl4nbhSuDZl97F8lXNeP3NxVi4ZA2CkXJsqmpAjUTO2nVAdfUm1+MdBSuZbNCIK1tJOmwpkEro3M8ehMt/dRT2228mglIfZbIphKMh9O3X17TgZLMBfPQxsKkRePvtVWhsloreIy6C4i/91sy8ZdjUvH1StSsAzFhLI79dMbJqZRqvz9uIV95uwhvvOlhfC/QLQx6O+uPb5x6MgSUBxEIiuPVtx81i8w1b2Vke8SWPNRskbt8FamXT4o8TZpxbU1MjMhnKcUXpefgctiUrXZ/cXYqLnX7BI0iGhyONZtMtZgSBWNAXkiezRuw2JIP/++4BpoVpbQ1w813P4s13lqFPv9Foqm5ChVQqg/uV4tgTDsXue/lw8a/eQFNdHBXpOlxy4TEYNhx48PHluOORhUiijzz/sUsvK0Fwu+M2S07ocRwXMWHcJlr8cbsFXb+zjqg1ET7lpTHEG6WizJabPZlAHGFU4Rtn7C9CqAzPfQj8/k93IZOolIK+jynY05kU/MEkwmFxn5Hr84fFK/cJvlPXKOTH2OSvzw1bMUxXaJZ+p5EMSYUivyPpUgSaN+EX3/kEho8AnvkAuOnOZ+DPxCScUdTVNZg3XYN8ocJJoaGxAZFwDKXlfRFPZCD/3HPnurcDOdGwufCz8rPil9fQ+ftjr6+t//QnHAwgkFiB2686HlFPXLBTmHQuVncWfBnE7+anbz2MRGCIpG+JUE+4NxviXDon7JpmK5A/WY3h5Slc/vNP8X0f/OvBd/D4K/PQmImIQK9En2gAXzxxDmbPLBNBDrz2QQpX3/Y/OOFBSDa76cLCFqNOYY/pZPe4TbeWzd1/m+c6my+2lJbw2PC3Pk8+fHKdbjzzpRsRyZkQUskkBveNIpNqRlLCmZLyICxijl2nvJut8MSty/a9nm2pShkHckVmnUMniFwJSn0bcNsVRyCQzpj8pSg7JhcqOx/J6H4njoDTgDNOPgBSf6BZCoIrr78f8xbUAWUTsKYugmbfADQ5A7G62o8bbrwPV/zxXdTVNpg3TE2hmPPOhclDRI0sWJD4OKjaaULYqUHUqcqZrGcbzHbIfoqS1mOrWLymEYA9bqMURRsR8lWZbQEnaSoFU2iZgiudO0ed67c5R538ds/hDzimcMw4nBMrhFAoinhTwggWgFOcNJnB+rTKyqgsJVhSHZtpT6Is0OVpXMq+QCgs5wrJegxNyYycVY43hbqbJRgmdsOGJE7dsDAcG83SDQu7LuVaOY2IUUBpCU/cnJeCMR83OQtK2OmMrYE+MbYGNjeuxuABPlSUye0plX3peonC1YhF65HN1rpTk4TDOTEhbqIVCAdKUVVTjzQFq2kOZati1h0Xl2VYm3LnzIUhWyfbJU5kf2FlLTForpH3j+4Yv7SIXG9EroEWQo24axCXLVORtEW2G+HYe2GqcR9uXAEt+hyhmORBeXSqd8rgKx2JpmBfrKhO4+93PIRaeZgqjwJjh4cQ8Uu+k9vJF0usQAnk8gHvS0m2RsxNT0x7AbkXzCfMZ+aOyHFseeUAfKbbwuO4dI+tkftZJ+m1QcJJucoWd3GflXwtxrxIv0NyDro35xR/OG2QhWmI7sKSpugf0zrzMv3leW1+NnFgygJbHrRcj5s+GR4e0yDxJv5704+sMxw235Xk8p2br6WME/fMPwgEESupRG19M5oT8hBmwpZFOsHwusMFJNub8aLRTJMbH8wTJm3XmHTOMDEu8+VPzpgvmG8iJr7lunLliskbHnOvuW3eUpQdhY5p62awaCs2po2FFaex2GPSEBx/5CDj7qFnN+CNDzdhU1VQDoyhJBiWApbOpXqRp2bHH8OGmjgy2ZCIHgfBQAJz5k5AeQXw0eIqzF9UhRTHTQV4npR5G65/aRIH7zcWRx4wEYfPnYzdJwzGyIF9kJQn3Y3xGvhjESTjLHT9qCgpQ0gEUiZdK27C4n4kDtl3FOaKTZs0HKlEApvWVyMYLDETZVaKekk3V4twWYeD9h6LT+w7AUfOnYY9p4zEwL4xrFi7Ak5AKihRkSXhiFxvFT6x33TsN324FM71WFO9HoEYwzcG0yf2wYQxfdG/gu2NPvQpjWDSxNFm/qZ1ck5OfTKw0ocD5szAlGnjsXDhQpSWiaBtSCEUCSObbDZv/nGc37RRJZi75zAcfeBk7DF1GEYOHoANa1fBJ+ovIQF35Ak4LZWCE1+H6RP64vADx+HwORNw4KxJ2HPyMAwod7B65TKkUiVSyQw03aJBpxGHHzAWE3YLYuKYfhKvATQmGjFsaAWGjKzAyN1GobY6hbhURtnsRsydPQX77T4ZqeZ6rNqwSWqiKHzBkFwH4zolFVwSMZEIMyYMlLCOwLGf2F3WB2D0oAqUiUBdu2INguEypEQcGAko8R30BTCwLIgTD52CQZVZrFi+DNFQCnPkWg+ZOw6HHjQZ5WUZCXdchGK1mbDUkWNYIRqBa8SqeCTxxPF6nOOPwrPLjmlrBedGMzIL/3p0oTyYbP2YNoOP84OlJEoaRYw5OOqwKSIOJB8tasDSpQ2IxwOSvmJSuct98mcwesRIjB8RRlAc3f/EAsT51jATp9T+fNCQXISYiKa5M0fiGEl3n5gzGWMGlaBfeQhV1TXyoJFEg1iwJCZ5wo9UkvMNplEeBiYMDeGQfUbjmLlTcOAeozFtt34YN7wc0ycNxcyZu6G8XwxrNq5BOuVDTO7Z8D5RHDZ3LwyStLJ+9QJxG8UpR83GcYdMxbB+ZXh/4XI5R5mkRXbnO+gbzWDK6HLsPX0Ajv7EVOyz527oWyFpo6kRqXhS8oTEbVDyqZQbKRFgnAAlKtc8po8PR0uYjpe0uffuYzB+9ACJtwQ21lShoUlEWjiKaFTytTx8hETUHT1nN3E/FgfPHoW9pg3F8MHlqKlei7qqejkuJsJYHmgkvR28zwjsv9cEuf4UqjfVipaT2GtOoqK0L5xmEV7pOowfHMHcaQNx5P7jMWe/yZi420D0iaSQaKhHKsu5DaMIcNJquf18QA1JXjr2gCmYM2sCVq//WOK3VvJSBAfIeQ7dbwr2mDIM0WAS1RtWy731SZnBMkyueysTOQ/TMW1KZ9Du0e5C7i611z0akqe9cKoB53zmMCng5VlUtn/7N49j+UYRXfEYymKVIhb4tprnidYDn2xLwvX4wXeOxeghwMOPLcXdjyxB3NcHKSmc/FJ4nPHJg3DwnJAZk8MexYjUMewCikgtw8Lq9hfiePh/r4gYi4m4kAJMKhV/ph5HH743Tj9lkDyVA7IJrJVKxH2dXNM/76jBcy+8h2isXAq/TRg+KIpzz5yLSbtBKjeIHBETdzysTuzC7z8m5y4zwqci1IRLvn0UJg4HHnhoNW559AXTKnjjHz9txrLRWHFyTJ/UN6b1Y20D8MOfP4N4YxP2kQrxgq9MR6Ps/8aF94s46SPXETMtXOlENcYMDOEzJx2EmdOBsBxLucLwEPEG1/9tKV5/b6Gon5iIrb74tvhVISctlX2UioxqjlHjkOgPVkq4bv0QHy2tRUlJqYjDVbjlz0chIx6Wi99RxqW443VWi8kmXHHNKixcsAz+wHr85PsnYkRf4JHH6vCvJ95AMliB5kQcpZEggpk6TBjeF9/56t6oFO3BXiy5XPM2Y4msN0qieeb5JG594Gk0pIKSNgKIxUrluAzm7D4KX/70UEi9iT/d8gBOPP14TJ3gnp9Ji9fbKAG76Z9vyLWuF3/L5WbLnXTMFYoj2emPm5YGtgIG4qt6Z/coJ0cONsOfrMEwEemXX3qS7Aduu3s+HntmOeJOOcoHxJCRdIWG9fjOuafi4D1DqJPDzvn+I6hKVUgyiiDeVIeQiOR9po3BF06figmDgGZGsaQP5rFGSSCr5V7d8I9nsXhjQvJSJbJpkcjxOCoiWRx54EycdGw5YuKWk/iWyXFxuaQ0b6bYRrmhTXLrbrh5Ad5+fTlK/SERdmNw7hdH4/0FwBNPPo9vfv0ApCViKiXzMN9886fPY5MclIknRDQGcNqnDsBBc+XU4h+9ZRqRICIt53viyQY8+NTr5uWmaFmpPMwkzcTQR+0/C589egAkiPIgkMvXYiK/8Le7NuLZ59+EJGcM6lch5UoNLjr/aIwb7OY55r1mWZK1Ugj86NL/oSlTgoTkrICvDr/+3iEYI2XW/Y8m8J9HX0Fc0jgFYEgUWNjXLA8RsyVewiaPpeT8zeIf73JElqs2AH+57R0sWl4rD68RkybY/cqWwN9+V8IwVMqLqx/BiDETccInx5kyiWFKywVzWsd572Zw/c1PSB4pQ1Yy+9Z2ITP/aPeo0hm0pa2bwcKxaEubrJeE0zj2iPEY1AfYJHXD/U98KIVuGUJSmESk5MtKAeoWC20x3ZKBJA6YMwF9pFBduLgG8xdVS2Ev1a88+XGS2ou+PAENonD+91wSz720AY8+9jHefqcaffsOQIUIiimjg1j00UasWLkBwUAIwXAWwwaE8N2vTjMi5rGnqnHn/e/g0ccX4IOlAZRVVqKxKYqlCzeYaS04Ce7nzzgM+04RgSaq6A+3vIU7H1mMF95qxsb6ARg+Gnj88cVSYIYQ5dcC/EmpPMZhcAWwYo0UoItWS8ErT7yJQViycB0qREFFSgLmRYP/PLIA85f68cKrG7FWSv5YLIxxu/XFvtP7met/6Im3TUuUX8KdTDVJBZjGhV85DLtPciuMx59rwsP/XYAFSxKoz1RikFQolQP64vXX3pLSNYtjjjgA4yR8ixdLxfXsWjz6xHI8+8J6rF7rw9hJpaioBIYMH4BX3/hARFUMwVAYjc3lWLNyPYb2L0el1LIffAy88k4V5n1Qj3c+yuDdd1fIPUvJPavHYQdNxTDxY+maesxfvFaEbFgqxAz69wlj4ugovnfh3oiI5pC6G/c9tQ6PPr8MS1ZLPCZKMWogMHZ0ACNGjsOb74hALi83UyKEgw52G1mO/feqhE9U+JwDpmCwVH7vvg88/dwqLFrcgEmTRGxIPTR02BC8+tYCJNKU3rLByVUgJkFJ+pBKh7PT99aWNjN8gC0h2ST6ShQdeegk8HH4ww/XSdpsRDASlQeBGmRTdRgr6eDE48cb4fDyvHq89v5KEVZB+KVSjoUzmDSyFN//9l4olQeAl+ZB8sxC3PvYIrz7cQOGjRqAkZL2pk0WkfXRCiTk6SybdBAT+bn7+Ai+dNY483Dy8NPrcOe9H+JZSe9pfykGDg0bjfnsS8vwwit1co9XwcmWmhbloQMCmLPPEMl/wF57jEJUnjJee78Z7y6oQVVjqYj1NfBlM5K+1uNrXzwae82QdCaZ4sGHV+JfD76P/720Hms2+TFjUhkmjQ0jmSnHkgXLIdkIITluyphSfPmsyeYB4qmnVuLav72Ox57diEXro4j0KUFVVQnWrauRJ0EfIsEmfPbUvTFtUgwfS57+2x3zcMfjH+Gx55ajMdFP8l0ETz2zCqGIiKRAQAThJpxw1ASUS5jXbAji/Q9WmzgJy8NMJrkeX/riJ7DvfgHTiPn8awn8VwT0S29uxDoJ79DhMcREmB4we7DktdVYF0+iWe5BJpCS58oafFLyQ3kMGCkRvuceQ1En1/zAfzfIPWsW/0swZgDkAdeP+uZ+WC3hT8iDpJ1yaUthStKWNqUzqGjrZrQr2nwpxEIJI9oqpAB79/06vPr+RnFXKpndMbOws1BorxrqULT5OZ4thY1VWdxz77OY9/5qrFzThNqmrIiS9Vj40VLsv+9YiAaQQjSEjxavl0owLFomiX1nTcR+UyqwanUCV//1Pmyq42eZwli9pg5vvrUc7727EMkEq0+KiEac9enJKBWFd+PfHsGLUgA3+ipRVevg7fcW4KknF5iXLXyIyjEJeTptEDEzGf0lvG/MW40PlknBL/GyWh6fVyxdbLpgBotofP+jhFQwL+HDJWuxdkM9Mg47oJLyVO/DzD2Hmjh9/Mn30JQIiphJo1QewWfvOQafPLAvmkSkXnbdc3j65flSMDdj2epNeOOtd/D2+9UikEJYIWrRlwmirqYJzz2/AM+/9LYIu2pU1/uwoTqOjxZ9aF4k2H38AAwWYfvsS0vRFPcbcbV48RKsXLYIc/eehGhZQCqD9bj17iekAmzC4qUbpGKoNC0V2VQ1jjp8OiJSgXywYCXeX7hR7ntM7pcU4ulqfP3cAzFC4mD1KuCKq+7G2wursbo6jXfmL8H8995DWbgUkydUYogIso8WipDc1Ii+/QchnWzEwD4+zN1rMPpJjZqRaPnjDc/g3odfwbJ1TfhowRqsW9uMA/ccjNJSH5aK+P145SapTdidRNHW8uTPlMX55br0lB+t2P6ijX1rPrlflSE/jj50Asrk9ny8dBOq5AmqsjSE4f1DOGC/GTjlxN3RV063Th5M/nHXS9jUGIQvEDPjI0NoxAWfPxQD5EHk9TcyuPGf/xGh3oimTBgr1q3D+3I/D5k1GcPkwWxDnR8fL1+PlKSnEn8KXznrIDM28lXJ+zfe8iCqG6JYt7EJb817HdOm7w55xsDajWk8+Mgbkgf6iDYIozTqx5gRUew5fRAGy7ElUnZc9ffX8OCjL2HJ8k147a2P0ZzwIdFcjX1n9MPJx46Wh0Dgt1f8B2+9twoba+UBsS6Nj5ctNaJw/LgBGDG8BG+8slIE0UAEsmnsPWUg9tudQwokX990BxqSlfIwERFRtsbkh8WLV4uAFLGUzkha34Tzz5mFqETtX259Ea/Kg0uzvwIbq5uxZNESPPv0IviCFSKUUoiURhH2N+Dgvcejn8Tn6+/WY+HStUiKwAn6E9hjWj986tihpuX7un++iPv+8xpWy/WvXN+At95+F++/vwR7yVPZEDm2T98ReO6dD5GSBw+mgXC2AScfPhVBeZip7BuTewD8+Nf/xPuL1mHxiiq8/eYHmLvHRJSL59HSGJ5+fj5497ImX2w5TElu6SzpiAOSZV1Fm1IMTQU9hiwikRDKy+WmSt5vakxIQSibpSTlp3VMYWBs62BT/VvyNFqbFBFY3gdJeSznrO5pKcGrmtIiVIC+8tQ6SmobX0oUSTZrJofNOuJGju/bJ4LSMnZWytOoKE0W0pzKwi+FZJmUfO4ngDioX+o+scGDByMUCiEh4iwcDiMcEvGYYWshkyy/HRpCQJ6KWY7FU1JwRt0WoFRWjnGiSGQjInhEiMglp6XCS0gFlRWhwxnc6IUjIjEUdj+XzxYRXzoL9nD1KSuRyqwaxx411nTnvvd+LT4WodaUleMDJUizdcIZiJUrsnj2mUVwUgNFqfbB6pUNWL1BwuLrh1S4BMlQACkRaxkJ+3Ovvmu6YNn5NmxgDKlEo/siRKgfkhn6ySkfJJwc4BSrRK080cdTAdQ1iMAUEcB4TMo18srdcVMpCbf7osRe0ydiqogxXseDT8xDrYSntj4s1ccARPwDkMpU4v4n3sAm8ZOx/6nD95OKKIXamlo0NzdImMRjuf5mCdyfbn4R7y9vRo2vAonYAMSl0p23eANW1rldWSNGcDKslPmOa7ypGT6pSHwcD2S+n7l1lVVPIuuTNCxp15cNIixpKSrxetqRU3DZ/x2Ny76/P3777f3x6YOHiVAGnnkrgd/8+VUsrokiUDpI0r0IN0mDe06eCHnWQEiOv+2Wh8XTvohGJFMLfl85Nq3J4M3nFxkhsv+sUbmB9FlEwxH0E2cxuQ3zXl0k4m2UpK9KpOShq6xsFBZ+wE53YOxukiaSnCImaoYYpDNxObfIDUlATEOP/rcGb725EQ2JAWhoKkNzKmbSZzicwadO2NeUIC+82oSV69JolHzW6POjWUIQl/z13NPvQ7zDcElo40YOQXX1BpNH+5XzmwWAaBvJtxI/PgeRaAipVFbyQhrRUIlcp18eDNzrlKRlHgeGDR8u11GGeHNc8ksE8WRWBJkfiVRa8n0QDbU1cg3ysCdxTqnt80siDqTkmaJeHsBW4ugjZph4mrcYItKqJH8NR0O6HHF5yArE+mHZmhSefW45R2tg36k+TBzRD9nGBkSlvGD8NDXxBaGgmW7n11fejjj6IRPsY74yk8z48PBjbyDCsmqonN/HcXYs6baFwvLZW2YX7lN6K6wHlB4AK4tgJGzGldDsm378Dh+F0zYj4i/gL4FfCqtMY7UZKNy3tAmxsNToWREATSJExFlIZAAHpVMtNYqY27CBo7+AQVIuf+6M4zBkEBskqhH00b0jhbgU+s11KCkXoSUBXyQFZI0onGOP2wv7zpxiPkOVql+BsmAaIb88jYvi4txl5gP3UvhTtJkeiQDfn5MVcZMWIZgOSiXIVjmJF056mpXtKXFsBJuITY5BMm+N8VAJrk9USSzKqUOaJWwpM+6Gb98uW1kllUtEPKFYE+FIy5aJVRjLOHJhPo6FERmVcqTSSiLsNEphXo3SYD1Kwg1ING0ylQcrh5CTNCfjWEROEkoRyTtFS0tA+PmxtIRTNJtp4cxkk3KNftNj4t7R3Hxg8otv0Q2oiJlraBBv3/twDWoTIqpFDDaLCktKfAbCZVK5RvDeQvFH3PUt8SEkERZAROKBccQWMuMt3luwGg0pqbBi5eJfCk1JB81xH0TfSbzDjPXzSxgZ51xvQTawmcWcoZfC65d4dsf6uXPx8WFi7cYMVm0E6kXMMN54E+OSJV5/7UWsXLMJviDHNyakvs9IOkxgkNxP5iOOcco47lvEgcx6hFIbUSLpSiQUaqvqEE/AiLSGGleMNcWbUSpiqY8cPLh/H9HWzfLgViXig36njcg2X2yQ+8jpZDiggsMAUpkmEW7NZvoYPljc//DT8Ef6uw8UaUnXaaaRAPi926Hy4MVBl4sWvgdfIIFAoFHyZD3CgWpERbRkkw2mSzQufg3oXylpT8ScJPR35y9DnXjerx/w1a98UfbJ9rrl8lARR0lQ4koCxrdnk8kkIrEKLF4ueV7CctqnRmPOHmMRiK8xY8yyThwRUX7RUknj8pTDfBFi2Fj2iXt2gfoYcRLJ5aURDO4XEpEHzP9gLWoamNdKRMTKQ5s8vnC9OVWCN99ZZOKEWaBPLCT5Vg6Qf0HTmg9UiYBculwebhzJ63IMH155j5nfq2oTZmxrQDJ2eV8pH3Jl7nZhe/ql9Ch6cSnbw5BKI5FIiXhyf/bpW25ak9h65d5ma21hBUPrCIqEdM0m9HGaceLcKfj6ifvg4rP3x28vOh6XfvcUzNq91Dzt8q1Ucx4p2EpLB+Dtd1bi/sdrUS07D5oRw68uORLf/voRmDWzH5ykFMSZBKJlEnZZZgPluPXu5xHn4RKeL58+Bb/97jH47NEz0S9QhRIReBwrZ6ZHyDpybSK+xF9qUnYtUbbJFYvoSUg4klLQihsp+xgDaV/GFKoZEUKOeSJ2n4oZ2qA4CHAaDvnLSgVXGesDKb9NSb5sXZ08zcfEufv07Q7CZ6udKwAzImJSAfFLKrE+sQxmjCrDZ4+aie999hBcKtd55Q8+jd9cco6pVNjaEJCnfNYK5iPv4r8RkbJkEZ0OSiVqTMIuojLjT8ptzT29M3K5kHOzXhJZZwTykAF9jd9VG7KorksilQ1K1AeRcFLwR/1SxybRmEhi+coV5riBpUERpeKHVEB+X1QqvrBb4UkYauuaJG5ZEUqVlIojKpVpJJVBvLbRjHcKh6SCNCZugowgpYUgAukS+DIl5p5ysP962Xrvy2/ju398AOf+7D/48i//g4VVQJmIrfPPORTjh0g6S4uYTjYhKOI8JqJsFPsoRbGwtfzaq8/EDVcfh3/88Xj886rj8LfLjsAt152Os8/cSx7Q3JarivIBCJVERWyn8NGiBJolIc2dMxbR4FoMiDVgQEkc4cwGHLL/MBFYwIKP+BZwSJJTBsGQ3GdJ/Hzrl716VZLU6iVvJMQcST/ppCjNTNq8ZRwLlKBSwlQp7s49czauv/J0/PUPJ+PG35+Av19xAv525am49vLPYZAIs3JxM2RIf0nHPnlg8OP9j6vw3+clDUl8TJoUwpU/OxwXfu1o7L/7UPQvSSMS9pm8XN9UL6GK4pa7X0SViMOsCKavnj4e1/34bJx+1FR54IsgnubH9+NGtEXkOsL+iBFtTI28DgpTv68UlWWD0F/imS8OrFu7CeWVfSU/88ElbYQXH7ZifYZijagy86Arcd6nb4U8lEiZkpUHIslD7CkVDY3G5hQSfBvKIHEmNzgg+axB4su2oAfkgVlRdgaSpJWegR9V1U1oqJfKVQqxoYNLZFuzPCVL6WdgQSOFCws1KwDEXYtYM7LBrHE3RQkLUtuqE5bCe++pY3HN7z6Fs04diQPn9MWY0XzZQCoPebxPyqH0wU/PpaA2Y1QSjhkPc9/DL+LK617Ca4vqUSbnmzwpiq+du5eIt2NRGUmbyqG+ISHHlmP5qjr87LdP4vnXms0bqlL245NHDsOvf/4pTBk/ALFwWp5sRZg5UvhmaVJoinHJ7h5uSztJsz8tio4FMoWcbJHKVPaLIGFLFp+U3dYhgRcsIjOZSIsgCaFSCngW/iyU6Yd5E42fxTGtKXKsGXMiOyn+GL98e9LfgPO+eBi++qXZOOoTgzBjchD9K8S5VAZBiUsjcVi6MzYlDtISYIaHwtLEtewJirf8IoWfI8lN1nTPR1yhJqezb20aslLRcB43oK6uznxBgd1RjINgIGC6VSnk2ZWUTLitGSVMFuInKz0fK2vWTAKTQUWfAbJNBKlUUCERc2GpuKIikn2cSoJuGMk52IKrtGDuj8SrSf58OJBtYckbDU4E9U45sqVjsLQqgD/e/G8R0SJs5DYed8QciduNEs8UHJLP/Bm5n2Um7Ykv+GhFDT5YkcSHi0VsLQJWrALmL87ircVpvPoh8J/H4qiV/J6U+xUrLcXLr3CsGjBuCPCLH38Jnzx6XxxxyB746U9Ow6BBIsoagKeff8dMD9LcWJ9roeKdd9NfVMKREWXHFyL4pahkOpErI0QgiUrk2+JsBly9thkLl9big0WN+GhhHIsWxLFgQRLvL47j7cVJvLoQeOH1eUixJTxSIg9M5XjwsVdw2Z/fwpIVIgzl+qZOi+ALZ8/EV885EmUlzENNKKsskYcNH9bW+vHjXzyDp5/bIAINGDGUZcAE/OpnJ2CfPcbLg5UIt0QCyXgKSQoqiU+2FAbZlJmhCI2grLRCfrt5RuQnmlLNkuyZ/5lr3PxfX9+IcnHHRi1eu3nDXhzQDeMjIllecrjERxSRmDwESzy4PnK/PEBGYyb26DbFpk9F2Qm4KVDpAbDCKMWK5W6LDt8wG9g3IpV8szx5ut12Zf4oAskMEvEmeXKMy1NrVgo0TsyZQTojhQ6fsCVFsM7gaK+UqCYOdg9IQThh5AB866sTzPQez74FfP+yefjMt/6DC379CC658hG8+N5qU1FxokyOWWN4splmlJfHUC9ev7ekHpf/6SlcfOXzeEcKdVZMc6YA551xOILiPhYbgIBUcOFIP6yvC+LPdzyD7/2/p/Hnuz7Gmhq3ArzwvGkYMUQKXqcBoagEhAO/5VQ8W8AJSX3Crj7Z5tagZj/1T5qTj4r4MCJJfjuO2z2SlpqJ12oL8rQIkeZUGms2bTAtD2VSkA/oU4KMTy5AKlRT8LOm8zWhKb5RxFgcTqJGhFYtzvj0EZg62S3kr791Ec664N/42o8fwg9+fS9+edndaJATUT47YRFBUglwMl920bLFjd23rA9jySjKkiUIJSPIxuXkfBNW7iZbB9xrFBN/uE4Y3nqpuOh3eb9ypFM1IhIbzDQgdOvPBBBImy+cYtjAEZBbj9UbxVs5b1O8WuKKc4uZzmxjzXEJvSOu/RxjKBW5xFUi2YxS+TPnzgSNMOH52V3LNVb3TF8015eehI0Zz3UxUqy1QtyIeIc/KfeI3c9uPgymAnCa00g0iZAO9kNDcymee2kj6kWM7LsH0KdcBL/cVL4mlImVYFXVJtPdH2/24Y9XP4Pf/P45/L8bX8B3f/8f/PzaJ3HpNQ/h51f/B7/5y6O49T+vSprqJ3mmrzn95OkT3RazRnmQKgUOl4edY44bal5gWbMeuObPC7F0jdwxXwSVot4jWXkYycaQSbmijVfpyFMOvxbCVutQZQUSIuDSkkFq6hrQKGFmS/7Dzy7Gr65+HL/+81MSjmfxmz8/j99d/yx+f/3z+Mnv7sevrnkQH6ysk4cxEa3VteKflCX+vnjlnWr8+HcP4NLrXsWL78eNKOL0MmeftS/80VpUN29Aozxs+aOVqGoK4d9PfogLf/YwbvjXR1i1CZDnN5zz6QlyzEgph4IiImMIi/HBkV2j8aZGSf/8ULyk83UrzfU0yv/hckcEJB/bgmZIAochsDW+VIqQcFrCwVvHvLF0kwhCKTPF74S4l2cf05IflzDF+SN339OyYL5NJ+WBSM7Bx54StswxEhVlB8M0p/QEpDDxy9Pwa2+8b+aeSkgBe/zRc9G3lPMk1SAQcaQCbjQD9vuUl5iPkDuZOgT8zYjyETqbkt9SibNskkIsk8nmhEIWfUSpTR4zDFL2o06e7G+583EsXi01Q/lobGwqQW3CbwQg4WBgtjSwuzIYFAmXTEqlwvmaoqhuLMHSVQlc+7f78PhTq0QYADMmBsz3UmNSgicSzZIiKbBKESwdhI2NYbz41iJcec0dWFstYRH/95s1CWVl8mSbrEdY3HLyXjOHWiAs6yJQ/FKYS6UU9oVlm4gX7hP9YyZ+ZfiyQTF2dbKbsSX5sxvSxy4XqeESccfM4cQyeFDfMOrr1sMJphAsCUi8NiGZbRB3IriSnC0+jrJICrP3DKFC3P/3iTfx3CvvIB0ahExkELJiiVTEvEjAC2A4AyIgg1J5sJAPc4JciXMJIsIStgBb+yQqS0Ixs52VaCYr8SnbeG+ojLNSazC6feJm2cq1pturvIJvmiWRbNyARGOdEdvpRBz9+5SJiGjGbmNiZiqH1VUUoH65vwnxJyW3PWMqNwpu2/roZ2ueLM19ZDOEmBtTjJScEe4zcGnXezCe9NIGExfuFwYCcrN4D3lPzbd8ZRvvdSYrAsiJ4eH/vWbSAvefcOQcOEzLIo5qahuxqaYJ7HmWLINUOozqhhBq4iLeY0OxsUHyiI/djv3RlCmFL9wPsYq+aJD7HYv4sN/sAeZt55//9AZcftm/8fdbnsWfb34Rv7/2Rfz2iqewcMlaCYfkYsk3kVIRJ2xO4/gsvkzCaxB8IjiZL9gCzO57TqthWoXFbZ0ULAGOm+szVPaXybX0kdQ/AM0YhEb/ADRm+6Gs33ikw/2RCVVIGRNF0Awd4CfXRNiXDUYyNBDvLNiEm29/AP998h3T+rvbbpL2wwlTDvEzbfX19eI+hLpUOariffDE8x/iij/ebVrUBkkanj5lN9Q3VEv6TUg6FjEmfrAs4dCGjFhWPE1lkyIA+fKNH+NGDpJ7IhHD9Gwu0v3igpOswuiR/ZAUd+z9rK8TwSflgkn7Uh66Tyc8gEe5XaI0i7nXsuQWvhTkPv4oyo6lg1JI6W6EAxF8MH8B3n6vBhVS8B+4RwX2ntAHJbFGEUEppMv8qHfiaBKxwW+UDuqTwEnH7YPymINoOISyUMRMt8GpCsrCAZSI+HHiaSTqq7Hb6P5mYty1ItbMeDIpqhobm1Ei7qLi17D+UpoKZuoDfiKHT6oiDCpLS0xLWkiSWl9OVuZji1cl3nr3Y9N1yFf1zYSVgST8JUkEytKIlMiTbkoKXyckVoK1VY1YX8U2QREzIjqTTbVwEnViEhY5VUrCxS7WrAgejoL2s3xukrDE46aL1ZHS3hdvkqfqIKIpEXVSyIdFlJruYvGTmYAthHxa98s1B0RkffyRuJFjDzlwDAb2i0jl0CxiTWoNOTgYdUSIOpg4YQT6VUZEGEUlvsypkWlypAAPS6XhjrFLxBsweEAJQlIpcEqUoFSA4YwILE6I2phBVJ7sE/WMT2DY4Aq5PtmelvsllQrn3mNHjgmhOGBjFitVVqB8K7C2OYPlq2pMvPSVuvjg/WZj2IByqVAb5cgmiedGNDSvxm4jSzBsmDs58WvvLzQvZBBefyjjN+Gy+ssOpuaH7c2LEHJfkqEmEQvcR9VYQE6s5D3o5fB+8WWTqKQFvq3Lz0PZb3emks2m9bpOktErb7pdzoftMwhDyiTNJOolDVXinXcXcUgbtRRm7TcOgwaInyIgwnK/y0srJU1IQqPfobB5QGK6DIrg6d+vBP0lz/cpgayXobq6Gm++vQTzF6zD0vU12FhfixIRUJzLUVIlqhqrzEsvKUkKpltXzmn0iUlr/OWmEd5b2xK98GMRXrL54Ln9URqQB0ARTCFJz3xpJhWUAPsDaG6SvCYPSLxOKTlQUsGxYQ1I+2pRLeKULd7+UB8RlyG8/dYq0yrWX44vD8uDGy+6IS7XIOt8EslG5frKJT4qRMhlsWRhDZolbwd8CYQikl+j8kAYzpjyg29xRvgwJGWYX8QfH2g+mM8vR0g5OHMY+vgbTJ6iYAvLPYlmm1ASacDxJ85CXKL0w1UQwRwXf0qk6JKr5QMs32iXGGD8B+ThKZwNueYETJnm5s0cxfKGouwAbM5Uuj3ydCiFJsJleOjpt1EjW/gFp699di5O+9RBmDGhrxTYVVLorsGooQ6OPGQKfvmT43DI/lHEpJBMyhOqa243XiqVQSAYlgJShE6kDLVSoHFWjcnjSzF+eB+U+2sxINyAvsEGfOb4IzFr+kAjgPimGQv5tJ+Dd+M49ZR9ccCsiagQt07TCikUa5Ft3oCpE8eB06VJfYIEH5VTCYwa3hefOWV/lPhrxH8RlqlNImzWYcyw/hg8kC0OwMqV1Qj5QyiN8S07nlHqMEnFrljMGgHCbrxARgIrxbQpdKVwpVgKyWnY8sGKxu1BdZO/GcOSq5gSKfk/VI5nn//YTIMgGghfOvNT6BOux+CyRvgSKzBpVDm+/uVjcMZp09HU0Ii62riZbJRjaA6cPQP9RXz2CzYiFF+NWVNH4tyzjxIxlmvNkvOYrkSpENKigjMigJua2TIJSJRgSN8ASuX6A+mNRkBHpHIOREKmhSMglxQQUecX48DnaFkfLFq6Dq+85U6afNKJozBz+iBUBqsRjC9Hpb8ak4aX42vnHmVaHD9eB7z63jIkJcL8Ial4gj5jfobJxKGJDiMOLWxtSbBSlvWWMT0BtPqQSgeCjXFKl7T2XfUcKNC8LS6MUhOfEkds5fZLoopL2nzj7Q+NyKc2mTNrJsqjfNM5JGIrgxff4ncCgBM+ORF7TK5Ev3AtSlPrEGxag3TtUjN4/4B9JmHKuGFyJ/g1ijTWrl+J5esl30n+/dklZ+E73/kiLrzgC/jaV07Clz5/LD571vGYvccolIpQCYQSkhZTIrayIqY4ptIjOEQ4cXhDvhXa5Ku0pAM/7n/0edRK4cAXIM476wSU8rum/C4o1iLirEVlpBbjRpbj0AP2RlYeojIJfo4qidNO+AQOnTNJ3KyT/L8JkewmvpuJyZMnS1oHlteKVqtpkocIP/aYOgFnnrYv+pc3iYjlt3g3IiYPgSMG9sfE3fqYeejWrtuAWIyDM1vDlmKONSMisfDc8x9K+pbwSvq98MtniyiUPCXhLM+ul7BvxOdOPwpD5GGmWW7SXQ+/hZp6jquVAySTsnzgQ4tN5YwP85DH6LAbBa7S3DLIbFKUHYpOrtvNYPFabHJd/ksnHdPUv0aeVhcub8T43QabyTKnjS7FwXsMwXGHjcfxR0/F4QeOxcyJlWbw7fLVwEOPvYVQNCLlcwP2P3A6+krB+MGSBOYvlidklJkqaNFH86UwHm+6DQ+dMwJTRg7HPtOH4NOfnCaCMIwFb9djeN8IVq9J4/n316BehFNMKqJjPjEGxx1chsPmjseUyUOw59RB+OTBu2Pvvfqa8Tc33LEQi1dSTPowY/xInHBEBU44dAz2nDQWe08ZjAP3GYUzTtyTvbdYtxG48755UtyXIplKS1gyOPDAqejfF3jv41rMX7ROytsoAlLAhqRSOvCAcajsB6xaK0/17y40XaKOPCVTPPl9Sew2oh8mT+lnuqMeeHQBUv4KEZtRNEsxvHL9WvTvMxKjhgWw2xAfjj50EvabsRvOPGEq9p89HEPp73Jg4Ucb0RCXKiLUH1PGxjB6QACHzp2CcYPLccqRe+Oo/QeZFww2iTgtEQH45KvLsLY2gbTcuNLyGLKZOJxsI2ZOG2zG1hy833jMmDleKpSpWLjUjw2bqpHM1uPgI6aaWd/fWbQeC1ZtQl1cRGiIU5TEUb+xDruNGQrRcDhoj0E47IBpmD1hBD5z7J444sAxpguZ57/h5jdQ3RRFVWPKvHDhk/MOG1KGWXIM09Xd/12KlI/j19xWhGQmJRV8CnvPGo+SviFsrPPjmWffluM4flDEo9xAJj9OA+pITRaQCo+T6558zCSJf7unBXdLV4Gtm5ubXNfLZkIv12/GB3IIgi+Do46aLIKIA/IpplLmU1SBYMrkV46l3LRhPT4xZ4Lpsi6prMCTLyxCQtJnRgTd6o83YcqkERjTX/LazCGYu9c4zBo/DAfsORRnnbonTjpuN0yfKvexKoKFCxeJmOdLAlksnf8KDpG8xfRdwRZs8ZvpdPxgeSAY5cP0Gf0wc++xmPfRSkmzEiBOkuzEMXa3GKZMG2pavf7zyFIJX6nkTb5h6n5T1phcX5JTwCTKMXliCYZJOj/2E1Mxa9oYzJo5EMccOB6nHjEWRx40CGMn+sz8ZxQ4ZQEHZxw+DsfMLcecPSdjr0kDcOCsUTjhmL0xd8++2CQPYrfc9S5Wr2sSYRSSsPTDiUdV4tCDR2P3icMxd/cxkocmSLkwFmUiFpeuAm7/90sSogqJSH5lIi4PnuPMZMTzlkk5tWIjmpMp89H46vVVkmeGY8bECIYO8OEYyUMHzZqAY/afhM+cMB0TxsTMA+pj/MLLq4uQ5NQ9Egl8AAz5mnDAfpPkoc2HtxclsXRZFbIiKp3cfp8vgT4VAcydMwoJ8eOZV5ahpoEPKG6Pw5bSKnXlVKHkKLiT646Xsisr+ct9SFV6N7nHKaVHIJVGxh9DQ7oEb4mY+PVVT+GpF5qwQp7A+QkWFuaiT8z3BJdvyuDme97D769+QAqHoBTGGTMBLbsT2I1WmwgiIY+byVAayYBfCrQofnf1c1i00m19mTwtin33LEez+HvjzW/h0afeQpOUNU603HTdRcrKEE9lcOfdb5qJdzkweuakvpg9cyhGjy5Bk5R0V/39I7w6f7kUnBIqqSTe/WAhXnk5a+YF220kMH1SuTx59xVhw+6kZbj6r0+jJhGW65NkGypDyqkw/ohz1CYjEk4OeHbHYfGNzGYRevzeIMWh4+Ns5bmncHHDqUn4iXV+V3N9IxBngS0xwQI5Le6T/jBuvPUx3P3gWmxogHnDb5hUfuwG5QSijz26DHfd/Szq5aKb4mE8+r9X8MjTS8wUALzWffYZjBEjgLffa8bPfnUHlki8Vct1pMJlxn9f1JH4TsIJhfHG/FV46KlqiPYzrVrDR0dNq+Km9euQ4gfjEUZNPcx3GhsS7KoVUSoFeGNdI8rK+ovobcDPfvtvvPRWPVY1QSoTTq1QYT6DxLh88fVGXPbH/2L5ynokkn6UxyqMaGPLbEoq7vX0W9IE54xzWyrkBytqSU/+QBk21ATMV6s21XACZ54/LUKXKcmDCGXGL1vWLPSlN8E3asMlFchE+5j5u5gWMpFKBCIlRhAxRjjeii1CKZTgoedXm+/vVkq6GjJsONJpB7GSvqhtiOAXv30Mjz2/QfKp+wb1lCkRTJb8MFDWN1UBr77cgNdeellEsoMshwEk0zjtrLNMi+jjz1bh+z97CP/visfwy18/gquufx7/uv89kx/4ibuvfflgSeBNZpoXvnnNfJ+SdXnWk7zGrlJJWxwcR0xLm4RbtlYnfHj4qdfxmyufxMp1slmOGTcmKEKsD8aNCJuhDitWADff+KGEJyO+hJCWh4u7734Oy+UBZ7hc56ypfYyNGAQsWQP88+73Me99UVuhctOt+tHCxfjfc6vMW6NjRkmZsbtPziFxK0F5/s1mXPXn/0iaTqJeCrREnC9QSdglbXK2ujjTbzAo6VPyq+SzUGwgbvnXf/HLa17HB3J+tjaPHCj5eIisyzErpVy8/i9v445/PSn5jfM4SnyYMXicEDyKhBR01fIzleEckiw9CVM1xVnYfBGGgk2KQNQ2cpsUEoqyg9EPxncXcndJytWiH4wPSAnKTzylpVIQmSVPrVLMprJmbIjjT6CsNGQm3ayq3oj6ZBw+EQt1TSnEm8WdiCyOkQmImImFglLUyhN1OoVGP8efsWuAY7FEPMQb5TxZDBkyBIMG9MPateuwXoQFB++nRVxUlvLJNYB1nNEyEEZQBGAgnUBEzj9MHvlLoxHRZhHUN8axdqOIFBFfHJzNJ+Pyygpk0xKubBMi6WZMGDkSMREMDfX1qEtVi7AQwRHqI4VyGThnEudoKssETGthNpRAYyaBJnkSZoEaldI3IrVReVnUvJnXKNfb0CRFuoTJjAdji5DEUijTbMby+UpKUd/QJPtyg/L97ArxozTD75uKQKmQC5HrH9Z3oGzPYsmKpUiJ8kply+EPlYjYycCRcFMs8TNG/ftJzSAerVktcRMuRU2NiKvycmSDIvBMjRKTikDqzYQU/cEwSkPyO16DvhUJid8U+lQOMp/5yvDNviwnyHVfRohQeErFwPF+FNmhoMSnVFJhqYEyjqi1QJUZ+N03Vo4hg4Zh7ZoNWCEmgRCRVQInIWmBU7GIuGIqkepa7ncWw6S2bYgnsSFZJtujZswP46dZKqqykrAZBxWUeNhUs8lUTKFgH/PGIeOaE5y6FRlvuYQnvgK3X3WcSBK7NZ90TUsCXXcNXCFi8lO7H4z3IiG3XYbFoLiRjNLcWCfprsTcx6DEW2NzQuJrkAixRpSUujGRltjhtzxDvhpERDllJR1z/JYoefelACctya1JRLdIaHFXIgKkX9/+kpYDJv/WNmxEWlSWz1eGaEkZ6uo34JPH7ouzjqvEio3AD3/+L3kAiCEuabK0LIaQ40OiYROOPXQvnHnadNPF+ZvLXsDKVbIiwt0XaEYpJ5aVe9sgTzHJoOTFICemFTXvS5uGH/NygkRPueThKF8sqN+ESDCBAf0qEYyWyoNLGnXVtSL2MvBH+iIp6cPPl2GSDebFoXBE8qSk+4oyEbGStzjdRlVto/miSpPEFV+s4Zu27OAMBuWupOIYOWQEYtEw+FWU6qpaZEVcsr+TwoxDCsISTr7pGgnx265+rG9qknNGEeRYWEnPQc4pKIfwpYVoWB5W5Mmrj8QHWw7r5YEnmy3Fuo0N8vzXl+MQkOBb4gKHV4TkHvSPUHgCG+Vcoaici2NmJR245Yc88oWazVdVElKFNsiTsF/EHYdkbA0sYyn7CB8qCa/X/WD8UVKO8jN/BQ9KSq9ERVt3IXeX2hVtUqDzjUR+/SAlwoG3Nd6YMS0j5ZUs2KVCl1KXLTQciJ7gIFupaMpFaMXr40a0ZUUghKRA4ngrvn2VCIsb+WkKFCfgvskoQpBzQVVUVGDDuvXoW1luCjbOD9YowicQCpnPW7ElJ5h0xCt3LE9DQz3CEj5+vsnHT1JJuPlCA6fn4HBfzmyVEaHpSOEUlYqKFUhYKp5UlhI0LgVrBHUiIpxACGEROfVVdegjT+ecET0l4kOeu0W8uWGNug/LyIgoZDyUVsbQ1FQvlRy766QiybW4UYhSdKTY7SEHsCBm5UtRwylEQhDRlE4jHU6IP1KAi8hKNjaJ5grBLwVoJisiRYQKPwOUdRLuvGjxJrkuVqgcLxZCaWmZVMBZxONxJOW+hGNhOT/FASfMED8krE6KVVVK7qGE0c/KXMRT0h3zFovF5Pa6kwonRXTxXvMzVnw7l3OtMb4zUinHsxJG07ErYkHiOSNxzzdVI7GoVChxVPBzQNV1sk/8kMrMJ/eLn7EK+n0oET/YStZgunb8ZhwS7ynFqyQKZKXSzDgicGNyPkk/aYlXH2f/F7cubiXT20WbfYmDcc43oZMpCgORwaFKMxlxJsv2N55BKnfxK5WR35IGK8v6IN4kDzcBtmJKvuVU/EJA7gkng+FDUVbSVFqUvkS/3ANJ65IvIkER4pK/Mul6nP+NQzFjCvDWvHW48aYXRIBUoETSPdMd01/En8Te04fgnM/OMvPE/fzSJ8ybqUm552kRTWUiZvgJJ/OJOclXDXJcMCrXI9fEPEVCkVJZl1zSSJEXkTBvkHQpeYcvLEl+ZRrKSBkhqUTCyLFxfJyRdBpxzMNk1kwZI/lKngQ5gW0oVgK/pKmqxo0i6qSgMW9tS3ikDODXUjjvml9ErfFFVF0gWCpCLGhEK8e0pZIcjynxEw0gKSKLU/JEJe45xUpU4rI5KfkhyIm7+UKPT65U8hFvIcfwyT+/r0TcV4jQrEdQ8nRDpt6UiRwPy7Gv5XLPmpvlPsqx/NoM8wLHdWbkWtmx7qQbRBRHpCz1o1YezEpjpW5EbQWMYxVtSmdQ0dZdyN2l9kQbCeQmSmXjvoH9mBZWKCKSWDgYwcRNUmHLL7PBLyKD220Bze3sheQGd5v84Gh5Q0vlZd+MIxSMHLNjwiTwRQEKM3NugUKGx9ojmPSMkGISNGERN7LXFGA0Hm82s0KkiJDVfMUpBbpUcK6f3Ewx6f6mYGuLPSsrGfnFuMhtY+VN3N88l/gt/vANSsKCnLgtDuKCharZ5/rl0uLG0pK1bJjd66Df5peNKLvfJ6JRsIPAGR5eD0WZcWPDw+uUgOSvXfyxU3O44ZDwm1O7V8TxggZz/90wWFx3LpzegbA1kfCDZLx/Zu47ExbP9eSu38V13+tEWy5dtODeL5smKKyJTyLcfHaNk4EJthuN+938494v7+fm6Ic3Lbnw/HTvnpff5G1ubJRlEKecOBcnHOxDvejAa655ANVVPtNqRqHHlr+BA2P48rmHYsBA4J35wA03PommZBRxCVeGb+iInxx7adIe3/CWsHA+P25nK74JnwmnyB/5zbDZ+DIvqMh2O/ygWDwxffpy5RH9M8fn4omflaMbu59wfz595/Jb3v/c9ZspS3Jx4volS4lPtuQxkYsXEkK+aOHu43ndY93jva1iZou9n3Iu80Z1rmyz4XTDI6JNvGf42BpNjP9yjDs/5dbBKFDRpnQGFW3dhdxd6ki08anTYAufvMjKUfDbigeLW7i1YAtNCz8Q3hEs6Ith/S30z4gP2WaTYOH+vNjYQVC4eWldJez88xfiSi6Gx4asNTZ8m/Wn0F0ufVhxaLGizJxX9lG0md+5youtFa3h8bKP/ol7V7StEtF2bK8UbS2i1qWlaHWPK5b+W5HNibq8s/bCIn7JoWVlZWhoaJD7msWksX1x4denoR8bhGR/dRVQWwM0iFVUAKNGi8iTOn/lRuCqa57HqnUpZEOlptWdn03jUWwB44MKH2d4bRRaFBOu2BFy12+vw6YPS9t0an+718EuYbOkp0JukfevMD7sdlt+tNVErc9no5/p2jwsyn73QdI9vxGHZpkLT+vT5cNj/bXp3p5fZLdZ2t8t7l0K42NLoF8q2pTOUJjLlO4MC6eCimRXwsLNFnDdAcZc14k9hoXyaQdkUVa+hQLEgzmv3DdWWrbiIqw0W5vbwmFNaY/OpazOxiPFBrsO+YZkmK3CGQcLP1iJS3/xNB57PimPckCkHzB6LDBzL2CILNdUA/c9UoufXfogqqpFkDvu1zZa0pcnfLkyxBX1ubTSQXrZ2bRbruTCufmY3hyt75cRVB6BVvhbUXYm2tLWXcjdpQ5b2gpbhgpbYAp+7+iWts35x6THbTYJFu7f5S1du/j8m2OrW9pyFFbDhS1Fhfe78P7kYSUvaZATm2pLWwttW45yLeE5CvdzDFhrioeFp2FIMukMAhz3Jb9T6QRi4RCiJVlZX4eyUh/8QX61I4N4gw+pONtxOCasD9LZUiSzQWQ5XswvboKc683tVjQtbQW32bYwWWw62FUtbfZ3m5ZidovmoF/cv3UtbS6Fv9tN/zm2a0sbw46gtrQpbSjMZUoPgoWM1yjSvLalFPrXxkQctLKC/YXYbe3t39FQzHRkO5pi59wSsxT+trTnzpqN9/bif3P78xSKGcWwufgr3N/WRC4VMb6NQIHEl3o4nw0H2/Pj5fw4U0NTAMn0QFTX9kF1dX/UNwxC2jcEiAwVG8D3hc3bjxyRTxHEfMqxp67fskHUg6y1MosNl6UlnK4Vli/2m7T2ty0XLPY4i9cv7/ZCjMApEFSFuMdLLMn5C/2jWCsUbF2DwnzE33ab5jHFRVOCoijbASlKVLztPET8mBYnWZpuVYn/LMWcP4KMU4G00w+pTF8ks5VIZEuQ8EXAd4LNJ6cCnIswDSeQa1mU++a+dGNN2XVoPlI6RlOHoihKN4XCja1u7jLYYj7OJyaWE2mcdDolQi0VSCITaBKLizZImq5D0+qUF22KonRlNJcqiqJsF3ZucWqEmjUr3DxGbCscMVPVcHyXGePlGqdycbFh1ypBUboymkN7Ehw47jEOxvVaYaFeaIUUHs85jzqyQpi4tsUKr0etY9vS+Cu8v2ZiVY9xYHXnTfzsbbB1ymPF4rC1FcZ3a2t992gdY8d2ccC9e4RIN77xi3RuKaIs93KBzwmaSWPzlg26XaKeYy1spStmhfe8Tfj5IoXXbFqzv/O4Zyz0rz2z8SeBMMb5Dc0ch560TCsskXLO80LVPatgr7vAbLisbe76C01RdgZMnYqiKEpPwLakmda0nPwoIlBoRrwoitKt0FyrKIrSCzGCzl1VFKWboHlWUZTtSEs3m6IoirJ9UdGmKMr2Idclp2wvbFvY5qyL4umm3Z50+qrbOX8XjzVF6RBNu4qiKIqiKN0AFW2KoiiKoijdABVtiqIoiqIo3QAVbYqiKIqiKN0AFW2KoiiKoijdABVtiqIoiqIo3QAVbYqiKIqiKN0AFW09AN5EvZGKoig9E5+TW1F6PVrXK4qyQ+jahYsWfUrXh2JNU6riRdODoiidgnPLu/PLt6wVw9so0JUKmI5DrSiK0vVR0dad8MkN45OXWDabQVZ+a1Wk7FR8WUl3Ns3l0p3jhz/LoqQgLVK9GQXHbencsutgCz+/hIvrvAZ/NuiaXFOLixw74JNMikJYljuSvmhZP/MYk1vL44/fV5AWlV6LpoRuRlMDUBqLwclIBeL3IWPuoFQ6DisUNbXtbxRprlBjxeJWLqxY4HOFGAWOTyze2IDSkhAamozTvGjz5QWbHNfB304jLyaBgFhQriWTTCKQDSOQiUplGRajeHOFGyWdG3qxXDwoyvZF0lUuX6VokjAz2SwkRSKRdPc7jiP/t/+n9A5UtHUnMm5NEwtnEfSl3NYAJyhbaHorlR2LQ6GWgykxIwKOLQIUNRRzoWAGEUmbTInZTM5Rnq5Tqbgt1C4Z0ZMVIjSZp9gaaPfxerzuFGXHwrJc8hHzkinPgbA/iWgobRp4nQwzlAozRWv67oXPh2gE2Huv3RDI1oj5EUiXSF6OSq4Oi1nxpqa2Hc10FVrkmd7nR8Yv5gsiLZYMyFIEXSDbjNkzJyIqSVGSah7v0V0KEZUc6L3PnuMR9DciE2xAMtQkljTX4wpSGwuuGO2y16J0b8wDOFt4owhkShDKSNnu1GLvWaMRleLd5/dJntKnCEXLoO6F3C2KtkMP3A1Ir0M4G0dIahWKNzOuqFXLhqJsH1hI+H0BBOBWHOymcdKu4DH4kgiiCf7UJhxxwASUy7NDfgiOceOXI40v/LHLaHV21n9ikYDkpzkT4M9Wy7XFZZt37J0Ns7ZwKNsX5iNrTlbyE/OUI7lEyvJQRtKllO0+KeMPPXASQuI+EOT/iiJpRxKLVvXdAd4ljmML+rGmEfjHnc/ixbdqEQgPR31zCpFYCdJOyhQAirI9YYuTz7wBI8lQ1FpakqGTTSMUFHXmZJBINmJASRb7ji/HV8/eH6VhSaYURTYpUvdwvE5r2VTwa+fBjiafCY38n/KhNgXcfM+beOLV1UgGBiCVAEpKKt38JJb1J034/Vm2ZncQah3vpnQSV7D5JX1JvpBynePXIsEwwsGAmA/p5mU48qAROP7IPTCi1GYmGtfbo6N9Sk9hV5WbytYggi2RSGBgKXDO5w7C7lMHSOW5HplMNVKpOlHgWdOMrig7AlYwJCDLoFQgYSeOSKYWQ8rSmDGuD87/4v4oEx0XYN1ihFrOCFuCc6u7DCsiTcsZzQe/iNFSCfPnT9sL+0wdgj7BJkSzTQikGxEU96xcVYwpOwKbnwjTYSrdgHh8A7LJNRg7KoZTTtgTQ4xgE0TUKQrRlrbugmlBy0q9k5EcHkADAqbF4C93v49nX/4Q8VRMMn4fEW1R41xb3JTtSUb+UgG2TmURkf/DSMGXrEE00ICZ00biG+ccgErWL2wNDvmRSWYQCPHdTA+2/nEXO1/E5bJExpeWoLDlTDb4w3AyUmH6/OBLerff8y5efXMl6hMRNDslSPmDYklkHJ9oNzsVSDuouFM6ibd89gf8Um6nZWMtEvF1OOqg3fGl0/bAQNmXkVTJkcruy2b2Cag9Nrdf6QmoaOtGOJm0PHClTGWYlmqzQbbVSU2zcgPw8qtL8fabi1FTFxfx5lYshbeWPVxuG0nQdHn5xRdWXi3VqKIUJ+1kkfaJEJMUE5P0FRUBd8h+M3DAfmNRUQoMrmxpYUs2NiNcEnMPJNzO+qSLiLasnaqEE34kJQOFY5JXMkhk/GhO+7B2I/Dam6vx8ryFWF9TZ6ZfYF7yZUS4iWjjm6V86YcvYRDKPXdSEF5iF8tLHYlMZZeRzbpTeLAlNxgKIhjMYtbsSTjskPEYVAGUhoAyKZ9TyVqUBGMI+EvkqNbleVtUtPUGVLR1K1oqBLfNw83Gdkk6qjLY7pHMAKec+f9w152XmEqT2VyLdaUYhVUA05hJL7LiTTvtpiHrgU2chR7ubHLhsJMDc0xbS8jdwLl7XKdsyba/6cq65G/uo/Q7+cxf4p7bfiSPUK4Pu/oSle6PbVPzSSoLSGpz0hn4gxHZwlRZNKcpvQgVbd0KVhdk6zOu5H+cfMZ3cdddlxlfKORaqitFaaHNKLTNlRRWsVh37f3eVTAcJgw2rdsAdTZgLReSkv/ZnXrymRfhvtuugDsogUKwK6EVfHfGVs0cq2zwFww3UHolmqu7FbxdO+aWaUJQthvUQF4dVPh7V5EPg81HXSVgitI+Dt8yzc+ho/R2NCX0MvjM5p3pnauaCJS2aKpQFEXpamjJ3EvJ9xRtA+w+8/5tK16/iv1tHrpp34pvbbHiW722OYod47XNUewYr22OYsd4bXNsidvtABOh1xRFyWMn37WmKGQnlc6KoiiKoijKtqCiTVEURVEUpRugoq2XYxJArmuqtycGzQyKoihKV0brKaVdWkaTFf/bVrx+8a8NBWOd2rrjutda03Zvy5qBE496TeD/7VtLCFr/tn9et8Ws0F3hn9dtMSt0V/jndVvMCt0V/nndFoHDajoywbzokrPuhjfshebSkiDtGqdl4MwMXDcxWJimTLpqbe4ci22t0N22246iWAwVM0VRtjc7MmcrXRDO5u59e1RRthdaTSuKouxYVLQpiqIoiqJ0A1S0KV0TtxfKxbuuKIqiKL0UFW2Kh5bRTfzbUrzH8m+LMYOEckYK17cU7/Gk8Hchdn+hbS099vhtHbOUO57fAPVaL4M5xGuKoiibQ8uKXgbHs3FcWx5bMbdbQSuKoiiK0hVQ0aZsN9hW4jVF6U2YNM8HImuKsh3Q8lTxoqJN2UZskbLlExcUbeUr/E0K9hXzq5jl8fpn181vCbf3t9e8tNruKT6924uZpbPbC83S3vaOwk+ztNq2FeHfClrFv7IVeO6Tpdg92hXWWYodq9Z5U5QiaNmqtE9h4ZH73VKdcI2Wzpn9nTN7fHtW6N5Ye3jc5P3geoHJv7y1d672tnfG8ueSn0X3y6KYFXPj3Va4r9Dac+Pd3hnb2vDTcrTI89ZYsZzfU3CcxZ6tx9NOi5uNI0+sF5j3T34zDrli4lNWrLl7t8zsPemsbYsf2/vYnmb2PvJnJme5XW4cuKt2Y0uKUHoz+fJVUbaEHVZ0FA5Ot9ZZih1Ls3i7r4wVcUszV1jMNkMxv2idpdixtHbhvi2xzVDs3NYE938X77qy5VjxljepqO26S7EY5ratNaHYfe3ItjfFzlHMehW85txqTqzlfwt5HasoQkv5oCibwwqdHC1Fa+uqJv/b19VNgll0e2dsW47dXrZzwm9b1viU77Sy1pLAWh5zDne1GO0e143Z4uuxNbLXBIn5nEnM23j0i6+8J3an3a7WPc3exwBN7q3XRLja/Nbi0JrSm9EU0Mvg07wvVzFsGyxM+L+3Ug/mlq0rr65r3rBvjRXzc2dasTBtiRXzs615Kax3iFYpbelUPBTmQxuhBm9syl2wrU/Gjbuv+D3tyOhTse1qO9ta398cFGo5scZ7tV2KaaXHUZBqFMWDt2Y2sCix49eATJZLd062bNZv6pVMKmMSFY2/1XqAOU7unvpyls1ty8JJJeBk3PSQbykqtF6ETfuG9uLB/rb5Kx/RaTi+lGwgzFNAMplGxsSv9bnFtu6vmE9qO9vyOH44aT8yaZ8kiSDiTsBYa4EnCcFYwbFKr0TKXn7uWOktJCTvn3Tmd3HvHZchJHc+wErDVCAsFDoqErjfrZxt8eGXQsZCLxIcSCteRMXPuGwItRJ8SneiMCXw/vK+m+QiPzg4nq22JMjuHUtuW54iacBtR2iLKyl2HcVD5eKGzLrwIyn/004+4zu477YrTZrnpba6gvbiwm6X346Tgc/n7ohnUggHIpDnHkRycZqUU2aYrwS/bMs5NWzxN4QLw6PsEtjdzVtHs+mFKYula+5Wmx5T7nPdyEOSWe7a/KF0DVS09TK2XbSxyqU7tgTIE2Imi2AoaAqb59/cgHfnL8FHH32EdDotZlsNujK8rq2hqxSgOy78rbvRs0imGxENBRCLlSAWjmDipImYOnUqpk/rgzJxwZKkla+Stryhs/tUtNmlVWM+8dkP5hbmsIYmYPHCOrz/7mKsWLkWGzdulEMy8lDULHuz+cmxt1y07dr4VVqTiicQDocRK4khEolg5swZmDxxLKZOKUVY7i3vFm8x293cFMIteg97OyraehlJqSdOFtF2952XmXayEDcyBXRKtFlzm+1TUgmINkNDbRP+ceu9yIT7YcqMWZg2bTD69nWfFpXujVcXhMWMsJAkkJL7/vabq/D6a28aMXDKyZ/EbiPcex7IlSiFosKmLhVtdpkRH+WH333oSYit3QTcffsDouOi2HvWfhg7tgKDB8m5JOLZ0mbjlMKto/AqXR+Wv7yHCbnxLEfnv7cWb7z2KtKZJE464TiMHxM16YnuWOIWpC6ll6KirZexNaItv8eTUtJSaTTIjuraLK67/Pc4+/QzMHXGsNafyFK6PR3dTtOyJg6ee2YJbr3zX7jg+9/BuNFBxCRdBCTBMN3YJEN/unqVw/C2hxt266K4aDMPKZ0pTfNuMpKPHDQkHUQiISxfB1x5xZ/xuTNPxh57DDDil+elmVZPMW/+2lxL2xa3xCk7BW8+4C2yt8luf/bVxbj9zvvwrQu+jgljShCUZMeXhk260Xva61HR1ssoFG127IRbIXmLkxbyVVWu4qCzhCwXrEriqj9cgwu+dBZmTBrcMjVBl6GjapgUv97Nszl/LVvrv2VXh9+LnMuWFN57LNvijcCSlY34/c034YILvooZw4PGCVuPeCaGkr+3NTZ2NB3Fiht262IrRRsjgfvzbjKmdS3tD2DNBge//OU1uOjbF2DUaCAqJ6TzAFJuyyW7Ngu7N+mgA/QBqmtixzC2hjeZ6SuAWkkUy1bW4C83/B3f/PrXRLixjVtRXLp6Oap0NaS8yUj5Epca6967HsapJ56BieMHyzaporWS6KHkigne34J7nJQKJhACJk4uxRc+dybu/dddaE6LqBfbGmnYs5EYMW+J5n7KU05QBFtWss7NN92Br5x7NqbsJvlL4i6Sc+IgJNIuJEuRhKzsi1b4SveH9zWARCqOYDCOieP64Auf/YLkpwdlG8zLKcxPmqcUFW1Kp2F3Cy0tom3ZsirzqvphBwxFWCrtTLox50rpFeRai8KiLoJBt5Vpz6n9JIFk8OGiDQjItpyTnkXuoqx0sm/QbhYz/CBnPlFl5rfP+PPhB40ojfTB1Ml9ze/SsOSxFtfI5PJdj4xPpRVBv9/IdFbMM6ZXyloGHyzZAJ9kML3/ClHR1kuxlY4XDhAv9merj6bmWrOWlNLj2effw9zZe7KHx/gVjfD9wd4Gs09H1tUpFuZixrvuwVt7yM23FQq72+fsux/efGc+GuUQHsW3HplIfPZNye6Mve7ckjFDON7M5Cdub9dsXLbgsMlaePvNjzB7nzkokYcf+kMBbGPcjT1XuBm242gWE26PKTsHjkhqMyrJ/Mwi4Pch5I+aLnG+QTpn/5mY9+4CxHMJonUKUnojmgZ6Gabq2MoCujRWbo7nuLg166owaeJIhFlhp1mtaFLq2RQItzxMTAm5+27rwKRJ4zF/4WIjMrjHfc+4vWN7G4whSltZSvwk0ynz1uCqVetMd5i7RwQunXrgG6ZscVFl1YNhyyv7yeUW+7L+/BvYEyaNxvwFH7u9HO4mpZejNa1iCoPOFAjuXPjiVlLN+o0bMHigu93PcTZdoj6xV9LZK+pqdPXw58LUSlVwmzssn6KjrMSHhsYkUrn0wPmlzLI36A3GS3tG7G3NvVTg93OeQ2DDhg0YKHnJjSL5X/7ZBytXsMVlKWa6VWWj108PfPHAa0o3hPfdYSLhg7Dkp7Io6ptSSLnZSFFUtPUacpXAtsByg/N0+aV2TqbTiDeLp1kHvoAfCb6ZoPQeWokCFiNZNKUSKIsBDU1xlMomOuHcaz1KsOWuxYqqrb42XxahkJlwx7SixSVj0SvHqi1ZMFa3tKUym+m+tXvxtypdes0kB4yC3PjHZKYRJWGgrqEZUR3TpuRQ0aZsESw73aI1i4oKU8KYX5HYjngt3S282rfN4VZ77dvWsq3Hd7fwe90Xhpvbee/DiIoIYfrgYGqK+yDTCp0XTlXRXbG1Zm5pJUar4QY2S3RoNg7lgUcegJqzzcjyZR7jjxtXFINcC8j/YfmLmDj2t25J8/sQ5+u7skykkkb0cLpedrsWCiD+LjT5L7e368BwUaDZMFKEJpO95IGQ94PzJgXkuvlmcSBmXvpiX2ncdaEouRJCUToJyxVbR5nEoymoF2NTAjtGg5IUskbA+EWkUXQEjGAzDhRCscYuTo9op55N+7PIyLLtZLjuh/oDErdShZt4tVDYZLNZ8xmkTDpjliTAV3kFijgvRVuqim3rArDbOB6Pm+sLBAPmE09GZPZo5N6aGXTdjlH3ztv77b4OpiikpRRQlM3Q9RKLrfxaKsFtY3v7tzm29/m2t3+F2Ipka/zv+UWNN+YLrZBi2yihjHCj4hUzq9yRwwxGz5koGyNuaBQ2plXKdYZgKCTbA62EWlHR08WEEEUaLZVKIRqNmmuz22zLm6L0dlS0KVsEi00tOpX2sKKC3XdGXLCI6Sndo9sJV1wxTrY+Jzny15SIY2PVJlzwrW/ii+d+Ca+99qrZJxIOoYAr5AiXFHAfvj8f533pXGNc72pkMhkkEglcddVVOOGEE7DvvvvizDPPxL/+9S8j5Iq2FhahPXHX2ePbY1uPV5TtgZamipKH2cFr3Y1dG/5irUcGqUPt+HqlfRhFbvdycSskHArj1ddewzV/vBr//Oc/8ZkzzjCCjWPaiLd1ioLjRz/+MW7++834y99uxPMvvOCekPtp/txYNzlPOpFEhl+oN7vd461f9IdLdl/abTQLxZXXHS2dTufX7b5i+H1+HH744fjBD36AmpoaTJs2DQsWLMDZZ5+Nt99+u+i5rd+ES57fu85lYVgLjePmCsNozYa12HaOtbO/eTz98bqx27nckhdEWmLTXbfjGxWFaFpQFGXH4a2BlO0KX/hIU6SI4Dr++OOx7OOP8cB/HjTj2tLZFpHAMW8rV67EAw/cj5NPOtkcxxYt9sdmKPBy9yjL+RbFr1A0YrpYKTaIFUIUKRQh/B2LxYy/dh+he46to6Cx49J4TCDA6YJbaGpqKircnvjfE3jxxRfx05/+FE/+70lcd9115vdTTz2FkSNHGj95PopVC4UeYbh4TfaNXGLX2dXqFXx0Z8/Prld/wN/yJq+Zc7IFe057vN3P7RxrZ3/zeHZTE27zbu8UDI4nShjzWjkrxdB0oSiK0k3J5sTEUUcdZcQJW9zY2kZRQSg4KEquvfZahIIhnHvuuUbQhULuCwsBERUZcUNbvmwZ7rjtNtz01xvx2qtuVyvFh33Jgcu6ujrcd999+MMf/oB/3PIPrF692uxrbm42S4qbhx9+2IhEhuell14y4usFtuzlKCsrM+FjuL22cOFCs3+vvfaCT8Qjj6fts88+GDx4sNnnFUfz5s3Dn//yZ3PNFG9snWPYLAwLu1YXL15s/CcUkBRb99xzDxYtWmQEHPfRbUNDA+659x5cf/31+Nvf/oZlEh+E122Pf/iRh801c269G2+8EbfedqvZTugHr/t+Ecc33XwT3njjDSNajeCT61GU7YIkKKU3IKU7SaUd51OfvthplvWkWCZvm/8jPG6T2Oe+eY35vWNpCd3WWVelWFiLWVfFho+JqsUyTsppktXPXni1UyVb0saZJLhM1slmcwmwC2OvqpgZMrJmTK5NLqdJNh192oVOMy+RuzswF66l5H+au5XxdZbE13pZZ95iPLVnaYljr5EH/vOgaaO5/8EHnPO/eYEjIsxZs36dE4/Hnfr6euMmLZl+yJAhzhmnn+68/MKLxv2frr3O7CPpZNL55aWXcuSh079vX6dfZR/j5pRTTnFEjDlNTU3Gbr75ZkcEjBOLxZzx48c7In6cyspKsz3DeMnBYy+55BLniCOOcER0OSLSHBFpzllnnZVzUZxHH33UuDvmmGPMeXnNXngdRISWc84555jz0D3DNGXKFOd73/ueI6LMuOGxDDPdnH/++WYb4fZ169aZ7T/72c/y4f7LX/7ilJSUGBs7dqzxhyair1U4RDQ6P/jBD5xx48YZP0TMOWvXrjX7fv7zn5vfw4YNc0Rkmv0nn3SyI0LX7Kc/XmsFf2bbTx8bZT1htii9HW1pU7owTJ7bYl2VYmEtZl0VGz62HljjJAVsMXG7ycxW+x9/mx9KR3DcWu7F0VZmKTa2zXRpCulkCmd+5gzTYiaCzLRI+bKO2X/XHXdg4/r1+NY3v4VQrtXMwv333HMvfvSTn+Cqq6/GmnXrsHbDelwt62yN4ksBwWDQdIdWV1fjpptuwqZNm/DWW29hzZo1GDFiBH74wx/mW/bYskS3l112mWmhevfdd437U089Fbfffjsee+wx407qHrP0IiLP2COPPIIZM2aY8xMROGbZHG82LX+33norRCji+9//Pmpra02L2e67727CypcZCMeQcZ3xwHBYmA65jeGlvwwvu0zZSscWto0bNxr/uBwzZgy++93vtkq7PIatjCLasGTJErz66qumNfDBBx+EiDZz3StWrMDy5cuNu3vvu9fEJTH5wmNF4T3OrRK2KQbEbesOZqVX42o3pceTe7DrXi1tSvcia9LH575zjVMty4xtPShoVOiqtOSFtmbYwS1tCcYTI63AbMuMNW9Lmwgbqh+z5L7Zs2c7o0ePdkSMmP3k8MMOcyZPnOgkm+POu2+/Y9xf88erzX1hK9v++81x9tlrlnHLlifb+jRq1CjTolYIz2MRwWb8s61JhL8PPPDAfMsYefPNN02L2BVXXGF+e8NnaWxsNK1jX//6140fbEWbPn268+STT5p9Fl5jnz59zDYbVrbMHXTQQaaly/otItP4c8EFF5jfhGG3LW0Mu8UbVuvnhRdeaFoT2Wpp4XG77bab8dvL3LlzHRGa+XPTD7YIsoVz5syZRa+3FYxSk1dSskJzw8A0YfOTtrQppCs/ziuKoiidhK03Z5xxhhmL9eijj5ptnNrjiSefxLe/9W3zgkJzU5MZ81ZZWSkHuGPaPlqwwIxJ+9nPfoZf/epXxrjOFiq2GlnYysVWqddee820gv31r3/Fhx9+aPbV19ebpWXixIn5sWeELVNS3xj/7CD9QjjejK10HH/HcWgcf/f+++/jsMMOMy8k8DiOQePYtzlz5pgWLtvCx/VJkyaZOOB5rBG7JN7t9lj+5rg/8vLLL+Pee+/F3//+d/PGqogtrF+/3pyb6wyjiEOIaDTuiQhBvPPOO8af3/3ud6bFjfH361//GqWlpaZFkq17irI9UNGmKIrShfF2kW6OL3zhC2agPQfJs+uTwiocDOGMM880LyVQYFC8sVuR1FbXoLqqyrxgQIE07615xrjOKTfOP/98445i7d333sWsWbNwyCGHmGk5brjhBrz55ptG/LALlVhBRJFCoWPFTnl5uTk/3VHMUfwU4n0bc+zYsfjTn/6Ehx56yPjPLlgeR3/ZTdu/f/+86CL2vOb6/AET3s1BAUgo9Hi906dPxzHHHIMrrrjCXNvatWtdQZc7D0Usz09hSf/5FizPx/Dw2hobG013MEUtX5KgMb4++9nPmuMVZXugok1RFKUz2GFIuaXVUu4kwi4sUItZp6GnhSZsbmwb4Xi2irJynHHa6Xjisccxf/583PDnG3DOOV80b2xSFJXKMpObO4zzsbHFrU/fPth95kzcdddd+Nc9/8Lf//F33H333eZNzF/+8pfGb7ZkcVwaRQzHclHkvPLKK/jqV79qhIsVSfSXUBDZ1iuKHQoaYqcMcbJFLkDIZFumy+C4NIqoYcOGmZY3QgHFsFBQWXhu+ksjfFOTwsq0JgoUjRYez/OTkpKS/D5O4strYyse33jl266nnHKKuR5X6LoiM5PJmG0Mg23po4DktpkSh3fccQf+85//4P777zfxd+edd5pxbp2CUVIQLe3da6X3skXliaIoSq8mJ9CsUHMKBFu7FKmQtzf8dFVWRMWJJ52ExngzTjvtNBEoaZzzxXNEQLVt2QpGwnKQiI3dZ+LNN98wrW0UHxR4FE5cpxGKm48//hh77703hgwZYoQYBYvtPuV0GYTCxx7TEVkna9x6ja12XFIgma5IWbI1iy8F8MUEC186eO6550x4GU5OZcIuTPuSg20ZIxR8FJgUXlYMsuuTsEuY10H/KdbYKjZgwADjliJz3bp1xh1h9y+Pp+CjSOS6VwzyBYqnn37avNDAayiMA3uNirKtqGhTFEXpKrCuL7ROQlEQFBFywkknYszIUfjgow8xY/p07DN7tvEnlUkby4h65JJQePzsF5dirYgetmo9/vjjWLp0Kd6a9xYuvfRS/OUvf8mLG75NybFsNAqhiy66yOynSKqoqDD+UaxY0WIsNz+ZFVLcxjnV7KS4Xr75zW/igAMOwJVXXoknn3zSiCvO0cZWu//7v//LuQIuvvhi06r26U9/Gv994r+4/Y7bzZcUCuE5OR6OrWbsXn3m2WfMOLnf//73ptWRLWWkX79+RtyxdYxvgfLafvzjH+OWW24x18KuXHaLUkQy/LaL10IBd+GFFxrBdvLJJ5vxhIxDnveSSy7BNddcY8LLYzukyP22n4VTFIuKNkVRlB4ARYqTdafHOOecc8zyW9/+tuxwa32KDyueuLStRQceeKDp0uPUHJykd8KECZg7d66ZVmPQoEFG3NAdXxDo27ev6UpkVyBbxjitBVumrAAiPI8d42bPx98ULVb8eEWP5Sc/+YnZ/73vfQ/HHnssvvKVr5hj2FV75JFHGjc8F79LSkHJbkwKTV7r6aefbsJObIsaxd5vf/tbcyzHqbE1jF3Gzz//fL5rlP6x5YzXymvjlyX23HNPvPfee3lBSsFlr4/hseKL+3h8WgTwoYceaiYVZssjw84xeRSg7HKmIOR1bQmd/+iV0tvwyZOEttn2BniXpaxheXbyGd+VwuQydw4gs5NsvpiQ52Nw5EqT2IXfuhZ/v+obZruiuDiSPnz4ykXX4qorvoEKSXNSrcl2qbi7QWtBRznASA/HuvAjJdfDkVEnf+Y7uPe2KxEVB64b/tcecrwvmzsPc5MfzeL+yxddg99feT7KZWvEUxzbcWy2C7bNb0aqt/gWMUHRVtiiQ/fcZov69lpuOK8bx4qxC5DjweyYMAv9oBBilyWXFHRe7Di1wta1LYFCii9J8BwUURyb5hU8thXPLtmixVY+tpZ98YtfNGPIeDxbBgurNvrNFjbC8Nt1C93ziwaE88/xt3fsHa+L56QR67/9TSgYa2prTPj5hinPwbCQwvB4j3PTTdv0wfL2PMlPf5D8VCbrrWfZU3ojW56rFEVRlF1PgQjg71ZCwEOhYCgGRRZbhUaPHo3ysvJWHznn8WxVogihmOK4NnsuLmm2BY3+bI1gIxQ4HNjPcFCMFWuhYjjs9QwfPjz/IgCn16AwKxYHdO/1q5io43H0j2avyWwXscaXKnhNXr+9buiXbeFjePitVL4xa8/DMHcIvfEEe/N3S+mtqGhTFEXpArCi9o5hYguZbVXbHrTy2120oqGJbeguGbgfUrdQnBS+8VkoerYXFEdegUXBY63wnLYVi6Rzb49yvBzFG91aY/jpr/XDK7iIdWcFp3VXTKwVg/u93b7Wv2Jh3hxe11w39839qSgq2noNHZc5iqJ0Iay42hG0JyEoPFK5z0BxbrdCvCKObE7IbC1ssWIXLZcUPe1hxZB9c5Vj2vgCAYUTxZwVYF7RxSk7rLjzwv00npNWeFxnKBRqWyrWFKUzqGjrhbBCYHFSaIqibAPFMpXXthMc27YlE+4WQhlSTIpEY1EjzPh2Ka2QYgJmS0RNZ6HoYksbw2LFVDEjFEbsFiV8c5NfIugI+mvnlCuGt7VsS7Hh8go+r3UWr0uum7na3J+Kommht6HN7IrSFWBO3I5KrpdjW7a85sX7m2PNuhwMnifI218KKz0FFW1KK5gg2jNFUXYAPn2U2tFsSUuXonRltC5WDKYZnsnBacc0qXSajsbhKEpbNL3sDDiHGj8GX9gKpyjdCa2JlRwUZ7Joz7p4vVKsS2RHwnNxsLT3szaWYgOdFaXtw4/NVO6SD04+z5/jazHTUsT5z7zGbV4r3J8zO6YqIH7S7J/93Z7Z46xZmNaZ/u12znnG5da8KdkR1v+tMeJ9eOL6N77xDVxwwQU7LX8WC5fXiiLR500hHM9Gl1pRKxZNC0q3hZUFX+3/wQ9+YD5z025BuAPguTiomcaZ4T9zxmfw1ltvmUqLs79TzClKG7ay1borPDMxv1GwcaA+v47wuc99znzflJ+G+uxnP2u+TMAPyHNi2e0t4LYU5k/vCwf8vuj//vc/8zUH73QiXRWtmJX20LSh5JBqgZqnI/OwMwVSe9jZxvkJngceeCC3defBSozwY9X/+te/sGDBAjMhKeOGn/JRehkcm+Zvx2x2MTrGCrfuVfwyv1GwUZD9+c9/Np+X2rBhA1avXo1FixZhyZIlZp0fcrd5g8LN2s7Gmwf5vVSKSQpNsisFpaJsCyraFEO+CPOKtELrgrBFy37n0AsLZW/3yI6AlRjPYb/paMSaVGrsfuHv3gjTEY0x73TRNLO9MKnLtJx1klY6gcfZCOoeacW2HjNtc74zfuqJ39vkx935HdBnn33WPDwNHDAQ4VDbLw7sbJg/bRj48fmpU6di0qRJZltXeOhUlK1BRVsvIyQPn2kRGnYEltVjfAlhc0VsUzwJfq3PSiSjiUztnLOdDAtfCjaKpmLjVDiDO7tzKKxoy5cvx+OPP45rrrnGtM7xG4XsXi2ELWZ/+9vf8Ne//hWPPvooHnvsMTzyyCPGvReen5WX9d+2LnBGdv4uhNtefvll3HTTTeZj1K+//np+u7eCW7ZsGW677TbTmvHUU0/ltrawatUq08px/fXX44knnmhzfJdDEljb2OimeERaPsZlhXkoLRfZnjE58NOljmS8bM5ImjrICSK5Nb3pNvNa6yS8gq0p+L0PR/aj8Pw2KNOfzUf2wYVGccd8xu+D1tTU4MYbb8Q//vEP021JAci8xbTOljmm5VtuuQXNzc35PMt9zK9XX301HnzwwTb5lX7cf//9eT/+9Kc/Gf+JHWPK8CxevNgMXWDXKH/TbF7tUjBBFWRjM0dbwTallyOFvdJLkALRLA878QKnWpZNYglj2dxSLFvcUmKkSZZ1svz8t651MhlZoXFfbv/ORAp2Y3vttZczYcKE3Nbi/OY3v3GkojEWDodN8bjbbrs5L7zwgtlPf8ill17qSKHujBs3zhkwYIBxT7fcJsIt787C31KhGHe33nprbmtbPv74Y2fOnDnm3H369HGi0aixs88+25FKzPiTTqWd++67zykpKTHnnzVrlnHzk5/8xGlqapL4zjj//ve/nbKyMrN/jz32cEKhkHPJJZc4UmnlzrQryZo09dnvXONskmXabGMCsf93bWxyLmaGrKzxhySBpCxqZXnMGd9z6iTjMFXk81ARM/kn5Vpa/KAR+vOZC65y1sp+5k5ubs92Nd60P2PGDJMG7TZbthCblgnT7//93/+ZvMZ8JELOWbRokSPiy/y++OKLTd7lOtOyCCxz3BVXXGHcevPr6NGj2+TXSCRi/GdYbD5lXmNeITzPT3/6U+P32rVr89sI/fDaLoWnZ5gzuUSSu+MpWXzhwmtMec10pCja0taL4JMv26PM2BT+zpvPLM0Du/xXzOyTfFSWfIbl02pXx3bnsNWKLytwoLQdb8NWLrbOffrTnzbbJC/gjTfeMDOq//KXv8Q777xjxuuccsopEPGGNWvW4Oijjzb+EfsGHf1ga5s1IhWAMft5HY6lOf30080T/3//+19UV1cbO//883HnnXfit7/9rWlhYOsEX6gQsYaPPvzIhPGjjz4yg715z3j/uH/mzJn44IMPTOsBxxKxBcHOCq/sPIKSBeJxuW+SmZo201JmuopzWcas5tbZIFRSUolQ7nd3orGx0aRnGgf5c8kxbSwbmJaZz2i/+93vIKLNtIi9++675mPwfBlABJlpceYH1rmP+W/o0KGmi/Wiiy7Cl770JdNCRz9ee+01k7+YH21+ZZ5hy9vll1+O8ePHmxZovhTED95beB62mssDEwYOHJjfZlviuhSeNGLxfi9WUYiPyi23rvRwMqLYfEHg2E9/H2d/9vMI+6pEvDXJRtnhBKUgjCKb7/xsDeVe0N8sj8ox1DuD8dQTT+LGK75mxF6+oNnJhYtNunvvvTfq6+tNt2YhFE8ssNlFw0KdBbbljtvvkHg423SrnHXWWaZ75itf+YoRV2PHjjWij92Pn/rUp3Drrbca8cQKiZWIHc9G0cZxPSeddJIZN8OBzrZCYMVFWAnxEzusvL7zne+YbYTHT5482VRMa9euNaKsX79+RpTZblG64XZeK89NAbn77rubcURdD6lIJRF85aJr8YcrvoFK2RIwHaP+3P9dG4axPUzYTf+mexUpWVCnnXrG/+FrXzwOkbAIt2bGQPH8w/bakCQLn5wlwxcTBL/41yx57raHX8Effn8+BkSBls+ft2VXx59Ng4RpkAKMcBv3MW9deeWV5mGEsBu0T58+GDx4MObNm4eK8or8p6mYt8rKyoxI48MJ0zXh9tmzZxthxgcTvmhk4cMX31Jlfj377LPNOSn4hg8fbsLCrlpvGMkzzzyDQw891HTNfuELX8jvYx7dWd9S7RSmKGO6EJNgSK43f2yP/PLF1+IqyU8lsrej9KH0DnZ1OaDsLCTzc/xMVpaZZARVm5pRvVHMLBOybESVaQHaVNSqxOrqarBu3Vps3LgJPj+/sSf+0ljW7cLyrj3YwsUncT6lH3HEEWYMDgt1a/vM3sc8vbO1iiKMlQvhE7+lqqrKCCcOuraFOt0S/rZmf5sl58YS47kJKyWe7xOf+IT5TaywO+SQQ8w52PJG9+eddx6efvppHHnkkWYsHVsz6JZ+0w/up6Dj9XA/W/MYPmUn0E7HxJo167F69Vpsqq7Cppp2TPZVVdVIPqtzTdZXrVoneakGJbFSlIpg626wxYwPHEy/nFKDafFrX/1abi8QjUbNAw4/5E7xZkUS0zHzItM707kVbHRL0fb2229jv/32M26Ytq3tu+++5li2PlOglZSUGGHIfMXfxOZBC1uyKSYp8rz77AMVt1nrEkgwvLnZfidac7iSRzKB0hvIDdlIpB3nyJN+6tTJ77j8tiMoaBzp0ZHF5Vi6W89xFt++rsuPaRNB5qxZs8aMjfniF7/YavwKjePEmAXk6d2MweHYMo7BkSd356KLLnIuu+wyp7Ky0pEKxOwrBo+7//77zViaW265xWyz/lvOP/98cx6p2Ix7hsvCMT3ct2zZstwWx/nLX/7iTJ061WyfPHmys2DBgtwe93xXX321M3369KL7dy09fEybZ0NSbi9HER5+6kUmbxBee0M71izus3SYkHiRiKElmt1sc9a3/+K6EfOcoo3tarxpmmPapk2blvvVso9Lpm/7m2n0y1/+svldaHafl5UrV5pxbMyv9MdrzK/My2eeeaY5ntCPc845Jz+Gzkt9fb0ZP3r66afntrTG+tF14F1Oyf8pyTvuHWeasPlJx7QpRFvaegvyxJZMZMEHzHS2wUyWzmdNr7FjpyOLiCM+8YW7SaqRgh6DBg0yLWMck1YIn9gJu0L55M03MnkMn8o5Xozdnt/61rfMG2y2dW1LkPxlbMiQIeb3woULIdWV6e60sNuWsCWPLQ2Ek5WyO+nf//636fLlmDXuY6sCYRcuWyPY7Uo/7X5l15BISd6SZbE8kzfJbxyawB8cA0cLRyUvyqaM5Eeqj+4GW8rYMkbjuoggs31rW62YVzjujF2iHBtXCPMrx8FxfBzPQfeEy4x9HdfDfx78j2kJZH4pRpdpXSvAmxa4bsa1uT8VRbtHexNZJ4mklG1h0R8cK5E3KRKSUn2kNmOExVxDbqLxrt49ym4RCqQ99tgDL774Ym5rC/wOITn22GPN8oUXXjAij4OgObCa03z85Mc/QUmMo0m2HAopTra71157mbBQhHnH1HEKA57juOOOM+H0CkOKx+OPP96MtaNA4z52N1FcWj841o4Ck+N5tkZUKtsGk3wmnUap3A7eEVawItOL/hlY88pqhiYrFDncEwo76I6SmwLKGtPvtoogHk/B1lF+5Xk++clPmt/2fNzmnY7E8o9b/mEemObOnZvboijdHxVtvYhoNGxa2nw+qUaktmBrmzHZZ1sEONC1PSOsZEQ7IC2ioitgC24KIA709xrndiKXXHKJGdjMwdMs+J9//nn86Ec/wi9+8QsjijjwmePGPvOZz2DTpk0YOXKkMVYee++zN776ta+aN0kJn+rZssAlWxcamxrNOo1jzH71q1+ZT/zQ7+uuuw4NjQ047LDDMGPGDFx22WXmLdbnnnvOzF918MEHm3F3fGOVFfj8+fPNWDWGkS9NsCWNc1nxrVX6//7775vxO5zdnS10/ArDQw89ZMYMKbsGn899I5upsDD/hCS3WDOvYuQecny+rLh34PNn3OcdyY9uKu7aeNM+ja1YfPmG8wnyJR4a3wZlXvQKOOaTYoKOYsu+aGBb6fhG6E9/+lMzlpMPO/fdd18+vzJvHX744ebtai98iGG4LPSLczLyJSLmaT7Q2DGk3QFvTHHdzNXm/lQUkxGVXgNHSzjOMad/x9mUccdLuOPVMk7a7OnI3DEWHFexUeys868yv/PsguEhUjg7iUTCOfmkk6klzbgyrx1//PE5l44jQscZNmyYmQONbvv372/mP7NjYejXk08+aeaE+t73vuf89a9/daQycr7xjW+Y+dpExJlxNcXg3FFScRh/OR6HftilCC0TRo6v4dga647h41i8Z599NueL41RXVzuHHnqoU15ebtzQjjnmGGfFihVmHqyqqqo2+0WwmfFw7Y2527n07jFtLswI1jwH0HKbM7m/rBzJYz/33StMfHX1MW2E+YT54MQTTzTpj+nZpmlrr7/+uslXTPf8fd555+WP9RrHj37/+983Y9UsXGdav+OOO5whQ4aYOQnpB/Pr17/+9Xw6t2NDue+CCy4w2wj9Jddcc43Z99577+XHw3VpTNrgXXbHtDF9EB3TphSioq2XQfl1zGnfczZJjdoi2nIVbJF6Jm9uWdhlRJst+DvC7mflYeHLAEuWLGl1rF2fOXOmc8ghh5h1CysHTrjr9/udN998Mz8xp1ckFYo56x+328rF64aTf27YsMGs2+3e8FDg8eWCunYmzOX2jz76yLjrWqhoawVvqddyx1pveM+NaLv4qm4j2og3rRJverfYdaZ/CibmG7rzWm1trdlv3RGbvwjdrFu3Lj/hbmNjo1lS1Fm4zrxo8yPPy/Ptu+++zuzZs/P5z/rfZTFphHGmok3pGG117ZVs59vOZ9qdjM/nzvXUUbcH3XBcmaRzMx0B3XJeJw5k5vxqPF4K+HzXDactYLcku2ikwjDbyCuvvGKmF+D8aeyKIXYMGf2nEak4zJL+8ZwmjOlUq/E+dMvJP8vLy805uI/Y/dzGiXInTJhgxrAVwmvg/okTJ7aaUNcbXqWLYNp6PEa8fV95ukcxbCeL9qZlpnMzwbSkS6ZlbzrkOsdg2vxQSEVFhXmBwB5DP2z+IjyOY0z5ohDzlp3Wg/nCdofasAQD7pg2hmHlypV49dVXzbyKIg/NNjvFh6J0d1S09UqkkCxaeXQvOB5mc4UxxRWNE3l63bJyoFGMWfi1AY6FYUVxwAEHmLFio0aPMoOi+R1SW/l4jWFgJcJ1r8iiW5rdZisXK/a4tILNC7dZt94KzMJrsMdZd6SYX8ouwCvSeHtaGfMdR8DR3O/FGqdZjnDr+jAPWRh2pk8u+a1dm7dsOrTp2OaRgD9g1r1YP+iOc7gVTnbrhfnIm97tuek3zXssx3vyJZ5TTz216AsKXRqJIm8scDwbr1pzt2LRtNAbYeWhtIET13Kw/29+8xvz8gAn+OTLA5xqgJ+hUpStxuS5Yta9cbIi2toRW1ZkcWkmnPaIrmJsbn9HUMDZVnd+AeGef91jXibaFj93JVoxK+2haUNpgeVbe9YL4NM7u06/8Y1vmLc/f/7zn5s50Pr17ZdzoSgK8YqhjoSR3bejxRP997ak225RRelpaKruZegNbx+OZbMFPcfpcKoCsrkuWKUXsl00yJbnxsIuxl2FDUdHXZqW7SXYNjduk+Pe6IbdtbQtoavEq6JsDq3DexO5csnM+0Pjes527HNw98AOdCZsdeNYGS+sfDoypYezXYYVeHOdxV337ilmhJM1225Ar4ixDxg7C5ve+aBTKHj4u3BbYV4pZpuDXbFeCo/hOFFu29z4uEK6hGDjpTAYBUGxZbWiWDqfspUeTvcfX6MoO4VWWqGT+ca8qL9txS3FBcUIx4dRpHm7/wofMHYGPD9f5GGrNN8ktWKSdEaEbSnFWry3x3kohHdEeBVlR6CiTVEUZXvBur+YbUcolnaFSGsPvqH53//+Fz/92U+NsKQA2pEtf/arDJZtFVxdZvhDkbRivju6ndOP0r1R0dbL0BuuKN0TihW2Cr3xxhvmk06c1oKfQvvCF76AG2+8Medq50PRdP/99+Pyyy83n5/i2DIKuc2NQdtS7NxsfLt7/PjxZv5EC8NQaJuD3/TlW+Evv/xybkvXQfs9lPbQOrwXYub+ocm6NUVRdgYscosXuyYfsgGp0AQKoHQyiSsuuwz777+/ES7r16/HgP4DzDdvzz33XCPgOM+gFUtsjbJCh0KK3Ze2lcoa3bJVjNu5n9u83ZyE2wjHr9Gtd79d5/HsIuXH4+0chDROXm2PJzZs9Mdu94o7Gx7C75jy28AWjjMlFIS8Hs6nSOw12iWhP/Z62mPx4sXm+72LFi3KbWmL9ZP+ecNp/fWek+teN5Zi29pFEoHXNVvZeKYt8EHp4aho6y0w57dffrkJoYP9iqJ0TIcVa5unI8lxnfwgDQUCB+Hfc8+9+P4l/4eDDjoIH3/8MV54/gXcfsftWL16tWnl4lcAvvrVrxqxZIWPFToUU+wG5G87hotGt2bJD99n0mad02VYvC8a8EUddsvyKwbcxnM0NTeZfXbS6EwmY8a4WdFkJ6+24sa+TEDhRT8o9HjOQhHE49kCdueddxo3xLrhJNgrVqwwXxbhNuuXvVbCsPF67TFbi/XTilBCvxlmhpXntnDduvFCt6RQDLfBkz62LdRKT6ZzpYbSOzAztndgiqJ0CHNJMdsWKDzqG+rxs5/9DIMHDMRDDz1kPsdGUUIRRVFw0UUXmS8APPLII+YLHnY7vw7w73//Oy9eKIZ43HvvvWf8IVbQUXhR+P35z3/GH/7wBzz66KPu1z5EaFG8EfpDv3k8vxJCYVVfX58XN1xa8fLIo49g2bJlZv/f//533HTTTeYlCsJu1Hvuucf4cfvtt5tPTxGGgefgdVCMkieffNK0JvJauI8TYD/wwANmH39bI9z3z3/+E7fddpvp/rQiaotauzxQMLJF895778XVV1+NBx98ELW1tWYfr9WKN/r/7LPPmuthC+HatWvzIo1uKPReePEF043N/evWrTP7iuEVbFw349rcn4piEr3SG7AfrBY+9emLnZqU+6F4bnI327WOrJ0PxpuPHburSm+mh38wnh/05g9J68w77gfjL8x/MN7rvtBc3F/un6xJBDE/ffY715k8ZfyxeclaJms+di5CzAn6/c73Lr7YfABdRIL5MDrhOvnf//7niEBwfvKTn+Q/qi5izhHh4tTVMbQtfOMb3zDbrbuqqipn6tSpjogmZ/jw4U5lZSX1gjN37lxHhIsxwnOec845Zp8IOrOcMmWKc8wxxxj/4vF4Pjzc973vfc+ZPn26I8LQ7F+yZIlz/fXXG//LysqcadOmmX0igJxbb73VHLdgwQJHhKE5nsYwcSmi1ez/4Q9/aH4vXLjQ/LbXcN555xm/GK5YLGbigsfY8BQiotGE6ZZbbsltacvll19uwkZ/BwwYYM7L+Pnvf/9r9vN6RZA5hx56qHE3Y8YMZ+DAgSYM9iP1dHPQQQeZa5o5c6YzaNAgp6SkxOxrDVNFSvINzU01vMNnXXSNs0GW+sF4hWhLm6Ioys6AxW3RqT+KF8OiNthMY1qnln28DGn5PWPG7mY8FzGtYLkWJi7HjBljlmzdYmsYYXclW4G4JNxvf7OFzbYCcZ2fbuP4LrZ60a655hq89NJLpnXI+seWpL/97W+mZY8tYfzEmwgR0zJGv2g2TISfgePnpDh+jK14o0aOMuPcrrvuOnM8X6rgkl8i+eY3v2lap8aNGwcRmWY8G8NVXV1tWvpEjOb9FrGF8vJys854YCueiC9ccsklaKhvMOdgWOk3w9QZvOEmHO/23e9+13wVpaamxrSOvfPOO8ad3cb1u+66C0899RRENJtrZMscW+R437j/jjvuMK1wjKM3Xn/D+MOWu/bwhpbrdk5NRSGaFhRFUbogrPD58gEFyspVbvfhwIEDzdiyYkJkyJAhZrlq1ar8/mJLa1bI8WPuFGV/+P0fMGLECHNefhyewoRdne+++65xx+0URwMGDMCvf/1rVJRXYOLEifjHP/6BT37yk/muSMczCS4FGLtBOf5s1qxZRsh85zvfwRlnnIGSWInpDuULBSeddJIRag2NDcYfbueSoo1m/fbCLlbLVVddhaFDh+JHP/pRfh47nuOGG24wIpXWGXiNFl4ju6HZnRmLuhNvT50yFZdeeik2bdpkRCIFIwWlDacV0ocffrgJM+OZ+223MbuhyVFHHWWWeXhaj2Zse3cVxUVFm6IoSjchlRsE7xUXFooDYsdaESvQ7G9if1PI0B87No4vGLBliq1EHIPGliaO1+K4Li55DFvgKEiMSMkJEJ6PrWn0z/idG7dG4cU3XSlk2DpIfyhkrLu35r1lWpzYIjZ//nxzjoaGBnMssUKHxvVC6L8VYzx+n332MdfBc3Dp/cJJMdFXCMNEGA6KPo6PO+jAg8y5ea0Uo3xZg9fP8y5cuNC4PfLII9G3b18cd9xx5nvFFM28VnuPTjzxROMHl2wt5Bu+PE5RtgYVbYqiKF0QioigVPas/EcMH4GQCCU7YJ+iohA7dQVbvyxGROXMi/1tlxQ1F198sRFf3/72t3H99debAf3cb0UTz8lB+Lbli+Gi+KBYpIAqhMKFb4/SDwo3uqH7Dz74wLS6HXrooUbE3HrrrebFBvppW//oJ3/bc9lwFopVurdxUlFRYZbWjRV0Nqydge7sFx64HDpsaG6P+OdkzTX069fPiEK29NHNqFGj8Prrr+OYY44x8+cx/vnSiA0zW0DZrcr9v/jFLzB27Fgj7hRla1DRpnSSXCFvbQs/yKwoPZ1tzRFGVuQzmPzj9zNz46IOPexQ8wbhHXffRVd5IWOm18hN4WHHSbHFibB1i4KLAsPOl2bFixV9wYA7ZQW7ODmGjaJiyZIl5q3QJ//3pHFvhRT9ogjbuHGjEVU8r20NswKJ7q1YId51wqlFTjvtNCP+KN7Y9cqxYJyqxPpBYcdWMi7t+D1i/WLXLd3a1jd26dKtfauT7vibcWQpDAehH/acFh7Dc1Occcm4sG7s+TjdCOOEYwjphnFJsUvxSQF5zNHHmLF8fGuX+2gUdtzP8W4nHH+C6Xp9/PHH8/fD3HMiP73pyMypyaX7U1E0LSjbSOsyT1GU7QwFB8d9feITn8Bzzz2HO26/w7RAcdA+hQS77jjNB6fqoDigKCJs3Ro8eLARPmzpoXig0KIQoWAwrVi5D6tTPFFAcBwYoVDh+DL6T2FIKGh23333/JcIbPcoXxTgFxE2hxWK7Mrcd999jdjitdFfvjxRCFvOuI9dtrxWCk/+pj88juG1Qmq//fYz18RxcYRCkvvZhZkXRgXQL0JRy5Y17zxq3DZt2jQ888wzRgxyn+3y5HQiFG2HHHKIccv4seKS9+na6641ccspSqxoplglHA94+RWXm/jlSxg2bI7cFy9aMSvtoWlDURSlC2Nbia644grTyvTFc76I888/H3//hzv32XnnnWcEBOdD++Uvf2mEjBUDfEGA460uvPBCMy8bJ+OlW7aU0Y11N3nyZLNktx7HcrGVaO+99zbbrDAiPC9FDAUk507jSwYUTBQp1q9irVqE4oVCj2+K0n+OnWO36Pe//30z2N9iBQ5fLKC4YRfq4/99HPPmzTPbeR4KLns+Li+44AITLo4ru/vuu/Hwww+ba6cIpVAthhVtDMeVV16JP1z1B/z+9783ExWzRYytjownTmZ85113GpH1wx/+MP8Jsblz5prjGf7f/e53Zl44ikSGly19HM9Hcff1r38dv/jlL/L7/9//+3/mOHYP2+swraqK0hkkwSi9hdx0RcXmacvNHNWBuQfzGM7BdfYFVzsZ767iUyEpvYrePU8b8R7jNUMun+S35+dp+5OZp60z83AtXrzYEWHiDBkyxMz7JWLJzGN2+umnOxMmTDDrIgrM3GCcJ0xEj3PzzTfn513j3GgiUJwbbrjB/LZzidHd5z//eeOniDTjnnOUcX4xzn9mSSaTzm9+85v83Gl9+vRxLr30Uufaa681c54lEolW87SJYDHrhMeS559/3hk1apRxTzvssMPM8XS/bNmyfJg4d9wee+xh3HDfZZddZrbzfPy9cuXK/HWSa665xoRbRKOJF84Bx/nURDiZ/YW89NJL5jroNhaLmXV7rjfffNMc98gjjzgjRoww22jl5eXOxRdf3GreO87zxrnXbJxwPjcRfyYeaDfeeKNTUVGRn9eO87xdd911RcLFeOO1SOGcSzUJ2fQ5yU/VXDdblN6OirbehFuWOp887WKnOldhsIigqWhTth0VbR2Syyd5fyWCkvL7cxe2iLb8viJWyMcff+ysX78+P/HtunXrnOOPP94Ig9GjRzvvvPOO2W7FUk1NjZkc14oq4hUOXKdQonBqDytEaF6BRXge/qY/3M+l13/vsbRVq1Y51dXVrfwg3mPoJ8NEgWb9K/TH657QX5rdv7VYv62tWLEiP6ExsX7b83DiYN4DCsliFN6vNtA/4yfjw/U7LYsvfudap0bWVbQpRNtkexnbOgSNx7NWaEPxHhFFUTrBlmYfKbvNG6WcR4zdjoTjqTi2jJ994huK7Nqz495IWWmZGTjv7b7057oICbezK9XO9+aF56NZuD582HAzTQjPwd8cv8UxcvSTftll4bEWnqeysjI/Ns7iDR/DTjdDBrcNk8V7DWTYsGHGtjcmrkNhcy12/Ju9LoaZ3b68B5GI+ymuwmvmXHWcZ8/ery2BMaJFrEJUtClbRFHBpijK5snVvMxDJh+Zb/pyxQsfizb/aEWRQLHjFSzZrDvv2sEHH2yE2+zZs40bjq8iheKoECuWvKKimPgg9vycmJfCjb+tdRYr6gop3EZ3mws7oZBK5l52KBbmrcF7XRS8FKUcI2df4LDYczOueW57jIX3hvus2FOUrUVFm9JJWhekWaRhxgvTpHx0pJ7ZXgWl0r2xH7g20kMb81tRVI753LczXTYv2AjzWqEIKBRBFAo0toDRnf3NdVqx/Mo3NAn3tZefvYKEYmprWo7oN8PS3jm82PBuDobFhssK1e2NFWzeeCbcxlZBxnUxeG+4v0PxSS+Nt4V5xq8Py0oeLVGVTsOCw1YpnKfNrnN7J8pepcfjA+tWVlyuYMtZb8Net9fawBjKunV0JomWqtzd3hlsd2Sh8LGtb3ZJgUGxwN80s17QUmRha1JnhFRn6MgfholhKRQ/hdAPhtWG1+ue64XH265gCsli+7eEYsd6haH1v5htLbzzlPC5lIGs/Aj4o2Z9631VehIq2pROw2ddFsMsPPxSy/C3qWJkwzaUU0oPgWkhLOmC3USt2hu2jwbo9jB+GBVWkjlO1vwORYLY0nYhrzDoSCRwX3viqfC47SXWyPbwq9CPbRFD3QFTloo5UsLaNBIUDcrvz26+c1jpLahoUzpNWgpRFqPsDAmHfEjIkiNIWJayq7SnF6pK+7CS4d1Pyko04HeFfa7OpahX2pJ1MiY/lcRiUjG729wiuXsXy9tT/O1qWKZZ2zm0Pk9SnoxDUtb2nBhVthUVbUqnyabS8Enpwae+UMBBMm2b8l3sUumdsLqpqwcqK0pMM6y3+mGlo+mjNRQ3otsQDfObnLmNKth6LVauM9/YWKxpYH6KIivpRCtrhWg6UDoNnzajUqKwUNlz5jS8+95apKQmZiJiq5vSu7AVNJdxSQDUHe9/sApTJ44zrbG2FtJqvC1ssw75w+YFngkTJuC9d1YiIxHlz0VaZwrmzrQAteemvW2dsY4o5r492xzFjvFaT4Pj2HjfmV/iSbdMffuDZZg0cTRCcrmajxTSmbJBUaRiziAcCuTHVkybMgFPPPmseTnQfHVPS5ReBytOCjYuSyJSyYgAee2Vt7H71CmI6SCc1hhBJnEmZgvdTCaNgGyYNnkK3njjLbPO1sjc99kF/qKxPdu2adOUnohNF3yVolyeeppl+dLrb2Da9AkIy86eJ1OVrcGmE0XpEFbMgVyxwbFKs3YfhZQTwOvzqt3qREuUXocVbKQ5Bbzw0kZksiHsPWMg0qItWLhkVWQUhbFm3uQUcTttWqXZ9tprS5CWePS3yktWqFlTejq8y3VSqD7/8lpkWdZOH2paYRWFqGhTDCwTOq4SWpJK2OeAL6GfeeoJePD+B7D847g52PrRkSndmZY7yLV4wlUXcREay1c24I47bsMZpx2BJIWH2aN0hD8YNgKtRCLr1BOOxYMPPYzVG5rNSz0NSeYnxiLfw6W5U+xQBLt/W5ef7HHb4/itwXv81vixrcd3ZRr5pCM0y71fuqQZd97xT8lPJyHF8Wyi3jRPKcQnT8uq4XsLcqfZInb86d/FP2+7DCXylN/Si2VnBiqOGWXDMoWOfBy95Ec8E5DKOo3Lf/cXnPWZ07Dvvv2lIpLd4pSpiuN1DHx7gQf7Mvk3CovBud86ZEsnauWM88p2IyD3MWsGXoVNVx5TQVMCWLAoibvvvhNf+sKpGDcmZiqXjLjjtDC8704ulXF7qztYmBY6SoA7gY5Siwm3mUFa1njtYhwWcPKnv4OH777SdGm1ocj18RzczEt1ZZj8LxvSsmHJyhSu/OPVOPOMT2P3qSPRJyK7hYScKCZPSe4EITaUbky2is/NRqDcv9yapfXxm6NlKgpLx8cXRkDbON6y8/es49PISH6SMjHAYSdBNMo29owvnp/G7bfegvPOOxUTRpe7ZSYzm5St3hjdXHGp9ExUtPUm5E5vk2hjSqH5WYKw+ImY7pw1a4Fbb3sYwVgSs/bdHdOmjUVEKhzOMVSsXGnvPFoGdR0KKyeSlY1RuUkcu8a3RBcsXIdnn3kZDU1JfOW8T2PUYPceMomYYVlygM/P6Qp87lvHhTeeDr1sTnPsYIpds8WkzR0i2gTxk/mS/i1eGse//32vOHQwc8Y0zJ69ByrKJC9Jhc1hCIUU5pnC3xZ7bYXXqMe3Zmcez4a1oBzAZU1DBh8s/BgvvvQG0g3AOZ87DWOH5bIEE4zcfMdNNHlUtPVOVLT1JuROb71oa/k/VyXDkcqmsSmDstIgmkS8fbCsBi+8/jo+mP8hEvGMmcbAn8117RjPi1U7LbCCb0Ob1rXOllSFxauyJbj3yws/hxRAOplAVBJNpSiJ8WNGYua0qZg5dSRKY+4xPIwxb4RJQcmioq31ObyijW45/YdPPEolgY8WV+PZl1/D8tXr0NicQB0//s5AFOQHf8FvX5v84uLkWp2zBa3PhS3fbW5Bzj8jGIRsgVJoc3z+d+vztBzvLi3tH9+anng8v97Az21xWVEWw4ihfbDfPjMxY9oIRMQdzcQ2n5Z4oHkAakFFW+9ERVtvQu408/7WiDbiTpnaQiaTQiDgfncwIX6zImMbHKHLYmWK3da6SHfRMqjrUHh/bCFBCc57yzccfWKsWEKSiKhn0lJj+XLKjPeysGTp6aKNx7dKw97ry12bPYfrLvfLCi3+ZFxKJmJ+4vMOd9Eb5iv3Uak1hVFWKCIsVixsLspbhd+DDfdmj7cOCnZ0+vjcspCeeDzd0riPlm4C+pS4b4/Gsw0IS24L8RfTnY8ltdtqbVHR1jtR0dabkDu9daLNLXJy89ybdRcmHbfIycr2jBQydgvx+sejeK72CnXCsT1tKLZN2eHYlgEvfFHU3D/u403m0hQf7h1nS5AjCcyOTWzTClFYyRTe2yLn3JnYdFsME/ROiDZL4aV6oTvXP/4nFLluuvFGT3thaxPHhXGao92WotzS0ub43O+u2FJFuvvxrZzLD94Pn48ztKURcOSBOCOlpt/KdfeRyR6joq13ordd2S4wIbHiYrFiPnMlxnHU1rjPb4qbnLGyNxV+i7G7qK25fqvtXAvILSm0fAVll3J/TJe3LytaxpUVRbu4eyHtiaxWFEQVj7HvhjLtB4xJ5S0WamNZY8XuUTGz++1xLce3Nn+hSZi86SFUYHa7tfw5c8dt8fEFx1mz+3va8basNCYJIChm3PIoNrUaZWZNUTQlKJ3CLTTcIrwAFixZKXIyXIorj7VFaik213jN1FzWbOHksUInnaXwOLUtN3sbiu0zJjJcLCOWNXJdHNsmBaVdGKV5PNHlRrf7l+8ytf2jBtdFK2t1Pzphxfzo0HLkj98M7bmz2zdn7VHMbTFrj2Jui1l7FHNbzNqjmFuaJX+PhYyUp+mYm5fMdtNHIdZ6TJvSO/HkSkXpCFYlBSWNdywOYYmyLaWK9V6tSxhvq7m1dpsXuz/fEiCoYNs+tMlDnjgW+PCUfyay96YzUZ9zk7+vpPB472+vkdySXXz5bj673/62eLfbfbnlNp8/Z4ZibooZyS27yvF5P/LYAlQcesvS3NL+VHo3LSWBogi2enDN++clVxLlFvkHQS7teusDth/2nJszZZvZ3G10b7n7pQxjEu9eo57zWktFlKuy+Caj13oYvKKOrF2Yfmn5O9Da7FobeExrpy1m/HOxm9pgz9ueEVnmjy/cb3fQCvfRcuSPL6TYMV7L0VOOb+UH93NoAc2Wo96y1Odrm5+UXoneesVgygx3VVGUrgIzJk3p+dh7bQtjvfdKEbSeVrYNb0Gj9G7yLWnt0KpFrVhbk22Dstaz6V1Xq2wx3rJVy1clh4o2RVF2MpQoWvQoiqJsKVpyKu1jW04214KiKGSzLQLWAQfrcMnix2s9m8KrLTRFUZTNoWWFoiiKoihKN0BFm6IoiqIoSjdARZuyk+hEX2uhE7WuZa3YrANlC+FIP36wqM2LCcWiWq1nmaJ0EhVtigcmB4/ZIUjWthqWSrYqslZYaonxw30dmjjbIivmh9pWW6v7xXuYlv/T5o+fXmrZ1x72xrRHQfrrZhSGeLNX44lOG5spE6O5WOR/Nrvko1dWrLXaKVbsnrUycbZFVswPtR1iitJJipYlirL9YIHESoXYCobY9Y5M6dp0KEmUrYR6yZBfEUy9XiyPdGRK90GFm9I5tLRVdiJawXd7WLeY+sWdst0vFswtXZXhVRpKZ2GuCMr/YROTWWP51jTObed3P8zvftg3d4CNbo12Rek1aA2q7EDs06OtZbbUyLbUSt5j1bbGsjnLb7Mf+s+LN89yi6B/PRebetulMM7kt58mq62OtRMS56K/Za/r0v0OqWstR1sj9sCtiW/vsWo73lzkbrdaKooXm7MVZRthEVNYzLQURG0LqM6asispVkBkRFxk5L9UOoVsOiOCIyP/OBLLpoFiacFLz72vXrmUF7bFjLTZztcQZOH4EI8nkUjKb1+wxZAzh+aeyfvnxmuhKV0dNqhmJB+lUimz9DkOslk3/3QmNym9C0kfkkKU3oHc6ayU48ef/l3887bLUBJwO7kI21Pcgn9rYBLySSWTRSTs+pGSOtxvvZPdUg+1guHwLouiKXOXY++b9zaZcfCyLPEkl2w2LalHXPGD13m2Nj3tGjqqGM2VmAuXNbnElFhcNp386e/g4buvRIj7C9lc+vXuZ7SZAek0N96aZTUo2xkuCmXu5of4vXjzT/eK7d6NvW1cZuW+shaOeG4gRZsjeYl/Fr2/ClHR1puQO71jRJtbsdi33mgpLm3Kyp3XYoVAR5Wksuuxt49w3QypkmVQ/rPtPvzN+xgQB66g8N5Vm56sT55E0AXpKD2aK9leoo3RwH02Uum7LN0/jmbzoTkDhCVzMh+Z+BWLy4qNUVIYXp93J2nv/Moux5aNpktcbi7TT6kYk0Ymd+O8go0U3l6ld6KirTchd3pHiDZWLOzYee2tlXj/w4VYungZksk0GhqazH6HtYlUdl7h5l1vF9MFVEhnw1hYpSlbird11MmIlJCb5pdEFBI1ERKVtt++e2Ly5HGYNmUAIjl3bnqycV/sJnfmxu8aOkoxJtVti2gT9+60KPTLpmF7Rr/JPw2ZFMoCIdTJ5iVLN+Kll9/C2jUbsWFTFVIpqcpNpnGPLZZ/fBxr6EXzT5fFtKRJ1RuQhBEMhRAJpHDgvpMwdeIYTJk2zqQnpomWO64oLiraehPbWbSxCzQpyzWNwF13PYhAogF7TZ+EmTNnoG/fkBRMslPOZ+sSb5Wiia57wXtnhUmT1CbNotRfe3MxnnnxZURjFTjrzE9hZF/ZKTc2IOImmUlIZRQx6SqU1yY2tVm8KWLX05FMMTmjs6KtSOLO+jj/GnMLWyj5jqib1zIZ2RYIo1nW2VK9oRa4+45/o6muXirxfTF+t+EYO7LUxBTDR6P39hTeMGvl3r0I55ZxyU/JBPDmmx/guedeR6B0AD5zxjEYM1B2yj62xqVTKQRjUqa6hxj0fvdOVLT1JuROby/RxsIjKf6xkvn5ldfjzM+cjjmT+yEshUyA/WamPpanSSl1Wjfz8xxa3HRPWFT4zH1PisJwRKmwG+/Zl5fhvnv+hR9dfAFGDA6jXBKVbDYtsOzsCxmxIz96tWijZHNFWwhRiRc3D9BpYyaLbMCPdQ3A5Zdfj7M//RlMn9zXxCOzkou4ZNOn/GuvyG7T0qZ0C9jqlkpLepD7nZB89czLa0x+uuS7X8OowSLxqe6YOMWJN426KUjpbeh9VzoH64l8XeGYCnnJauAHP/kjvvL5M7Dv1H6ISWpiT2gq3VKp+IwsZDKzpnQ7Cu49B8eHRaXwbnIc20H7j8aF3z4P119/KzZucF1xjBvrGiNOmChyt56VjrUWj13z7nP39yT4SOT+eaVVSoSgTwRbUzPwyx9fgc+dfjZmTeuLvpJt8rmFTXBpqjX5p8/YPQ6/34+g5CeHRaXYwXOH4qJvniP56XaszeUnRbHkywVF2SxsPhE4UJqrd9z/GM48+3PYfVwfBESoNSdS7qDakK2WmLyKmdLtoFgw43DYIuu2AFGUlcqPCllOHVWOTx13Em655SHU1csGSQJ+SSScC5b3vFCE9bZUwOvliECavfr6pjr4RdCmJHL+dMMdOPGTn8SMKeXmTVG3u9Qx6xaVaz0Him9rhA8/1GwxyVgVIuCmjS81+env/3wEdQ2yQ5JMz3uQUbaG3lZ2KttEFokmViXAa++skcomjv1ni2CT3xzHFIuwk4hFixYvPQpqcE7l4QvAZwa3U7hxELUj4i0jy4wpSPZjWgiEsWZDElmqeiaUvNJwixr+31sLHfe7EX4zRonxUl5SYVqsP1xQI/EWxZGHT0ZYtvOZx+QpvvhBt4x/mtJjYFd26+5s3uiE3OaE+1OK0P32K0MwlMaa9XGTTuhCUXpr+alsDVKDREqCpvB4/4MlmDVrKuLsuhFCAVYzKth6PKaiYbHhmP/Z4kapzmVEds3eZzpeeXUeTA+513o7Inbtn80j8QyrYuC9+Yuw516zTZdyiCa7A2JGsFmMcNOI7GlY4ZaVBx+f6QfPlZ+ymVNezp49HS++/roZDaklq0JUtCmdw9TVFGbuG6NLli7DrGljzVQPZjJ8k5JYrFjzwLpG65tuTO6e2s8pmfvJG84fpk0oL95mTBuKdz/40B1yb0sXca8FjcA48+QD0z0my/nyADR58jAE5Yfbau2aiV6B7x94DlN6JJTz/PpsLqfIPefajGkj8O6Hbn7SNKAQLUuVLaJRSg8WIIlECn1KAqiU2joroi1ToNOUXgJrkty952okCjQlU2ZQdYaiw5YwWuPkkAhhvIgADgdDRqTVVNciKvHmirTcwNFCtJWtR8Ns4go2b5WcRTQSMGOF9e4rFm8KUZTNEgq5Aq2uugZR1jjZLAL+JPymUmFyYptLQbIylZS7qnRHbGWSu6+F9zO3nnayiJQADc0NZptpjLPWiekovM5pPRITDe7VOVnH/MwihVgsF0XsE+VuyVt86TY3LzUc2WnNjocqNKU7w5vOljaWnzkkfZTE/GhuShlxryiEKUVROk3LOBt5LuR6No2glDO+vGjTJNWroFYQY2ObY8bkEM7PpxRFIoZxRWNO4dRvfv6X22Ywn7YqpNg2pWeRy0w5WqZ3aT1NjNK70RpW6Ry2/CgoPViwcJ6h1miy6o34fFq5dJ7N5xHKNJVqvRe3BTX3Q1FyaO2qbBHeRgA+CPrNywmajJQWsg6/r6F0BjZQM/fYpaIUwgdjzU+KRcsJpXPknvj45MdVfunArPt0tIXiwlnILGyYtY2z7kr+V8/HzSBtTVG2BM6NmIOiTZOQQlS0KduGtt8rOXy5aoVfTcgPx1EUZStx81M2604NoyhERZuyRXDOKMIPzxu9Zn+7C6UX40kOiqJsM/YxSFFaUNGmbDEUbAYVbIqiKIqy01DRpmwVeeGmKO3ALlIzmwVXsuzgKTRFUTqL5hiFqGhTtgiKNdtFqiiKoijKzkNFm7JVULixEUW7RhVFURRl56CiTdlmtNleURRFUXY8KtoURVGULklzc7OZXHZnkUqlzPmyWU5b47QyRekKqGhTFEVRuiSxWAz8nNPOEk2hUMicr+2n+RSla6ApU1EURelyUKixxYtGIbWjyaQzO7RVTVvrlO2BijZFURSlXSiadgUUat/85jfxwAMP5LZsGVsqktKZNJ555hlceOGF+W7Z7SEWVawp2xMVbYqibBdYvRnz+cW4FGMJwxV+R5FztXmt1ZxttJ4BK+nOVNSmG87Ek89EUeEh8XgSGzZswnnnfRlf+OLnMW/eG1Jgt/ab4oItRLRly5bhc5/7HL7yla/g/fffz7koTjweb1eM0S/ut+uZTMask2QyacZ9EStsEomE+d0Z7LHk9ddfx4knnojzzz8/t6U19Pvaa6/FI488Yn43NDSYJekofnld3vN0FnaNPvXUU7jqqqtQV1dn7gvhuRobG826F28Y6J5445T7besdl3Zbe9i38Tsrkb3uO3uM0v1R0aYoitIFCQT8eO65Z/GPW27BrbfeihNOOAGJVMKICSsCOOYrlU4hEAzgoosuwp133okbb7wRL7zwgtnfHtFo1PhjRYYVFjSfKEnuJ/SXYsbC9WAwaNZ5bh4XiUTM781BIcXjKfx4Hoqjhx9+GH/961+NgNscPA8FIo/PZtwXBSz0zwo1jkfzhpnQbaH7QtHqimdXqNl1unHkAaOsrMxsL8T6afffIvfqjDPOMOve8DAeCcPNc3vDoihbgoo2RVGULkgkFJSKP42UiJSjjjoKK1eswkMicghFAMULocBat26daZGisKNI8LZKtQdFCQUJhQnX6SeNx3MbxYXFiBcRGlbMWOjW664jKPYY5nA4DL8I0rvvvhufOu5TIk4DuOmmm3Ku2odCjMKNSwpLLybs4o+FrYDecNp1CimG115nR/CavYKrEBsX9NP69cYbb+D+++834tKKW56PRrc2jhVla1HRpmwzrYtPRVG2B82JFEpLSxAUkXLmGWeib/++uOWWf+RbcCh+CAXB3//+dyMSzj33XCMObMuPt0WH648++qjpcrzrrruwadMmIyCscCPsYr333ntx+eWX49/3/xsLFiww+9hdSn8pRhYuXIjHH3/cCKOmpibccecdpoVp/fr1xo/2sCKHsOWQfl3yw0swdepUI+A2x4MPPmha5Z5++mkjkqxflg0bNhh/r7vuOrz22mu5rS2k02m8+uqruPW2W3HbbbeZLmSG2cYRl63WTRc+sHTpUtxzzz1m3cL98+fPx5NPPmninffgoYcewgcffGCui/H8v//9D0s/XpoXajxmyZIlZowew7hy5cqcb4qyBUhCUnoLWcfJyOKTp13sVKcdJyHrsjCWMXs2T1JsvdhZF15rjic8trPHKz0T3n1JXk5c7Oxv/t6pkiXTioE76CIjKc1r5iiv7VoKQ+M1Q1bW+EOuh9dWJ3b4qRe2XGcOETnG2sBNYtZPuknJyrkXXeP8f/bOAkCS4mrAtXbGweHufne4u2tI0OAkaPhDQpAgISFAjIQEDRBICBDcHYKEQASCuxxuh9shp6v9v+/1vNna3p7Z2b3du92d9+296+7qqurq7pLXr2QmyLZZgzTrWQt//Y03JfJVlNx4y43J/gftr/tvv/12MnHiRD3f0tySiOKULLzwwskee+yRPPTQQ2gaiSgFep54Wltbk1deeSVZccUVk1lnnTVZdtllE1F4kvnnnz+55ZZb1B+IwpMMHz48GTp0qPoRxUj3L7vssoKPlBNPPDGpq6tLrr322kSUQw0zYsQIjZvr5957AdIC2223XTJ69GjdP+WUUzTNcVqIo6mpSd233377ZOONN9Y0NzQ0aJo22mij5KOPPir4lud0/fXqvthiiyVrrbVWMmzYsOT4448vnE2SN954I1ljjTX0nkaNGqVxkfbvfOc7xTSJEpocd9xxes3x48erO+k48sgj1f/XX3+txyY//OEPNT2TJ09W/8RNWEQUag1z0kknJaLE6Xs6+eST1X2uueZKFlpoIfX33e9+V88DqTAx2N/nR39MPpMtvmI/WXGqA7e0Od2CaqmG6sZxnBnKwd/7npq1sSbRTQhYcG695VbtHj366KPVKsZYM7PCAVapvffeW61lWIfGvThOLVGiOIQDDzxQu1IJh+XnggsuCJ999lkQJS+IchhEsQo/+9nPNB78xDDp4fzzz9dB+nfccYem6ZhjjulkAYshLe+++65a6kRh0u5StnDFFVcUu3wZ+0U3KP6xWs0222zhgw8+0LQxdu+///2vWt3Ur6TrF7/4RVhvvfXUCvjQ/x5SC+FOO+2k52H33XdXi9mDDz4YvvzyS504cPDBB+uzPPPMM9UP3cw2lo9tufuQtlOfJ1ZP0jnPPPPoc9xtt930mHR+8cUXQRRcfRdYEkWJDL/+9a/1HM/gr3/9q17/t7/9bdF66jhd4Uqb4zgzBH6vNhane6yz1rph9JjR2r2JYgAoOef/+fyw8sorh9VXX12VHJ1R2to+joruuKeeekoVGxQ1FD38HnLIIdpFes8992i4Y489Nuyzzz5hlllm0bjxu+mmm6qyRNdjlptvvjnssssueg38bbLJJuHZZ5/V6+aBogM33HCDKimERaFZcMEFw7bbblvsciU8acQPCtlKK62k9zD77LOr8nbyySeHpZdeWruEgeuTPs6poldXGxZZZJGw4oor6nnGmDHRAYVp3XXXVTe6j08//fSw2GKLhVNPPVXduJYpplkFNQ8bQ8cWJQ9l2RQ/7nXWWWfV5wqnn3F6WGWVVcJRPz5Kz9FVS1c2yh7dqvY+HacrXGlzphvPRI4zY0DRQolifBfKDWPQsDph9UIZMAsb46pQfFA+XnjhBT2Hlel3v/udWnx+9atfhaefflqVBaxTZuGC5557Ltxyyy3h4osvVosQYVECk8IYL46RtdZaq6igwLzzzqtKV1Nze1wxZrliPBnK07LLLlu0MO2xxx5q/UKBtPFfnEPpYcwbcC3AfdVVVw2vv/66HhPv/vvvr8oZEzZQ/mKYHADbbbddURnjfnl+m2++uVrEsFSqoivCNdnGWNpjUMrA/BIf6cbiFitsgNWScyhvWNZQFLHCoYhi/XScSvH21ukR2k3KTqGrtC8yklWsYJV7DG7WYMwM7Nqlvspxz0u343SFKQmseSf/FY4T7eZEMfvLX/6iys0ZZ5yhx3vttVeuYoHbRx99pHmVQfIMxKfrky2D4rF2bbbZZhoHVjKsU1iEUCjorsQfcdAF2pa0W6GIzyYnIORzlCoUGFvjLQthUCBRFpkA8O1vf1uXx2BrC+iyXAkQ34gRIzRMXL6szHNNthyjoJ5yyinaXfrGG2+EbbbZRq1z3C9MnDhRt4QxRYr7xSJHly7uxJHFFFmzqNnabRYPkzCAeyaNvA9TmvFjoMRNmDAhvP/++9otzXN+5plnVFkjnXT3Ok6luNLm9FvqattnXWERYBuLuUEpxakvoYsDpVK/zAvKZQznrdsj77zjdAdRlcKss44MO++8s1rXUICuueYatbLNNddc6sesPqacoDwst9xyqpwwI/TGG27U7km6Nlkj7eqrr1aLGeUHBQrlgrFtWNuYpcm4L5SnWAkxYrdaXVA5VWjy/ALuzMKkzK680sqa1liWWGKJ8MADD6h1D/BHVy3dnkAZojyhGNEduvDCC6u7je+jaxfrGxa3Dz/8MPzgBz9QxWuOOebQ83QFW31hML6MZ7XQggtp3LGYQgc8H/YJb3WNxUU5t+eNmy31ASiwdMXyDLEuso4eM3cRnj3y85//vODbcbrGlTanR7Tl18u9iilsVnGyjQWssrTtjIRG7Ygjj9AvbtKaxb667SvcSfNNUTiOxCkPlq6G2iGqSGE9wkqG9YdfQCgH3ZAoLyhrlg9RSgysVZxHWaJ7kW5OU0iw0tlEhVhMeWGLtLal1ibdLyiOeVx22WVqzbv+hutVcYyFrlvSwZptpI8yzrWZiEA3MGuzcQ26M7FYMS7P7oNw9XX1en777bdXwdJGWjbYYANVwFCQiJM04p9nh+K69tpra5cuSiH+9WOscA/4W2qppXSfcXFMkKCuQTlkLBoMH5YuMoxfrHI8T7qwwbp0x44dqwopFkvtQha/pJ0uZ6snHKcSXGlzeoRObjf6aBIylagpZ1Tk++67bwfhy5qKHn9UmjMKuxa/U3jJJZfoF3wepOuRRx5RCwYDwR1nekAZgI023Cgsv/zyOkNyzTXXDKuttpoqAaVg3BaKybnnnquD8bHSodBgkWLmJspLQ32DKmt0UzKujO47fveTGY4oKSgjKEWURyxJuLHl2NzwY+558JFDl+yuu+6a+5FFtybKFQqclXv80ZXKRIdzzjlHZ6luscUWqvhgSQPG5KFs3nnXnWolJP3cxzrrrKOTA5hVyjP6wx/+EE466aTw8MMP60LEG2+8sSpRv//97/U6/PaoKWxsed7sEw8Q9tbbbtW66Fvf+laxHiCcPQO6O+E3v/mNjgu0X6bgmFmrTNag3kAJJR2//d1v9b4cp1JcaXO6R1E3qk0VNzvuA8WNMSfA1zMNDpX5888/r5U0X7qMX2GcCBYIKk2UJCPeN2zcio1FAeJGYuLzMdZoGlTSVPqlFEbSj6WCrpBXX3m14NoRuzaNUKXE16P7Je/65sY95z0LZ2DQ0CAKUBtDAVCKaoPkVrWWfe9731NFA8UKBcMUJba4Y72xPMAxCgLLUTBjkjFszDZFYcOShcWHOJmVysB4FBKUQRafZRFY4kKwdFHO6LIk31q3JeDOdYjLrF9ZUKSwPDHpII9Ro0bpLFIURpbnIN8SF8rWN77xDV16hF98oMwzc3TLLbfUcAsssIAqVyzxQRcrY+ToimT5EsoH16Tu2HmnnTWu9ddfX9OAgqgWu9VSix3Hln7uj/KO0scYP8baoXAyptBm2R5xxBHpcykomGz322+/sMYaa+hSKCwzYh9rPHMmj/C8sQJi/UQRRSmeb775StYhjtMJySxOFcEijNvu3nlx3RY5U8kCjS3i6dO2JPnOEecnLayhSSC2pdfT7DFScepWKuREvpSTpZdeWhfczEOUnsJeioU1ssdAvEa8H183ds/CIqNSUSfy1Vxw6QjxSGNBbZxcfdXVBdd2OE/8pe7J4Lw0PipAGBbrBLYWjxHHJ0pb7r33NpYNyi2u29bWIvms/c8WZba/mQ0pKCVKLyyuS3Arc/hpFLcDjj43+Vy26RKr6eK6YNedOHly0tiSvnuwd8+iuhBfi3df8voF5IMneemll4rxGBaWhWg//PDDgmtKtiyQr5AY0vPVV18V85+lw4QFgb/88ks9lwfxcf7rr3myKYSx67z33nuaNiA+sDRzL4QVhU/rAnMjzXZ9S7989JVNh5U1ez4WDjcWKY7TZ+8A2Le0fvrpp7r4b/zMDO7p1Vdf7RAP4NPEYN8X13Vi3NJWVfCdLhpEiTFFaBdZNxNDx7JlPwo5rol99Q1SAeqA56xVSvJxcYYXMPYECwELVzJTSyr2TpY4oHuJL12EfeLh6xq/7NO1yYw0LBC2jABxEY91neAPS4c0Cnq+O3Ads05Ig6Dp5ueAkPgHtDnPFz2WgPHjx+t5lg6g6wULiaa3sBwDSxdgVcCiwBia2BLg9C3F8lKifOHWoYwV/KmbbLOQpRqbW8LIESPCkLqhoVX+mtuaiuPSsAKB5VfyIOWDcVd575y8C4zRYn0y4iEckKfZJxzWqvnnn1/dDfIpYpj1DSwOzttaaXngjjUta7E2iG/kLCN1uQzixB+D+C1+JhSw/hrYPRMn+9wLcWNBtDyPG2liH6GcAmu88ex4XpaWuG6gnBHOli6x+yYOLGS21AfYmDXKL/tm8Zx77rnVgsY1Lf12DSyVSy6xZBgxfIQeZ+slxymHK21VhFTL6Va0NvZoONimQtdLfNxROGeo0lfwX8Q89iHMwKIipnK0BgioTKm86b6gK4MxLCeccIKOe2Ow8pFHHqkVI2EJR0X905/+VNd/Yt0rhH3G+wAzyoiD8SfM7MKdrhe6jFDU6CaicqZxQFlkGzdohjUWKpkfuAarrOnqZdwR8R966KEq7DPgHD8IcfCbkAziZjkG1rracMMNdb0t+brXrli6YWlwWRmf/a222qo4uNsbht6HN8p7idFiQPkqlLGsdCxjhXLIzEvZZqmXLEU+a2pplnBt+h5ra1OFzd6nfjwU8gd5UBWVwrCCLKZkAYoJWPrbkraiwmEQL9eMyxrgjpgyYnEw5q0cnCccZZWwFh7Y515Iv50zN9KKgqXlv/Bxxrn42TMxwz7meA7ZjyiuG98/4fFHWuiy5LpxGJRfrkuchGXLbHbCAVvcKHtAuuwdxOBmYbgG4MbzBq5p15Y7VjfHKYcrbVWCNRZU9S1SQcwib55j3E2yx7EoErhNPlaHSl3Z2Fj4Ws5rbfoIqyCBCtgaD+DcjjvuqJYoBiKzdAHjzRiszIy1P5z6B/VHOMbDsK4Tyg8VNl/DrEnF7DkqX+JCOXr55Zd1UUyWD2CwMutLYeWiYiYMfpFsRV0pVNY0SgzMZs0mBmp/9dVXOpiatZtI96mnpau1A2NpGFDOmD7G/TBejrE+NAII5xk0zTN46KGHdLAzyiD3bI2E03uYbdfKlYo85rIins0vxlFxCs18CMg2W5Q4J69V8klquRo6ZLhcM72qKQAoHbZvkBe6IptnzWIVKyXES96JlR3AHcleJy8dJoAyiRC3XScGpdHcCUOazK0YRyHddmxg/TLLI2TvL5s2U1oBax4Qp6WNdHLMByL7tgVLI27Ew3FW4TW4h7z6wd6bnWMrT0r3HaccNZLhOpceZ9BBA0DzMlUqhh32PDbsued+ob5FvjBD2mXA74nWBpSi1GeWOqwBTS2hrW7W8HX9fOE//70v/O2Mg4I2J+Qg7R6VCqgX6x2yJhUnX6FYnpiEwHpUuKNYoTBhMfvxj3+ss8oY4MssLdysMiQsM+0YvMzXOO5Y1VDoUH74esYKhhJG40S8VMQoU9ZgEAbljmujBPJbhVgfWNkcSxeK3aKLLlqszA26qW659RYdGI1SyCzSGOJgyQGUNn6a57jjjlMl1BqYZZZZRrtdbN0qulwYYM2AZu6LdHGe9PKcFl98cV2TC6XVsGfY16iCIYJN5qDDzwpn//GIQFMY5w/SEncDZhspadILezOH/JyfoilD8WVEiSS7WYTSssMuR4SD9t421CV0g40QpazdGtP5uadX0Gcgz6NW4kvqhofb/vN4OO+sIwLD+hu0PHK1dku2Pj45mtnPZ3rJlo/s88mez9LX+bir63fF9KYvzn/2pnHb97Czw1lnHxbolC1nyxzYucOpFH/P1YwqWjQSJigLaYPRSaSxahP/SG7zNgOGRzKmBaWJ7j+6PLFGMVOLypIxaShxdGPGChv7rNPEjFDWd0IpY7kD3DhvX7t8+YJ18RAXVi+UKhbEZI0nukax4IEpdCYQHyNYtzqca+sofKkz5o5rMWvOFDbShX+6N7G6kW7Sz8w0lNNvfvObumwAoGhaY8GMOMbeEY4tiieKI4qdM6OIykwHEWqkjJlQhkqVJcdxnFJI4+BUAcwuYr4eM5A22+XHCXMtJ4mwNeEc877yRGcotSXJlJYk+UL2v33IuUkTE7ji6UulJ6z1CFFedMsMLGaPLrvsssWZaaKI6Nb8HHjggWhHOusNPzbzi60oeIkoZcnbb7+t50XJSUT50/OEJ66phRlnxhFHHKFhFlxwwWS99dZLtthiC43/8MMPL/hIkl/+8peJKFzJ+PHjCy4dId3lZo+STtJBej7++OPi9SdPnqxhf/zjH2v8zEIDUTiTv/zlL8nyyy+fiKKpz4PZcgZhzj///GTJJZfUcPh74okniuf6Env91TR7lDKz5a4/Ls7Cxq1Rzk+TA4T9okgYhDDMN5wq+9PEfaJs9zzy7OTzQvjs7FGEuPvD88kjLjNdgd9YsmTPZ6Wvybtmd2R6sfcdv2n2ffaoE1P4BHQGO7zoulCj3VXDhjYEhuxinzE7ADa2MnY2hbH0jIOmW2j4sBm/indsEbOtwawuxrQwnotz1sXIlu5FrE50YWKtwx/jvbBsYaWiexGrl1msGOTPOktnnXVWGP/OeJ2lee+992q8dKsaogilM1olXcSfBXfrusybiEB8zIaTcqjj5uz69rNBTKwgfmahAf6ZnGALo/JTPrbmFdeni/f73/++rl/Heax0WCaB+LhOLM70U1t4Z8CevPJQJ1lPhX0TOYmQa7Hlss+2Xl5DvYRMc+vAx8aY2hYqzWtaTspIX5N3ze6I48wIrD12qgKpXOR/+7F3Xj7b9v22ktKpG0e7dgpYnTwT6y3GvDFGjOUu4u5AZnjRxclClig2KFKMFXvwwQfDl199WfCVKj0oScRBlyXQzWjKH92T+LHKmTFuxAW40cWZB0oe5wmfhYZt1VVX1X2WHTGIG4WMLk5miEJ8baCLlN+g5OdyiAflTicctLXpMRMUmJjB5AkgvNO31AQmFMh7KkpLjjA2LS1vlEPdtuXPHh0IkCdRyix/2ceJlRvgPHnSPxQcZ/pJWx2nqtCGwxoMFVPKGOqc/2dZZWZUu7GyYlhjYbBEBzM+meXJZIRHH31Uf5wadxQm1i0jDFP5jznmGFXOWF2d32NkYD8rnbNCPIrPCiusoGPfWOqDVeFZasN+ngblCJhxZlY0wpgCl8XGnDE54IwzzuggEydN1GVFWKGdFddZ8Z1033fffboqPem2n7jBesZEC1aVx0qI5Y99fp4HWEGemaKMefvgww9U4eO3EVE8gXQ4fU9tIqXFpMMfJcjGjvIhJAxUTS0D+Zsxn4y5xNJLOaI8IQceeKBOALKfenIcZzqRhs+pIhh58c09jk6+bE3HSDBepiVpTlp1LE3XMGaJEVZ7H3Wehu/LQRU2ToQtY9oYo2XYOBITYOzXHnvskQwbNkzHfJG9V1555eTxxx/v9IsJ5513XiKKl/oRhSYRhS+566679Bx+pfFJRCnT83PNNVfypz/9KVlllVWSQw89tDieTpRDPc94tDxI1//+9z8dG4c/xpnFYuPNWJ1dGrhkttlmU3/IhhtuqOft3lhpXhS84vkRI0Ykm222ma4SD6Rp00031Wtx72w33njjDivbx8/L4u0teP3EWG1j2rbe7ajiWKP0ufILFal0jAHBZ6PspXdLdAy93O/wc5KJckyIgTSmjTGWlo8oP5Q7xn+Sd9dZZ51k3XXXTbbeeuvkk08+KfqNxemIve/4TbPvY9qcGF/yo5qQN81yA9vvfky44qpTwwjG3eiJ9Ms/tQeUh/FsdCoedfSfwsWn/TDMCPsNWTT7lZ7NtvF5vuzpXmR1dlYfj9dvysJSILDQQgvpNkaUKbXIsdQG3T+MKStlUcsjL91dQRct6Z5zzjlzr8U4NdLE7y3m3RcLA3P/xIE1kNmwcVdVX4GdljutpiU/sLnuuPvR4bZrT9PxaZWm3q7DCAPi+N6Pzw3nnHVo4G2mS/AQU/9f8sPKIHmcZXQoIyyjg5UaK7QoZpqH2Zo/wli+zpYPO8bCTFlDIB4fR14mPizenLdymSWOm/KCn/ha/RF732BvGjdf8sOJ8fdcTUhFRjVLhSb/IirPBvjs6JtqpbCEwQzGKmHbcl/AQpsoYShb5RQ2mH+++VXyQPFh4gKNDI1Q3NiYxMdZetJILLzwwroeXJ7CBgsuuKBOXiA9eXDP/CoCceBnRihsToVo4Ut3OzLjy05vEedxU85QkGxNREjaUkUNvwwT4BdA+Lm1iy++WCf9AJOFWFwaGG/Kz9C98MILekweRj7+5GMdysAPwTOEgKVw7Fp2bYYHMFSAj5dzzz1Xl+vRtRh7UBYdpz+S3zI4Tgms6tPOxwJUl33Z7ORVuOYWn4v3Syk1WaxByIOGJv6KRzGjccgqbL2JjYHLg2tbmvKUOiwcfZUupw9gRetBBHmSiT9s49/ntPJF/mWCzF/+8pew0UYbhYMOOkjHvTFG85JLLgm77bZbOO2003TNwiOOOELHpxIGa9rpp5+u1jwWqmYxbcZ3Ms4UJTAeU8pYUMaHMk6UdRyZXT3+3fF6znEGA660OZVRaF/IMPkqRf+ArhQajkqhQUDKYTNHWagWq0FfYdYCZo/mQZcQM2PNXxZTVHkGpRQ/x+krWIwaK9m//vUvnSiDYA0zTLHCUsYvd7B0DbLwQgtrnsc69stf/lJ/vu2TTz4Jxx9/vIZhIhALau+yyy7qj/L41FNP6RI3BxxwQHFyEOWCfI/ix6+gsOA2/rBOO85gwZU2Z9DBmmuVWJrwwy8blPrdQIN109S6VVdb/E3CWCnKHk8PpIlxeHmwrAiKGdcqdX+cK2U5dMpDZVhK8rs1nRjGkW633XZhm2220VnLKFnW/WkWM8oRQw74WTcUK6QtSX8MHn73u9+p9W2eeeYJyyy9jLqxXuK8884bLrzwwuIvkYwdO1Z/Ro4lb/gtYYNzDB9A8WNdxlVWWUUtcaXKi+MMNLQ+cpzBABWz/ahzd6mkUu9N5SyPOO689PTltR1nesGixVg1FrjGwsYyNYcccoiew2KGwoXixtI0pcaasrag5f3WttSyzLqJG2+8sbrFmJutRcg1KCMsozNq1Ch1c5zBhittjtNNTHkzcRwnqFKGFY1f8Jh99tnVWkYXpnXnM2GA8mLdpFmwJNPVaWGwkDGDG8WN+LJgfQPOA7NETeFjKIOXU2cw4kqb4ziOM92gtMXjSbNjL5mNjVKlQw1qOjc9KGzEEU+0mX/++VXhohs0CxY94BdOACUPtCu2xX8BxBmcuNLmDBq6+2XdXf99TVfp6eq8000wysSSpdw5Ry1ihs3gxFpmyhrHuDOrGSuYgXJmwxg4h5LGefzHwwJsfTZ+ou6f//ynjpnjmuR9/DFujbB0t8ZYWhxnMOI523EcpytceetEbEljn9mj/Ibu5ZdfrmuksY/QfYkiZUoYip19dDCxhnFuKGG4meKGX8a0wa9+9StV7rbYYgudScpPvZ1wwgnhzDPP1DFw/FQdmGJIPFjsHGcw4kqb4ziO021siRmULBaFxhJ22GGHhf3331+3Bx98sP4WKZMTQNdEFIUtXmIH5QxrGb/eYRAffq27c/PNNg+33nqrLvfBumvrrLOOKoWs18YsVCAM/i1+t7Q5gxXP2Y7jOFncqtYlZmnDwnX7bbenFrLWVnVHcGeM27LLLquWMtxQvLC+gSlnKG4//elPddIBv+iBwmVj4wiDHxbc5SfePvroIxWser/4xS+Kih1xcb2vv/5a4zernuMMNlxpcxzHAesCNYUte+x0wMaW6RiynKV2sKDpOVHCsMrZljAG+xYWa5spYbYkiFnMiAu/zBhF7LpsEdLCsa33VlPrYz6dwYkrbY7jOM4MAeUK6Wu8e9QZrHjOdhzHAXQJE8geO47jzGRcaXMcx8mSVdRceXMcpx/gSpvjONWJKWKlFLJy55xiV2dPuzy7Gz7rPyuOUw240uY4juM4jjMAcKXNcRxHYAGLUuLWNmdmoHnPcSJcaXMcp3dJCtWKL5fhOL2CN9SO4XnBcZy+xxQ5x3FKUu4bB2MvpaiUONWBv2vHcRzH6Ud4t6hTClfanG6RyKdgIjVKG6uQF9wcx3Ecx+l7XGlzpptEshFmff86dFIK1QpavWv2vYaXr8EL77Zk12iNv3mnHVfanAgqhxJSE1UphYY4VdRqi+JUM+STlnQXitlF3Gh0RHQ9rejPqYz2J9Wmf87gp7ZQftjUShny0uIY3tI63SfS3xwnl2Ir40qG4zhOb+FKm9MNEh3TRjtc01ajzXHijbKjUJXUp7s1kcXNqhifPeo4leNdok4JvCZ1uoXoamq6N/O9Vy1OJzoobUJRYfPqJov/+pLTGWpVr1mdfLwWdbpBTRgijcyQ+hAa6mpCsyhurZKF6uRMW5v3mVY75IAp00IYOXJoNAanYxVTW+av2mCMX608qIaGhvDVJEqXU820q2rtCtvkqVKeZplF61gtIRSyUuJUBa60ORVSE1qlYmgSGSaty6jZRoZJk6XBkTNNSRKGSuvjmam6QemY2tQWGoY1eBtSAa0trfqcRs0xe5gmyq7jGG2hXvNGo+SLocPqvDw5RbyddSqG9dmamtJMs/JKy4enn3lZK5OkzU35Tvqx/+ILL4WxKyyXOjgdQastmtPaQm1dbWiVveVHjw4vvfR+6uxUKdShDCtA2pvlF158q1ietJa1PJQnTlXgSptTMXVSMWBZo1t06WUWDf99+InQKMdJXZ1UNTQ/VCuuwA0qVCtPd7PY20bwgiX2iceeD+usvrrmk2LlYnGUiKf6SMsI3aOw4pglwrNPP6r76WSO9Mnxf55o+PiZDiTJkuennHSXvDj6k4Bs298t1OqEr0Z5zY888WxYa82Vo1zhVDueD5zKkAqEpdqGSmtcL23N2BXmD3XD5wiPvDhFFTdR6UJzW5NsUd7aoXlKJf5L3TphFVkpKeDhZ3B4fLeZUq4ORXC1M//8x3thliELhsXnny0Ml2NVSSwOu6Ad50kVUVswjTBWaelFZg3D66aGJ58Yr27NLSLNraENCzbPXZ+PVNW6FTdEH+ggl8F8r0lUnjQrMDa4Xv9olJnwdee/Pwp1s8weFl5o9jAUL7iXEac6cKXNqQxdIDXd5atvuOwfsM924dqrrwwvvPJFQF0LtcPkP2wsKaUrkmgpXmuwEYiPY4HClrAevkCenzyBwrZb4XmLdi4z2SRV1oO++0effTfcevsdYccdNgpDRBNpHzhduBJ5p2Pwqmdq01R9RnOOqA1777ljuOaG68Oz4z4P9Uz0aagLtbVytqau0L7bwyNE4Zn2BryXnkh3KRWulHucV6Yn35SKv1IsfG8L6PpJ7Uyc1BRapbjRQfrUCxPCbbfdFHbeYZMwVF435clxoBdLvzOooaKplRqlkGOGiCwxMoTfHPO98Oc//S3c8s839NRkaWCmacVDS9MibiIEa0vnB9rvJ6QqncvAEWlgamv0rTbK7kR2BBS2+x/9IFx53Z3hhF99PyywoCgcca2S11hVLfYsAYtzos9zanNLGDXnLOH7R/9f+N15Z4Z/PDw+TJFnzLlEnlmN9o3x8NIS1GtSk+NWqXQnbMZv+y+oRJKNLz62/cLWwnclxfBINv5KpCdhKpVaUcNEEta7lBfd1BzC0PohoUWyx0PPTg5XXntr+MMJPwhLzx0Cn8IGap5JFstdcS5zBh81iVDYdwY78rXeKpX/9rsdHa646rQwizQG9gXHUrlUJ+UwH7ZGW2iWJnvIkPD+5BD+9JebwrCkMay2ypiwwgrLhNlHjQizSG1DCP0FLJHWnAtkneJfy4qh8YJsZeThO9Lb4YvvWjxKu6LjGRvpvhN57KlXw7iXXg9TG1vD3rt/KywhDQygiqSLeBQuqlcVSdA+ymDeZxLZZxOjz0m762RP0tksglK14+5Hh9uuPa3CMUfpFVJ1jadUo11i3PY0ea5NsjNpagiXX3yLFK2asOHa64dFF5k7LL4IzzSV3mR646v0dWWvY8+5U94rbI3iWpCFExZPufcU01X8XdHbzzuGtBC/WtakLLVI4XrikVfDM8+/Ih9ELeH7B+0UFhwlHshyUiht/GPhW0np6n66zo/OQMSVtmqiS6VNinlebqBr1MbUCFaJUinogFnZoTF/5cWPwkvjXgsvv/p2mDhpWpgyTTtNxb80UrVtoZUv1+JCqynZiqeoJGTIVtyGh+9Ib4c3JS6RdzilcZro6PVhxLD6MHRIbVh95bFh9HJLhxXGLKzLwNRq7C2qksQD6hPt8CGviVs2AeXIJq6PKacM6J30ktLGlsU+EgmB2gb6WNrEXeJvkojffm9i+N8jz4R33/s0vP/JR9Kot4Q6fru1O8+vC0yR7ymVpiV7HXsK2edV6oOhmHcL23LvKaar+Ltiep9PJdTV1UmZGhIa6tvC6istHcYsu3gYO3rJ4thhzRk8APZFKr136Do/OgMRV9qqielR2traz7ELuilUbMwcpAeHLVaYeql0WNONSobKjy2NXLbSyVYsheg6Ycny8B2ZUeGhSQLT9Ul3Dd3j0+SFiu4WhhYDEbtdiS6qGj1qFaUNLw2utHXYYmkrlkB5LnUMXpP4eVrEzScPXdEtEjHPHZ/2SLq+VnnK3Wt36Cod2etkX3/2FZeKz+LpTvaBSuPP0lvPpxTEzzwTDGja8y2Qh4aIGwuYK7rljtvvojvpmt484vRPXGmrJqZHaTNotDiUegTlTSsGjkXUF254kXjIWfa1TNcoDV0Uk6LhI9qrp45Ysjx8R2ZE+Dgs5015QNqnnRTAs0bCr9Ka0pZelXlxpSyBueQlpg/JPpsYfU59pLTxP0UsLmbstsiD1g8h2adrGtrL6/TRnddQjq7Skb1OdIvK9Obfrqg0/iy99XxKQTosbVyLY8qSpg/DNI5kKnHo7j0bXedHZyDiSls1Md1KG1vxUzC1pRsJZ1Y4iaxxWmu6gndrS6hBewMaOqGtNu04iylXiRZCd6i0PHxHZkx422uHN0nYGrTzNiabSJPDQn44FrxzXa6H0oGzKnjZBJSjXOL6gPg5ZdFb6muljWeDFO570rSWMJJCKhCi6/gHBpYFCrfZLfpx9ukRalFtaQptza1hluHDUwcEqJxFePeI5hORShks+cXpiL9XpyNWM8Si2SSSgrvN0YpnlaKwQU2dNWOxf8bwdJRyfxY+/vPwMyN8ZwiNusGyFLX1Q0Qj0xecvusIDskJ9nHQgUK+KCmDnBq9SZrjVBfUh2QPSwSFzRpssH07Lkfst6di5J2bHjHdNO+ckXeuK7F4K4m/K/LC9oWQA5g1qgobkA/IA1Z9FsgpWupWTpzBib9bpxsUsku2Lweyx2CNr4kQVyo9yXwefuaEz4brFDbznmOK/mlJnZJYQ24C8fOOpSsq9VNOTPvp5F4h2XCViBHvx8TZLCvZuPKkUvLC9qUUiW+E/cJuBz9OVeN5wXGcPsEbm8owy5DjOE5XeJ3qOI7jOI4zAHClzZkOzJZi4jhliPuyCl0/Tj/CTH4Vmv76uvT3VbwDlfhZ+3OpXvzdO47jOI7jDABcaXMcxxkE5E1k6BZuCXWcfo8rbY7jODOZrI7kFbPjOHl43eD0ALKNZx3HmV5io5aVqmLJKjG2rFJLWhxfnnRJCYtbpeFjq1+eVEqc5kqu6ziDGS8DjuM4juM4AwBX2pyInn4LO44zo+nt0trb8TmO0/u40uY4juM4jjMAcKXNcRzH0cYglu4yveE7UeF6cY5TTfRK2XIcx3Ecx3H6FlfaHMfpXdxC0oGOY8X4q1Uxes0y5TjOoKcmEQr7zmCnLQmttTVh+92ODldcdVqYpT6EusIpmhNm93dsPNqP4oHJsZ/YvVxGwp9ntIGHrfhg7y5engKyx+qxJs4V0DFX9VeyqY7RO0jERyJ7ctPNIq3itOPuR4fbrj0tSFEqeZdpvPxvV2j32TFMelRMhzxLHmerPeRu0sNgvUZX5b2n6SsV78y+396COjnOF5rt5KZr2ytrp4pxpa2a6FJpK93saOORHkQNVPp/Y2iR83VyviZtcKhgpAalErWKlPDNIhYHZCvZUlc3rDGzDOvhO9IX4c2PheXdE75NXmSDBGgQD+ShRP7q0C6IpKZF/kMAhyHpbj/H7jEPfTbTqbQlhWdSU/Cd+ucs7rVh2lSO6sOw4RK/RN4kD7pFPDXJ2RGypfwYpa4F9s4M81vu/noDy1czi3LPpD9Ceik7vBfeLc9vqAilhXO14kKt3Con28TTkAZxrGl/yjU12TftVAOutFUT06W01UZKW9rBw97U1taQ1NVpszN+/Jfh8UefCePGvRoapzWHKVMa1T+WF8I319aH1pr2a9TQAEbUljhuK1hubJsUtlH9pWRTX9tm4XUj2/TYgnVq3LLx0UgL7eHTbVLYdrp+ieOBHj6lNtTVNYSm5sYwVPLNqFHDwujlFw8rr7J8WHW5BVUNUQjjSlsHCrlIHk2e0gap0tYmcfOxQwP+witfhaefezW8+Nrb4WspR5MnTw71tcSUWsRjsu8N0nebSVGmfHVJJ4tpeRKpX2Y23bzDmcqQIUNCY2OjKGNDwiyjhoRlxy4cVllpTFhjmQW0XiYf8K5bJXvwjuvk5mqil+1KW3XiSls10WOlrSOpL6lJWlrC5JYh4fPW2nDh3+4Iw5ubwrqrrxrGrrBEGDoshOEj1GMRMlrcDGSvVkqJyCobFken8IWt0Sl8uikdPnv9wrbi8IWt0e3rF7ZGfwlvtEjAIZJhpon711+H8OzLb4V/P/hIqGsYFg7ab6ew4GzkJwKlAYtqicWTvUA/w55LHnonPVbaiNkEXyZRGJ6RxPnuxyFcfcPtYdKUaWH9jdcIyy+7RBgpZUl05E7pK/c4s+9OyXMrRzffV39oSbJluD/T1BTC0KGSl2T71cQQXnzl7fDf/z0ZaobMFvY/YMswp9Sf9ZJBUNa054IMEN2gK23ViStt1cR0KG16xkxthUCtUol88kUIvz/v8rDFFtuGrdeZOzSQm6JoWjVQmXhNoyhQqtItKmyZ1ijbOHUOnwY058zlSofP+Ks4fGGbZaCH1xhqm7WbJqkdom90qghdd/f/d3y4687bwg8O3CWssMwCGoeJvnm7RunI+wVZpSgmvQ+9eb2P7ihtacxx7B0nIvB8eETvfNgaLr7k8rD1Nt8Ma6wmZUnc8IU0Nyehgb5oZ9CQyHdvW1trqK2tCzWSgbCo0SV+zwMfh7vuuiv87lf7qVWbblGqXPJB3Fy70ladlK5nHCeGuiISTPcfTA7huF+fE/bZ7dth0zXTRqa9YaZJa5HKpqYoNRIQiSOiDYxFa6ccKZ7PhhctKxbVQjqIeCuE1fCkLxJzL563a7IfSfF8V+FLSPH8AA3fJsp+axgiSv8QVT94/xhSh4lsutai4bCDvxMuu+y28N6n7Y8wEZWuDbXOutnkdahUHdkHav+npaRJGuv3Pg7hzHMvCtt+c/uw8opz69imenls2iMqNOjXUE+kHaLqS+FeZqbkpalfS728nyGiwMu2VXZbJVMMk0p0yw3nC/vutW048TcXho8niscIFDUTpzqxusNxKgZrzTSpJS+98h9h+x2/HVZabnioo31QRYAdqlCQ7KWaQAwWPZP02KRTZiQqREjPdQyTTnuIw3c8TonPpUk04n3oXBja47K442t2ff12GZDho+cPuJoTz0p0DbUwDW9oDYsuNCpst/3O4crr7wiTxO2L1mb17wj60OSJFctC+nzt0U4Tvfb6G+8I2267ZVh5pTm14e6YFwvvo9vC/wxmT6X72NuuVPLSMOOEu8xzHwiS1EidWdsiZTKEWeT9r7zCfGGHHXYMt9z8T/1AMqXUcTq3U46TB7UJuUWExvq1198Pw6Wa3GajBXQmIQ1Ne9VSsLVkFLZC8JIS1WG5Yv7MkhOHRTq0H3EbUjg241sxfOSGxNfqIJzDj2yQHl9fNsiACa/dgSJtqUKHoOiZWLh6+eofMiSE1decJ3w57avw/GsfhYa6BomCCQgiqrDILmQ15WrA7plnUJgcA/R08XjHvzM1TPr6y7DVhkuEkYVzCl4Jy/NrK98BWwpCzCghqTNb8tLVb0Xef7Hu0W7PNqlBKbAhjJD6dMPV5w4TP/s8vPjGZ0XFzXHIO47TJVQlKGvNkmOYE/r8S2+EFccsoUsRNKABdPktaOeKVZYetSsIelSeop8oDrNgqIKYlQwWPr6e7dtxOfL8VEt4OR83iuzzTlmWoL62NgwTB/T2dddcJTz11Isdc0JXcVcpPCPa6lfeeDNsuPHG2jA3JtOKc231GaYPun1bfAOVyIwlLwXTK92hu/77EwwfaRBJRItnwk+rVKe1kiE2WHf18OgTz2recBwYyPncmcEwqYD2F+XtqadfDautuqy2Jaqz6V7GGoBTV40Ny3CYFJyKkjUJ6ZIdGYnDZ0WUCZXiMXFkBDeT7DkL18FTN2SwhC/EwR+TVRD7k5Mi6f/DRdZaafnw+kvjdVA1pF2uTkd4Km2hrqZVH+2jTz0Rll1hEc3qDTXpmEGjqLjpY7adnkp3yYujjMQfUL0keX/F/DnApaZGVLWi1OjQz/q2NF/UyeMcMiyElVdaOrzx6nuhpfDR5DjkHsepCKaem9Gktbk2jJqVPXHBUbt9rAIfoFjyy0mWPD/lJEuen3KSJc9POcmS56eUCNbk5NMa5hxZFyZ9PTXUif5eCOJA9BxNKUNJYzz51NbGUKfDCyB9ulnFLT6uKqzCGeyYoioZRMeaMsZN7n3W2UL4+qspuoi140Dp+tdxMtRLM0NDw7IP05qbtQ2qnlrV6QqWL2Adt6amJq9Y8igobe3QQIvSNkUa5YGx/rAzI0kS/dWRlhZm4TtOitetTrewDNPayk9XFeinepsvQThjqamp1VnF9UOHuCpfEenKiC2i5KbjQh0norYmNEl5ahCNntEGXqYccKXN6QAZIk+MqVJzlFoiKGG1XQFLi8HPtEAb5rkC8T6KVXeVq2nTpuXGCxZfT+J1ytPc3Fx8ptnnbmBpa21N58Cl2UT+t0xUIt84KTyeuMyZVEpL4Z00ssR+gbic8P6Q6aWtRTSJ7E9WcUjemB6pAO6ju89lRpEtH3E9ZO5l4WcP9KcP0nXYiKNOytO0psLPATqO0B/zvjMTsAajFOm5tOLJVdrEQ01drVZO/KYeWyod9rWira0tKnPsl6JcJWduw4YNC0OHDtXjbFxUdha+3HWc7tPQ0BDuueee8Prrrwd+Z9Kes0lMXhZx+hZm8TJVCMsM22z5q6+vV+kx8s5R2HRhV5QLowJ9pDdolWtbmU6nRPUvsuVjerBPov53l87Mxls1p9vk2ljEsaWxqag06WyoaB+FjQaEijfG/EG24c9i/rC0AcdmPaBhMrLKWvwF3Jv0RZz9mWeeeSZsu+224d///ndobiltscnNH06fg4WNUXKiQuuW8hGXP7ZWhrS8dDP7EldtfV047rifhDtuva3gmG5mBHVybSB/sURGf6PS8uE404MrbU7vIHWojmUqNBInnnhiOOGEE4oNBwobnHb6aWGPPfYIX/OL48Ixxxyj0h0uuuiisPfee4fvfe97Kr/85S/D9ddfHz744IOiIoXiZl1Bp5xySlh66aXDo48+qsf9CUtvOSrxUymVxpXn7/LLL9f3uNNOO6m1M4Zfycj+rqkzYxnawFjCVGHLK39m6f7f//4X9tprr/DyuHF63IkSViIs6fCH004L9957b1mFrS/yNf4fe+yxsOeee4Snn32m4NqR7sbZE+wDkWvF1ytXPhynt3ClzekIdVCelKPQWFOZ2Zf8nXfeGa655hptKFCgsLD97W9/k6/047Rim2222dTffffdF2699VbdJ2wspfjLX/4SbrrppvDiiy+Gl19+OVxyySWqCC600ELh2GOPLVri6K6Aurq6MGnSpDBq1ChNT6mKPbbWgSl9ti0F56dOnVqMl2tB1qqYR1thHGCcJtIRNwwxHFvjC1wjPrYxTPjj3BdffKHHWUqlzZ5dFu7xuuuuC9tvv32Ya665OqULWBiUWDnH2dSH/N9+4PQAKum4oiZn5AnoCvuyvfOOO7T8WVnifVPuyFd031F+3n53fBpIIP/yjjnfmikHQPi4fExtahTdTvwyfpGfdZDiSjgNW1sjbiRErls4RppamvU4KfjFj51vZmE/inxBpjVKPrTjAuQrPsyuu+ba8NKL44rPJX4+cXmKhfRzf9l8H+d3ztl528Zly+Cewa4F+Kd+23HHHcOss+paSMVnb9Il+FF/6WqIGk6d060XIQcsrztOn6CNgFRozz73bDjkkEPCRhttFC644AI9R2XaHUwhofFBcXjooYfCI488Et55+53w8ccfhy233DKcdtpp4fvf/776A67905/+NLz33nth2WWXVUWuVAVq3aqki3Sb0hePAzIFzip1QCnEj8Vr4+3ozokbumwDwLnaulq9rzhNjIeJ0wLWqCLcP2HsGjFcm+sQH+fmmGOOwpkU3InDwhGHXQMa6huK4WP+8Y9/hC+//DLssvMuncI4AxfyoOYHycNx2bBya1vyi+VJ/CEck3/NnX3LV+wTtqkwKcLyrZ2vEUXN/BM/8eHf6G7+wj/hrTyZG3nZyh332FJY9XnKlCm6xY2yhR/Cki5QhZT7rq3TtMfEaeV5cZ2777lbP5B23333onLsOH2BK21Ot6E6pStMM09Ut8YNPRUZlefw4cPDhC8maGW21FJLhRtuuEErNfPTHaxx4Dp8zVLREgcV/7zzzquKxfrrrx+uuOKKdFyJVLZUwlgWsOYR/quvvlKL0auvvqpxxbz11lvhlltu0S9oFCcqbYR4//SnP4W77rorfPTRR8VGwMBqgTtxo5BeddVVRWvbhAkTwh133KHhsXywf9ttt4WnnnpK118iLp4HX/x0W1144YXaAHz66acannRwv++++264//77tTF4//33w4033qjXoaEgvD1LfR7S0KBgkd4///nPRUsm98IzodFh//nnn1crJcK++mlLG1CD9OGXdI0YMSLstPNOHd4z+ypqC0ghb3R4s5xqP+30E8grlAkUF8oI5YK8b4oViguW7JtuvkmPDfIt+RDBon7++edrGZk8eXJRwbG4Kf/vvPOOxo0liu5NVZDknFmq3nzrzfCf//xH3f71r3+Fc889V8tidyAPEp6tfTSRpykjyAsvvqDnOQdDh6Rbyu2VV16p5RarP36AMsBz+Ojjj7Tbk3t84IEH9Bz1ml6roOBxP9wbddIO2++gbo7TZ0jmdqqF1rakRTbf2PWoZEJzkjTKPsdIq/wpbWVE/psk209l77s/PlfDJW0Srni+nVVXXTVZdtllE6nIk4033jgZOXJkIpVoIhW9ilR8SUtzi/pbZpllCqEqY7XVVkuWX355DY8YxPvII48kw4YNSw4++GB1a21tTU444QR1e/vttxP5wk6kYk8222wzPR+z//77o2skovDo8QsvvJCsssoqmvaFF15Yzy244IKJNFB6HkTZSqTRS37yk58kSyyxhPpBxo0bl4wfP17duDbPAnep7HXLMyFt8pWfPPfcc8kaa6yh7qNHj1Y/s88+eyINWSINgl7nN7/5TTL33HMnV191dSLKk6ZJGsRkttlmU388T+B5PP744/pMOS8NiaZvkUUWSd577z29JvziF79Qd1F2VdjfcccdE1EC9TkaPC/ukWt+//vfL7imxP6IdVpbYzJZtnse/sfkC9mmKS/kqwEAKS0lCnmdA7lt7m2qyNa7HaXlqOinAihrrYkUQImIcN859NToeXUNYfIE7J1QruQjSfdxs3LC+xclPRGlJBGFS904f9xxx2n+s7xv8Xzve99TdyAvkB85/u53v5tsscUWiXwwaN7BbdNNN00++eQTzYtcRz5iNJ+RDyk35DP8yQecXodrkLd+9rOf6bkzzjhDz5ufLMR5880363lRtAqunZEPsmTDDTdUf5QPhP0DDzwwmThxYrEMiCKp5yjbK6+8svohvXb++uuv1/JD2qlvOH/iiScWz9szoo7DH/H3GI2K/6xGTutJ8sQ+h5+dfCXbtIQ71Y5b2px2tFoqId1E8pZ+iZ988sn6Fc3X7AorrKDufA3TnciXPMdId5BKM10lXL6E+drlOoCbKHT6FfzKK6+oG/v4x5LFNTnec8891RInDUwHq9m1116rY7ZGzjJS49xnn33UvyhV4c0331Tr2Pzzzx922WUXtT4BX+7Ej7VKFLQgilp4+umngyhfOsGCe33jjTf0q/+JJ57QeH/4wx/q9YkbKxmDwumuwYImimIQpUu7cnfYYYfi+BksGFjtvrvvd/WrH6seFjTu69e//rX6IU08U+LDnXiY8EGc6667rnYhA5M2pHHSd0N6EfaxMmKZ4zkaQxqG6HMhfdIodegq4t6cnkC1i+Q8v2y5K1M0LBaTLLx78giW3Tv+fofuY6HFYmQWV+A9Yj3qCqxmFoY8wRAF8iwWtqOPPlqtZGeeeWZaptsSLffks5NOOkn9YS3G4kxYrGlcl/LDlrLIeFfqCaxfhLG6oSgSp5V1jvOgPFNusaTffXdqscbSx1jXyy67TPM35Y775XrrrLOOposySzlgiAXXIX7CcJ60M36W81tvvbWml/Nsud7VV18dRBnU4R8cW3q7RU5WsIk9Oskn3XUczfxOtdCVpY0PPT4i86TwJViJpU0qVv1yXWihhZI55pgjmW+++RJpQPQrna9SzgPHWLKWXnppPa4Ei9vC8NWLAPGxz5fzmDFj1A34kieri+Klx9Jw6fHZZ5+t8WFBsC94vr6xSkgDpMdYtrAcWJpFYVJL3TXXXFO0guGPr3GsVGDuuGGRMIgHKyHWNOP2229Xqwdf9cC1Sc95552n8UpDq/H98pe/VAucNMDqz66x8047a3iDeLDsXXDBBWrFMLg2YGnACmHPJ35+iy22WKd3QRzbbrutpplrxpbNLE2tjWp9Mktbh/wxAOAplBJlei1theeQxpmG4P8Oljb8ZCVDGj4fy6dY2sgH5CEsYeQd9m2Lhez+++9Xv3DUUUdpvqacxmBdxT2GODbZZJOiRQ3Yp5yPHTtWj8knltctr+JG+igX5DNL6/HHH69pOuecc/TY8hjnY8Hdyu4VV1yhfrLIh4emz+Kya8Oiiy6azDPPPMXrkt+32WabYtyGnce/KGl6j3E8dt7KF1Z7LNv2POx89yEc6WiR90td3ZZwhb2OOFvzh1vaHMj7QHOqFb7sSkk3kYpLv6JFMVILD0tz8JXOuCjAKiT5r4NML1xTKmz9upbKueAqyZcvYsCqBd/4xjd0Sj5j0QALAl//zC795je/qRY8JjmQ1gcefCD86le/Cr/5zW/UGjWusEwCX+fcD+mWRlFnjc0+++z6BS8Vt7ozQxbrGnBM+hjrNnr50eqG9QrrHel78MEH1Srxh1P/oFuugztWAq5DWOJYa6211IqGG9v55p9PrSa2hAoWQdIgjWpxbA/PmnFuMHzYcB1XBD//+c/13hD2eT7cl8E1sYAwNo4xiVzTxjs5fcR0lLksokRpfnjttddUsD4xVowlcEQJ0bxhWP5iC3bO8nIWltAhv5BHyV9syZsvvfSS5kcbS4rV9owzztBrnvzbk3U7yyyzaJ1g5ZIyC9ttt51uyWPk4e5CmGeffVbvAYsY6SbPAvtbbbWV1g1mcSZPY42jPrjr7rvUDUgXz2e33XbTxXI5jz/DzvNsuEcsilj3uBbn7L4cpy9wpc2pjFL1kH73prtZqIzpqkNho+uNwbrWrdjY1KiVPl2WVtlNLygpDJym8l5yySULru2NgjU+KGxUsnQT0ajhjmLCwpgocPD5559rg4MSQ/ci3a1PPfmUVvgodjRQ1ljRSFj6SQPXI+z++++vytfmm28e/vjHP6piR8N5wIEHpH6HDFXFi0aOdD/55JOaptdfe11nu+60405hxRVXVL/ETzq5N/ZpNLgPBj8D1yQ9H374oZ63+2CfRhDh/KTJk9SNeF4a95J2CyHsjx07Nhx66KEaDr/EyfIqwL04vUBuWembahjliC77BRZYQMvDMsssExZddFGdUUzZM4UMMWWtuGUyTsbdFCn2TSx/UYZREnEjP6Ps8yFBPiVfs0Yi3fXk7zXXXDMcdNBBGlcMaSIsUI66C+HpWgXKBWULrMyMHDlSj7kG6frd736n3bWUbcomZQ2lE/jIOeV3p2g3LmUz7zx11+23367H3/nOd3TLdRynL3GlzekIdU6e9AAaBZSXP/zhDzpz9LDDDgtPPvWkVmxUeGBLWYA1DCgM7OeBXyxbxI2fpDC70rj00kt1iwJmZJU2YPwJcTDeh5lvjBHbd999NU6uT+NGxX788cerwnnpJZeGy6+4XC1yhNlwww11/Bhwfe7DGiwaD67FWBfSgdWPGWhzzz13+O9//6tf7gazXmnwsOTRANx+2+3hxptuDDfffHO44sor1GIGdg+m5CLAtRHOs2QByhrXN8ub3TNpw/qBNRFljzF3V19ztY5z4p5uuPEGnd3KkilgSh7nGA+38MILq3uPKaHYVy8VVL0lyh4hK6m4KUu8d963wTHlh3JpSg3gBlh/gfdPvoqVf1OkyHtYoSl7MXyQYG0mDAocitMqq6yiM0fJz8wcZ7Yp49ZO/cOphVDtedjytuVZczchf5ulHr/4iwU/rNVIWeDjivGYwD0DHzSUjUUWWUSvg78f/OAHai37+9//roomH5jA/SOMP+XDjnQzpg3rnJ0nDRdffLHeI8ox13ecvqaSsu9UAVST+WpSz6GCpWKjIkdpQaHB8kYXoVXMpoShIAENAxWiKSlZqHRRkKyCRBGxfboy6I5db731wq677qpuVpkDDZVZC5iwsPzyy+ugfCyAWCLoPjHlB0WFfSpzKn3Wd7IGA4i3tiZNo8WPfxoD7onGj69y1qUjfrpJGQiNsod/Gkzuc9VVV9V7x9IHuBk0tlw7VmJNEUZIQ7wlXpQ87hFly+6d9KDEMZEBuHeUR9JAvPgxawR+jaefeVobNLqJSr2PLuE1d2zbnX4CljjeOXmHjyr2mTRjMADfLEmm4JGvyYMo+x9+9GExX9LtyJI1WJUt362++urqZgs824cGcVg+x2+lECeTHsiLxMFxLGCTnfh4s2ugRJK/KWOUxxhLP92pm222mVqdrY6A+Py3vvUt7WY2GNqAFf7ggw8uuDhO3+NKm9MBqqhS0l2o/Kyxp2sBKw5fs3TBUclSITLuC4WCGZGcZ/YZgjWrFDQ2tibaOeecoxY8FC6sWnQBEd6UQLAKHeURpdAaCmaRPvzww9owffvb31Y3FCT80/2JgoUS+Pvf/16VF7o6mX3Hz9RYN0wM1+SeaZywaNFAsLAvVjsE6xbdLKwjZ9aPjTfeWMfy8LNDWCQZb8Z1rrn6Gr0OCi6KKXGi3LI1IZ1sTVkEnsNKK62kaebnvRiLwz1wbbqpeObMiuOZM1OOdeOwJDBD9qyzztJnZ5BOGrz99tuv4OL0JeTK6SlveVjeN+JjFCDyO3mHPEg+YoYwHyp0G/IBYEq8WdzIt8TBOoC2UDZjQzfYYAPNW0ceeWSxzDM7E4Vtiy22UIUJSxwfC+RNxoeCKXgx2eMYPto4zwfa6aef3kGoE7Bi0/1K+pm9TXcs67SRVu6FLlHSifK16aab6r3yKwuUExRM/FFHMFs0e560x88ExZDnsfPOO3dL+XSc6UIym1MtlJk9ynwlm5VWSpjdNKktM3uU2WOcjCZMSaWYiJKmM6rimWCi0Oj6S9JIJFKJ6zlpLHR2migk1HoqnBclSsPlIV+86k8aB12vjJmQzHAUpaPDLDDgusy8xL8oJ+omypXO8pKKu3jNRx99tDjriy1+RLFJ9tlnn+I6T6STfWaccS/4wS9pP+CAAzSsXZ9ZmswqY322yy+/PLnooot0DSjWYyMO0mrX++yzz3SWqTRIxeuwThvPihmpxGn38O677+ox6Yejjz5a3Umrxcd92jpVCGtIsW4d62ZZ+piVauvK8bzZMqOP2afTCrPieLa77bZbMd6uyJ09mpM/+isks5QovTF7VCSOk+13Dj29ODvQztn57mLvytZpy747ji+88EItO/fee6+6WV5ixjHu5GdmgopilfzlL39RN/MzpbDOIbMzyVPkWfzPP//8ybXXXqt+gPUHgXLOLEzLiwgzTMl/QHpOOukkjVM+hNStFPh96KGHivmVdMXC+oTw6aef6qxqUTSL16Q+EqVLzwPpszJCWO5h3XXX1bUVgVnu2fOUe9Y6pNwD9ywfYVqmrFxNH7wr4vHZo05pXGmrJmaQ0lYp1hBUSrYB6m2IHyFd8bWowD/++GNVrlCOUNhQbKi8rcK2e7FwLP5Jhf/ggw/qsUF4lLYddtih4NIO8aFwIaYQWnoMO7Y0xpJ1I500QihrXJd04m5wjU8++UQVQRo6cwMWXqUhpXElTCWNkittXcAzEInjZNtjpa0QX1FyiN83ZI9jyCfAx0ylkHcQIO5YLJ+akK8pR/ZRMCN45513dCFf+8iyfGzPAUURP3bvWUgvZYjyQ7q5D+Jg6RGUOVM+cZ9+SJPVxq60Ofl496gz05BKr7BXGaJEFPb6Fq4TX4sukLnmnCvMPmr2MGL4CJ05RtoZ00bXZTwGj3B0OTHmBhgjY+BuS3ysvPLKBdd26KZabLHFVNi3dCBSVotdMOaWJXZjnziYBMGsOQaFk87YD+eZHLHA/AvoFrgnrkO3F2G3+8Z2OuaJsJaGOC3O4IGhCsBA/Uph4D8C2TzJsQkwmYVyRBfnjIJ7YagCY2vJ24xXBUsTEyYYujDLiFly8zQThYiDLlOEck5ZYHwqs3KZSS4KYMG34/Q9rrQ5Tg5UxDYBwCpqEyp+bQRkm22o8I8fxq6xhMbhhx+ug6MZb7fGmmvomBjG3DDeJw9VBkVoQIirp8oRYUkbCqcplAbnGJeD4If0AsdMuGhqatKGjrFvnEO5cwYm2fyZPc4D5aQryJeUD8PKSinIg+Qj8hNpmBFKP2my+7V8Ht8/+dzInoP4vCmaNp6N8bGMQ7Xymi1jjtNXeE5znByohKnI2dIY0QBYQ0PlHovR2NhYXAYBqwUzy1guhGUEmBxwwAEH6CK69957b3FgdwzxEwcC09MQkC5+WgdoaGiAuA9rWOvq6nQgegyKKA02jSs/y3XUUUcV0+IMfpiVbcQKSx7kL8qHkaf0xJDviJO8SD4v57e3aCssyUMezl6PNCClFM1S5+2Y8mGzRs0fW8fpa1xpc5wCVOwmMabAddXQoPBYQ8aXOZU43SfMbmUl+B/96Edh/fXX1/N5EL91wxhxmrortvAuShjp4T5iwVoQQxjgnFEuLU7PsSfMU6yhm72wj7tJl1ggk+kk/pCotAszzgtx3sgT8iEfBjMKPkwgzsMG6cE9zusxpc6Xigt/bB2nr6mobnAcp/tQicfSHbwBcAYT2fw8I6xSpRQyxxnIeK52HMdxHMcZALjS5jgzAR//4lQrbkV2nJ7jSpszYLEB9mATBRh0nB1EjVtPlCRWd+cXELoalB1jA5XzroebiTdc1U1b4TcPyCVJ0qbbrrDZmsW8VZj00oa77OOOn+7k1xlJnO9tixtlhrLGrw8U760b2O/+gp5zKEoAAJ4nSURBVC210xWV+nOc/oYrbc6AhYHGrJkG/A7i97//ff0heGZ1HXTQQfpzOayTxuDhttaOs8Aq4Y9//KP+UDTXqLQxYRxN3DjF8BM6iy++eHjllVcKLk7VMR26OpNcUE6Y9cvPt+2yy85hlZVW0t+G5bdALY/aJAKOY5nZUDZsyQxgn3LCOoD8hFp8D92BH6SnvP/85z8vTnQopbhSpr/73e/q83OcgYgrbc6AhUaAhozK//nnn9cFYR955JHw1ltv6fEJJ5wQ1l577fDrX/9a11TrboNA46eKoVyjkqUvrKHgNzv33ntv3XcGITNR/2FJme233z4cffTRorxN0R//f/PNN8Ouu347PP7445pX+4OClgcL0vJhBVjHmE2KEsoWdO3DjGJXDiuT5557brjyyiv1o+iaa65Rt7zZry+//HI44ogj1Hp+6qmnFlwdZ2DhSpsTUc4alZ6rkfYAY0EtW3WaeVmIyh2h0kdhQsFibbF//OMf+kPwzzzzTFh++eXDSSedpIpcdxsz4m5tbdWt/cB7OWgoaIS4Pj9SnYUfj3/77bfDcsst16sNK3H114Z6UJHzAzKtSUthrwI6WNk6xlXJ2yMf3nnXnfrD5r/97W/D3f+4J1x00cXhqWeeDv/5z3/DEkssof6mTZum2/4GP7iOVQxs6QyUNJQvyjD3Rz5mv5J7sDgoc6NHj9ZfEjnvvPOKbllOO+00XeZmjTXWKCqKjjPQcKWtymiRNqa+vkEqS9lvFZEv95a21tAijU9rG9KUK0krjVNNGC7hxJu0VnWquKkuh7A/g/UGKl5bi8kqfCpyBGVrzJgx+ssE+MPyhpUCf+b/n//8p36l33HHHeGDDz7oZE2j4kcRIzz7yKeffhpuv/12bTSvufqaMH78+KLCRPh77rknvP/++9oY4Y9xOlhCGGv0xhtvqBvdQVz/pptu0nOA0mnyySefaFfRl19+qecAy8T9998f/vznP+u5zz77rHBG0tkqaetB968z/ZCnaP6T0P7rAKVJCwmVblzxSlZV4uKU9zbJh6+99prmERR/AtC9mMi7X3f99fQnl8iLQxqGaD778MMP9fy///3v8Ne//lWVPYN8jHXq8ssvDx9//LHGacT7//nPfzQsfvkIIt9mFSKOybPXXnttOPPMMzWf2pgx0oMCRp595513tLzefffdmj4sX8AHEfFSZkkvyh1WOa4NxG9lLAvuhCFeFrHG2vjkk09q+bPzlL0vvvgiXH/99WHffffV+sHKuo2FBe7byhjWOO4J4muzz3PAqn/++efrvWThvu666y6N79133w1/+9vf9PlRZu3ZxnE6TreQzONUEfys8dbf/nEyWbbNIvxEsUlX8HvZU5uShJ9W3uv759hvG6dCxJVE0svYDzVLhZyMHDkykYZDj/lxZ+Soo46idkykIVB3/L/++uuJfJknI0aMSBZeeOFEGkPdv+WWW9SPVOi6JdzBBx+s+4T7y1/+kgwfPjyZY445kkUXXVTDiVKXXHrppfoD1PywtDQeGk4aDfXL8bHHHqtx/PKXv1R3/IkSpj8cv+mmmxavR3ph//331zj4MWviFWVP04sb6WU7//zzF9OLH2RmM+h/MD5y4Afjp4hsueuPk0lyo1NbmpJmcef3yHOFcyKN8hymiTQSj/C1PLB9f3x+8pnsV/KD8fKBoe//W9/6lnhKH+rkiRN1C3HePfHEE5PNNttM98mLotwkP/3pTxNR4pJRo0Zp3uUceR83sLxEnlt11VUTUag0v7PF71577ZWIQtYhv51yyimaz7kGQnxLLLFEIkqi+nv77bf1WqIsaRykgy3lweLh3K677ppss802xWtRVnbffffij7znQfjVV189WW211fQ6s846a3LggQfqOcqsKEkqomBpeRWFK9luu+2SeeaZR/0AZfHVV19NVlllFU0/ZZvrzz333Pq8iYfriOKn1+Ic5XCRRRbRe+U58UyMX/ziFxqP1Un44V545qIUFnzlwbPgXv0H453SuNJWJVgjQNWy1V7HJRNkS1VPI4tQOZQTGqlG0fKoVr4U2feoS5OWYutSrpnpW2Kljcr0hhtu0OMJEyYkl1xyiVaU66+/vlb81kBQyVJBv/fee3r8/PPPJ2ussYYqQh9//LFW4jR+xCdf7xqOiv/ss89WpXBioZEk/JgxY5LFFltM/aB04Y/Gh4Zn8uTJyddff61+4eSTT9aG49NPPy36o7HjOGauuebSxgvwt+KKKyZLL7108v7772ucL7zwQrLWWmsl8803nzYkYM9hZjK4lTb5v40CkBaCotL27WOLHz9aRioQK3PAx9PeR52XfCRb3DpesyOWf7fccktVAsYsPzq54drrkhbJI4blc/IVysK3v/3t5JNPPtF8TT4iHB8Lp556qubzhx9+WP2h3IF9OIwdO1aVFlMyyIdHHnmklonf//736gbXXHONuu27777FcvH444+r4kN5MmWG8AcccIAqZ1999ZVeO8aUum233TYZN26chiNO4r777rsLvjrDvZrSBoRHUbJyZ+UCJXKjjTbS/W9+85t6b9wr5Rw/xME986EETz31lNYJ8847bzEuytoRRxyRvPbaa3o/cMYZZ2gaL7zwQj0GlDbKP8LzIfy//vUvfc6bbLKJ+slXRHm/rrQ55XGlrUqg6mqWSoBGYrM9jklOvfyh5KxL7k3OueTvyTl/u0vlT3/7e0k57+K/J3+++PbkrAvuTU7524vJbodeWKhE0phbtenKa2r6lqzShlLElgaA/YMOOkgrW6tk7733Xm3Q8G9wjkqXcFdfdbW6Uani7wc/+IEeG7gjKE9U+lTiXAcl0TBLGVjlTOPyk5/8RC0B1jDwFU8jSsXPedJx1113adjLL79c/ZBeGrQbb7xR7xUhzgsuuEDd4/uY2Qx6pa2obrUWFbRt9/h5csEltycXXnpjct6FNyTnXnRTvlx4i8htKmdfeEdy9kW3JRdecXdy1l//nux99F+Sj4sxx9fsiClUKDyHH354UhdqGGWXrLLSysk/7/lHMW+Ql7Bmodjjl2M477zzNL9hgQNTnFBiKC9WllCSyFvnnHNOMc8ZWHxRxsxt7bXX1mOz8AHnrrzySs3H5FMgb++zzz4ab6ywWfmgrK233np6zuJ6+umnNY7f/OY3HcLExEobz8eUSK5r900Zwu26667TYyxtKG3Gfffdp8+LsDFY5wh3xRVXFFzS+4jvlWuSdhRa4JrHH3+8hrv11luLbvjbbbfd9DnbPXdAk+pKm9M18dAKZ5DTkrTPymJA7oILLhAWXECErcgCZYTzc881V5hf/PNj6A0NM+43BLsDs9MuuugindbPbDRR2PRe2Zf8Hl566SUdO8PYFWm8ws9+9jOdIMCYN6l8wxtvvqH+bBYeEsMs1Jdefkl/9J2xPq+//rqOx5lc+PF1/NsYG+BHq6WSVzepsHVfGk49t83W24SRI0eG2267TY9F+QtXX321urGMA/HKF7/6f+KJJ3R2nHzFh5+f8HN15xrvvfeehs2m0+l7eOJtkpcWXnjhsNBCC4UFRRZasIRwLhZxm2/++cNSSy0VWtvaKhpcbPln2LBhukTGe++/Fw794aHhueeeDdtsu42O0QTyGjA4nzCMoWTsFukUBSKsuOKKep78w/ECUqaJVxQSdWdMGPubbLKJ5j2E/EUc66yzTpCPDi1XwBiyjTbaSMd+Wh7E/wYbbKDXfu6551K3mvQOuSbp57p2PRsnxzg94gGutcgii+g+Y+4a6rueOMD1dt99d71PxqVRJknTn/70pyCKZdh1110LPtPywjXZUpZ4Zo8++qjONKdO+MMf/qDuYGUMKKMTJ07UMXqMB+Q61Cfy0abnicfuQZRJ3UJ9Xb2mi+c8afKkgmsGfX6SLhH9Y+09dU63jCTU/YI41YkrbdWEVAK88PraurDzN0eHbbYcG7bZalWRlcM3RLaV/ZKy9aphl+3XDbt+c2zYaYeFQ12NKDY6YpoYpWLXmGdudqLCXHPNNcMBBxwQzj/vfFXKGFDMZAMaLhoJJg4AszgZMMzA7rfefEuPd9ppp7D55psXGzkqdWtQ2KLYLbPMMjr7jBmpDKZmHTiwBoAJAVTiHAPKIo0JEIfGLecNlgZhgDjXp0KnMdhll12KEyAYME66aRwR0sCEBhqSbbfZNqy66qp6XeJ1+phEPlRU0nzOG66pTURBWSVsstHaUo7WCVtvtVYJWUNkNZVttlpFZLWw+UYrh/XXW04n9FTaBFtegvkXXDD88ZxzdCJNrZTpk08+ubi0DfkOoUyw5SOELcRbFCzbmrKHUgYoc6YccI44+AAC8rJNhplnnnk0j1q5YR83yoBNpiEsCpvlfbuupUv35XzWHey4Kyg/sNdee4Vnn31WyxTlhMlB//d//6fnDNLGPSHcL/fJBx2K2rhx48Jjjz2mkwj4eNpwww31fhE+8FC+fvSjH+kEA9ZxBCvzxGPKaFfg10T+K7g6TnlmbivrzDB40TXSrrNwRTJtmi7dQfXPMcK3IcelxFY9amqWY6nb61qbQzrkXqRVYkd5m8n1Dl/ws846q+7TeGF1m2uuucIZZ5yhChAN3qKLLqr7NHDXXHONLkFw4003hltuuUVnl6211lpqFbBGBuWJhoQwO+ywg7rREDCDDAWLxXxxswagpram2ABOnTo1rZALWAVtCh3XYDYbFT4NLzNNv/76a7UWAA0g6cU/60qRxptvvlnTzMxTtjQoXCtWBJ2+gPxtSlvqgorT3DItDJMCUt+QhKHihdnV5QQ/Q0SGsRU9ZCSFq6VJZ6CKU5egOBSRdGDp2/Yb26nFjg8I8gIfDpYfoZKt7QMKF9hM1Rj76JlvvvmKZe3DDz7UfE0Z0XIjCiQfFuTbZZddVv0A5YL47B6y14+PbRu7d4UptJQp0oOFDas75ZCZpVmsPM4999x6jV/+8pf6kUc5u+GGG3QGKDNi1113Xb03ZopSDk855RSdCYu1HoWQ6yJW7k3ZdJy+oJJ6whkkULGgLjSIkoHixSoRLVLxtyRtoUX+WHMqacuXNpFWqWyH0bpoHSqBabximQnQhWBQOdMgTBOllMp4xIgR+tXNGm3/+te/1A+LkdKY8IVs1oEYKl4aHvygCFkDgwLFsiCEp5LXRqq+IXz++edpGHmmYPtU3HSjWHj8W6XOFoiTxX9ZS44lAVACWbZh66231iUTUAC5Hu+Nc6TXFD4akZbWFo2LeOz6zoyDnMe7aZZXUi+FgnfTJrpzrnCuTRQgKUeywz9RbmRXssfw+s4LwZaCvIxFiXyVSCTkpy8mfK7LzNB1CWZtQ2LsOG9r+5QhLMnEy4cEaFmQPMYHBYrKxhtvrO7kPbpB77v/vqKVCyg/KD9AXiZsTOw3D0tLd7GywVI/lBuWDUFp++Y3v6ld0lko35MmTdL7pfyglGXrg/SdpvFiESfMdtttV/SHJZz7sTINPU2/41SCK21VBvoWFXKj1Dk0GnXiUFdTK42OSI38X0ZqxB8qiOgSIWFlXXKPRliQmQCKDVBRUvGi2GBxoxLFSnbYYYfpedZVogJeb731tNFh7ApjxBhzw7g0xqfsueee2jABzwjsq5mGkMU7WUOKblHCHf/z47XrlQbUlDMYO3asbhkb88ADD2hXC5BGa1hoyFppzQUseIyn4ZcUdt55Z3UbPny43sP6668fNttsM10XjvSyaDBdP5deemn4zne+E7766iv171/3MwfeewPKl+yTZ+guzRXOhSEiaTnCDYbIR1BLa3OxCFGkTPLgnaOcsYjsnX//u+aZzTbbPHw9aaL+SgLw0QIo9jGmWLAlL1oety3ulJ1tt902rLLKKprnsD6hrPz9zr9rPiQca7FZeWOYAB8YjH9DUeMXSehCJK9us802YaWVVlIlDv82xovfGaUc0d1vCl38QWIQhnyNosR+HqSd++Q8ipTFgZWddGEV/8EPflB0R8HCP+WLLdZCrNUMq+BesMpjsaSLlPvZY489wpdfpV28DI0A/FH+GddqY/fA6gAb0xY/X6unwO5F3Qsi/6mb43SJZCCnimB+0na7HZ1MaE5nI6VzlQqz1TjJTglpbW7RMCz5sd8R5yU6gSyOIJ2sNcOIZ2Yy400qP521BlI56xaY6s85m4HG7E1m30llq7PZpKHSWZ0777RzcdkC4Lyt00Z8LH+w1FJLFWeoSmWvM8vYf/fdd4sz7Zjiv+6666q7NISJNHI6e4xZcISVhkTjNFg3ThpATQvLJUA8w4zlD1h6BD/mj3WgWMOK9HL//YFBv04bCxUWHJg9yr2yThv7OPMe2tqYvZknck48IS3yLMRFQqSPZd/DztK1D9P5zeVhPTVR2jTPMnuUPLb8sssmN994Y8FHCnlXFJfCUQr5l/wjHx0Fl3T2I2sZkqfI4+RfUaB0WQ5me84+++x6DYTZqKy9luXmm2/WZW+4Jv5YUoQ4iQeIE7788ktdagc/pIMlcOwc1yePg+VnyhHlx9Y5zGL+mD1KWeRerNywz3I/Sy65ZNGfbVlqhzXW4jLG/R5yyCFarrgm9QUzTHfccUedKW5hqQ8owwjr17EMEEuwsDwJ98IzZHYu98gSPQbnWCMPd2azd4LoyRyFmfjMH22WMFaemJvOPukwcaqTGv6TjORUCbzsb+1+TLj8ylPDLPUhWKca33n68V8mN7S1tYYW+WqeKvuHH3FeuPiMH6RhgAhMZhBkXQQLAdDVwcxL3Ph6tS1fwFJpqhUBLMtzjrEpnGOmGl/ehlSKarGgizWGsIzrYawc14ohDF/7WAekEg4ffPiB+mdcGmBVmDptqoZjn5ml+CUdpJ3wfPmr9aZgPSAeGyfHMZYD/DFInLFDWDHM/8ymmV/PqB0SDjji7HDeWYeFWcWtTi0c8n5mcN7oCR3tPB3RHCbvSychyH00i2Aj2n63Y8LfrztVy5FUpvJ/qVgkXJI+gDZ9FomEkTwqu/sf/sdw9h8PD8Nlv6u3aO+abrkvJ3zRYWwZJnDyEpC/yBsx5B/yNFam+DxuzLQUJaRYlgzyGgP1mTFOXsWqZNfgXOyfiQlYqkVR0mMrD6KQ6THXJC/jj/uYf775tQxQ/vAXlzXyvZG9DyBu/Ng54kOIg+s0NjXqPt29lHvSzP1zHbZY3KysWRkE3BkGQfx0qRI2flb45xzlcPHFFldreXx/8TO1+iaG+HmGsV9Fb1fyTk2b5iCmjJHdWuT5Up7+JOWJ/DFU81iKpdmpLjqWUMcZQFABWqNBJUllamgDUajUbLkBumCodHFHCIPys/jii2tDyHmDeLMKG/ETjm7SWWaZpRifQRgqcLY0RiiCNpEAoZKmwgb2uaaNl0GRo2EkTcTBdeze2HI/+GXmGtfHj1X6df15PBuvwNuWktAEq3KeHpaFvGb5lMkCSy+9tORtyct1tanIvtHckv6sWyycR0GBDgqDgMKGEkSXIuAfyHsLLrig5nfLl4blT/IsaWKsJ/kTrGyYQkNZ5ZooTYzbRCGijHA/KDfkf+IzwS9DEmwIQRbzA1yfeCivVs44Bn7SC+z+LU0obCh0+LN7Bc7xG65M7CBdFh+wj3/KMPeJu90fcGxx4Yf9WGIsTsfpLq60OQMWU4CoENnHgmDHVPjxPuepYK0yBypl3KzxiSvgPMwf0ABk44uJ3a0hgqz/bOVt92DYebZI3Ggacbr6AxiU2tXnAlWguPFuamp4R3nCOfwUpAcPxPKO5VPiHImVDauUiCkGVh7yiPMf/hDKgeZRKSf2oZLNZxyXymdWjoiL+G1rbkh83oj38+Cadq/l4PpGXM64ntUDwDHly9JEOLZchy1k7zu+53i/1PO18GyzAqXCOU6l5JdCx8kidU7Hb8X+gVW2YFaEuJJ0ZiyxstZJcXM6kCoPbFlOtXeIy0N38TLjOP0fV9qcdqizS0k/xxQ1ujAcpxqxMmDSH+hv6XGcgY4rbc6gIO7eQDh2Bc5xZhyumDlO3+NKm9MRs6zlST/DFLRYUWOrC9PK1sagsM8AaMcZdNTWhGYm0ETrgBnkefI+kwCsfMRiZI97CnFwHSSPcuf6Art/xJ5BVvoNJEXTI/WWiP4xG1id0y21Wb9MuzNDcaXNUaiyB7pdyioyBhtTSTODzdy6GvTsOAOOgqLWwO9o5WCziuOB+n1J/GHUHxQLm4wAPAMs78zC1pnYst8biqrjzGhcaXM6gOJWSgYCttSHzRZ1nEELs0bRO0wy8KsDBx98sP6c2owAJfH444/X38Sd2UMTUMhMMTNljXrBZmFjhZ/ZSqXj9ARX2pwCFVSyNflrJvUX+IHoAw86MOy3337hgAMOCLvttlv47ne/q2LrTznOYOHkk38T9tx99/DwQw9J2Sw4Rvzzn/8Mf/3rX3Ux274G5QhFiJ+++vvf/95h/cK+pJS1DIWM9FxzzTVh//33D3vvs7f+kLzVBwhhXXFzBhqutDmDhr/97W/6e4H8lijC6uyvvPKKrl7+5Zfp7wcCX90QWwPsixyha5XjCy+8MBx00EEFH+kCoV0Rx0nD1VUY68a1xUjzGiEWDwVLt8G1LN1OdWD56Y033gg/P/HEcM311+nvg+ZhlmaGC5C3WEwWJcWGDWSFvMQ5y4PkO1O+cDfy8lzcNcp189YjixU54o7zOvFR3vbee++CS/uvD8RwTFjE0sqWshHHZ5xyyinh2muv1V91oB6I5ZNPPtFrcO9g4e1ZWdyl4EMwry4xCB8/vziu+Fk4Tndwpc0ZNFBJ8qsC//n3f4o/7M72zjvv1F8+MOgeoQLlS5zK0ypuGh5+UocGh2PCXnXVVRqGRsIqdwM3I66E431rvEwRzEKcNHIIY3Cy1yCMjUki3TE20cK2zuDH8hM/FD+0YUjYdZdvh3//+9/h808+VfcYy2+EIW/ZLwbEwwZiZYN8yznLg3R32riwDmEKv+LBT6+htBAuXiPR9i1u28bjSsnTcV4nDz/55JPhpptu6hTOsDJL2Ib6dPFejklfqYWnuSa/IHLfP+8L993XUfgJMBv3R1iEaxLG6oD4viFOE8/TFu+1dCAofPjjOdk9E4/t88zsGTlOd/Ha3hlU8HM7ptxY5YuYIoUF7l//+pdWou+++264/vrrVdinkiYMCtY//vGP8OGHH2rle9ddd2kl//777+vxs88+q11A+L///vvDWWedpRY9rkHljeLHlzzdU3/84x/Df/7zH21wOG8NKWAVnDBhgu6TJuJBUQRrHJ566qlwyy236H4Wwjz99NOdLHDO4MXe9aWXXhq22mqrsO93vxsam5s0D5eCMW38VinDBy655BL97VzLh+RXVTBEHnzwQe1O/fOf/6xWKMoC/sjnbN966y39iLngrxdoecCNsmZ+gP3Y6sZv+952223FDxzL1y+//LJ+VAEWccobZRN/d9xxh5Yv0hBbp7CWMV6Oe3/m2WfUjedhimwW0oJyRHpQrkhjLGBpRVnk/r744gu9/yuvvFLLK/FTxnlmH3/8sZ6LFUuugdWTNJ977rm6RZnludp5uOeeezR+LP4XXXxRvxj35wxQJFM5VUSbyHa7HZ1MaE6SRtlvKUqr/CVlpaWlUcN8KbLv4X9KWtWxIOwT+Uxk2WWXTUaPHl04SpFKXwVEGUt+9rOfJXPMMUdyww03JMOHD0/kq12FfVGY1N9LL72kbhQPqXx1y/Hxxx+fSEWb/O53v0vkKzsRJUvPIfvss4+GFYUt+e1vf5vIF7y6y9e8bhdccMFEKn9Ng4E7fjfaaKNElMhEGh9141gaD/V70kknJdJ4atrsPqZMmZJIA6Z+f/rTnyYtzS0qM5um1sZksmz3OOKPyecc49gmGWMm54tKsXyeJwr3woHcD/c2VWTLXY/W/aKfcvAcRCxO8lKLHH/n0NOTL+Q4fbulsXf8+OOPa/665qqrkxbJE3PPOVey/jrr6rmYn/zkJ5pHyK+zzTab5i/yEnlZlBLNX6Ikqd+NN95Y8/Sqq66azDPPPMmoUaOKeZV0nn766RrX7LPPnsw111x6/UUXXTSRDwf1A+R9/Oy///4aBo499li9pihgemzuhxxyiPoVhS159dVXi+UMwT9b8j4QL/kc93nnnTeZe+659fxee+2lZYJ0WtnIQp2wxBJLFK+bB/FzP0cffbTek6VDPuQ0HPtcf8kll9Ryil/5SNOwp512mh7jzjPDL2m88847i++LOHj2xLHUUksV6xbKcEdIY1qhtsp+iwhvZ68jztb80V5zONWMK21VBtXCYFXaVl99dW1w5As+kS/bRL56k7vuuiv58MMPi5U6iheVLBUsDRfuTzzxhFakG264ofqhksWdRoHGZPLkyaooGSeccEIiX+raiBAHle+LL76olfS1116rFfJBBx2kDRWN4pNPPpksvPDCyUILLZRMmDBB4yB+/BHHbrvtlshXvF6HuHG3BovGgeMDDjhAGxfj1FNPVXfi7i+40tYFPAcRi5N81h2lDcg3RxxxRDLrrLMmUyenefLIw49IGiRPv/7668nUqaQqjZsPFPIXCtstt9yi+XPcuHGqdI0cOVLzNP6vu+46zUv33nuvhkUJuu+++zQO9m+++WY9v/feexeVPMoM+RkF5bPPPivmTfwdfPDBuk/4o446ShUay/eGKW3Ehz+EDx/8kk6ua0oj5Ri/fCThH7EPplNOOaWDchQLrLbaalon8MGEInX33XervP/++3oe8Etc1Atbbrll8sYbb2i54lnH5zbbbDN9xijNVtZ5vvvuu2/y1Vdf6TN49NFHVbnjuYwfP17jx516BNlqq62S1157LXnmmWeK91eE/JU0S95o1vq4WcLxNvc8/I8JT6+S/OEMflxpqzKoygar0rbyyiurMkUla1Yr5OKLL9YKGI477jh1owI3OLfDDjuo4kZlbI0AjQiVsjUUhilt55xzjh6b/4kTJyZrrbWWWtdoDGMl64orrtCK/7LLLuvQwK277rp6bHEA4fnit4aHhgQLhzXIwHWWWWYZ3Sf9cfiZhSttXcBzELE4eb/dVdp4zyhdKPrQKsf3ibJVK3kJSw4QL2JWLpQUg/DnnnuuKhCUC/ydf/75mhf//e9/p2kq5CX2gY8hFBHyN/BxAZdcconGf8EFF6gCQjjiQYkhTxPelDYsxzE/+MEP1G85pQ3YrrHGGprX8UNeN2UKC5qVAbB4TADLIdch3tiad9555+l5wC9uiy22mH5ocRw/AzvHfZMeK78rrLCCfoxxjFgdc+mll2r9cOGFFxbjoezPP//8qigTh91fB1xpcyrAx7Q5gwapOMPSSy+tY3gYU8aYNMbFMOVfGhcdXzJy5Ej1u8466xTH2TDuRRoAPW5pbQnNLc06LoUwnKuvq9f9LNttt51uGS8jlbDGzXi3LbbYQgdLSyNRHNPC9UjfI488osfA+bXXXlu3jA2y8Uobbrhhh3FHO++8s46FYUIFfrjGY489Fn70ox/p+dqaNLwz+PnHvf8In3/+edh9991V/aitqwubbba55N8lw6233lrMM4zHYnwnY7ZWWWUVdQPyCXlRlBEdY8XYrm9+85tBFEGN89e//nX46OOP1C9xka8ZN7naaqtpfMBsVFFQNJ+zz/g0ygcr+AP5mXizEpM9LkVdbV147bXX9NonnXSSLimCsM81GYtq5F2PtIiypOUJYfkTxvcdcsghej6G5zDPPPNoWCtP7HMd7pWJB6L8aZzAOFZRKPWY5y2KmbpvsMEG+uwoo/ZMeN48X54XdYqlz3G6iyttzqCBihFhYPLcc8+tlfXss8+ubkBFaguNMvgZxQqsoaPy/eqrr9R9+LDhekxFTAVuFXUMlTmNFxUw12SiAo3cHHPMUZx0YHHb7FXO4x8FkXTZDDz8tSVp+mkciI+0cI41pYjz4osv1jiYGEEat912Wz2mYbDrOIMX8hR5gDzJ8hh77LZb2E/yxt577yXKTW0YN26cKgqAYsCSFORb8hv51CAvAQod+W3BBRcMjz76aNhyyy3D6aefHpZaaqnw85//XPMq5QU/zMomHvbZorzwkcJ5lCDcrIzYNUkv12DL9cnLhGcbpwfy8i/+vp74tV6DCQLcHwokwv4KY1cIhx56qPol3jy4B9KOMrbQQguFOeecM8wxe3r/WXhepIP0xnAcf7SRLtLDvVHHAOWV+yY81wKubc8Ed7tn3EzBK+LF16kQV9qcQYN9BVsFy9R79q3iBPwAX7xUvsB5Gjmg8qUBQFGjskapihsUKl784EYY4sM/xzQKVMbMguO6uBE327ffflvDL7/88hovcYA2hKKssSUMDQGz1IDGFYUMBY2ZgswWxRLIzDOsJ0ssvoT6I6wzuDAVhLxjQn5mFuIKK6wQZp11Vj0/afJkyU8tYcyYMXqMUmcKE1usu+Qr8ip5F3fLi+RX8ieConbZZZepVWu7b2wXTj75ZP044OMHsFBxfeIzyKeki7AG+d/yNtelnFE+uC5lysKbtQkhDsCP7Zu/2WadTeNbaaWVNN/ffPPNOpuaWawcn3rqqeovLuMxZvEmPosbrMzac8IfSij7pDsGNyvHCJZ1PgYRLPrEARYnz5fngPUeN4OyDbixH6fHcSrFlTZn+uhH+gJftqZ8ge1b5Zjo8JTK4QudChxLAhUzjR5KGvu4W4VMvHYNujZZtoMuLLAKmiUEgO5Q4qAhABrGDz74QNMONI733ntv2GSTTTRObdQkflZzxzp33HHHheeeey7stdde2giaH4vPGTzwbmOh+xOr0wknnBCuuvIqXVj3hhtuCNfdcH244cYbwujRo1WRIS+h6KCIANYzlBbyHfmWJTjYrrjiikXrF5CH5p133nDmWWfqMR8fnNtoo430g8Gsw8D2ggsu0Hg23nhjPY6F9IJ1N77wwgt6Lcrk+HfH65IeMeRxPlJQjiZ8MUHTTv7mI4UPlIcffji1+hXWiCMezncF1morr1ZObPkP0og7cG+xYmdbYJ97ysLzZo08s5YTnnhZzBf/W2+9dVGhA87Z1vaJW68VXc9xyuFKm1MxbRm9IOlnegLjXqikWS+JBuWiiy7SdZXOO+88dbfxJUb22LAKdbnlllOF62c/+1n43//+F555Jl0bikoWP/Z1TzwcU0Efe+yx2mhuvvnmug4VjQ1Wi9NOOy1ss802qtSBNQIohDSKdHfRKO+yyy7q/pOf/KSYDqABwOrBum80vnvuuWcxHc7ghfdrghWNsWfbb799e94tvP+amtqw00476djHu+++W93MWkXe+/73v6/rjTEWjDy03nrrhfXXW1/j4fdJGSdG/n7xxRfDmWeeqUoT+ZI8zu+JTp48Wa295FHGZfIrDCiDdNFvuMGG6XjQgvWILQKMx8TtiCOOCLffcXs4//zzw6abbqrnsmAt5D7J+yiWDzzwgCpVpJmPGT5k7v3nvTqGjm5gxt9xb/bBkwdDDVgLkfJFXYCQBrYMkZgeeAYobCitN950Y3jooYdUoaa8c99rrbVWUSmEYn0h99ipe9RxKkUKlFNFMKeqp7NHmR0Yzx5l5pueIAK26YStmcZ2221XnD0qlaXO2JKKUoWlM6QRKy6pwRIbHBus0YQ/afSKM8+Y8bb++uurf+KVxkzP/eIXv9Bj4sjjuuuu05ltpIGwLLlw4okn6owxwsczyvbff//k8MMP131pKHXmKGvIGfi3dEojofGJYtdhNmt/wWePdgHPQcTi1Lwgx3mzR+18LORPZmYWaZXwzKRsaU2mTZmq6wuS51iqhrxGfmFZDvngSJZeeuliuZCPB83bTdFsR5bAGT58uF6Dmco2u9LyHstusOYZcSDEy+xUm0lqs6UJz3IepNdmOzNjmjXgCEfcv//973XGKmWIdFIeEOJaZZVVdOY351hfzhBlUWdw2vW5D1HydNmNcnzrW99S/1yfMAhppLyx9IbBNQ899NDCUUcIb/cUC/fLLHRmepNe+ZjSNSB//OMfF8s4MGOUOERxLrikzzWOi3fps0edSnClrcqg3Zhepe0rkf6otHWFVo4R2WMjdqdhY42p9957r72CrRCUOtaIg2wljdCAsPQB4JeFRmnorBGzMMZf//pXrfyvueaaTnHF/mYWrrR1Ac9BxOLknXW15EfZ91uITxt8EfNHvsmTN998U5e0QFHS4FHcCOuTseZguQ8C1jezNc6y4WPJO//OO+8Ulw0BylY2n+PGum+2xlkMfimH3AdlMlaM+gOkOwv3xj3ZvcbPowMcutLmVIB3jzo9AnuWdpeaDFJEsQqjRo3S2Z9SXgqulcH4IMTIho/Hu8w151xhxPB0SQG6rGwZERvDg1/GxTHuZ8cdd9QuFsdRyAsi5AmktjadXBAL7osusqh2r5LH0mDtYZDFFl0szD3X3MXzeTBb0mZMEqYUeWWFMmRL7gBL1ZDPLX1AeSONCy+8cKc4GMPG5AkG+FMmSw1vmFmQboPyKoqajtVj/B33RfrtWTtOT3GlzamY7Ji2gUa2sixVeWbd48avuxBGvqp1P+/6NEyMt9Pjwtg488fMOxtszaw+xvgwAYFB5jQIzuDH8oPliZ5CePJSuTzMeVMsSn2gxOWglJ9SoLjE2LXyyLtnZq8aKEM9KY8zAlXW5NnEilqWUvftOF3hSpvTbahuqJRUndADk+5V4gMFnRkWzbKrFPPPoOy8BobB2Qwqx2pgM9qyWBxY3ZgQcdRRR2lauttgzggYDG8MzpwwcCG/YP0h75SC8wh+SykVVhagJ4oHCk1X5Yjr5/nheuaOMtQfsfSpxdwVM6cPcKXN6QAZIk9gaM0QXT+qRf7DrVgl0UJ3rmMHBTQg2oUjYuCGdIUparb0CJV4LGeccYbOKM07h5g7rLrqquFXv/qVdg3RYGFty/M/MyEN05rTtbFcaasMXltra1uxjHULXnksZeDdmOWnFJzPWsOyED6OI85/XQlUosxwPu8jh3zVX61rBmkv171ckpxHUi/32lgoT1Svg7SKdbpJ/y4BzgyDOqNcZrBzpqtQeXZomLtoNAYiWcWsq8amFNPT0PT0mjMDntcQafOxphRTPQjzRW/B88Jm1TB0SNBf7exHVPJR0lMGUp7uLr15b61Sw1p58obaMTwvOBXTkrSENmllMDrxRd6sn39SuZOLVLyFrmYYWN7ckuaNTlaBfqaUzBR4BsXn0BZaC0obYxd9iKKTpU6+eJqaU+ukW9kcw5U2p2ISZiIUdLSGutbQIhVKG26mtEnVkv6lpvxYFGu0BogwQ7acdAqTJc/PQJOuKPhL33Ft+GLi1DDrqBGhsLaqnIuqmEriG6xE915bKBVJkj41urpRdlP68CEV3lVRjIx7yfzd2+JEyAOpsVIku2mFGiZ/1RJGzTo8MIwwKklOFeP5wKkI2pc6+ZulQRQ2OV599THh0YffCLXtvxoVWoIociqJCOb9dimqckRkYm7Fc7IpJ1n/3ZW8OMtJrKHlSaf4M5I9P9gEsyvG1aQ1TJvWFCbL7otvvBuWXGyB0JA1uvK4bFtKBgN595UVeXY1slNbX6+Pb+yY5cMj/3spNDa3yhlKSw4aLhtRRrL5LytYxTuIBENkt4NoqhDz0EeSl8ZqleLEC2mS5UO4pVGc5aP4tRffDUstOneok9fBq8FXKXGqA1fanIqgCrfMUie1x+hlFgkPPPy0dpFSYaCklas4pIlKI+mVaiaOo5w404W+rxJgQautSx+zbEcMG6LqxgMPPh7WXXvVMKx/Tu6buXRQjNpCc0uz7o4dvUx44flnQ30DD60+NMqD7JR7i+8izt8ZwVLTQcTZZWCIDi2R918oV0OGyhuVV/jAg0+G9dZaLQy36tOpeqwddpzy0LrQKjdJphENbeyYxUPdLLOGfz82KTTKcatIbWgQ4a9FpLmwTTNZscIxB3OMJT6XJ1n/3ZW8OMtJXhxVJNJmFCTb7S0PBz/kCbbiOHVaCI/+75Mw9yzzhbFLzRWYP1dLZqnxwVqpkibwrDRfpc+ypq4utMq5sWPmCMOGzxL+8+i7YbIc16C70WITTsPyH4WPUKVJ301paZVrx8LIhrKSE4dL34hmDB46iENzYwj3P/JFmGX2+cIKS88Xhouzfwc5IDnFcSqE2kXajtokCUMbQvju3luHm265Lrw+PgmNco4el5Ck1gKjRgIVqqICZLlU0gqLrUl6idKSF6acZP3GcVUicdjqE95RqjfYO+P/dMvzmcLvdMvLnSp62etvfx1uvvH68O3tt1CFrUaU9g7216ICUsVQELCAFRgq2hmTDUfII91rz2+F2269M4x/r00b54QZx+ofn/xn76A7ApnjROIy6ZI4rEtfCrlCf/deXgvb19+epj9Cv+NOG4YhkiFqpezg03E8HzgdscY1Fmt4i3VMTagX94VmC+HnR+wXzjrvz+Ffj32sTTTUaiPTIPpdnYRM0iiUYgQq6V/WtSvp7l9eHC6VSp38j+gfL7JF1DnZcq5mqChusv3XU++Gv11zbTjz9B+GBeej3UHNq5E/1LdhhTxUxVAcYtENam2rPkfKzbxzhPDTH/9fOPMPfwj3PjA+NMozY/1/K1OdI+kshbeU+YvfZY2OjTKJz7nMeEF/T1oS3XI8RP5rk2+d/zz+Qbjo8mvC2acfFBadV/xQ/UbKvlPd1CR9uSCP0+/gZX9r92PC5VeeGmapbze5YxHTKj4vN1BhtNUGcoqOv4faVmlRWkNTzZDw+qchXHbNLWGEnFx3zVXCmLFLhKHSVo/Epi/QpAAVE9ix0/+xpkJtp9Kg1LJulGgSX04K4fmX3wj/feARyRp1Yf/v7B4WnleUAhQ2bWXkPWs/nxC3N+Ve/kzOGOWaRc27Omhc9iSdzSJ0WG6/2zHh79edquUo9cN/JSg0vGnnKNu01NmNt0wL4YsvQ7jq+r+HTyd8FjbdYv0wevmlwuyz1IRRUp7aFbh8yl0a1BIe4Sv0zFx0eRwpWGwnfxXCK+PeDP954NHQVj807POdncNi8xTqZ94TFa+8sC7zqDPocaWtyuBl90RpS5Ka0FpYOLJea3+pPhiILtCYfD41hA8//TI89sQzYdyLr4bGxuYwjX4zJQ0fkvp0qy6QrWYyx7ZcRPErM7vtii7i75JKrzM4sSE2UCvvYrgo6K3NTdo1PnK2oWHFFZYKK45dJowds6AqdTVoMcAO70zzC89cpJJaJrrezKDc29ac01OlrXhfpq6lYINOvaO+yUdRa13gxwaaxNO4V78Kz734RnjhlTdFQZ4aJk6aGBp0Sm7pVLZ1qso1RUV0yZ6Irn9wvdwTcaYXXeuyuVm3o0YOCyuOWTKsNHrpsPLo+cIQeTUJxSh+pZI3Mq+wAx3ftjNYcaWtyuBl90xpS7ShgoaCHywpNFzEMUXOo9SZNQCv9mMueMcfW4vem4P+T5wV7H2y3Iu+R3mB6GXD1ARXgJfKSVsORftTaUoKzUkcYR5lGqQZQbk8qXfQB0pbCqWGbmierhqwtVARjC7Syc008F0/vu6en8mPu+ohv1B8eN0IxWakvJShsq9YpclG3HW4cBkKpcwZ5LjSVmXwsruvtImzZBO+8jhtRnrG5RiMYqKOiRslbbMj4l948Uw38LBGIW4cpquhyGaCKH/MDPpMaTO6cX+khahsm0c2ulLRW3jb2n1m/Wevk3233Ui+UirdTkqc33jWPF8k/g6yh9jRwpaGzL6fPBdn8OFKW5XBy54epQ1kT7fphIN2ksxxZ6Wt43lncBE3QtBlE5LNazM5e2TTH6P3MgOVtoro4fOz+8y+ny7fX7l7y2Mmv8/+TlfPu3R+TM90ej85Ls7gw9+y4zh9Ak1LLFUPSk8sjtMt4pKUV6LsfOzPGWy40uY4juM4AwYUMm+6qxV/805H6NLISoUwxq3DX01HcQY3VCblpBM9zGdO39Dl+zKy780kS19bFGOrZV9eZyaRfR8MR0mFlRN54FkfTjXgb9op4FnBcRzHcfoz3lI7juM4juMMAFxpcwr4wFXHcZwZBY1vLI5TCZ5XnC7RuUjRmBUbWZGtdrIujtMtBsMYpXiMV1eSweb8mXRJF/GVouLymX0P2evE7yr2lyVzPnufpaQT8bWi+AY03bqXrl50XPtW9IadAYi/WcdxHMeZ0cTK2mBRQp0+x5U2x3Ecx3GcAYArbY7Ch15ul4TjOI7Tz+hGf7gzqHClzelAdlyJK3KO0x0GUMmx8VSlpATFO7MhVqWGWnURT68Tp31GXrfXqPQGXGGrZlxpcxzHcbqFf8w5zszBlTan+yTypYc4TlmyFoMuLAhmsTFxHMdxOuBKm1MxtUlbqGsTkXa3ttj2pt/cuRnJ2mgTwTqOTLqLh5+54ctSzBNZogzglIQyFAtvKP3ro/eVVZJLSUSchk7pyQsbi9Cde+h2/Fnp73RKb3SgH8a4GV5+nJTcttZxsqCw1SQtUpNKVdqahBqtUdukKmmTTCQH8k+8REglU0NFYyfS5gf/scR/acXUl9Jd8uKoRulIs0hjW2t6oMi7a5G8keO9/c2nb9jJwZ5bW+HhybOdNm2K7NSKc4uIlD2cQ2vZvxYpn2VFym63JC+O7F+eH5M8P939i8MOMjF4d82t/C/vnyxA0TKR42Z5801yQI3ZnlkQpxqpSYTCvlMF8LK/tfsx4fIrTw2z1IdQlzoLNAyldfhaGmmpyNP6okHV/bb6VPHi54txmDothOHD1HtoahIXidwsci3S6rTIcbbhjq9Y+MbMxTJpufAw3eHNYyaiGXb9wjbLzA4fQ1uCvxF6VAquVKP/2zXTa5XLZTOX7LOJ0TTz8ZHIntx8swjPYfvdjgl/v+5ULUfpfcWxVHinxTzHjh20x0bzzpZnXu79WEhnYGBvm2oVfX1Wq4zthUsWaJM6ukUP2kJ9oaZtp1xucAYrrrRVGbzsnilt8l+rhMZsL4HY1Kh3vv+xolClpE0Njdk0dDzxzi8ptIkj/nEnmpj4ilRBSB6WScuFBw+fz/SGB8LiX7KNvmvbigrfDhdKzbDsSJjOMWav2V/IPpsYTfP0Km32Eko+ZMLyGdQapkrkdXVDwjQJY79GwqZkUMGid/o/vCvyD5BLrDyp8O7FQ428bO0lLWQj7K7lKZc7nMGCK21VBi+7x0pboT2ySkSrCPmvSYSPw6effCu8NO6N8Mab74VpTUmYOJkuHhqdNgkjTRFangUuEFczNVJLtY+V64g1XFRiMUXLWIHO4dPrWVOapJpmkZLhi4pHSnv4wk6BTuEL2ywDNbw9D+1+a2tT6+mQhpowRFqVdddaPSy3zBIiC4QhEnCInFP/cg3UeH7sTA8GCB3feEf0ufSh0kaoac2NYUTD0DCptS28+eZH4eHHXghvvv1e+PyLCaGmfkho5oIJzXo+uVV5prx1SlNJyj0NZ3qxd1VbWxsaGhpCQ30S1lhldBiz7FJh7Oj5w1B5zUOy+UW3Oe+4SE7GcgYdrrRVGbzsckpbqSqdbILyBbXSEOhu85TQUjM8vD+pNlx5/Z0haZ4UVllxubDKymPCXHM0FBsytnQBtMpBNrfF1+PLMqtEGKZsZJuSbHo7hS8cF8Nn6rWsktfl9assvD1fnru0L6FJtlNFQ58mO08993Z46OHHw9Dhs4a9dtsmLDxHGh/+WlobRYkbIr4zF+zHZPNWjD6HXlbaWluSUFdfwxC20CJe+fj5+Mup4fqr7g6Tv54aNlhnzbDkEguFJRYbofETXEX+07JCJBEWfQdyHZ2ZTW3h/fF6UMabpUw99th74YFHng71s84RvrvXBmHhWTkpeUNeflNraxjGV1GUv9KPopjssTMYcaWtyuBl5yltdGSVVtlSSwsdN1CH0iaSiAbw6ZfN4Zen/TXsvufeYdUVRmkMDRJpnfitK7YYdhXGwNHUyfXoM82i/QGF/SxWH2Xrpaz/TuEz16k0fKn6r6vwXTHQwuskEoFwaGMCSlujvMaaoen2f4+8H26/6eZw/I8PDfPPFcIshXGNqVpDmOxF+yexupVF77yPLG1NTS0SX334bGpjOPXUP4U9dz0grLDc7GEWeb5Fuxphk7TsFKG8xNu8qpz0Ov2P+LW0Ss0qX1V8WE2R7POfx78ON998fTjhx/uH+easDcMkH9CTQZB0lGiKK23ViZdopyKwrqGsIa01bWGafCq+9HFzOPoXZ4SD9t8zrLniKB1IO6SmKSTN06QRowKhKTOFLVX50rmmovDVpJJmwb6UAiSnkjqtlD9z70pKkec3T0qR5zdPSpHnN0+y8I7sPbUlanFtkN3hok0MF9dhEmbT9RYKRxz6nfDXP18RJkxI1Zb2pqV9z8lnyJD6MOmrSeG3P/tD2H/X/cI6K80eRpnCJnqYTjTUx1h4D53EXl7OOTtlUinZcC69K1ZIkLqaUMsHtFSVyIZrzhYO+f5e4YwLLwvvT02t2606Z9vLkpOWbMepjFapURLsZw365XfdzXeF3b/73TBmuTlCbWtLmNY4SRr02jC0AVMLNVMp2rMdX5cmCts8gcLW6jolz0+eQGFLF2Gxm9DO27ERu9u5wna6r18QJc9PnkBhO0PDFxGlu61Nu0/r5L+hkhVQKkbIqxwl/lZcYlTYcftvhKuuvSN8JQ1NahOKqpccI1BVoZaySARbNYXm+LLLbwo7brdDWHn0nKFVWukWeUGc72hcS60xxfJiYsRuLv1ayAJM1CpkhSLDpciMbAhhzBLDw7ZbfyNcesVNYaLkhdqO032cKsaVNqcypJVgTNoUaVCod557/gNR0FrClmstEJqaW0OD1ClDho4QZUBXbcshHTFXp381gUkH2T/+lZUCZNrcjJsXJhaQbTF89rydQLLnkALF8FnywsRSYECGr8UaIAq77PPuDOLRBkhk9TXmlPOTwnuffl2wDhQCczLbOlUF3HhBGAQai8CkDpSzp16aFJrqZgtbbbNSqBdNeIiUpXp5bPRG18hxDd9KcmyPUMtO9A66ReGVdClO3yIfPjUMAC0OIiVPNMujb9W+iRHyDjZfY94wQjT6j977Uj+SKW3xX8cX5i+tWsitu51qpOusQCPCeCUqlZfHvRFWX3WsLk3QIA1L+/iKNJ60WXIGPJn2IKuwmeCKorHmWiuGR554TC1tngfK09LYoqvoPD/uzbDiqmt3miRimGW4g4XYGdCY4t1R+U7rTlPPmcaz7uqrhscffcbLklPEconjdIllFhrk1998L4wds6w01m2htiYdp+bZyRk7ekx46cVX2w1rPhC+JIwPxNo2btxLYfToBQqu+dC2q8QatDOIoJzwOYyIisZrFqcxY5eQ/CHlqVignGrHa1SnW0xtDmGabBub2sLIWWrCsDpsbDWhxWuVqoaKhBwwdGhNaJzW6hVLBTQMadC2+csvvwjDijNuHQcY0CjlSfJF47RmXSLEccDrVqcjtLw5YlZ8xq61yPEXX08MwxhvI1+F6kWtbew51Qp6+/ARIUyZ0qj2AqUwfsvJoVD70kU2cmS67zhGIn9WnryhdgzPC06ByhtXnbkm0DDXJG2hTVpr3Ve7gVOt8OPmKfWeEyrEP3OczlCb1gbWxrSC5OXJMVxpc7oN6p3+NJXsJG11ob6GmaE9gJooFmcA0xZqapI0H2R/asnfb1n4CHJ7pNMRJimkq126tdqJcaXN6RbaFYokrTpbvaGuRtfr8mqluuH9ky/Y0k1uNjcnHysvbmlz2snPDfxaQnF9ZafqcaXNqYyMpYRfSGCJB6MuSToZU9IGvLQ4gwu6x3mvLZIRWDC2mB/YyWaOakWeQzbvc+zKm5NCTkiF8sRec229rnvoOOBKm9MtGGyedovWpD9FybLezXSN9bCL1BkkMIs4nX6Apc2V8hwixZXG2HE6Q8lJS49WryItknHccu0Y3s46EVJF2IrtWSnVzLS2hlDfs2xErLE4AxssA6Vygr/fduKSpHnfrZBOBisvnjWcLK60Od0ibmDQ1/R3d7xmcZzeQT+QHMdx8nGlzekxunabKWze1jgZYouSVzQ9wD+Gqh7KDRO+2HqXugNelzo9Rse0UZMw4MJzUlWjjYuJ5Am2miXIH97aOE55MmXEq1OnFJ43nOmjpS1dC9JxHMdxnD7FlTanx6Rj2iQLeTeO4ziO4/Q5rrQ5PabDmLYCZKiupS1XnL6nra0tJIUf929uZjW11A3pU7yL1HHKo+spUVBYMictMDrMQHb9u9gxaEMdp0fomDZI6xmnn4Ni1tTUpGvqQUNDQ5g6dWpobW0NLS29sxKUKuWSF9gyts3zhuN0H2+YnVJ43nCmD2+UBwwoa8OGDQvTpk0LjY2NKsOHD1flbciQIQVfjuM4Tn/FlTZn+phBCpt16cXkuVXK9ISN6Um6euva3cUsbGyPPvrocPNNN+ux4ziOMzBwpc2ZCZDtakV50REbKm+99U743ve+F/bee++w55576vaggw7S7YUXXlhUOGKFJ3ajmw+mTJmiWxu7ZeO2gGOTGAufdYfYLY7LaGttHyMG7GfjiceLZc+z39rSqn4sftxID8cWFqvYl19+qX7t+IwzzghLLbVUGDduXO41sajF1zaGDh0azj333HDf/fcV43NmHGmuTdHc3/HVOdUK+SCTF8gfOszAcQq40ubMNEzpYpzVCy+8EC699NLw4osvho8++ii8//774aWXXtJ9zhuEySo9QDcfjBgxQreM0cIvXX+GXQ9ihQ8Iz3ViJQbFya6HxHEZNbU1ei3zgxIXXwdqC4P/Sp2vq69TP8SPkoUf67ZM2hJVWg877LAwatQo9QsoXlwXxW722WfXOGOlknN0hRKvXjdHeTM478wAosfcMQc4juNUhittzkzDrGKMp0KpqKurCz/96U/DXXfdFe6+++7w4IMPhn/+85/hkEMO6aBYoKBgRcKN/VgJMuWkqzFa5i8Oj5KEEmbXQnHCopW9BqAg2aB+0o2ShLJVW1erW7P8xcTniRcFkfCkhbiIEyXLFDNoS9rCww8/HP7617+qX8KYYnnssceGd955Jyy44IKaZtJPHJyP759wpjg6jtNPoYrJaPPUUknGzaluvCZ3ZhpmFYP6+voOFjWsRLFSxj4Kyu233x4+/vjj0FDfUFSuxo8fH2666SZVWFCebr31VrXQobzccsst4fzzzw8PPPBA0b9hipuFx9+///1v7YY0v1wbiAd/EydODE888US44IILwuOPP15UtFCYULbw39TcFD755JNw2WWXqfUQpUuV0ug86Xv0sUc17smTJ4drrrkmXH/99eGNN95QNyAN//vf/9TiSDju/b8P/DeMf3e8nn/zzTfDddddp/uWTtLx2eefhdtuuy2cdtpp4cYbb9Q4s/cOuKEU5p3rKTxRfp+22NiYOI5TMWnN5Dg5SIXtVBFtItvtdnQyoTlJGmW/pSCt8sf/pYWQSTJV5BM53PfwP+lx5nS3aW0lcJKIooXmkFx88cV6LEpOIkqc7huvvfZaIopesummmxbDNTY2Jssvv3yy/vrrF92I5/jjj0822WQT3a+rq0uGDBmifr766iuNG4FTTz01GTlypPqbffbZE1HAkgUXXDC555571E8c54knnphsvfXWuo8/trvvvrueh5bmFpUTTjhBr0k8c889t/rbeaedi9eGX/ziF8moUaOSa6+9Vu9JlFT1N9dcc+m1QZRUTffQoUP1nMnhhx+u53/1q1/psSiAGi/XPvvsszVthFl00UWL+1dccYWGAe5JlLzkwAMP1Gds99gbTBPZ8/A/Jp/JlnyVtEncPcwbMxqeQilRuBcO5H7ImZSFLXc9WveLfjqEyog+i3Sf/4Gw+x/9Z31eaW7Hj2yiZ5aGaBdnEKLvnLfbLO8YSd80eYLy9Klsqa8dxy1tjkLrP7O/7rBYMbZNlBbtHsU6hhgLL7xw+NnPfhb+9a9/hauvvlqtV9ZFyMB6rF6Sp3W8lygvYdZZZ1WLFtaxn/zkJ+G5554Lv//977V7EssUVqpjjjkm7LDDDmrtevfdd8Ojjz6q6WAChChZuk+c8Jvf/Ea3r7zyilr7dt111yBKl1rDAEva3ffcHX7961+rMC4Pa9hf/vKXcMff7wjnnXde0SImipLGv//++wdRVMOnn36q94WV76STTtJ7E6UrfP755+Hb3/62WtDocv3666/D7373Oz2fpbGpUbtqr7ziSrX08Vw+/PBDnazwgx/8QLtkDbun3kItayZyi8X85Ja2XLzidTqQKSe9WzqdQQWam1M98EGXZ2lr0W+70n/26d/XljYsVGwRLERYq0RZUT9YkkSpSZZeemm1UomSo5aoo48+Ws8DFiesVhtvvHExblHIdDvffPNpfNOmYQ9KktVXX10tW1OmTNFj83/ppZfq9f/0pz/pNYHjDTfcsIP1T5RATe9vf/tbtfhxbq211kpGjx5d9Ic7119sscWSFVdcsXgvWMmwdt18883qx9hxxx31nsCujTVPlDbdj8la2pA8RLHVa4miWXBJ7+eggw7Sa5QK1x0sC3B3exyRWgaKlqPi//0b0lhKlF60tBmEdUubk8LbbZa6GEnfNDUV5YmS65Y2B/yDz+lXYCHD2oSVijFkLGeBtUuUoNDS2qIzKLFcYT3bdNNNw+KLL65WLc5jacOShRVLFCedeQk2s1SULrVcYaVivBuWt4032lgtcxxzHVhnnXV0+/rrr4fWtvbZpKIsqsXLmGeeeXQsHlYyBv5z7uWXX9Y0/OEPf1Cr3imnnBLOOussPY+FTsqcXh/BbbXVVlM3m1wgyp3eC88AcJ9lllmKFj8TwrMFc8NaaDDu7oYbbtAJDNwnaeK8hQGNp5fHtDmO4zh9hyttVYgNFI9lplH8bki3KFgIMyLnnXdeVdJQbpD6unpVzNZYYw09hyKDgsWkBZSY2ppUscEPio/NwkRhwY2uQ7oIUeomfDFBt/PON6/6YXKAdR8SN2mgu5TrmlJjSh2KFG42u5TJD1xv0qRJ2oWJQvnUk0/pBAS6e1GaUPiYBYuSRzxcm7AcozTGabVtc0uzKqqWbuLmulzPlDhQBU4U1JEjR6qSO2bMGFVo6RKmG5llVPBDPHQNsw+EVykot33JoKhopvcbl8ecedT6u5IiuTFX8FrsHVYDcX6vhHjNRsM+jiqNY2YQjyYgX5TMH05V4nmhyui16r3GKr3erfxQYFCUwJQoUKVLFBusWYz5QkHaYostVCl56KGHOig+7FNhE8YqZ5SjCRMmqHWMWatzzz23NgJY9PCHAmbX/eCDD1RBWn311fUYfyhRRYWqNt23YxQo9lGaWDNt5ZVXDjfedGO48YYbdcwbM0PvuOMOtbiZpQ6lDWIFCmJ3lFG1Aoob8ZJGrkMc1vhkYZwd946Vklmj9913Xzj88MP1HEqbpR1Id11tnS5DMr1o42Iit8JWY+W2ei3TVQHe+VESPlbI9/rRUyL/x9jsdMvvMcTRr8iUk84pdpwUryGcfoNWxqKgYLUCLGum1Jiyw6B/lJ//+7//C1deeWWYa6659JcUULyAChoFCCvXe++9V7QiobDde++9Ye2119br4GfdddfVJT5QcriOxXHVVVfpduutt9YtEK9V/nlbrHywzDLL6GQGukwByxZYI2HKGfeDm92XxWXHKJnmF2UNJRIFk4aLtNJta3GijKF4MUmBLt31119fw5hFkAkJxGvX5Fp2jKJr13b6GB5zzqOenl9E4N1Vy/ujrB5x5BFaXu0DrRyUE/I/z4ctx4RjizjOQMSVNieC7FBKCg1DpwZGKr+i1W36oCLFasbaZn/729/CJZdeovuPPfaYVrpY3pjtibXshBNOUGvZ8ccfH1577bVw+umnF7++UfxQVOgivOrqq3QNtu22207PmdUJ5eWXv/xl0WLHOmxPPvmkzk5ldib+V111VfVrDWO2cYzdsWDBL37xC1XYmJF67z/vDW+/87bOgMU6iLKJ0gXWcJhlzbDGhK1dj9mf3DvppeF6/vnni1bBmNlmm01n2KKcIs89/5w+L35RAYUUZZhnRNx2zNau6fSE7LPLKzsiWNDUilYrIZAYeddSrjjbXXi/SB6mqPQVxD8j+c9//hMuueQSHZdaCfaBAqx1yIxwPvpwtw+e3mZGPxOn+uibnOv0bzp1wfSgYu8Qh4QvKG78b9IVraIw1MoHc9LaFuabey51+/Of/xwOPvjgcMABB+gyFWzPPPNMVXZQ5FDgGFzPWDc49NBDdYwbytLESRPVDUVo9913D9tuu2048MADwy677KKVNpa5jTbaqFixbr755qqssfQGftZbbz1dYJdlRFD0wBo9ulosnDUEgEUMbBLAZptuFv7xj3+Ezz77LHzjG99QyxvXvOKKK1ShwrpFnFjHgOO4q4cuUYgr/3322UcnLLA0yDbbbBP+/ve/q7ulDYXO/NOo8Wx22mkntSqyAPAf//jH1BonDRWWBqyP+MHNxtj1OdXQlpW7x0jf7+RtOj56WB6HPJwHeYKyYPlLj6O8loV8hBIf5z0op/jZOT4ACGcTaGLiYQ5ZstcqB2WQjyyGDNgHB5T68LC4OUf5Z5jCW2+9pW7lID77uMlLH27cU7n76jFyubg0km103GN66DiaAZ0qgonk2+5+dPJZS7pkAcsMNIlruuSHYMsNZKXAVNnvuORHs5wXKUxR53+TSmjJLKBbDqlEi8t1xEtVSOWpy2pMnDhRj8nW3/nOd9SPKE+6KC/gTyr74r5BnCyH8fbbbxfjtGvZEh123RhpEPW6FmecHsKxPMm4ceN03+IxCEd4IBxCONIcp23KlClFf6Txvffe030Dv9m0ERcL83LvFjZe2Bfia/QmPIm9D/tjMkG2rVyO65OE9kv3W0hmKVHsQO6F+0yX/Pix7qsf7rELwR/+08Vc0u1BR52dfFHY7xRGsMuaGLxPlpFhCZw8OG/vH+L3b8vJ5FHuXEwcXxbOEQ/XL5XXKDfkb9u362bTDZxjcWvKNuWAY8TKXh6WPrY33HCDhr388svVLQ9Li20rwa4fp5eybvcC3H+5Z6VwWpeEoS5tr0/ZozyxJIwv+eGAW9qqBr5E0y/TUNOU++lWcWag+usNI21bEurqG3SLtU0qNv2KNYkRxUTHh9lXto3F4quYLRar4cPSpT0AixV+GPPGzE2gSxF/xGXdi1yHOOeacy5dbgP4yjZ3m5mqEwLEPRYsVJyXClvDkQ7CcQ3cWdx3ueWW05/cMguaVOganw2SBtzsHoC04QaMTeM6xEsaF1hgAXUH4iEMaYshrvnnn1/vnbD4o+uU+7bnyjXsPjiPcM7OOz1EVYMcEZi1TU5JpCzyxxH/t9W2qJfOtqLpg3wAjHVkcg0WWqzWLOI8afKkoqUq5tVXXw2XXX6ZWrP5OTiESTSUuSwWP2Bh42fWWECan04DG3dGXiM8ww/4+TeEfS2zkr+BfcZlMoHm2muu1S59hgIYVt4Bq/aHH30Yrrk2/ek3xnr2BqSFcsCyPaLcqWChA7t/ygswXhbLPUMpsHbG1mrK+n3336fPkOEdPH96CrxsOb2CZCSnKuDLLV2ycds9jshY2tKvfP220y++HCkwVTx9Ip73Pfz81GF6LG1qikm3TVOn6deoCV+ufK2yHxMf5+0Tjmz9wx/+sPj1m/3qjb+KS2Fh8tJgWFzmN/bX1de6faETljjiNMXnDOI2dyM+nwX/2fQZeXH1FsTqlrbOwnn8YS0hHFvc2O57dGpJ0TeSDSvYZU0M3m0lljYWiRbFScvFvPPOq1tR6pP77ruvQz7gp99EedLFoflJN/kYUL/InXfeWfDVEfLWU089lYwdO1YXtZYPFV1wepFFFlHLNbzyyiuaTuIZNWqUCvuHHHJI0QpFOm655ZZi2lZeeWWNh5974xx++Hk4zvPTc1xHPnz0Z9qI7/7779drxRDGtqUsbeYHREHTxbF5VqSBZyGKYnLAAQckEyZM0HslLaKcFn/ubsyYMZrOU045pRBLkmy22WZ6rRVWWEHTxrOkPiB8fL0O6PuWt+uWNqcL3NJWNfCq6/T/aZNrw2yMJZNPe5NmqWYaRbDv5AnfmdPkw7y1JWjY5mb54qRq0hjbs5Edtbt0QWF2Z0PB8mXwVZ23FEX8dZ+3L5Vf+OlPf6qTC+zr1774ga/++Ku4FHbt+As/C9YBS6eUpeKXNFuzrJWCsED8pCdOU3zO4DrmbsTns+Df7jXrLy8up/vwtuvk3bdI+cH+MkW2k8UxT6aKhyaRRvFDOUM4lsPQ3Doi9MXb4D3fdttt4bDDDgt77rmnjrPEQvT0009r3vjOd75THIvJeoJM5vn5z3+u6/oxkYdxkViECcP4zyzkc2Yx77bbbuGLL75Q6xlWJeLfZJNNdMY27LzzzrrmIWM9scjx03LHHXecjtHk5+dIJxx55JFBFB4ddyaKoFrQbAIRfhh/Sb4ljVixSPt///tftXTjZtZpEOWosNc1+MUK/c1vflMXwBYFUH/+TRQ0fXaME2VcKOWc6x9xxBFav+DXntVWW22lcV122WXhkUceCaLk6oQh7pdlibCG22SlkkieSOvUdqgVmKTiOEaNFDzPElVEozQUu+x1Uth4063l4NNQl6CO1aZdN7Vtss2v7OqoOZomS2U/KnzVOk949eVx4fJzD0mVM8JofdS1MtSBgsJmJCXqNKvUK8UqbMJ1N2x36Kro9OW1+yt0uO1/+NnhnD8eFrCn1PJFQL7gUfTzx1GumdecbR7kPppFpsnurrsfHbbYYOUwpEEa/tY6ycMlykD0fdwm5UyfC9pe7cjwxCufh3PP+V6YQ84N4SLxt7RcJ5suO0s+X2WVVVRZYQZ1FvInM6BRnt5++239oDEFnokxTPihq5JJOygmHNM9yuQZBvwz05KJL3R3osDl5WeUwj322COcc8454bvf/W7xY4C08cFAlykzqVEIUcrMHZZcckldvgMlDuaYYw5dhgeFh65b4uI8H0CE4ddF+CCjy5bleFA88YfyefPNN+uEIro4uW+GUqBkkWaOmVjEb/jS5cnEHqCrk+dBHHRxolzySyY/OvRHYeq0qapokQaeB8oovzcM/CYwwx6YoQ3Eb88GZZLn+OCDD+rSOxDXR/G2A1QlWlbIEzjwXzrLeN/Dzg5nnX1YmFX2O88Zd6qNqHZwBjcU/5bQIHV2c+vkMHrMMmHNtVYXWTOsueaaYS3ZX3vN1cM6JYRza6+xVlhxxVXE71ph2PDIkkQj0wOjLUpaLNOLVtaFRgHJrRwdp5fgm6NN8twqq6woslJYFVm5hKyyQlhp1ZXCCquzTffXWHvVsNpaq4hyIcpUIc4OTGf2bWlp0QWW11xjTS0PscUVhYKywhI7rDGIwkR5wUoGKESffPKJ7i+00EK5Y9pQerCIoTRieTKFjXLItYHzHKP8Wdm0crrlllvq8jh2nf333z/cddddOuub5T2AOAkDpIE0MltcLVeyz+LQLP1j1zP4ebauMAs5s6ixjgHWNp4TC2Xb/TD7mzRaOlk6BAvfBhtsoOMESYeNdUOZJD3MRmdGOxZG0m9jb5GScCpzmrvojbrRGTy40lZF8FNNVG119TVh843mka/ahcO66y0e1l1/0bDeuouH9ddZMmyw9tK5suFay4SNNlxR/C8dVl9jeJg48es00n4EX9dUinR1ODMHGhn7mTRtbHIaosFCndzX8GHDpBytEjZaZ9Ww+forhc3WX6GkbL7emLDFOrK/jvhbd6Ww4dorhrXWWFLLY3mbbc/AOoTFbM655lSlwZQlYK1DlCC6GFFSWJ6GiTOsY4g1C6sWljF+FYSPNFNgstB1CvFkGMogSh/XpksWUIJIA6BgocjgRnpwR+n57W9/qxMZUDRR6LBw0W0LpL2xsLQN5dviIu1Y4nBHgOujiJZVkATO8wxIC8+BblabsBMz55xz6tbcWS+RiRJY3rbffnt9RuNeGqf3wrI+KMIoeqeeeqpObjrqqKM6TRbqiq5VTqdacaWtaqgNDfVD9YWj3HT8Lk3hO7yUgFaJUg/W1UslPayCUThq8k93Y7RhF6HSrEQqxX6iqavxZAaNQJY8i0IpsunMihMxCB8HZWmqNOS8avIzx6zaV0ro2qLpRig9DRKovpX9pEe6LUqGdQeSb1F8UCxMMWP2MFYkrFkoXfhDQeE847A4ppsPmCHK8X777aezS+kupJvvn//8p+ZlU5JiUJgWWWQR3bdfACENxE9cKGVY6YDf47V4SAtbFD728UPZRdHj93kZK0a3K4voHnTQQRonYW3GNcplrERyT4TleRixVTFWwqxcWhoJC8zKJg7GssX1B/6wlnEvdIsSBn90ydIlzexVZpiSTuIiDSib1113nY7NQ6k744wzius+dkkhLxlUn3wE5VSjTpXiSltVUfp110q10JV0rE7i/f6BVcCVkv36zWuYnMogN5iOjoWtmFtoI9N2ctARl4D2nFd8Cp1FGnwkLU/yWOSwjlNtopTIJkVirfB5obhgIWKLIkF3X/aDZcMNN9SuPJb8YEwbSgiWLparAAbQo4iwaDW/b/uTn/xELUWMZzv55JPVDaWJa+AvC1Y4YGkLPoK0y1Gug5WPQfgoMCiOF110kfrDAoaCyVg1ukJJn2HlF8XqW9/6lnY18rNspoCRdiAdcVrs2M4b5ocJDDwfyrv55RqIhRk9erQqdyhhMSibpHPjjTdWv4SxOLgHxsGhmDHpAEyZJK55551XrW245Y057ECmnHR+0o6T0r1WznF6EarLWGY0Vqk/++yzOlia8TdU8NnK35l+BsUT7aWfa8syPb89Sl7FOnTaaafpz6QhDKa3tdLommPMGbM5b7n1Fv1NXroh8c8EBMaH8bGCkoS1jPFYSyyxhE4SQKFCiWNNNFNyYig/W225lU52YP034r377rvDmWedGVZYYQX9DV77pRGsTZx/9LFHVTFCIeO6rHOGUsgECNLAJAMsVMw0RXkkDTYrNFbq4rTYcTZ9dozSZN2zKGA8H9L7+9//XmeFopjRHbvOOuvoOX4WjDXirrn6GlVqUUZRYLk+a7gxk5axbHT9Eh/j7+yXVn74wx9q9zLWQu6J+FCS82bfliLODuQ4PoK8RnKKSEZzqgSp4HX1n62//ePka9myjn77qkC6UFBZ4TcTJrckumbQPj86R5fg0ggRvGSxoBniYLHMaFrlBngmrA/FWkvxGk6c6024zmCGp8UdsgbZHkf8MflUtukKYOlznBnvt7uQxlKisI4WB3Kj3Bu/v8E6bZSJdizT5wh5QPMBIkhcUxuTZL8jztN17dLnlV2NK/2lklhitttuO827VOVDo3XV5COkuD6fKEm6ppidm2222XTNs6bC+mcgikcyfPjwRBSO5LzzzktOP/305Hvf+14yxxxzJIsttljJdQcJL8pessUWW2h44mdtMtZg41c4KEf8Msf+++9fTCciyqJe065P/BtvvHHxPHGJYpe8/vrr+ushwJptnBMltVg+2R555JG6bhprqRnEG69PaPfH+m7EMaSwbp0odskTTzyhfr744otk77331vQTH+dYt00UXb0O8XFPooQW4+CeRCHWXyCBv/71r7oWHu6iKOrzO/vss/Vc13BPzUmLSnp/1NGUp49l6+u0OeBKWzXRmipt24rSRoNDI8FxKtaYlJbeVtr6CzfffLNWwldccYVWzlT41pgY03J+xgrwH5/L+rOGwxqZrs4PVCwLlFLaBgKktJQouUrb0ZUrbR1EkLimSETfPfK89sV1c5pmS4NJT/noo4+S999/v4NCY9tll1022XbbbXUfzP3oo4/WsvH444/rcSlQAFko991339Wfk0PRipVCY/z48frzbvjlvPmx/E/4N954o5OSmI2HYwtn+7G7nesJpI8FgbNk4yOd/KQW9xIzdepUVeJQIrkPS1vXEH+z/N+utJEn9jw8LU+utDng3aOO4hmhNHSPMB6G2WIMkKYLim4Rxq3QZSKVcnECA/5Yv4kfvmcNrPHvjld3o6vzAxXyD51RKtLMs9U8pU0+O87MZr755gvzzTufdhuKWqPdksCWNc6YqcmWbsSW1hZ1Z+gAA//p7pT2Qv3nYePqGMdFVySTBnCzLkrCIsyuHDVqlC7VAXV16da6PhdccEGd3EA5ibF4DI4Rwtl+7G7nKiW+N9JHFzHlOiaOD/+LLbqY/rQc9x3DuEImNhAPE0UsbV0SPd4KQzhVSOW52ql6pHoMrB1KhVJbaUU0CKDyZgwQg6pZZJQxK6zUvtRSS+kYHipmxsIx9oYxMIzjYbHRE088UdfAswkOXZ13nL6GQf0oY0wIsGOEPM06ZCxRwRg0lgBZbPHFdFwaC/GactUVWQUG5YbrsWVsV1G5qk1/4cCULqCccYyy1x2FqzfIKlZdpQH/9uwM+3jjfmfGPTjVgecqx+kCLGO/+tWvdOA2lghmjTHbjkqZqf5Y4ti/9ZZbdVDyDTfcoJMaWOmdn7CxCryr847Tl6BMAOs1xgoHHw0/+tGPwhNPPKED7lHYmADAJIE333xTPzRQsLqCcgEoL1zLlDXDLFdmoc4qSih1nDN/MwPKsk18KAdp5LnZMwW7p+YW/whz+g5vKZwIKthy0hGtj1kWPv90apLrWC8rZLqBlPFoyFh0k+7MWWaZRd1YUBNFjt9H/Nvf/qZun32eLiRKA2fdO8xKs4r9/Q/eL1rV4vNVQV7+GJRYYcgRCowWGkSQsoHeQkPfXkwoGXlKy/QrMqakYRmOsY8GukCZ/cjisazmz1pkrPVGd5+mMaNkZbF11IjLlELC2NbyfKl1FLHScW5mfsCQxuzzyYM08tzsmRq4lbq/shSyBNv47nnizC4u/+SdamIgtZ2OM0NB2cJ68Nxzz+k6TVmY5g/89A8WBSxxVNg77rijdjeNHz9e42DtKth333113St+q5EfuGZx0ZlpVegLuFMaGbb6Q9cmTlXSlaLn5OMNs1MKzxtON+Bru9AgV0FlzFf0F198oV02KFtZGNgNnOd5sMYVCh7rTbGo5rLLLhuO++lxxWfF+WeeeUbP8wPanD/22GP1nOMMZlx5c5zewZU2xymD/QwP3aBZ+CkgQPkCGiYGcrPaPMoeytm5556rM06tWxRFj98tZIV6ukbPPvtsPY/i5ziO4zjlcKXN6UjcpRVLhdDZZ9IlPbxGbxEPIgbGs7S2pr9zGFsG1l13XV2hfcKECcVzyFVXXaXnbbVzFDO6SdmyTMKvf/1rVcbGjRunY124Htdg5t4cc8yhP8qN3xdffLFn42Acxxk85NSD2qsxE+pGp//iSptTtbDsAKCowZ133qndmvzcjv3UDWuzcczMtg022EB/2uaRRx7RMWu48/NXa6+9tipf/GQQM+6efPJJ/bkb4mBwtY2HO+ro9PwTTz6hP3HDz+igzOWNl3Mcx3GcLK60OR1Bj8mTvmBGXKMMNktt8cUX1xljzAI9/vjjVVDK+A1CluXgdxtZmoM1mPbca0+1vNHtye8y8kPZWN2wnq200ko605R1rvgBan7/8bzzzlP/KHUrrriiKnqcX3755cNNN92k5zm2xXkdx6lScupBeiz47VHHMVxpc6oaZm+yfMfEryeqxQ2hi7OpsUmtayuvvLIqVCyI+8Ybb+iPRL/22mvh66+/1iU/6AalC5RJCyyRMHnyZJ01ysxQ1nTbb9/99DpY1DjPj1PbeeJgRqmdHwxo17g0MsXGJqchchynPBUNL3GqElfanD5DG/AyMrNBOTNrm60lhdixEa/yzrpVSy+9tPrDnfA2Hs3WoeKnemwCQ148nOPnesCUNbvuoMUVN8fpGikncd3IcDY+gnxYm2O40uYo/UWRmpEMekVpBkLesXHUWNi0sRFxS5vjVECmnLiS5pTClTanA6a85Ulv09fxO/0Hf7+OUxmxwka54SPIy49juNLmOI7jOI4zAHClzXEKxGPanN7FKxrHqYy4BqLcsE6blx/H8LzgdAv78WKtSMyOH9vznapEGxeTQh7RyoW84fnDccqTKSex4uY4Ma60OY7jOI7jDABcaXMcx3EcxxkAuNLmVERtwWDPkC/tAqutEYkdOOs4JfAu0umEwubzrAc9Uk7iRplq1YakOA640uY4Tq9BhUIjo/o8ipqJ0zP82VUl3jA7pfC84TiO4ziOMwBwpc1xHGcGo52c3uflOE43caXNmWGQ2cqJ4wx6RFGLR6Xp70oihWOniskZSkC9qMMMHKeAt5VOt8ipVxynCMYjXadNpLiOn9MJHo1PKXAqRZW3dNepclxpc3oRm93mzVFVgObhiln3yDwvrGy5+HN1HCcHV9qcbkM7k9S0hVZyT60oaB0aHlfYqo4Syhtdf6npTQ+dAp2tJragToGkUC13eqZeXQ9apD5NpXBcgNo0kTpWt+riVDteCzgVktYmrc0hNLeEMMvIEWGa1CKtNa2ai1pbW6Vi6aiwkblUxF9uVxlusTj9HN6vSPa9RS3K1CkhjBoxi77vVrIMi/nptmPeqFoKz4tvHcrGcPmvvqYhTJ6YHqvClvNc21FfzmCkoLi1yTtGYJJUssNmGxqklnUcxWsAp1sMbwhhSH0IQ4c2hC+n0qo0hGZR2Orq61IPTvVgtUdkHZjWKHlE8oYqJSUVDwdaWxJ9PHONmj00TUvdspYWp5ogNyDtTGlKtK71IuQYrrQ5FdJebYjeFpZaYuHw2HOvhibZT78Ck9KZSS0t6a4zgFErkEjRIiB/tS0qzeI8Vbw8Oe79MHaF5UK9vO86MoYrbe3ocyvsC7W1Nfpoxo5eKrzy0vvFJrtNniXSsdykthfEGYxQmqQsieh7loxA3frcC++ElUaPDUNk36tQB7wOcCqnrTU0T2vW3TGjlwgP/u+pwFFNbZ2co7np2KwkibfWg45Cy8Hb5u2il7WI0MA0ijzyxHNhrTVWDfWy3wE8e3aQ52flhHKjmzB2zBLh6WceLTzLWt3yqFR50+fdJsf+8AYzqOSJlBqEDyNyCeXqscfGhXXWWF0/lNtrVqea8XzgRNSW/NNpbtKKNAytk2qlOay56mKhLhkWnnmpWX9+tKmmTise+8ttZKzhNsnS1Xln5sC7aJP/VOHgwN5xreSEelEyyBEh3P/g+6G2vi4ssfiQoL3l1C5aw0i4RETDVy/cvT4BFLGC8stjWmzRWUNdQxIef2a8NtT0lDJCFC/NzdP0Wde2+fCDwQgftm3ywcs3bxKGiYuIvHjywf3/+jTU1Q0PSy06JAyV40KWcaocV9ocpdi+lqMwSAlbAE3I/+23c7j68ivCUy99HlqkRkm7SVNqtIppk0qpVUWbK+0e0mbLGYiguEVMmNqsjQsK27MvfRxuvfmGsMfOW2nXKGgXH+LvXHJ/mypi+gR5PiLN0xr18cw5Swh77bFLuPLaG8OTL3yEj8AZnm2opSF3Bis18sVbW1sb6kUmTWwNLVJVUp6efvHTcMutN4Rdd9kM25ta2hwHumynHUeh4a2VZqSGDpx6rUQWmTuEnx27fzjt3IvC7fe9qopcY6NIE8paWiGZopaoSueN94AEJQOFnRVz29pCi7zGyfI6GSDNG33sxa/CNdfeFn7988PDEgukrxya5Ow0VA/NO/7umXYQz7FuKwwfYMTBnHOEcOzxR4a/Xnp5+Nf/3tIxTJweIoWqlUdYUISdwQeWNmblj5CXzXt+5Omp4crr7gwnnnhIWGzBtNiBN9YO1CQ+8Kh6aJNmo7YmfHPXo8J115+uJnfrdKGzS7JDepALTY1++ws0KSlMIP1oYggXXXJTqJnyRVhvjZXCiiuuEOaaa3iolU9E1dvEX6nY1XiXQzqWx+kv8DqQVlHWGgvyyBOvhKefGxcaW5Jw8EE7hwVmSS0CUxqnhOFDh4WpkmcYnUNuSRscbAb9t+kpp1Zqquni1YkYITSLMIZv592OCbdcfWoYVihI6WikzuDaquWnVspcfarYSnw1tRJC4poq5WCSPNMpU0K47urbQ+PUprDh2uuGZZdaUBU60Y+Lpc8ZHJBlpslLnTylNTRNaQqvj3szPPXcq2FSc3044OBvhflGFcqTeBoxrNMoUadKcaWtmpgupQ0KjVYEDY60NSrPv/RlePmVN8Mrr74Svvzyy9DY2ChKm8QrDRO5rLW1LSQ2+roQj31FOv2f5tYkDBlaF4YNbwjDGmrC2LFLh+WXXSqMGbtoGCL5gAbG8hN5hTzBW2a0Y0r7+lN5lD4zY8hXt1I0bRUobTHZ+zEbm44HlF21nqn2lk4+oFtMHnGY1hTCu+99Hh5+5NnwwUefhc8+mxCaWqRhb5YYCFOk4xXUst3pqkZ8d/F+OfLiKhV/lkqvUZ3Q7PK+6ugabWgII+pbw4arLhPGLLVEWHbs4qGBD96C386UqjRLh3AGD660VRPTq7SVyykSlBmETeIHa0ydREzDRCNDW0KjxGDbbFVulrY8y1opK5wz40GZ4B0ywWCYtNsoaE3iwPi1BjkmH9Gc5zXVZn0qp7BBpepAX5GXdkPTNp1KWyfI3wWljaunfzUidfqsOc3WmFwugUJOEepIlx66oLvlcXqvN4ixVrdOXj1vn/I0TF52g7jXdGlUK/Ui/IFXA660VRN9qLSRi7AU0IATC408yOX0mEPanGy7Yw1bXntU5nLOTMDmIdTJCzUlLY8udIuSlIpvRlEu3Zq2vlDaYmwwoISk/GhnqlwHbwxQJ0KOS8Urp5wBBu+WckWPw1BeYEUvkVB5eA6oBlxpqyb60tImTJvSGIbNQqyitDUVfiUhqojSrFZ5k55nfXNmDlg9k6RG9BZ22kLS0hbqh6bvOjA7WN4VXd90+bjSltLl/XQqT+1KG0ydPC0MH+mzRwc7zc3MsE+kLmYigpQx2Ufq+QKGThmpVEXsFWY10GW94lQZ1AelJEvm/LDh0ojT7ojU0T/KPhYCTAayTaRCamE9t4wkJaSGSkyrMv+beX/pW6Axqa1pk/cqjUt9TahHS8EyZN178r6Ao1JQ2ZSTwcD03Y+F5Cm2heEjhshGCg+SpIUonX9KobKC104aqivp7l9eHC69KbWinDXU14daKVcUI7Z1prBBp1eNcpYnTjXQs7rFcaBcPZGtTySnWb1DRRVjdVKnuqlA1r8zIykoEliYEBZfs31FtvSXyj+U8mqFp2FPpEdYOYkFis88PWyfymGlolzJyWJh2FYikD3uDnFYl6xYntGPItnJiuPk4VnDmT7yGhsTjC8mcowTGQ6JvZkYcTNkkl/tucwoUfR3lQpSeJPx7GF7V06FFDN/atNqLkgrz5Xnqy13QdpsuRQkH7qwywp+pkfy4iwneXG4FKVDBZcn2YrRcQTNO47TI6x7rIRk/zRIQfKwc3nn8+q0SsTpZeIXlPeinOmCPEtJKebdDs+a/zo0+x2JM34pUaI4zGqaK+IlN3xEnp9ykiXPTznJkuennGTJ81NOsuT5KSdZSrk7TgmkZDpOTyH7tAvWgViy5zu7lBaap96QvLhdui/6MM1qigPH0W4sRhwe6UTcmA3GhqvEfaGUpZ8whv66qDzaVOyZ6kQcDjCy8dyV+ElnJOtkFI/jt1GBmPJmx3HclUg2fHdlsIfPe2axGNljp6oh9zhOv6M3MmanOGIFoRJxOhI3KFEjUmiCnF4g82iLCl5HJa+HFCLuEJ9dML5oKTy80ifhHadCvK51IqQqyenmLCnF6sfEcZxK8dLjdKTy3JDnIw7ddQzOQMWVNsdxHMfpV5RWu1whq25caXMcZ8bQVfdzV+cHCdadnBXHcZyu8LrCcRzHcRxnAOBKm9MNotESOivKcRzHcZwZhbe8ToVEClsRso9loa6X9HAGLz7OpvfpUfnJ6162/cK2Q3x5/kvh4ZU+CR9/DBeF44JEFMM6VYm/fyfC5p+XE2oQyTa2qxVKIRvZcdG9B0The7S6ehQmjkvJ3kqexGTDV0IcJpZKyQuLVEpeWKRS8sJmxNT3WGIvRnxeyXve5WSg0837yOblzsRPOU/iJ94LUnKWeIXi4SsPX+41mntEXv7oOv84gwF/t043yWQZbZRyahXIcSrpF2Jn89ZdMfLOVSJG3rlKxMg7V4kYeecqESPvXCVi5J0riCnRMV3pJrQ9Tg/gmRepQAM0RTErpcjzW06y5PkpJ1ny/JSTLHl+ykmWPD/lJEuen3KSxdzMugZ5/hyngCttTgVYk2vZpdCSaOXCfpNIS3vFFEsR/CH2+Rj/WmVB4sMs6mZh5VoqdlwQD9934WM4L96LVk05RDq9cmf60QcavxB7ynlib6KExL9l6tJ/RH8hXnZBX6OUzTqpUzO/PuI4QJZwnB5AQ1JovQuVD2pAcySmGqRSU5A6CWFijU0q/GxPpEJ0FD1nP5FVX5COP5vl4TNhYpnO8K1yzgR/RdgvZAWvTHoPe+5pmaoJjbrtQuRdlBM+rVz6qRTekZYxOdbfapZ9LVRJEpI2coLjSLZIhMK+M9hpS0JbbU345q5HheuuPz0MFSf7ScPaDl/zXUFz0v4JmMhhmxxOkX0aD45r5NTQ9HSnmAltxA197O70L3g3CD+DyWttk5ZlCO9YXqC+Q3FIaiQX8eIL2Lu19xq/6/5IufynaSdj04Ult0gDiyK1827HhFuuPjWMKP426HRgBUXiZpfyNERkGm4CT3Z6nqFX9P0H3gX5jfeJktYqBw2ybRAHylirqOtDdY8D8d2Gh97IZM5Ax5W2aqLXlDajJrSKllYnkdCIvfT2V+HhJ58KL774Umic1hqaaNUSKp60qWnD7C9VVULrA9IA2i4kHUw4YE1UoTnVQb1g20wTZmNCinj4lOkNLyHk1dTXNYQmeanD5JXOPtuwMGa5JcNqK40Jq42Zt+CrPWbIXD17tX5HnPYsmva+VNoofoXsTyl58rn3wjPPvxxefuud0NiUhC+/nqRpqClTTBNJn07AyaFT0XJmOsOGDQ/NTU2hvqE+zDbbyLDcckuFVSlPy8+pClwxS6DVgetsjuBKWzUx3Uqb1fxpdYLFvllarsZpIVx0yV2hMfkqrLbWSmHsCmPCUIl81llS3+WIG3LPiP2bFqxrkmFEhwhffR3Ci+PeDw/897FQVz8iHLT/1mHeOVMrQbuSlu61H/dvtW2mKm0CVurxX4Vw3dXXhpbm5rDe2muFZZdeMgylUZ819VOOtFTm42Wr/zFN6s0hQ+S9Sz365aTm8OKr48MDDz4WRtTOFg7ab7sw96gQGuSF6jvlv1Iv16kqXGmrJnpZaWuWzRefhXDOOVeHrbfYLKyz3nzpmFoRfGjO0iDsdG4Ss3VQJZa2UpaEFPNvITqHL0vFlqoSDNrw7LWFmhrJP/SL1gwJdXIKpaVZovzXvz8Jd915Wzj4oF3CCsvPUVDcGCWXYld1pa00KGzviyL8+9PODttvt03YYO1lw0hxa5RLDik8trJZX0jkL1uCjK7COjOWGv1L3wuvl/1JIi3yvv97/3vhnjv/Hn53yv+FYZKv+FByHMOVtmqi15S2tAvnHVHYTjnlT+GQA3YPq46ZWxs94mPbIVeV69OJSKuxdnKb+Epza6nWy+kVeMeSnUK9POdpkhmee/6DcPGVt4ZjjzkkLDkfPujTSV8CfsGVtnwmSbSfSlk66/RTw0EHficst+z8Wn54tqSqpkPKSEnp51jqTLl7q5TSV82nN65ZTfB8KTWTRHkf/9HEcMHll4Ujj/xBWHj2GlHcqfjS8uRUN90th46jlTEWgMuvuSNsu/23whhR2KyJ5hxf/KqomfQW3YmqFy/rdIaKo67wkBnjttJKC4Zdvr1ruOzK28KkZskfzdiOnDzalRn5iJL/J8ujuu6mu8K222wVRi81v1oqmcSDspYqbCblKVeZ96SiJ0ws+rq7IdnwLuWEh9YsZaotjBgWwqKLzhq+tePO4Yabb9cPhNI2VKfaIL84TsVY8/Hq65+GIdK6rL/eolqd0NCkdTX/O4OdrIGebpx11547NDdNCS+/+l4Y2jBM8gnVS9fKRjWSPpW0tIwfPy18OXFi2HzTlUO9PMdpmC6LdGzancEKOSF9v0zsGj5UytPqC4QvJ3wm5Wm81rFeszrgtYDTLWhOsKG8MO7VsMKYZXW8Dd2sKV6tVAs1NTUqKG9Ii7z6YdKybLjBWmHcq28Wl6nwKqYMbTy7EF5//c2w8cYbhWlNWChbwohh9aGFJR6KihqfRIgdO4MT6s8k1IrSxgQENPsN110nPP7Yc1rveu3qgNcATsVMbpymA2WpQJ589oWw8grLhuGSg1Di0kZGMpTULFlxBjcob7XSyKBWrLTikrpUxTR57/bqGcvW38ezzWjoDksSFN8QHn300bDCCvOHoUOksW5gykdbqK3t+nnhIxZnoIOmBqkFdqS81FXHjhal/v0wqTW1zsbiVCde1p0KqQn1DUO1XqHCaG6tCfPMmU48sJ6yGkamO1UFCpvBuMZRs7J8QaMqIwpZwrNFB2zSjz27xsZGUdZ0V/Dm2Ck0zJIVZh9ZE76a2Khdpl6MHHClzamYutoaXRgXS1tjUzpiCYWtriYRSbvLnOoE+1ASpumK7lObU0tBB/XDW5zOUGZkM2XqVPkgSp3S0uWKW/VBbWoCSahpbQrDJF80SV1LPvEi5IDlEMfpEqxqVB40KS0tbbrkQy3LIDiOwGxS1u5raBiaaWAkj3S1Rlw1IoWJ8tTU1KIr4DtOCrlCkNa5qUnK05BhxR9FcBxX2pwImtp8ocmlKiHDJIyvaGsLdepQoz7idXGxuMVSJyFjKfVH3LF0gmt0R5wZCj9Cz9pirc0t7e9P34PkHlXuq0Bx61x0OoqATRIBGuNhw4bpj4an8Guj6dOLy0KedJe8OMpJJ+KyVYk43SR+cDVSp9aHWskOjW3Nmls4E78fK1FVUrKcArll03GyWEbRykP+swkGKFvAof++YTVTqwPrdU8yA3tpFpHmxK1s3cCaZKcq0Yq0IEn7kudetTqG1w5Ot8hbK5eFH4t/NV69ODm44iZYa9wR/9hxFKtbc+pYxzFcaXN6jGWe7NZxHMfpAa6wOV3g7azTLWztNbO4mZGgaCzAPSslIPPF4gxG/M1mYaZtr1BhOXMcZ/DgNarjOM4MRiveoqKVjl3yDmQnFx9a4ES40ub0LpjcTByn2ojzfyxGzhI5PTaSlbqGM3Dx9+h0gSttjuM4jtNf6KS4uaXNaceVNme6KflxWMICQKbzjOc45aGpLifOIMe7RZ0cvO10HMeZTlyRcnqV+GPXlTcnwpU2p9ewhssbsOql2iuUbBkwKW2O7jmdruEMbDopZ/5Wnc640ub0mD5ohxzHcRzHKYErbU63sHXaED2OpNsQRyzOoEDzR2HfqZy4LOWJM8hJsm/Z37rTGc8VjuM4jtNf6aTMOdWM5wbHcXoF/aWMwr7jOI7T+7jS5jhOn+FDqR2nB/hwEacErrQ53aKmRkRyTY3sZDMPx7F0CWaZWJxBhSts3UOLgI3vjKVAxeXKGRx4t6iTg+cKx3Ecx+kPZBT1FG+mnXY8NziO0yvUdGpsHMdxnN7ElTbHcXoNKhRX3noZf56O4xRwpc1xHKe/YN1jsYBtHcepalxpqzKm+4X7hAGnAsgm5DV0DZ+QUB6fh+M4TqW40laF0H3Fi7eGtbJMkH7qt0kgE8eplMGruMmdVVoW8Jfx26nsmZ9YwLaO41Q1rrRVC+hcidT8uq3NKGs9s4e4BcUpIlnIPgYGbaViSzBQXIwOP/LNfjmBzk/IfhKuJINYYUuSrm5++mhrs+c+QIgV9SID7B6cPmXQ1q9ODoW2ozap17amvbFIT5T7mxl0VeFS4U+bNq1wlB7H0t8gTa0trYUjZ8BBluqUrSyPcqJNKtSWXEn9pQobvnRfgrBXk4iLxWuNdiwF0lLaTiEWLSeS49WtublZj21r+a0/5DvSFNPU1FTY64il9ZhjjgnXXnutlhu9x6hsI5WQtHX2Z/VKT+KboXT4IHCcFMq8U2Xo7L6oMchvCrIy43nuuefCDjvsEB5++OFOFT4cd9xx4fTTTw+NjY16/NVXX4VlllkmHHbYYXrc3/jZz34Wjv3JsdpoxMqmMwCgzJjkUCsFqpJSYiWtQ3NM49yhPHaPmtqa8MTjj4fjjz8+7LrrrmGTTTYJRx11VLj44otDXX2d+rHtzKShoaGwlypsQ4YM0UW6UdJ+//vfh8UXXzy88cYbmlbKyGmnnRb+/e9/a9mvre1ZHWRxPf/882GXnXcJjz32mMbV78tfnB9ceXMiZk5r7MwceNtSGSS1LdpTmo5LoxVKKwUscLV0neaI1SLabhFHeqgh+6pKee2118I999wT3nrrrQ4VvnHFFVeEO+64Qytl+3ruz9x+++0qNBrDhg0ruDoDAvJ7LHlI+SkpUvjIoZSfVtlLOKot2LBrsMSl5zguJXngjsKz2Wabh/PPPz9MmDAhzDnnnOHWW28NBx98cFhzzTXDe++9l3qeyaCcXXjhheH//u//VGHLMmXKlKL1jTJCmWeL37yPtkppbW0Nb775Zrj7nrvDm2+8qW5Dhw7Vbb+ik3JW6q071YwrbVWFNAvS4LRJI9GxIUgbFUW1shzJoa+rFCprrGilFDIqdSrf4cOHa+U+atQoVfTOPvvsgo/+BV0wecqnM0DIVdik3MTlgw+cUiKQk/Ee5+gSxasirrjyinD8cT8N62+wvipnWKauv/768Pbbb4czzjgjPPHEE+H73/9+wffMpS1pC//4xz/CJZdcoscoaJRtrGE/+clPwieffBJGjx6t5wAr3MSJE3W/rq5nlkLKXH099VuqFLa2pV2vxO04A5G0JnEGP9RRdfKf/GtLakKztBo0HK3i0BrqUqlJijpaVmDy1GbxFcIwyTV1dWlF2NlX79HS0qJKWd5XOXDOxu4AFTGWORoswlJhv/766+G2227TBuKLL74Il19+ebjyyivDxx9/rF/+JvYlP27cOO1WOu+889Racf/996s1b9KkSXoeiPfdd98Nl112WfjTn/6k3bekAXfiMj9IDPdRrlvGrAzjx48PN954Yzj33HPDXXfdFb7++muNK1ZeSe8///nPcOaZZ2p6P//8c3Xn+vjjvi+99FKNg2fi9ALWzhcsIpSFWvmf9p+hU+nr5v13FkoW9jSkWUK1SGTTWlsDb7ylLbXCARVyKYnhuKmlORx91FFh/gUXDDffdHMYMWJE0UJFWWCYwO677x7uvPNOVZaAvIHV6ZZbblElxiB/0YVIfovB/ZlnngkXXHCBWvLuvvvuwpl2Xn75ZQ1H/qVc/O1vf9My9v777xfzO/nyvvvu03IHWJzvvffeohUQa/pNN93UIY8TH2UcN8qzCXmfuCh7lNFPP/20EKIjhCP92gUrz9rcbEtcwPm21tRa/9FH/9/emQDZVZUJ+PSa7mwQIOxJIEASkhCyEQIDSU3IQhYQgXJhiQVIjQiIJZYWLoABwhJAkKUGGZRyLASFycwojgKOJRAMBqSEYMlusCqBgGNYsnT3677zf/99/+vbt9/r9153p5Pu93/hcO87995zzz33///zn+WefkftBXrz6KOPql4l9Zh9wm9/+1vVPZ6VZ7Zj5I1n5dmYuoFuos92PBk6kXXs20n/dhxBhMepIHa0RtHSs78RfSz72yU0J0JTFyEjoblF/idslu1ZF98a7ZD9VjkSBw5K4r2IVCyRVELRgw8+mI3pyKhRo6LZs2dHYmyzMWoJowsvvDAXd+WVV0Z77713JM5aNHz4cE2Pc4YOHRqJQ5Y7j+1VV10VSYUXTZgwIRo2bJieKy18jZOKL8q0ZCKpSKLrr79e09hvv/00TXHGomXLlkXbt2+PpHLokJ8kU6dOjcaOHZv91RmuX7FihaYnFUk0YsQIvQ/5t7xa+nPnzo2kktY09913X90X506PrV69OpLKLtp///2jiRMn6jNQDjsVHrklFpDzLr1T5SuWm1b516Sht+WjtyF3hYLCM7bxq0X1Bf1ZeMblGg3pa5KBkrFrtma3O+RC4j99yW3RZtlSQl2RTA8ee+JxlY9LvnRp1JxBQzvS1NQUiXOh53zzm9/UOGT48ssv17itW8lJDHKF3iAr4mhpnDRyohkzZui5Bx98sOobcjZt2rRIHD49B66++uqosbEx+tnPfqZ6xTnozj777BM9++yzKpPinGk6FpBvZPQrX/mKHr/iiis0Xhw9TRM94/cFF1yg++SJPL7xxhvR5MmT9fpx48bpvfbYY49InEm9LgnnE0AaQZqeNLT0N/GUD+VhXHvttVFDQ4Pq+8iRI3WLDomDqHkE8jFv3jzV+6OPPlqPs//RRx91On7UUUepjcCWmG4mQydUviSQZdmSR2TmnC/fGm2RLftJkvIQP6VTCbgrX0FkpJE5SN741m1RYOo+PQUWTBBoh+YLwCgDpnSwbGnNt5M8q/cQo6VDG2L4tRWeDvR+iQzHLWVpJdPKZd8CrXxa01u2bAkXXXSR9hQQR88B8VLZZO8Uwp/+9KcgDpNO5qa3jRb3Zz7zmSAVj/bcnXTSSTqMQw8BHxSsWrUqbNq0Sc9jGIpWOelbHroDvQfkifuS5/c2vxfWrVunvQ2f+9zntMeNnhRa97/73e/0/BdeeEF7L8gXPXncWyrCsGDBAu3poPeEIeNTTz01exen22gPW7uc85YZbdOt6AW9ZvQr5Qscoy+Xq/EeNKVMfG1r2yCNK5e/btig2+nTZ4S6PMOHNdU1QRoguo+coiPIMDKCTAH6YxCPzlnvFpx44okqP/TO0WMkjo3K3AMPPKDHDdI599xzdc4a90I20TW+AAVpeGjP3jnnnKMyLA0U7SHjYwPLD0OgTHWgh626qjrXa0hAtsWRCaeffrrqLj1zr7zyin5YIA2T8NnPflY/RCoHbAtDtoA9kYaNfsiB7vEMzzzzjOaJ58LWUCb0gNP7Tm8cdgQbQBz5pwzowaQXDn3kQyp64X7605+m7KXjdB932ioI7DMmqr66OXz35v8MK2/4dwn3ZcMPw7U33B+uu/FHecO1N/4wXLfyrnDNtf8arr7uETHA23PCw9DPzgCjihPEMMQZZ5zRKWD4k5UOhpHfBIYomOwvLXE1/lQyZ511lp4zZcoUdWLWrFmjFQbnP//883q/s88+W+O4DkcJhwjjTRzcdtttej1f5zGkQiVz8cUXhwMOOECHIzHe5Nm+aC0HHLaDDjoo3HPPPUFa51rBzpw5M1xzzTW5YSfSpdLi2ZLPzheD3JsKj8qRYzw3HHrooWHGjBm67/SQrD9OyeL2DG2sCitvvE+cDwmrfiTbHxcOt9wv4d/Cqu9+P9x86/fDjTfeEVas/KE6JN0xxO9seifUNQwKo8eMzsZ0BIcEZwleffXV3PIXQ4YMyTtXFAcFkB/kfc899ww33XRTGD16dM7p+OIXv6jnvfzyy/rbGks4aCzPwXDs0KFDw3HHHRfmz5+vc+qQxbraOtUV5BY5hcGNg3N6RRo4jFu3bo3Lo6Za0yaO69G1Xzz6i7B+/frwne98J4wZM0avO/zww8P555+vDRocqXJAP+yZec4RI0bofFh0n7JC96677rqwceNG/egJ3WLeHdck881zmu1hODX5jMSdfPLJ5X94tHNMqjMAcKetgqgT+/Txtky4+9ZvhE8unBYWz58ZFi6YHRbOPz4smj9bfs8KS05qD0vnZcM/y7GTjg9LFy8IS09eHJYtWRIG0e0mIECx+ep9UcJoY/RojW/YsEFb/MkwcuRINbycY0bUDDFGn3gMLYY16bRwLhUR6WNkrYLi2ufWPafnA5OgieM+Vmnh3FGp0SO36uZV2jt3/fXXa4VEHoFzzWiXAvkkL1Rw06ZNUwNvzwM4ZEDrn7SXLl0ahg8frvFXXXWV9lhYhUyFR88APX9z587V+UxApep0DRJcKLQTx/B2mlpDuH3VN8LiRf8k7+LYsEh0ZpHoy6J5s/OGhRLmix7FQXRq2dxw0oITpLGwQ9PTN85rTIcsybzgbo3Ya0TIiKzisHR0v2KQFZNvHBEaAcguPVLE4fyzxYHDOTK5T8ofaeBIMS+SRgkNB84ljaTeQVLHamtqw9ixY7VhRS8V+gj8RhbRD/IDpGMfC3QFPWvAxxboHQ4Vuocjh/4UmtvWFeg3DTx6D+fOmat2gLRYRgVwyHhG5ohSLvTo0bBCB2lMMScPG8M1pHXaaaep/TnllFO0EVYoT8lyK4gPhDl5cKmoEDCMTIceMrgmjD14rzB9ypgwa+aRYdaMSfFWwrEzJ0qYkAuzLRwzTo6PF4diXJgxc0wYP75RjHBscMW8yf93jhhRiWAI6cXCyTrssMM6BMD4pSuPcqCy4HocIByvS790qX7JRmse54clE2bPnq3nULlR4bBleGbdH9apo/XHP/4xTJ06VXvmOA8DXg5UnlSmQIUApGOV6P77769bnELiOIdewjPPPFN7Iffdd99w5VVX6n3JH0O3TKSmV4DKY9KkSbnJ0E5vUK0Sjxu//8hhUr7jw8xjJodjpoveTB8n4fBOYRZh2oQwa+rEMGvK5DDr6Cnh2KlTwnHHHCEalEn6ZiWz9157h6i1TYfBW1rij1jSMLSPjONAAc4boFfmyOvQo8ibNTQsHmfmq1/9qq6fxvSCe++9V4cR0TWuZ0vg+lLgHmANICOZHttknPVq4fQxFInDiCyvXbtWp00wPIpe0HNO757BvWjIWGPG7p3bJuI3btqo9zngwAPiODnGPSkHeiXZp8cd54zeuKeffjosWrRInTZ069vf/rbmlePYKoZFFy9erEPJ48aNC9/61rf0mEF6BSFbcdYSeDXttOPSUCFgKMT8hSoMmbhaGGTm4yRDlJFjucCcsvbA/BvqBfyR4WL3MXI7G/Jsjog5MKXSpWFMgDHl3Mcfe1ydsUsvvVQrBFrzV1xxhX45SmWGcWdLa3vmjJna4/DIfzyiQzLMWXn44Yd16JS0zIAXg2cjXSoxhpToPWMoxq61Coav84D5SeSB63Ba+UKPCoshqZUrV+oXfFSgvFuGbNe/tF6HrKjsGPZ1ekhi6Q7eDSJWX18b6uuQ03jOaKu8Mg3sJwLH5b9EiN8t/UuZpmbdlsvUqUfrlndcV5ffceJraXRn3rx52ZigQ+/JhgUyq3KDomd/cw1LhzBfE8eNOW3Jr1DL1Uew+6AfyKhBWSaDwb7lk31r0LAuHXqJ7pEn5pStXr1ae/qS1xeDZ0DXDjzgQNVBHFyuZ1kQjpFXnhtHF+eM35aPhx58SJ1HnEWGVumJ5DjPyHQEeiXRTebC0hvIV67AccfpCe60VQhmzDCY2oKtZQhRfidCTa04drnA7/ZQLYF6AVuN2akW49PRPCJKvS9OGDl6CjCq7CeDYa3mcsHI4oRRgTy95mltVX/+85/XicRMpGYIlLXfgDIDhi+f+M0T2jsGVCqWF6uIiCPtYpAm13Idjim9iSwVwHAU6Vsa9G4AHxeYk2n3x9nDYQPmGdm7JU16Jz71qU+FJUuW6ErzTu/BO9i+vX3IuVbEg8CqOhrYTwVRocAbpT9LpFl1cof45/W1dV1rTwHxHnPIIWHJKcvCM2vWhEcf/UU2tp2nnnoq/OQnP9H5X8gO4Iyw+C735iMVw5wyoGGAvq1/eb2et3z5co2nUUHvLXEMcyJj7JfSQDFU38Q5/MeWf6ieEJBlcxjZEmdp2290nDlmYHPXiAdknnPNaWKfLfJvw7LWyDQ91mNV1TqMy1AoHzOg9++//34H3UX30Mc5c+bob+uNZL4g5cjHC8AQLSTzTq8bDh33ZmoDeXKcnlLQTjgDi0IGA+NioShyCjarvY2+c8FZw8gWmu+CgUwaWCoknsMqESYvG5aG9RBQGdCzhhHGyaG3ink6o0aN0pY0wxonnHBCuOSSS7RFbdcxl4Y5RHxVR2ufio+hSubX3PP9e/QcqxjywT3ovWCeHj0G7OMEYtjZJ0+k/cjDj2i69HJg+JctW6ZDtTwvvYFczxevDNOa00bFQuXB0M3jTzyu83BYV4vKaNasWXqO0wNQoYQaDR7ScXI50pYMaSwe9wRtQycbRHyR2VzSSTW1yGScgHQRBg9qCKtENvjYgK8eL7zwQl07kB5Y1mhbuHChfgnJUD/OEuCM4cQzFeCyyy7THqD77rtP5z/iiIENj9qXp/y5OBoENCjQCWQQBw694RloOIDZGLY4QupsZfXR7AuL56JL9GKTHkON5Mn00/QZpyipR6R34gkn6jQG5J2hSYZGmWPKRwL0JDMHFf2xfOAMWuPG4KvO22+/PdbBW27WgE7ifJEvesYoP6Y8oNMEPnqafexsvZ4PMTiX+XX0zKGblO306dP1OenhXnHNCh0i5eMPpi+QLrrrOL2CKJNTwYhhTawblF75xxYOIsSbZgmswXXel+/MrrzFvxb9f28jTpGuw/TQQw/lXdeItaNYr0wcMD0uRlPXhxLDqsel8tF1z8SIR5s3sxJWvE4VfO1rX9NzpaLS9ZpY54n10MToRnfffXckRj266KKLdA2oww47rMOaVtLSj6Ty0XWcCKQzadIkjScvpMc2zdKlS6m5coF8ce3pnzxd88V1jz32WDRmzBiNF0dO13mSyrXD/e+9915dR8rSYT23O++8U5+XtbXmz5+v8VzPPfj9/vvvZ6/eSfB6+vk6bT3FtKZQQPJ0vcPsFiix5ZfdGrHKF+colGVncc9LU0tz9Ne/vR0tPfUUXRtMHIicXJ577rmRNEB03T/WFkTWjfvvv1/XD0NO2CLv0ohQuUOPAHmytdtMzr73ve9FCxYsiJYvX646R5qkzXXvvPOOXmd8/etf1+vee+89/U164kRG0oDQ88njLbfcovGs9UY+3333XT2XPKD7rNNmoFPbtm3Te3MtaRPQ0TPPPFOPWd7TrF27VtOza7i/7UtDR89hnTlsCjpDPOvMsY6crcEGP/jBD6IDDzwwdw7le8cdd+gzoL+UKzrLMfJIGnfddVf26iLwzk1QZNsq23idttt8nTYnhzttFQ3OTiYXOpsB4iyIRZH/+tJpo1LAYOZz2MAcpDRJp4n9pNElLTvGgpdm5FlQd86cOZ2cLWlpqwF+6aWXcsdwsEiHCkha0+ooYbQNKo9CmHE3uD/ppZ+FCnDDhg3ZX/HCu9yT8zmXdF5//fVIWvsdHDpLAyeNhUg/+OCDguXXq3CLinPaeJ72UOyfaRISxxbMaftAtuWWzramHblFde3aTZs2RW+//XZOrpEjFn5GhkePHh29+OKLKkvWSHjttdf0PJMRZNoaNqRB4Hzkn/NNDpFBtiaTXJeGc+z8pGwDeWQhXTvGPZFj5DqZrulcEotDP9AB7gGmR5Y39NCeJZlOvjSTsBDwm2++qdeSjmF6TX65b9JJJS6ZLs/GM9r9S4JbkQSXyNadNicfPjzqdIENxBBSYzR9gLRmdbiEbT4Y+mABUZHjbExM8hpp7YbGhkbdFwOcGzply3kc53qGVpiwL5WGHgfO56ME5rVJCzw3XMPQDekTzzpRDI8wzGr5YOgpnSeD87gvkD731/mFkrbFg7TWc8uSMEeG+9kzseVcPkZgvhLXcj+GYex5+MqNLwYZxkoOEzu7Dt4eoZDRLfct8V5tUV1xGHRocOQ+I3WIHzlAdviymCFBPqxh3hZ/UB7ZQebQHeQXmLfF+cg0x5Ah0iAg35MnT9br2DdZ5Bx0kHOGDomHSJOYvnAuw5/kD5Bn8shX0SbT6BR6Q1oWl9xPQrriQOW+KEenyLsN1wL54p7EgeXFIA+GTX0wGG7mYwJLz84lf0Ac96WsOEbgXnYPfrNMEB84MHeukC3IC9nv9Miuv047heyHUxEwER7DFIdYHJLBLEgnK9JnmCOTz/BxzIxi+rgZb7ZJw42BZ8u17Bt8dMACtjg5zNth4jaVApO5+fuBrN9kUJkYpE9FZvtGcr8Q6YokH6TDM1o5MPfNsOe257B5QZC8vz2/09uk9aVw0H9S9xJ4M/p2RGQ52l1wIqjOCchFWh+QL5MD5qzxdTHzHonT44lzbWkL9ktB5VLSN10oJGOmG6Z7YOfa/UgD2bU07Vhym8aWLgG7Lpl30kvqaRLOTeY3fZ7l2Ug/m53PeZQhwfJJHvitTpxsjVLLtQPZv3HrOEl6YjMcp88oZLyhq2NdgSGlVcz1X/jCF3RSM3/kmYn8THi+4YYbdDIxfzrHegl2JeS3u8/q7AZQbxdw1LKHehXkJR1KpT/L2a7KeznlW5TkI7jz5iRwp83pBfqnGGHcaUWb48bwEV+HsVgmPW8sl7HXiL303GSvnOP0lKTGtLkf7kAn58ydNacz7rQ55TGAKpjt2SUObBgD582GPpjnkmw592or2nEcx3G6gTttTjexVuCuFSF6yCyUS3JiMaTnuSTnCO0qks9XbnB2U3pJnNC8ZMgnA90JfUVv37e30yuF9D27CkXp9F1g+rfjuFQ4juP0PThu3nnrlIIv8uAkcGlwSqdgYxExclFyHMdxnJ2J17SO4ziOszvhvbBOAdxpc0omapMgxkRHdmSHWW1R4t9Ao+w5KY7TA9AgdMqCU+H4sKiTB5cKx3Ecx9kd0BZxvNuOV9NOOy4NTuno30jOQ1QVB8dxHMdxdhrutDmO4ziO4/QD3Glzeob3sDnOrsGG0vIOqTmOMxBxp81xHMdxHKcf4E6b4zhOf4RO7mRwHGfA406bUwa+EIHjOM5OI68D7nbXacedNsdxnN2Q5Jpt+YIzwKnyt+x0xp02x3Ecx9mdSPa2ufPmJHCnzUmQbMfnC47jdJsCc8+qu/nlp2vnAKOTc+Zv1emMO22O4zh9TQEHznEcpyvcaXMcx+lL3FlzegEq72RwKgN/147jOI6zO8AQqTv1The40+aUTJsYE0Ia5uR0d16OM7BpFxc3NYWgjNrLyecxVTxZgchnax3HLalTNvpXc6Io1Mq2RgyL7GpwKhjkgIpGdlvZj2OzVGcNjZub4lCC7rg5bWJbs1oUVftfKXNyuBV1EiAOhUON/MM5y2TrlBr+J7+rqGSiVnXknEqlLVTV1IbtrSIpDfXho0zcYRBLDv8XFx/x6Cr0czpqS8eQnzY91tbWorpEebnDVrmYu96m/5CHqtDSFMLg+uH6ewCoiNMLFLYnjpMH9cukdqkVyTEjgnGprqoONAzdcatkWsVxC6E50xLqxUeLnRBwM5OXrK7U19WHFt1zKp1I3LNYKkRn2mpENkJoaW5OOPVOpePW1CkZ2n9Rq1QyYj3q66qkcpY4+a1jpIRqcd+q3LRUIvQZUbXsEJloGFQTBmXjnS5okypaaujBjYNDRsotxk1yZVOtuqSOm9jTJpGLOrG13hR2DLcQTslErZlQJbWMNP5CXU0UWsSgeA+Bk+SDLW1h7+GNum/GxYZ9vKsgRaSlEgYNqg8tOUViMNnNcqVjw6H/+Kgt7Dm8IUQiHy4VDrgcOKUjDtvgQVXqtB0/a0ZY8+wroYqvEbIwNJoMzsDG3jHb7Tviiua11/8WDhm1n/bAxkfpNbAhH6cDtbV0poSJEyeGZ555NTRpxRyb5EyGLmynkqgSPaqR90/bZkdzCB/Ldv2rb4Tx40aFWonUNg+KVCg4FYE7bU5piFGwZT0wHuOPODQ8s/Y57WkjtLrVqDhsKJztkIbYaXtqzTpx6KeFhppYTuK+JEehQMTiWpm0Njfr8OiE8RPCSy+uD9VZa9wqcfW1+pmPwNmMnRLY9xIdqFRVxQLAmx9WH7/xJ3+/NkyZOiE0SuPYl1VywJ02pzSkFVhVLeakTdyz1rYweeJBYciwEWHNs++EZjEmmbY2X1eogtnaLA7b7/8ehg8fGY48Yt8gdU4n1N1ARgqFgU7qGatra4OoTZg4cXhobGwMz617NTQ1iarl/DJz0pLBGbjEXhkd2Hx9/b9PvhFq6urD0eMOUkeuInTEKYo7bU5p0KtCbdLaGqpky9ejy89ZElav/u/w5lsfhEwry4Gw+EccdNGuBPFn7Ml/naujfMHZnYjfir2bbeJgAA7bG29tCasfeTic+Ym5WYctUuPiBqYwLJECg6WQzvr04vA/v/5N+OvGD0OLqA4NIUowXg2RkCzJ/JrRl/piMtDTUIx813QVCpHv3O6EUsl3bbGwjZcubBd9wqb+6pc/Dxec92mdjkKPrONAVeSTj5xiZCUkaqPDHv+thsUddBHVzX8P4Ybr7gmnnboknDhnVGBUx9w1ehEwR1XVkSSBK9f+r9TqvKPr5+xKWkOTvFN6XBv07W2T94sv/+TTm8Pjv/5VWLliebzgsoTcR8SyVTEQ7I3b7zSlSUT/h+fXZ5WylNJUPcJRe3tzCKu+e2c4/ZRTwpzjx2g5VsvJGanEGX4uZqhJra/KsNA7LJdi+c13H4vLd22h9JLplJr3ctJPU8o9MqJRbdIIrq5hBcxaHQ7lHT+1ZmP45a9+HlZc8y8qAzUSWSMJ8oG+qZXS4YeQ/u0MSNxpc4pjEsICumoY+Cy9KmQkHul5d1MIP37gvyT6wzBr9rQweeL4MGhQXRg8RK9SQ4cRM0NWquGDtB0q59qeUKphryR430yIpkPgww9DWP/nt8NTT/5BXlJdOP+cT4Qx+8UVSw7bly3lae+uUNn21bvd1djzM/Fc1zaU8qER1CTbTf8XwoOiS1FrS5gx7egw6cgjwpDGEIYNzV7UBZJUv9OPYvlN3yf9O319ofTsunLzXWr6aUq5T0srX+HH2y0ft4b1f3krrHlqXaivaQjnnfvJsPc+NIAyIiO1oVYS5KOVDhT77QxI3GlzSgZRieet8TVgtbQN263Elh0hvCU1zrrnnw9//vNfQtOO1rBju1gaMTiYujapmTLVDK3ZV3Glmb+qqON51W0lmk3+8HIP8Pl5HcFI1NbVh0xLcxgkr3SPYY1hyqQjwpSJR4SjjjxA1+7r9Leu7Ud2m3wjpFesiEutIPsbVg44bTlEPygPjiHizz63Kbz59sbwgujSjqbWsHX7NjneFqrbJ7x1Av20v3y0s0nNfug2xfKbvk9aL9OT8wulZ+mUq9elpp+mlPKprasTfWrR7bBhDeHIIw4JU44aF46aeGBokOPNEqrFXtJE1t7rNmxpIuH0Pcp8Nqd/4k6bUxJUFQy/JIWlRqwEXfrMucDAMMVJXTI5ieGx5GR0zuMr08JVTn7SdqjkL6h6aMDKzedAx4rd3ilWAydtqNQmOedKJ94kCt52s1srU0ur2CuqJKetilqeB0aRpJDFT9Nd/sKEDUMXlf0+Ftqe3q7U95u+jzlEaQcqnZ6Vlzlqlk4pDhUUS78YxcqnRt4tPdN6nhhI/ooIzhrEX+NXyT0ZQEcSeJ76WE6M9HOU+FxO/8adNqco8dTzuLKN/1piDK2/ODYWIXrf8hkqsyXdEbTutnR7SqmGvVKg4ksWCVLQqRIr9G6yFxarxNKUW0n2V6xceF7bpyitT7pTuRUo5w5D031AT1Wx1Oym75MsryTp9NJOm6VTqhwWS78YpZaPpUvjN4Y33xZao2xMVfzFT+7vjBRKuNwMOv0Sd9qcouC0ISTxFlMWLwCJ0xYbNswgIWvmbEgzN0Rp1qQbopYeDi3XEjq9R+pV5CXf+8m+i1IrS6OU2w0EkuVixcdQaJQdGrMpAqZ7hVoUuY8/+oqe3q+bumzl1Uk+0um1F2aHbalyWDT9YpRaPqRL4Hy9hjEJiWqrix3OqtiJqzG3rlA+Sr2f069xp80piVYxGi0hI/9nzfZaddhyLcNiVrCT9SuDtHT2lbS6AexM3jKxF5I4mH5H2UPutHVNsnz02fnbRVqWHLHS6KJU+txrE7p7y3L1uNh90ukVkME+y69RSr5T83Z1OIF3yWtnk00jd1ahvHT32Zx+hTttTknQy5ZJOG3YB3Xa1Oiw0wUpm1Rq5d2peirlXkZvGDA3giWQfCHZAku/o2y0O21dY+WTe27+FlinUuuiVHaF09bXpB+xK3tgx5LXlFtEpdqbnpC7R/bdWh6Jl3132pwk7rQ5JWPDpEyPBZ0zgqEoJkFuTJwEnZwTpwtSTlu6V6bSSNuScmuvcm3Rrqwds3l1fXGSuNPmOE6f4pWQ45SO64uTxOXAcRzHcXZTqKS9onYMlwXHcRzHcZx+gA+POo7jOI7j9AO8p81xHMdxHKcf4E6b4ziO4zhOP8CdNsdxHMdxnH6AO22O4ziO4zj9AHfaHMdxHMdx+gHutDmO4ziO4/QD3GlzHMdxHMfpB7jT5jiO4ziO0w9wp81xHMdxHKcf4E6b4ziO4zjObk8I/w88sdhKY+IhJAAAAABJRU5ErkJggg==)"
      ],
      "metadata": {
        "id": "GFWV3IEF5-kp"
      }
    },
    {
      "cell_type": "markdown",
      "source": [
        "#explore this \n",
        "https://heartbeat.comet.ml/5-regression-loss-functions-all-machine-learners-should-know-4fb140e9d4b0"
      ],
      "metadata": {
        "id": "5Vn19zU-6gQl"
      }
    }
  ]
}