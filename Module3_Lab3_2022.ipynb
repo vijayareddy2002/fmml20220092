{
  "nbformat": 4,
  "nbformat_minor": 0,
  "metadata": {
    "colab": {
      "provenance": [],
      "include_colab_link": true
    },
    "kernelspec": {
      "name": "python3",
      "display_name": "Python 3"
    },
    "language_info": {
      "name": "python"
    }
  },
  "cells": [
    {
      "cell_type": "markdown",
      "metadata": {
        "id": "view-in-github",
        "colab_type": "text"
      },
      "source": [
        "<a href=\"https://colab.research.google.com/github/vijayareddy2002/fmml20220092/blob/main/Module3_Lab3_2022.ipynb\" target=\"_parent\"><img src=\"https://colab.research.google.com/assets/colab-badge.svg\" alt=\"Open In Colab\"/></a>"
      ]
    },
    {
      "cell_type": "markdown",
      "metadata": {
        "id": "kAKrrEmgLZ_J"
      },
      "source": [
        "# **FOUNDATIONS OF MODERN MACHINE LEARNING, IIIT Hyderabad**\n",
        "### MODULE: CLASSIFICATION-1\n",
        "### LAB-3 : Using KNN for Text Classification\n",
        "#### Module Coordinator: Tanvi Kamble\n",
        "\n",
        "\n",
        "---"
      ]
    },
    {
      "cell_type": "markdown",
      "source": [
        "## **Section 1: Understanding NLP tools** "
      ],
      "metadata": {
        "id": "_jeRAsurrdLY"
      }
    },
    {
      "cell_type": "markdown",
      "source": [
        "In this lab we will be using KNN on a real world NLP application i.e. is text classification. But first look at some NLP techniques for text classification and tools that we use when we want to use python for NLP."
      ],
      "metadata": {
        "id": "iB9N2m-HrgWY"
      }
    },
    {
      "cell_type": "markdown",
      "metadata": {
        "id": "WMJhTF89MmT_"
      },
      "source": [
        "## Section 1.2: Data Cleaning and Preprocessing step"
      ]
    },
    {
      "cell_type": "markdown",
      "metadata": {
        "id": "nRXVjJHk3urf"
      },
      "source": [
        "Raw text must be processed and converted into a form so that it is suitable to use with various machine-learning algorithms.  \n",
        "In case of text, there are lots of things that need to be taken into account.  \n",
        "\n",
        "\n",
        "1.   Removing numbers from the text\n",
        "2.   Handling capitalization and punctuation.\n",
        "3.   Stemming and Lemmatizing text.  \n",
        "\n",
        "And most importantly, one can't just use words or images directly in algorithms; they need to be converted into vectors- a form that algorithms can understand.\n",
        "\n"
      ]
    },
    {
      "cell_type": "markdown",
      "source": [
        "### **NLTK** \n",
        "NLTK (or Natural Language Tool Kit) is a commonly used library for processing text. We will use this tool in this lab. Lets first install it. \n"
      ],
      "metadata": {
        "id": "IYq4np0xqUBr"
      }
    },
    {
      "cell_type": "code",
      "metadata": {
        "colab": {
          "base_uri": "https://localhost:8080/"
        },
        "id": "wFOZHWV3_ABt",
        "outputId": "a51d4948-3c04-44a1-a54a-285a17ed73b4"
      },
      "source": [
        "import nltk\n",
        "nltk.download('stopwords')\n",
        "nltk.download('punkt')\n",
        "nltk.download('averaged_perceptron_tagger')\n",
        "nltk.download('wordnet')\n",
        "nltk.download('omw-1.4')"
      ],
      "execution_count": 1,
      "outputs": [
        {
          "output_type": "stream",
          "name": "stderr",
          "text": [
            "[nltk_data] Downloading package stopwords to /root/nltk_data...\n",
            "[nltk_data]   Unzipping corpora/stopwords.zip.\n",
            "[nltk_data] Downloading package punkt to /root/nltk_data...\n",
            "[nltk_data]   Unzipping tokenizers/punkt.zip.\n",
            "[nltk_data] Downloading package averaged_perceptron_tagger to\n",
            "[nltk_data]     /root/nltk_data...\n",
            "[nltk_data]   Unzipping taggers/averaged_perceptron_tagger.zip.\n",
            "[nltk_data] Downloading package wordnet to /root/nltk_data...\n",
            "[nltk_data] Downloading package omw-1.4 to /root/nltk_data...\n"
          ]
        },
        {
          "output_type": "execute_result",
          "data": {
            "text/plain": [
              "True"
            ]
          },
          "metadata": {},
          "execution_count": 1
        }
      ]
    },
    {
      "cell_type": "code",
      "metadata": {
        "id": "Gpgq3SQK5IOr"
      },
      "source": [
        "import re\n",
        "import numpy\n",
        "from nltk.corpus import stopwords\n",
        "from nltk.stem import WordNetLemmatizer\n",
        "from nltk.stem import SnowballStemmer\n",
        "from nltk.tokenize import word_tokenize\n",
        "from nltk import pos_tag\n",
        "from nltk.corpus import wordnet\n",
        "from sklearn.feature_extraction.text import CountVectorizer, TfidfVectorizer\n",
        "from bs4 import BeautifulSoup\n",
        "\n",
        "def cleanText(text, lemmatize, stemmer):\n",
        "    \"\"\"Method for cleaning text from train and test data. Removes numbers, punctuation, and capitalization. Stems or lemmatizes text.\"\"\"\n",
        "\n",
        "    if isinstance(text, float):\n",
        "        text = str(text)\n",
        "    if isinstance(text, numpy.int64):\n",
        "        text = str(text)\n",
        "    try:\n",
        "        text = text.decode()\n",
        "    except AttributeError:\n",
        "        pass\n",
        "\n",
        "    soup = BeautifulSoup(text, \"lxml\")\n",
        "    text = soup.get_text()\n",
        "    text = re.sub(r\"[^A-Za-z]\", \" \", text)\n",
        "    text = text.lower()\n",
        "\n",
        "\n",
        "    if lemmatize:\n",
        "        wordnet_lemmatizer = WordNetLemmatizer()\n",
        "\n",
        "        def get_tag(tag):\n",
        "            if tag.startswith('J'):\n",
        "                return wordnet.ADJ\n",
        "            elif tag.startswith('V'):\n",
        "                return wordnet.VERB\n",
        "            elif tag.startswith('N'):\n",
        "                return wordnet.NOUN\n",
        "            elif tag.startswith('R'):\n",
        "                return wordnet.ADV\n",
        "            else:\n",
        "                return ''\n",
        "\n",
        "        text_result = []\n",
        "        tokens = word_tokenize(text)  # Generate list of tokens\n",
        "        tagged = pos_tag(tokens)\n",
        "        for t in tagged:\n",
        "            try:\n",
        "                text_result.append(wordnet_lemmatizer.lemmatize(t[0], get_tag(t[1][:2])))\n",
        "            except:\n",
        "                text_result.append(wordnet_lemmatizer.lemmatize(t[0]))\n",
        "        return text_result\n",
        "\n",
        "    if stemmer:\n",
        "        text_result = []\n",
        "        tokens = word_tokenize(text)\n",
        "        snowball_stemmer = SnowballStemmer('english')\n",
        "        for t in tokens:\n",
        "            text_result.append(snowball_stemmer.stem(t))\n",
        "        return text_result"
      ],
      "execution_count": 3,
      "outputs": []
    },
    {
      "cell_type": "code",
      "source": [
        "sample_text = \"Troubling\"\n",
        "sample_text_result = cleanText(sample_text, lemmatize=False, stemmer=True)\n",
        "print(sample_text_result)\n",
        "sample_text_result = \" \".join(str(x) for x in sample_text_result)\n",
        "print(sample_text)\n",
        "print(sample_text_result)\n",
        "sample_text_result = cleanText(sample_text, lemmatize=True, stemmer=False)\n",
        "sample_text_result = \" \".join(str(x) for x in sample_text_result)\n",
        "print(sample_text_result)"
      ],
      "metadata": {
        "colab": {
          "base_uri": "https://localhost:8080/"
        },
        "id": "ZuBxfzbuzrs1",
        "outputId": "d1971de6-9980-4853-9dfd-439453cf0ff3"
      },
      "execution_count": 6,
      "outputs": [
        {
          "output_type": "stream",
          "name": "stdout",
          "text": [
            "['troubl']\n",
            "Troubling\n",
            "troubl\n",
            "trouble\n"
          ]
        }
      ]
    },
    {
      "cell_type": "markdown",
      "metadata": {
        "id": "QcqQi34UoPvq"
      },
      "source": [
        "## Section 1.2: BAG OF WORDS \n",
        "\n",
        "A bag-of-words model, or BoW for short, is a way of extracting features from text for use in modeling, such as with machine learning algorithms.\n",
        "\n",
        "The approach is very simple and flexible, and can be used in many ways for extracting features from documents.\n",
        "\n",
        "A bag-of-words is a representation of text that describes the occurrence of words within a document. \n",
        "It is called a “bag” of words, because any information about the order or structure of words in the document is discarded. The model is only concerned with whether known words occur in the document, not where in the document."
      ]
    },
    {
      "cell_type": "code",
      "metadata": {
        "id": "3YYSpQzIM05l"
      },
      "source": [
        "# Functions to convert document(s) to a list of words, with the option of removing stopwords. Returns document-term matrix.\n",
        "\n",
        "def createBagOfWords(train, test, remove_stopwords, lemmatize, stemmer):\n",
        "    if remove_stopwords:\n",
        "        vectorizer = CountVectorizer(analyzer='word', input='content', stop_words=stopwords.words('english'))\n",
        "    else:\n",
        "        vectorizer = CountVectorizer(analyzer='word', input='content')\n",
        "\n",
        "    clean_train = []\n",
        "    for paragraph in train:\n",
        "        paragraph_result = cleanText(paragraph, lemmatize, stemmer)\n",
        "        paragraph = \" \".join(str(x) for x in paragraph_result)\n",
        "        clean_train.append(paragraph)\n",
        "\n",
        "    clean_test = []\n",
        "    for paragraph in test:\n",
        "        paragraph_result = cleanText(paragraph, lemmatize, stemmer)\n",
        "        paragraph = \" \".join(str(x) for x in paragraph_result)\n",
        "        clean_test.append(paragraph)\n",
        "\n",
        "    bag_of_words_train = vectorizer.fit_transform(clean_train).toarray()\n",
        "    bag_of_words_test = vectorizer.transform(clean_test).toarray()\n",
        "    return bag_of_words_train, bag_of_words_test\n"
      ],
      "execution_count": 7,
      "outputs": []
    },
    {
      "cell_type": "markdown",
      "metadata": {
        "id": "-v0iCUBqoX82"
      },
      "source": [
        "## Section 1.3: TF-IDF \n",
        "TF-IDF technique is used to find meaning of sentences consisting of words and cancels out the incapabilities of Bag of Words technique which is good for text classification or for helping a machine read words in numbers.\n",
        "\n",
        "The number of times a term occurs in a document is called its Term frequency (TF).\n",
        "\n",
        " Document frequency is the number of documents in which the word is present.  Inverse DF (IDF) is the inverse of the document frequency which measures the informativeness of term *t*. \n",
        "\n",
        "\n"
      ]
    },
    {
      "cell_type": "code",
      "metadata": {
        "id": "L6_-DDMQoXEX"
      },
      "source": [
        "def createTFIDF(train, test, remove_stopwords, lemmatize, stemmer):\n",
        "    if remove_stopwords:\n",
        "        vectorizer = TfidfVectorizer(analyzer='word', input='content', stop_words=stopwords.words('english'))\n",
        "    else:\n",
        "        vectorizer =  TfidfVectorizer(analyzer='word', input='content')\n",
        "\n",
        "    clean_train = []\n",
        "    for paragraph in train:\n",
        "        paragraph_result = cleanText(paragraph, lemmatize, stemmer)\n",
        "        paragraph = \" \".join(str(x) for x in paragraph_result)\n",
        "        clean_train.append(paragraph)\n",
        "\n",
        "    clean_test = []\n",
        "    for paragraph in test:\n",
        "        paragraph_result = cleanText(paragraph, lemmatize, stemmer)\n",
        "        paragraph = \" \".join(str(x) for x in paragraph_result)\n",
        "        clean_test.append(paragraph)\n",
        "\n",
        "    tfidf_train = vectorizer.fit_transform(clean_train).toarray()\n",
        "    tfidf_test = vectorizer.transform(clean_test).toarray()\n",
        "    return tfidf_train, tfidf_test"
      ],
      "execution_count": 8,
      "outputs": []
    },
    {
      "cell_type": "markdown",
      "metadata": {
        "id": "7g0jS45epcC5"
      },
      "source": [
        "# **Section 2: UNDERSTANDING THE DATA : A REVIEWS DATASET**\n",
        "\n",
        "Sentiment analysis is the interpretation and classification of emotions (such as positive, negative and neutral) within text data using text analysis techniques.  \n",
        "Given below is a dataset consisting of reviews along with sentiment class (positive or negative)."
      ]
    },
    {
      "cell_type": "code",
      "metadata": {
        "id": "jU6875-NxrHw",
        "colab": {
          "base_uri": "https://localhost:8080/",
          "height": 108
        },
        "outputId": "f213b050-2430-49da-a9a6-926faa90e748"
      },
      "source": [
        "# Upload the Reviews CSV file that has been shared with you.\n",
        "# Run this cell, click on the 'Choose files' button and upload the file.\n",
        "from google.colab import files\n",
        "uploaded = files.upload()"
      ],
      "execution_count": 9,
      "outputs": [
        {
          "output_type": "display_data",
          "data": {
            "text/plain": [
              "<IPython.core.display.HTML object>"
            ],
            "text/html": [
              "\n",
              "     <input type=\"file\" id=\"files-d17dc5cb-378d-47a2-a30b-b57d0f5106d5\" name=\"files[]\" multiple disabled\n",
              "        style=\"border:none\" />\n",
              "     <output id=\"result-d17dc5cb-378d-47a2-a30b-b57d0f5106d5\">\n",
              "      Upload widget is only available when the cell has been executed in the\n",
              "      current browser session. Please rerun this cell to enable.\n",
              "      </output>\n",
              "      <script>// Copyright 2017 Google LLC\n",
              "//\n",
              "// Licensed under the Apache License, Version 2.0 (the \"License\");\n",
              "// you may not use this file except in compliance with the License.\n",
              "// You may obtain a copy of the License at\n",
              "//\n",
              "//      http://www.apache.org/licenses/LICENSE-2.0\n",
              "//\n",
              "// Unless required by applicable law or agreed to in writing, software\n",
              "// distributed under the License is distributed on an \"AS IS\" BASIS,\n",
              "// WITHOUT WARRANTIES OR CONDITIONS OF ANY KIND, either express or implied.\n",
              "// See the License for the specific language governing permissions and\n",
              "// limitations under the License.\n",
              "\n",
              "/**\n",
              " * @fileoverview Helpers for google.colab Python module.\n",
              " */\n",
              "(function(scope) {\n",
              "function span(text, styleAttributes = {}) {\n",
              "  const element = document.createElement('span');\n",
              "  element.textContent = text;\n",
              "  for (const key of Object.keys(styleAttributes)) {\n",
              "    element.style[key] = styleAttributes[key];\n",
              "  }\n",
              "  return element;\n",
              "}\n",
              "\n",
              "// Max number of bytes which will be uploaded at a time.\n",
              "const MAX_PAYLOAD_SIZE = 100 * 1024;\n",
              "\n",
              "function _uploadFiles(inputId, outputId) {\n",
              "  const steps = uploadFilesStep(inputId, outputId);\n",
              "  const outputElement = document.getElementById(outputId);\n",
              "  // Cache steps on the outputElement to make it available for the next call\n",
              "  // to uploadFilesContinue from Python.\n",
              "  outputElement.steps = steps;\n",
              "\n",
              "  return _uploadFilesContinue(outputId);\n",
              "}\n",
              "\n",
              "// This is roughly an async generator (not supported in the browser yet),\n",
              "// where there are multiple asynchronous steps and the Python side is going\n",
              "// to poll for completion of each step.\n",
              "// This uses a Promise to block the python side on completion of each step,\n",
              "// then passes the result of the previous step as the input to the next step.\n",
              "function _uploadFilesContinue(outputId) {\n",
              "  const outputElement = document.getElementById(outputId);\n",
              "  const steps = outputElement.steps;\n",
              "\n",
              "  const next = steps.next(outputElement.lastPromiseValue);\n",
              "  return Promise.resolve(next.value.promise).then((value) => {\n",
              "    // Cache the last promise value to make it available to the next\n",
              "    // step of the generator.\n",
              "    outputElement.lastPromiseValue = value;\n",
              "    return next.value.response;\n",
              "  });\n",
              "}\n",
              "\n",
              "/**\n",
              " * Generator function which is called between each async step of the upload\n",
              " * process.\n",
              " * @param {string} inputId Element ID of the input file picker element.\n",
              " * @param {string} outputId Element ID of the output display.\n",
              " * @return {!Iterable<!Object>} Iterable of next steps.\n",
              " */\n",
              "function* uploadFilesStep(inputId, outputId) {\n",
              "  const inputElement = document.getElementById(inputId);\n",
              "  inputElement.disabled = false;\n",
              "\n",
              "  const outputElement = document.getElementById(outputId);\n",
              "  outputElement.innerHTML = '';\n",
              "\n",
              "  const pickedPromise = new Promise((resolve) => {\n",
              "    inputElement.addEventListener('change', (e) => {\n",
              "      resolve(e.target.files);\n",
              "    });\n",
              "  });\n",
              "\n",
              "  const cancel = document.createElement('button');\n",
              "  inputElement.parentElement.appendChild(cancel);\n",
              "  cancel.textContent = 'Cancel upload';\n",
              "  const cancelPromise = new Promise((resolve) => {\n",
              "    cancel.onclick = () => {\n",
              "      resolve(null);\n",
              "    };\n",
              "  });\n",
              "\n",
              "  // Wait for the user to pick the files.\n",
              "  const files = yield {\n",
              "    promise: Promise.race([pickedPromise, cancelPromise]),\n",
              "    response: {\n",
              "      action: 'starting',\n",
              "    }\n",
              "  };\n",
              "\n",
              "  cancel.remove();\n",
              "\n",
              "  // Disable the input element since further picks are not allowed.\n",
              "  inputElement.disabled = true;\n",
              "\n",
              "  if (!files) {\n",
              "    return {\n",
              "      response: {\n",
              "        action: 'complete',\n",
              "      }\n",
              "    };\n",
              "  }\n",
              "\n",
              "  for (const file of files) {\n",
              "    const li = document.createElement('li');\n",
              "    li.append(span(file.name, {fontWeight: 'bold'}));\n",
              "    li.append(span(\n",
              "        `(${file.type || 'n/a'}) - ${file.size} bytes, ` +\n",
              "        `last modified: ${\n",
              "            file.lastModifiedDate ? file.lastModifiedDate.toLocaleDateString() :\n",
              "                                    'n/a'} - `));\n",
              "    const percent = span('0% done');\n",
              "    li.appendChild(percent);\n",
              "\n",
              "    outputElement.appendChild(li);\n",
              "\n",
              "    const fileDataPromise = new Promise((resolve) => {\n",
              "      const reader = new FileReader();\n",
              "      reader.onload = (e) => {\n",
              "        resolve(e.target.result);\n",
              "      };\n",
              "      reader.readAsArrayBuffer(file);\n",
              "    });\n",
              "    // Wait for the data to be ready.\n",
              "    let fileData = yield {\n",
              "      promise: fileDataPromise,\n",
              "      response: {\n",
              "        action: 'continue',\n",
              "      }\n",
              "    };\n",
              "\n",
              "    // Use a chunked sending to avoid message size limits. See b/62115660.\n",
              "    let position = 0;\n",
              "    do {\n",
              "      const length = Math.min(fileData.byteLength - position, MAX_PAYLOAD_SIZE);\n",
              "      const chunk = new Uint8Array(fileData, position, length);\n",
              "      position += length;\n",
              "\n",
              "      const base64 = btoa(String.fromCharCode.apply(null, chunk));\n",
              "      yield {\n",
              "        response: {\n",
              "          action: 'append',\n",
              "          file: file.name,\n",
              "          data: base64,\n",
              "        },\n",
              "      };\n",
              "\n",
              "      let percentDone = fileData.byteLength === 0 ?\n",
              "          100 :\n",
              "          Math.round((position / fileData.byteLength) * 100);\n",
              "      percent.textContent = `${percentDone}% done`;\n",
              "\n",
              "    } while (position < fileData.byteLength);\n",
              "  }\n",
              "\n",
              "  // All done.\n",
              "  yield {\n",
              "    response: {\n",
              "      action: 'complete',\n",
              "    }\n",
              "  };\n",
              "}\n",
              "\n",
              "scope.google = scope.google || {};\n",
              "scope.google.colab = scope.google.colab || {};\n",
              "scope.google.colab._files = {\n",
              "  _uploadFiles,\n",
              "  _uploadFilesContinue,\n",
              "};\n",
              "})(self);\n",
              "</script> "
            ]
          },
          "metadata": {}
        },
        {
          "output_type": "stream",
          "name": "stdout",
          "text": [
            "Saving spam.csv to spam.csv\n",
            "Saving reviews.csv to reviews.csv\n"
          ]
        }
      ]
    },
    {
      "cell_type": "code",
      "source": [
        "import pandas as pd\n",
        "df = pd.read_csv('reviews.csv')"
      ],
      "metadata": {
        "id": "HILJMpa_y26e"
      },
      "execution_count": 10,
      "outputs": []
    },
    {
      "cell_type": "code",
      "source": [
        "df = df.dropna()"
      ],
      "metadata": {
        "id": "WXD0iAR5k62v"
      },
      "execution_count": 11,
      "outputs": []
    },
    {
      "cell_type": "code",
      "source": [
        "print(df)"
      ],
      "metadata": {
        "colab": {
          "base_uri": "https://localhost:8080/"
        },
        "id": "ZZQM1tSUzBAZ",
        "outputId": "dcb779a2-904d-4f2d-d761-5ce8e3170f93"
      },
      "execution_count": 12,
      "outputs": [
        {
          "output_type": "stream",
          "name": "stdout",
          "text": [
            "                                              sentence sentiment\n",
            "0    Not sure who was more lost - the flat characte...         0\n",
            "1    Attempting artiness with black & white and cle...         0\n",
            "2           Very little music or anything to speak of.         0\n",
            "3    The best scene in the movie was when Gerardo i...         1\n",
            "4    The rest of the movie lacks art, charm, meanin...         0\n",
            "..                                                 ...       ...\n",
            "994  I just got bored watching Jessice Lange take h...         0\n",
            "995  Unfortunately, any virtue in this film's produ...         0\n",
            "996                     In a word, it is embarrassing.         0\n",
            "997                                 Exceptionally bad!         0\n",
            "998  All in all its an insult to one's intelligence...         0\n",
            "\n",
            "[955 rows x 2 columns]\n"
          ]
        }
      ]
    },
    {
      "cell_type": "code",
      "source": [
        "df.to_csv('reviews.csv', index=False)"
      ],
      "metadata": {
        "id": "7j9rNGkQpn7y"
      },
      "execution_count": 13,
      "outputs": []
    },
    {
      "cell_type": "code",
      "source": [
        "df"
      ],
      "metadata": {
        "colab": {
          "base_uri": "https://localhost:8080/",
          "height": 424
        },
        "id": "F4EUHBWjzFVv",
        "outputId": "206e6433-6278-42b7-8864-d49b5f51474b"
      },
      "execution_count": 14,
      "outputs": [
        {
          "output_type": "execute_result",
          "data": {
            "text/plain": [
              "                                              sentence sentiment\n",
              "0    Not sure who was more lost - the flat characte...         0\n",
              "1    Attempting artiness with black & white and cle...         0\n",
              "2           Very little music or anything to speak of.         0\n",
              "3    The best scene in the movie was when Gerardo i...         1\n",
              "4    The rest of the movie lacks art, charm, meanin...         0\n",
              "..                                                 ...       ...\n",
              "994  I just got bored watching Jessice Lange take h...         0\n",
              "995  Unfortunately, any virtue in this film's produ...         0\n",
              "996                     In a word, it is embarrassing.         0\n",
              "997                                 Exceptionally bad!         0\n",
              "998  All in all its an insult to one's intelligence...         0\n",
              "\n",
              "[955 rows x 2 columns]"
            ],
            "text/html": [
              "\n",
              "  <div id=\"df-7b8b7dd5-8ee1-44ec-8807-3422ae690741\">\n",
              "    <div class=\"colab-df-container\">\n",
              "      <div>\n",
              "<style scoped>\n",
              "    .dataframe tbody tr th:only-of-type {\n",
              "        vertical-align: middle;\n",
              "    }\n",
              "\n",
              "    .dataframe tbody tr th {\n",
              "        vertical-align: top;\n",
              "    }\n",
              "\n",
              "    .dataframe thead th {\n",
              "        text-align: right;\n",
              "    }\n",
              "</style>\n",
              "<table border=\"1\" class=\"dataframe\">\n",
              "  <thead>\n",
              "    <tr style=\"text-align: right;\">\n",
              "      <th></th>\n",
              "      <th>sentence</th>\n",
              "      <th>sentiment</th>\n",
              "    </tr>\n",
              "  </thead>\n",
              "  <tbody>\n",
              "    <tr>\n",
              "      <th>0</th>\n",
              "      <td>Not sure who was more lost - the flat characte...</td>\n",
              "      <td>0</td>\n",
              "    </tr>\n",
              "    <tr>\n",
              "      <th>1</th>\n",
              "      <td>Attempting artiness with black &amp; white and cle...</td>\n",
              "      <td>0</td>\n",
              "    </tr>\n",
              "    <tr>\n",
              "      <th>2</th>\n",
              "      <td>Very little music or anything to speak of.</td>\n",
              "      <td>0</td>\n",
              "    </tr>\n",
              "    <tr>\n",
              "      <th>3</th>\n",
              "      <td>The best scene in the movie was when Gerardo i...</td>\n",
              "      <td>1</td>\n",
              "    </tr>\n",
              "    <tr>\n",
              "      <th>4</th>\n",
              "      <td>The rest of the movie lacks art, charm, meanin...</td>\n",
              "      <td>0</td>\n",
              "    </tr>\n",
              "    <tr>\n",
              "      <th>...</th>\n",
              "      <td>...</td>\n",
              "      <td>...</td>\n",
              "    </tr>\n",
              "    <tr>\n",
              "      <th>994</th>\n",
              "      <td>I just got bored watching Jessice Lange take h...</td>\n",
              "      <td>0</td>\n",
              "    </tr>\n",
              "    <tr>\n",
              "      <th>995</th>\n",
              "      <td>Unfortunately, any virtue in this film's produ...</td>\n",
              "      <td>0</td>\n",
              "    </tr>\n",
              "    <tr>\n",
              "      <th>996</th>\n",
              "      <td>In a word, it is embarrassing.</td>\n",
              "      <td>0</td>\n",
              "    </tr>\n",
              "    <tr>\n",
              "      <th>997</th>\n",
              "      <td>Exceptionally bad!</td>\n",
              "      <td>0</td>\n",
              "    </tr>\n",
              "    <tr>\n",
              "      <th>998</th>\n",
              "      <td>All in all its an insult to one's intelligence...</td>\n",
              "      <td>0</td>\n",
              "    </tr>\n",
              "  </tbody>\n",
              "</table>\n",
              "<p>955 rows × 2 columns</p>\n",
              "</div>\n",
              "      <button class=\"colab-df-convert\" onclick=\"convertToInteractive('df-7b8b7dd5-8ee1-44ec-8807-3422ae690741')\"\n",
              "              title=\"Convert this dataframe to an interactive table.\"\n",
              "              style=\"display:none;\">\n",
              "        \n",
              "  <svg xmlns=\"http://www.w3.org/2000/svg\" height=\"24px\"viewBox=\"0 0 24 24\"\n",
              "       width=\"24px\">\n",
              "    <path d=\"M0 0h24v24H0V0z\" fill=\"none\"/>\n",
              "    <path d=\"M18.56 5.44l.94 2.06.94-2.06 2.06-.94-2.06-.94-.94-2.06-.94 2.06-2.06.94zm-11 1L8.5 8.5l.94-2.06 2.06-.94-2.06-.94L8.5 2.5l-.94 2.06-2.06.94zm10 10l.94 2.06.94-2.06 2.06-.94-2.06-.94-.94-2.06-.94 2.06-2.06.94z\"/><path d=\"M17.41 7.96l-1.37-1.37c-.4-.4-.92-.59-1.43-.59-.52 0-1.04.2-1.43.59L10.3 9.45l-7.72 7.72c-.78.78-.78 2.05 0 2.83L4 21.41c.39.39.9.59 1.41.59.51 0 1.02-.2 1.41-.59l7.78-7.78 2.81-2.81c.8-.78.8-2.07 0-2.86zM5.41 20L4 18.59l7.72-7.72 1.47 1.35L5.41 20z\"/>\n",
              "  </svg>\n",
              "      </button>\n",
              "      \n",
              "  <style>\n",
              "    .colab-df-container {\n",
              "      display:flex;\n",
              "      flex-wrap:wrap;\n",
              "      gap: 12px;\n",
              "    }\n",
              "\n",
              "    .colab-df-convert {\n",
              "      background-color: #E8F0FE;\n",
              "      border: none;\n",
              "      border-radius: 50%;\n",
              "      cursor: pointer;\n",
              "      display: none;\n",
              "      fill: #1967D2;\n",
              "      height: 32px;\n",
              "      padding: 0 0 0 0;\n",
              "      width: 32px;\n",
              "    }\n",
              "\n",
              "    .colab-df-convert:hover {\n",
              "      background-color: #E2EBFA;\n",
              "      box-shadow: 0px 1px 2px rgba(60, 64, 67, 0.3), 0px 1px 3px 1px rgba(60, 64, 67, 0.15);\n",
              "      fill: #174EA6;\n",
              "    }\n",
              "\n",
              "    [theme=dark] .colab-df-convert {\n",
              "      background-color: #3B4455;\n",
              "      fill: #D2E3FC;\n",
              "    }\n",
              "\n",
              "    [theme=dark] .colab-df-convert:hover {\n",
              "      background-color: #434B5C;\n",
              "      box-shadow: 0px 1px 3px 1px rgba(0, 0, 0, 0.15);\n",
              "      filter: drop-shadow(0px 1px 2px rgba(0, 0, 0, 0.3));\n",
              "      fill: #FFFFFF;\n",
              "    }\n",
              "  </style>\n",
              "\n",
              "      <script>\n",
              "        const buttonEl =\n",
              "          document.querySelector('#df-7b8b7dd5-8ee1-44ec-8807-3422ae690741 button.colab-df-convert');\n",
              "        buttonEl.style.display =\n",
              "          google.colab.kernel.accessAllowed ? 'block' : 'none';\n",
              "\n",
              "        async function convertToInteractive(key) {\n",
              "          const element = document.querySelector('#df-7b8b7dd5-8ee1-44ec-8807-3422ae690741');\n",
              "          const dataTable =\n",
              "            await google.colab.kernel.invokeFunction('convertToInteractive',\n",
              "                                                     [key], {});\n",
              "          if (!dataTable) return;\n",
              "\n",
              "          const docLinkHtml = 'Like what you see? Visit the ' +\n",
              "            '<a target=\"_blank\" href=https://colab.research.google.com/notebooks/data_table.ipynb>data table notebook</a>'\n",
              "            + ' to learn more about interactive tables.';\n",
              "          element.innerHTML = '';\n",
              "          dataTable['output_type'] = 'display_data';\n",
              "          await google.colab.output.renderOutput(dataTable, element);\n",
              "          const docLink = document.createElement('div');\n",
              "          docLink.innerHTML = docLinkHtml;\n",
              "          element.appendChild(docLink);\n",
              "        }\n",
              "      </script>\n",
              "    </div>\n",
              "  </div>\n",
              "  "
            ]
          },
          "metadata": {},
          "execution_count": 14
        }
      ]
    },
    {
      "cell_type": "markdown",
      "metadata": {
        "id": "-QXo11Bxvytu"
      },
      "source": [
        "# **Section 3: KNN MODEL**\n",
        "\n",
        "Given below are two KNN models; in the first case we are using Bag-of-Words and in the second case we are using TF-IDF.\n",
        "Note the different metrics and parameters used in each."
      ]
    },
    {
      "cell_type": "code",
      "metadata": {
        "id": "R5yZXboZ92Z4"
      },
      "source": [
        "from sklearn import metrics, neighbors\n",
        "from sklearn.model_selection import train_test_split, cross_val_score, cross_val_predict\n",
        "\n",
        "## TASK - 1: Tweak the models below and see results with different parameters and distance metrics.\n",
        "\n",
        "def bow_knn():\n",
        "    \"\"\"Method for determining nearest neighbors using bag-of-words and K-Nearest Neighbor algorithm\"\"\"\n",
        "\n",
        "    training_data = pd.read_csv('reviews.csv')\n",
        "    X_train, X_test, y_train, y_test = train_test_split(training_data[\"sentence\"], training_data[\"sentiment\"], test_size=0.2, random_state=5)\n",
        "    X_train, X_test = createBagOfWords(X_train, X_test, remove_stopwords=True, lemmatize=True, stemmer=False)\n",
        "    # print(X_train)\n",
        "    knn = neighbors.KNeighborsClassifier(n_neighbors=5, weights='uniform', algorithm='auto', leaf_size=30, p=2, metric='euclidean', metric_params=None, n_jobs=1)\n",
        "\n",
        "    knn.fit(X_train, y_train)\n",
        "    predicted = knn.predict(X_test)\n",
        "    acc = metrics.accuracy_score(y_test, predicted)\n",
        "    print('KNN with BOW accuracy = ' + str(acc * 100) + '%')\n",
        "\n",
        "    scores = cross_val_score(knn, X_train, y_train, cv=3)\n",
        "    print(\"Cross Validation Accuracy: %0.2f\" % (scores.mean()))\n",
        "    print(scores)\n",
        "    print('\\n')\n",
        "    return predicted, y_test\n",
        "\n",
        "\n",
        "def tfidf_knn():\n",
        "    \"\"\"Method for determining nearest neighbors using tf-idf and K-Nearest Neighbor algorithm\"\"\"\n",
        "\n",
        "    training_data = pd.read_csv('reviews.csv')\n",
        "    X_train, X_test, y_train, y_test = train_test_split(training_data[\"sentence\"], training_data[\"sentiment\"],\n",
        "                                                        test_size=0.2, random_state=5)\n",
        "    X_train, X_test = createTFIDF(X_train, X_test, remove_stopwords=True, lemmatize=True, stemmer=False)\n",
        "    # print(X_train)\n",
        "    knn = neighbors.KNeighborsClassifier(n_neighbors=5, weights='distance', algorithm='brute', leaf_size=30, p=2,\n",
        "                                         metric='cosine', metric_params=None, n_jobs=1)\n",
        "\n",
        "    knn.fit(X_train, y_train)\n",
        "    predicted = knn.predict(X_test)\n",
        "    acc = metrics.accuracy_score(y_test, predicted)\n",
        "    print('KNN with TFIDF accuracy = ' + str(acc * 100) + '%')\n",
        "\n",
        "    scores = cross_val_score(knn, X_train, y_train, cv=3)\n",
        "    print(\"Cross Validation Accuracy: %0.2f\" % (scores.mean()))\n",
        "    print(scores)\n",
        "    return predicted, y_test"
      ],
      "execution_count": 17,
      "outputs": []
    },
    {
      "cell_type": "code",
      "source": [
        "from sklearn import metrics, neighbors\n",
        "from sklearn.model_selection import train_test_split, cross_val_score, cross_val_predict\n",
        "\n",
        "## TASK - 1: Tweak the models below and see results with different parameters and distance metrics.\n",
        "\n",
        "def bow_knn():\n",
        "    \"\"\"Method for determining nearest neighbors using bag-of-words and K-Nearest Neighbor algorithm\"\"\"\n",
        "\n",
        "    training_data = pd.read_csv('reviews.csv')\n",
        "    X_train, X_test, y_train, y_test = train_test_split(training_data[\"sentence\"], training_data[\"sentiment\"], test_size=0.2, random_state=5)\n",
        "    X_train, X_test = createBagOfWords(X_train, X_test, remove_stopwords=True, lemmatize=True, stemmer=True)\n",
        "    # print(X_train)\n",
        "    knn = neighbors.KNeighborsClassifier(n_neighbors=5, weights='uniform', algorithm='auto', leaf_size=30, p=2, metric='jaccard', metric_params=None, n_jobs=1)\n",
        "\n",
        "    knn.fit(X_train, y_train)\n",
        "    predicted = knn.predict(X_test)\n",
        "    acc = metrics.accuracy_score(y_test, predicted)\n",
        "    print('KNN with BOW accuracy = ' + str(acc * 100) + '%')\n",
        "\n",
        "    scores = cross_val_score(knn, X_train, y_train, cv=3)\n",
        "    print(\"Cross Validation Accuracy: %0.2f\" % (scores.mean()))\n",
        "    print(scores)\n",
        "    print('\\n')\n",
        "    return predicted, y_test\n",
        "\n",
        "\n",
        "def tfidf_knn():\n",
        "    \"\"\"Method for determining nearest neighbors using tf-idf and K-Nearest Neighbor algorithm\"\"\"\n",
        "\n",
        "    training_data = pd.read_csv('reviews.csv')\n",
        "    X_train, X_test, y_train, y_test = train_test_split(training_data[\"sentence\"], training_data[\"sentiment\"],\n",
        "                                                        test_size=0.2, random_state=5)\n",
        "    X_train, X_test = createTFIDF(X_train, X_test, remove_stopwords=True, lemmatize=True, stemmer=True)\n",
        "    # print(X_train)\n",
        "    knn = neighbors.KNeighborsClassifier(n_neighbors=5, weights='distance', algorithm='brute', leaf_size=30, p=2,\n",
        "                                         metric='jaccard', metric_params=None, n_jobs=1)\n",
        "\n",
        "    knn.fit(X_train, y_train)\n",
        "    predicted = knn.predict(X_test)\n",
        "    acc = metrics.accuracy_score(y_test, predicted)\n",
        "    print('KNN with TFIDF accuracy = ' + str(acc * 100) + '%')\n",
        "\n",
        "    scores = cross_val_score(knn, X_train, y_train, cv=3)\n",
        "    print(\"Cross Validation Accuracy: %0.2f\" % (scores.mean()))\n",
        "    print(scores)\n",
        "    return predicted, y_test"
      ],
      "metadata": {
        "id": "zoz5ny9-zkAO"
      },
      "execution_count": 32,
      "outputs": []
    },
    {
      "cell_type": "markdown",
      "source": [
        "Note: Cross-validation will be discussed in detail in the upcoming lab session."
      ],
      "metadata": {
        "id": "uPuI3wrL-8ZJ"
      }
    },
    {
      "cell_type": "code",
      "metadata": {
        "id": "Xzno1rRNHoFT",
        "colab": {
          "base_uri": "https://localhost:8080/"
        },
        "outputId": "dede9ad2-0b8b-4bca-91ca-f345f8d08c3b"
      },
      "source": [
        "## KNN accuracy after using BoW\n",
        "predicted, y_test = bow_knn()"
      ],
      "execution_count": 18,
      "outputs": [
        {
          "output_type": "stream",
          "name": "stdout",
          "text": [
            "KNN with BOW accuracy = 62.30366492146597%\n",
            "Cross Validation Accuracy: 0.62\n",
            "[0.60784314 0.58431373 0.66141732]\n",
            "\n",
            "\n"
          ]
        },
        {
          "output_type": "stream",
          "name": "stderr",
          "text": [
            "/usr/local/lib/python3.8/dist-packages/sklearn/model_selection/_split.py:676: UserWarning: The least populated class in y has only 1 members, which is less than n_splits=3.\n",
            "  warnings.warn(\n"
          ]
        }
      ]
    },
    {
      "cell_type": "code",
      "metadata": {
        "id": "FI5NMP8L-4eW",
        "colab": {
          "base_uri": "https://localhost:8080/"
        },
        "outputId": "dc0ac007-fc01-4208-a8a0-f7c79a049615"
      },
      "source": [
        "## KNN accuracy after using TFIDF\n",
        "predicted, y_test = tfidf_knn()"
      ],
      "execution_count": 19,
      "outputs": [
        {
          "output_type": "stream",
          "name": "stdout",
          "text": [
            "KNN with TFIDF accuracy = 70.15706806282722%\n",
            "Cross Validation Accuracy: 0.73\n",
            "[0.7254902  0.74117647 0.72834646]\n"
          ]
        },
        {
          "output_type": "stream",
          "name": "stderr",
          "text": [
            "/usr/local/lib/python3.8/dist-packages/sklearn/model_selection/_split.py:676: UserWarning: The least populated class in y has only 1 members, which is less than n_splits=3.\n",
            "  warnings.warn(\n"
          ]
        }
      ]
    },
    {
      "cell_type": "code",
      "source": [
        "## KNN accuracy after using BoW\n",
        "predicted, y_test = bow_knn()"
      ],
      "metadata": {
        "colab": {
          "base_uri": "https://localhost:8080/"
        },
        "id": "9Vszf_-20Y4B",
        "outputId": "a9a2c483-85d1-41b9-b322-9c53b6f40932"
      },
      "execution_count": 33,
      "outputs": [
        {
          "output_type": "stream",
          "name": "stderr",
          "text": [
            "/usr/local/lib/python3.8/dist-packages/sklearn/metrics/pairwise.py:1875: DataConversionWarning: Data was converted to boolean for metric jaccard\n",
            "  warnings.warn(msg, DataConversionWarning)\n",
            "/usr/local/lib/python3.8/dist-packages/sklearn/model_selection/_split.py:676: UserWarning: The least populated class in y has only 1 members, which is less than n_splits=3.\n",
            "  warnings.warn(\n",
            "/usr/local/lib/python3.8/dist-packages/sklearn/metrics/pairwise.py:1875: DataConversionWarning: Data was converted to boolean for metric jaccard\n",
            "  warnings.warn(msg, DataConversionWarning)\n"
          ]
        },
        {
          "output_type": "stream",
          "name": "stdout",
          "text": [
            "KNN with BOW accuracy = 72.25130890052355%\n"
          ]
        },
        {
          "output_type": "stream",
          "name": "stderr",
          "text": [
            "/usr/local/lib/python3.8/dist-packages/sklearn/metrics/pairwise.py:1875: DataConversionWarning: Data was converted to boolean for metric jaccard\n",
            "  warnings.warn(msg, DataConversionWarning)\n",
            "/usr/local/lib/python3.8/dist-packages/sklearn/metrics/pairwise.py:1875: DataConversionWarning: Data was converted to boolean for metric jaccard\n",
            "  warnings.warn(msg, DataConversionWarning)\n"
          ]
        },
        {
          "output_type": "stream",
          "name": "stdout",
          "text": [
            "Cross Validation Accuracy: 0.70\n",
            "[0.69019608 0.69019608 0.73228346]\n",
            "\n",
            "\n"
          ]
        }
      ]
    },
    {
      "cell_type": "code",
      "source": [
        "## KNN accuracy after using TFIDF\n",
        "predicted, y_test = tfidf_knn()#using metric euclidean"
      ],
      "metadata": {
        "colab": {
          "base_uri": "https://localhost:8080/"
        },
        "id": "VROgcaYh0ZiN",
        "outputId": "61fec6a7-562f-4c42-bbd5-4e85c240adf1"
      },
      "execution_count": 28,
      "outputs": [
        {
          "output_type": "stream",
          "name": "stdout",
          "text": [
            "KNN with TFIDF accuracy = 68.58638743455498%\n",
            "Cross Validation Accuracy: 0.72\n",
            "[0.73333333 0.7372549  0.69291339]\n"
          ]
        },
        {
          "output_type": "stream",
          "name": "stderr",
          "text": [
            "/usr/local/lib/python3.8/dist-packages/sklearn/model_selection/_split.py:676: UserWarning: The least populated class in y has only 1 members, which is less than n_splits=3.\n",
            "  warnings.warn(\n"
          ]
        }
      ]
    },
    {
      "cell_type": "code",
      "source": [
        "## KNN accuracy after using BoW\n",
        "predicted, y_test = bow_knn()"
      ],
      "metadata": {
        "colab": {
          "base_uri": "https://localhost:8080/"
        },
        "id": "mVW_ohWw02Xv",
        "outputId": "f89981b1-7cac-4678-b9f5-1d68d8c958af"
      },
      "execution_count": 34,
      "outputs": [
        {
          "output_type": "stream",
          "name": "stderr",
          "text": [
            "/usr/local/lib/python3.8/dist-packages/sklearn/metrics/pairwise.py:1875: DataConversionWarning: Data was converted to boolean for metric jaccard\n",
            "  warnings.warn(msg, DataConversionWarning)\n",
            "/usr/local/lib/python3.8/dist-packages/sklearn/model_selection/_split.py:676: UserWarning: The least populated class in y has only 1 members, which is less than n_splits=3.\n",
            "  warnings.warn(\n",
            "/usr/local/lib/python3.8/dist-packages/sklearn/metrics/pairwise.py:1875: DataConversionWarning: Data was converted to boolean for metric jaccard\n",
            "  warnings.warn(msg, DataConversionWarning)\n"
          ]
        },
        {
          "output_type": "stream",
          "name": "stdout",
          "text": [
            "KNN with BOW accuracy = 72.25130890052355%\n"
          ]
        },
        {
          "output_type": "stream",
          "name": "stderr",
          "text": [
            "/usr/local/lib/python3.8/dist-packages/sklearn/metrics/pairwise.py:1875: DataConversionWarning: Data was converted to boolean for metric jaccard\n",
            "  warnings.warn(msg, DataConversionWarning)\n",
            "/usr/local/lib/python3.8/dist-packages/sklearn/metrics/pairwise.py:1875: DataConversionWarning: Data was converted to boolean for metric jaccard\n",
            "  warnings.warn(msg, DataConversionWarning)\n"
          ]
        },
        {
          "output_type": "stream",
          "name": "stdout",
          "text": [
            "Cross Validation Accuracy: 0.70\n",
            "[0.69019608 0.69019608 0.73228346]\n",
            "\n",
            "\n"
          ]
        }
      ]
    },
    {
      "cell_type": "code",
      "source": [
        "## KNN accuracy after using TFIDF\n",
        "predicted, y_test = tfidf_knn()#using metric manhattan"
      ],
      "metadata": {
        "colab": {
          "base_uri": "https://localhost:8080/"
        },
        "id": "nLNKuQYx0rzy",
        "outputId": "ff5d4343-2663-4b39-85ba-341a9b346a16"
      },
      "execution_count": 35,
      "outputs": [
        {
          "output_type": "stream",
          "name": "stderr",
          "text": [
            "/usr/local/lib/python3.8/dist-packages/sklearn/metrics/pairwise.py:1875: DataConversionWarning: Data was converted to boolean for metric jaccard\n",
            "  warnings.warn(msg, DataConversionWarning)\n",
            "/usr/local/lib/python3.8/dist-packages/sklearn/model_selection/_split.py:676: UserWarning: The least populated class in y has only 1 members, which is less than n_splits=3.\n",
            "  warnings.warn(\n",
            "/usr/local/lib/python3.8/dist-packages/sklearn/metrics/pairwise.py:1875: DataConversionWarning: Data was converted to boolean for metric jaccard\n",
            "  warnings.warn(msg, DataConversionWarning)\n"
          ]
        },
        {
          "output_type": "stream",
          "name": "stdout",
          "text": [
            "KNN with TFIDF accuracy = 73.29842931937172%\n"
          ]
        },
        {
          "output_type": "stream",
          "name": "stderr",
          "text": [
            "/usr/local/lib/python3.8/dist-packages/sklearn/metrics/pairwise.py:1875: DataConversionWarning: Data was converted to boolean for metric jaccard\n",
            "  warnings.warn(msg, DataConversionWarning)\n",
            "/usr/local/lib/python3.8/dist-packages/sklearn/metrics/pairwise.py:1875: DataConversionWarning: Data was converted to boolean for metric jaccard\n",
            "  warnings.warn(msg, DataConversionWarning)\n"
          ]
        },
        {
          "output_type": "stream",
          "name": "stdout",
          "text": [
            "Cross Validation Accuracy: 0.71\n",
            "[0.69411765 0.69411765 0.72834646]\n"
          ]
        }
      ]
    },
    {
      "cell_type": "markdown",
      "metadata": {
        "id": "Vm2vYDVfa5AP"
      },
      "source": [
        "# Section 4: SPAM TEXT DATASET\n",
        "Now let's use what we've learnt to classify texts as spam or not spam."
      ]
    },
    {
      "cell_type": "code",
      "metadata": {
        "colab": {
          "base_uri": "https://localhost:8080/",
          "height": 73
        },
        "id": "c1GZgvXCsKX1",
        "outputId": "189c8bda-c181-4a22-af90-9be1452c9ea7"
      },
      "source": [
        "# Upload the spam text data CSV file that has been shared with you. You can also download the file from https://www.kaggle.com/datasets/uciml/sms-spam-collection-dataset\n",
        "# Run this cell, click on the 'Choose files' button and upload the file.\n",
        "from google.colab import files\n",
        "uploaded = files.upload()"
      ],
      "execution_count": 36,
      "outputs": [
        {
          "output_type": "display_data",
          "data": {
            "text/plain": [
              "<IPython.core.display.HTML object>"
            ],
            "text/html": [
              "\n",
              "     <input type=\"file\" id=\"files-0feba293-aa58-4ec4-a536-9e9cdcf8c148\" name=\"files[]\" multiple disabled\n",
              "        style=\"border:none\" />\n",
              "     <output id=\"result-0feba293-aa58-4ec4-a536-9e9cdcf8c148\">\n",
              "      Upload widget is only available when the cell has been executed in the\n",
              "      current browser session. Please rerun this cell to enable.\n",
              "      </output>\n",
              "      <script>// Copyright 2017 Google LLC\n",
              "//\n",
              "// Licensed under the Apache License, Version 2.0 (the \"License\");\n",
              "// you may not use this file except in compliance with the License.\n",
              "// You may obtain a copy of the License at\n",
              "//\n",
              "//      http://www.apache.org/licenses/LICENSE-2.0\n",
              "//\n",
              "// Unless required by applicable law or agreed to in writing, software\n",
              "// distributed under the License is distributed on an \"AS IS\" BASIS,\n",
              "// WITHOUT WARRANTIES OR CONDITIONS OF ANY KIND, either express or implied.\n",
              "// See the License for the specific language governing permissions and\n",
              "// limitations under the License.\n",
              "\n",
              "/**\n",
              " * @fileoverview Helpers for google.colab Python module.\n",
              " */\n",
              "(function(scope) {\n",
              "function span(text, styleAttributes = {}) {\n",
              "  const element = document.createElement('span');\n",
              "  element.textContent = text;\n",
              "  for (const key of Object.keys(styleAttributes)) {\n",
              "    element.style[key] = styleAttributes[key];\n",
              "  }\n",
              "  return element;\n",
              "}\n",
              "\n",
              "// Max number of bytes which will be uploaded at a time.\n",
              "const MAX_PAYLOAD_SIZE = 100 * 1024;\n",
              "\n",
              "function _uploadFiles(inputId, outputId) {\n",
              "  const steps = uploadFilesStep(inputId, outputId);\n",
              "  const outputElement = document.getElementById(outputId);\n",
              "  // Cache steps on the outputElement to make it available for the next call\n",
              "  // to uploadFilesContinue from Python.\n",
              "  outputElement.steps = steps;\n",
              "\n",
              "  return _uploadFilesContinue(outputId);\n",
              "}\n",
              "\n",
              "// This is roughly an async generator (not supported in the browser yet),\n",
              "// where there are multiple asynchronous steps and the Python side is going\n",
              "// to poll for completion of each step.\n",
              "// This uses a Promise to block the python side on completion of each step,\n",
              "// then passes the result of the previous step as the input to the next step.\n",
              "function _uploadFilesContinue(outputId) {\n",
              "  const outputElement = document.getElementById(outputId);\n",
              "  const steps = outputElement.steps;\n",
              "\n",
              "  const next = steps.next(outputElement.lastPromiseValue);\n",
              "  return Promise.resolve(next.value.promise).then((value) => {\n",
              "    // Cache the last promise value to make it available to the next\n",
              "    // step of the generator.\n",
              "    outputElement.lastPromiseValue = value;\n",
              "    return next.value.response;\n",
              "  });\n",
              "}\n",
              "\n",
              "/**\n",
              " * Generator function which is called between each async step of the upload\n",
              " * process.\n",
              " * @param {string} inputId Element ID of the input file picker element.\n",
              " * @param {string} outputId Element ID of the output display.\n",
              " * @return {!Iterable<!Object>} Iterable of next steps.\n",
              " */\n",
              "function* uploadFilesStep(inputId, outputId) {\n",
              "  const inputElement = document.getElementById(inputId);\n",
              "  inputElement.disabled = false;\n",
              "\n",
              "  const outputElement = document.getElementById(outputId);\n",
              "  outputElement.innerHTML = '';\n",
              "\n",
              "  const pickedPromise = new Promise((resolve) => {\n",
              "    inputElement.addEventListener('change', (e) => {\n",
              "      resolve(e.target.files);\n",
              "    });\n",
              "  });\n",
              "\n",
              "  const cancel = document.createElement('button');\n",
              "  inputElement.parentElement.appendChild(cancel);\n",
              "  cancel.textContent = 'Cancel upload';\n",
              "  const cancelPromise = new Promise((resolve) => {\n",
              "    cancel.onclick = () => {\n",
              "      resolve(null);\n",
              "    };\n",
              "  });\n",
              "\n",
              "  // Wait for the user to pick the files.\n",
              "  const files = yield {\n",
              "    promise: Promise.race([pickedPromise, cancelPromise]),\n",
              "    response: {\n",
              "      action: 'starting',\n",
              "    }\n",
              "  };\n",
              "\n",
              "  cancel.remove();\n",
              "\n",
              "  // Disable the input element since further picks are not allowed.\n",
              "  inputElement.disabled = true;\n",
              "\n",
              "  if (!files) {\n",
              "    return {\n",
              "      response: {\n",
              "        action: 'complete',\n",
              "      }\n",
              "    };\n",
              "  }\n",
              "\n",
              "  for (const file of files) {\n",
              "    const li = document.createElement('li');\n",
              "    li.append(span(file.name, {fontWeight: 'bold'}));\n",
              "    li.append(span(\n",
              "        `(${file.type || 'n/a'}) - ${file.size} bytes, ` +\n",
              "        `last modified: ${\n",
              "            file.lastModifiedDate ? file.lastModifiedDate.toLocaleDateString() :\n",
              "                                    'n/a'} - `));\n",
              "    const percent = span('0% done');\n",
              "    li.appendChild(percent);\n",
              "\n",
              "    outputElement.appendChild(li);\n",
              "\n",
              "    const fileDataPromise = new Promise((resolve) => {\n",
              "      const reader = new FileReader();\n",
              "      reader.onload = (e) => {\n",
              "        resolve(e.target.result);\n",
              "      };\n",
              "      reader.readAsArrayBuffer(file);\n",
              "    });\n",
              "    // Wait for the data to be ready.\n",
              "    let fileData = yield {\n",
              "      promise: fileDataPromise,\n",
              "      response: {\n",
              "        action: 'continue',\n",
              "      }\n",
              "    };\n",
              "\n",
              "    // Use a chunked sending to avoid message size limits. See b/62115660.\n",
              "    let position = 0;\n",
              "    do {\n",
              "      const length = Math.min(fileData.byteLength - position, MAX_PAYLOAD_SIZE);\n",
              "      const chunk = new Uint8Array(fileData, position, length);\n",
              "      position += length;\n",
              "\n",
              "      const base64 = btoa(String.fromCharCode.apply(null, chunk));\n",
              "      yield {\n",
              "        response: {\n",
              "          action: 'append',\n",
              "          file: file.name,\n",
              "          data: base64,\n",
              "        },\n",
              "      };\n",
              "\n",
              "      let percentDone = fileData.byteLength === 0 ?\n",
              "          100 :\n",
              "          Math.round((position / fileData.byteLength) * 100);\n",
              "      percent.textContent = `${percentDone}% done`;\n",
              "\n",
              "    } while (position < fileData.byteLength);\n",
              "  }\n",
              "\n",
              "  // All done.\n",
              "  yield {\n",
              "    response: {\n",
              "      action: 'complete',\n",
              "    }\n",
              "  };\n",
              "}\n",
              "\n",
              "scope.google = scope.google || {};\n",
              "scope.google.colab = scope.google.colab || {};\n",
              "scope.google.colab._files = {\n",
              "  _uploadFiles,\n",
              "  _uploadFilesContinue,\n",
              "};\n",
              "})(self);\n",
              "</script> "
            ]
          },
          "metadata": {}
        },
        {
          "output_type": "stream",
          "name": "stdout",
          "text": [
            "Saving spam.csv to spam (1).csv\n"
          ]
        }
      ]
    },
    {
      "cell_type": "code",
      "metadata": {
        "colab": {
          "base_uri": "https://localhost:8080/",
          "height": 513
        },
        "id": "qRiS7dT7piTE",
        "outputId": "0218a128-a092-4df8-821c-227f5cc07205"
      },
      "source": [
        "import pandas as pd\n",
        "df = pd.read_csv('spam.csv', error_bad_lines=False)\n",
        "df"
      ],
      "execution_count": 37,
      "outputs": [
        {
          "output_type": "stream",
          "name": "stderr",
          "text": [
            "/usr/local/lib/python3.8/dist-packages/IPython/core/interactiveshell.py:3326: FutureWarning: The error_bad_lines argument has been deprecated and will be removed in a future version.\n",
            "\n",
            "\n",
            "  exec(code_obj, self.user_global_ns, self.user_ns)\n"
          ]
        },
        {
          "output_type": "execute_result",
          "data": {
            "text/plain": [
              "     Category                                            Message\n",
              "0         ham  Go until jurong point, crazy.. Available only ...\n",
              "1         ham                      Ok lar... Joking wif u oni...\n",
              "2        spam  Free entry in 2 a wkly comp to win FA Cup fina...\n",
              "3         ham  U dun say so early hor... U c already then say...\n",
              "4         ham  Nah I don't think he goes to usf, he lives aro...\n",
              "...       ...                                                ...\n",
              "5567     spam  This is the 2nd time we have tried 2 contact u...\n",
              "5568      ham              Will Ã¼ b going to esplanade fr home?\n",
              "5569      ham  Pity, * was in mood for that. So...any other s...\n",
              "5570      ham  The guy did some bitching but I acted like i'd...\n",
              "5571      ham                         Rofl. Its true to its name\n",
              "\n",
              "[5572 rows x 2 columns]"
            ],
            "text/html": [
              "\n",
              "  <div id=\"df-9e06343a-76a7-44da-94d1-cf258f9d4cfa\">\n",
              "    <div class=\"colab-df-container\">\n",
              "      <div>\n",
              "<style scoped>\n",
              "    .dataframe tbody tr th:only-of-type {\n",
              "        vertical-align: middle;\n",
              "    }\n",
              "\n",
              "    .dataframe tbody tr th {\n",
              "        vertical-align: top;\n",
              "    }\n",
              "\n",
              "    .dataframe thead th {\n",
              "        text-align: right;\n",
              "    }\n",
              "</style>\n",
              "<table border=\"1\" class=\"dataframe\">\n",
              "  <thead>\n",
              "    <tr style=\"text-align: right;\">\n",
              "      <th></th>\n",
              "      <th>Category</th>\n",
              "      <th>Message</th>\n",
              "    </tr>\n",
              "  </thead>\n",
              "  <tbody>\n",
              "    <tr>\n",
              "      <th>0</th>\n",
              "      <td>ham</td>\n",
              "      <td>Go until jurong point, crazy.. Available only ...</td>\n",
              "    </tr>\n",
              "    <tr>\n",
              "      <th>1</th>\n",
              "      <td>ham</td>\n",
              "      <td>Ok lar... Joking wif u oni...</td>\n",
              "    </tr>\n",
              "    <tr>\n",
              "      <th>2</th>\n",
              "      <td>spam</td>\n",
              "      <td>Free entry in 2 a wkly comp to win FA Cup fina...</td>\n",
              "    </tr>\n",
              "    <tr>\n",
              "      <th>3</th>\n",
              "      <td>ham</td>\n",
              "      <td>U dun say so early hor... U c already then say...</td>\n",
              "    </tr>\n",
              "    <tr>\n",
              "      <th>4</th>\n",
              "      <td>ham</td>\n",
              "      <td>Nah I don't think he goes to usf, he lives aro...</td>\n",
              "    </tr>\n",
              "    <tr>\n",
              "      <th>...</th>\n",
              "      <td>...</td>\n",
              "      <td>...</td>\n",
              "    </tr>\n",
              "    <tr>\n",
              "      <th>5567</th>\n",
              "      <td>spam</td>\n",
              "      <td>This is the 2nd time we have tried 2 contact u...</td>\n",
              "    </tr>\n",
              "    <tr>\n",
              "      <th>5568</th>\n",
              "      <td>ham</td>\n",
              "      <td>Will Ã¼ b going to esplanade fr home?</td>\n",
              "    </tr>\n",
              "    <tr>\n",
              "      <th>5569</th>\n",
              "      <td>ham</td>\n",
              "      <td>Pity, * was in mood for that. So...any other s...</td>\n",
              "    </tr>\n",
              "    <tr>\n",
              "      <th>5570</th>\n",
              "      <td>ham</td>\n",
              "      <td>The guy did some bitching but I acted like i'd...</td>\n",
              "    </tr>\n",
              "    <tr>\n",
              "      <th>5571</th>\n",
              "      <td>ham</td>\n",
              "      <td>Rofl. Its true to its name</td>\n",
              "    </tr>\n",
              "  </tbody>\n",
              "</table>\n",
              "<p>5572 rows × 2 columns</p>\n",
              "</div>\n",
              "      <button class=\"colab-df-convert\" onclick=\"convertToInteractive('df-9e06343a-76a7-44da-94d1-cf258f9d4cfa')\"\n",
              "              title=\"Convert this dataframe to an interactive table.\"\n",
              "              style=\"display:none;\">\n",
              "        \n",
              "  <svg xmlns=\"http://www.w3.org/2000/svg\" height=\"24px\"viewBox=\"0 0 24 24\"\n",
              "       width=\"24px\">\n",
              "    <path d=\"M0 0h24v24H0V0z\" fill=\"none\"/>\n",
              "    <path d=\"M18.56 5.44l.94 2.06.94-2.06 2.06-.94-2.06-.94-.94-2.06-.94 2.06-2.06.94zm-11 1L8.5 8.5l.94-2.06 2.06-.94-2.06-.94L8.5 2.5l-.94 2.06-2.06.94zm10 10l.94 2.06.94-2.06 2.06-.94-2.06-.94-.94-2.06-.94 2.06-2.06.94z\"/><path d=\"M17.41 7.96l-1.37-1.37c-.4-.4-.92-.59-1.43-.59-.52 0-1.04.2-1.43.59L10.3 9.45l-7.72 7.72c-.78.78-.78 2.05 0 2.83L4 21.41c.39.39.9.59 1.41.59.51 0 1.02-.2 1.41-.59l7.78-7.78 2.81-2.81c.8-.78.8-2.07 0-2.86zM5.41 20L4 18.59l7.72-7.72 1.47 1.35L5.41 20z\"/>\n",
              "  </svg>\n",
              "      </button>\n",
              "      \n",
              "  <style>\n",
              "    .colab-df-container {\n",
              "      display:flex;\n",
              "      flex-wrap:wrap;\n",
              "      gap: 12px;\n",
              "    }\n",
              "\n",
              "    .colab-df-convert {\n",
              "      background-color: #E8F0FE;\n",
              "      border: none;\n",
              "      border-radius: 50%;\n",
              "      cursor: pointer;\n",
              "      display: none;\n",
              "      fill: #1967D2;\n",
              "      height: 32px;\n",
              "      padding: 0 0 0 0;\n",
              "      width: 32px;\n",
              "    }\n",
              "\n",
              "    .colab-df-convert:hover {\n",
              "      background-color: #E2EBFA;\n",
              "      box-shadow: 0px 1px 2px rgba(60, 64, 67, 0.3), 0px 1px 3px 1px rgba(60, 64, 67, 0.15);\n",
              "      fill: #174EA6;\n",
              "    }\n",
              "\n",
              "    [theme=dark] .colab-df-convert {\n",
              "      background-color: #3B4455;\n",
              "      fill: #D2E3FC;\n",
              "    }\n",
              "\n",
              "    [theme=dark] .colab-df-convert:hover {\n",
              "      background-color: #434B5C;\n",
              "      box-shadow: 0px 1px 3px 1px rgba(0, 0, 0, 0.15);\n",
              "      filter: drop-shadow(0px 1px 2px rgba(0, 0, 0, 0.3));\n",
              "      fill: #FFFFFF;\n",
              "    }\n",
              "  </style>\n",
              "\n",
              "      <script>\n",
              "        const buttonEl =\n",
              "          document.querySelector('#df-9e06343a-76a7-44da-94d1-cf258f9d4cfa button.colab-df-convert');\n",
              "        buttonEl.style.display =\n",
              "          google.colab.kernel.accessAllowed ? 'block' : 'none';\n",
              "\n",
              "        async function convertToInteractive(key) {\n",
              "          const element = document.querySelector('#df-9e06343a-76a7-44da-94d1-cf258f9d4cfa');\n",
              "          const dataTable =\n",
              "            await google.colab.kernel.invokeFunction('convertToInteractive',\n",
              "                                                     [key], {});\n",
              "          if (!dataTable) return;\n",
              "\n",
              "          const docLinkHtml = 'Like what you see? Visit the ' +\n",
              "            '<a target=\"_blank\" href=https://colab.research.google.com/notebooks/data_table.ipynb>data table notebook</a>'\n",
              "            + ' to learn more about interactive tables.';\n",
              "          element.innerHTML = '';\n",
              "          dataTable['output_type'] = 'display_data';\n",
              "          await google.colab.output.renderOutput(dataTable, element);\n",
              "          const docLink = document.createElement('div');\n",
              "          docLink.innerHTML = docLinkHtml;\n",
              "          element.appendChild(docLink);\n",
              "        }\n",
              "      </script>\n",
              "    </div>\n",
              "  </div>\n",
              "  "
            ]
          },
          "metadata": {},
          "execution_count": 37
        }
      ]
    },
    {
      "cell_type": "code",
      "metadata": {
        "id": "OsvBm4luNCME"
      },
      "source": [
        "df['Category'] = df['Category'].map({'ham': 0, 'spam': 1})"
      ],
      "execution_count": 38,
      "outputs": []
    },
    {
      "cell_type": "code",
      "metadata": {
        "colab": {
          "base_uri": "https://localhost:8080/",
          "height": 206
        },
        "id": "KiEHuMypWyb6",
        "outputId": "d47f79de-29d9-40fd-8079-75191adbcb98"
      },
      "source": [
        "df.head(5)"
      ],
      "execution_count": 39,
      "outputs": [
        {
          "output_type": "execute_result",
          "data": {
            "text/plain": [
              "   Category                                            Message\n",
              "0         0  Go until jurong point, crazy.. Available only ...\n",
              "1         0                      Ok lar... Joking wif u oni...\n",
              "2         1  Free entry in 2 a wkly comp to win FA Cup fina...\n",
              "3         0  U dun say so early hor... U c already then say...\n",
              "4         0  Nah I don't think he goes to usf, he lives aro..."
            ],
            "text/html": [
              "\n",
              "  <div id=\"df-827218b7-3bf4-40c0-ad92-2ef0ecdf8415\">\n",
              "    <div class=\"colab-df-container\">\n",
              "      <div>\n",
              "<style scoped>\n",
              "    .dataframe tbody tr th:only-of-type {\n",
              "        vertical-align: middle;\n",
              "    }\n",
              "\n",
              "    .dataframe tbody tr th {\n",
              "        vertical-align: top;\n",
              "    }\n",
              "\n",
              "    .dataframe thead th {\n",
              "        text-align: right;\n",
              "    }\n",
              "</style>\n",
              "<table border=\"1\" class=\"dataframe\">\n",
              "  <thead>\n",
              "    <tr style=\"text-align: right;\">\n",
              "      <th></th>\n",
              "      <th>Category</th>\n",
              "      <th>Message</th>\n",
              "    </tr>\n",
              "  </thead>\n",
              "  <tbody>\n",
              "    <tr>\n",
              "      <th>0</th>\n",
              "      <td>0</td>\n",
              "      <td>Go until jurong point, crazy.. Available only ...</td>\n",
              "    </tr>\n",
              "    <tr>\n",
              "      <th>1</th>\n",
              "      <td>0</td>\n",
              "      <td>Ok lar... Joking wif u oni...</td>\n",
              "    </tr>\n",
              "    <tr>\n",
              "      <th>2</th>\n",
              "      <td>1</td>\n",
              "      <td>Free entry in 2 a wkly comp to win FA Cup fina...</td>\n",
              "    </tr>\n",
              "    <tr>\n",
              "      <th>3</th>\n",
              "      <td>0</td>\n",
              "      <td>U dun say so early hor... U c already then say...</td>\n",
              "    </tr>\n",
              "    <tr>\n",
              "      <th>4</th>\n",
              "      <td>0</td>\n",
              "      <td>Nah I don't think he goes to usf, he lives aro...</td>\n",
              "    </tr>\n",
              "  </tbody>\n",
              "</table>\n",
              "</div>\n",
              "      <button class=\"colab-df-convert\" onclick=\"convertToInteractive('df-827218b7-3bf4-40c0-ad92-2ef0ecdf8415')\"\n",
              "              title=\"Convert this dataframe to an interactive table.\"\n",
              "              style=\"display:none;\">\n",
              "        \n",
              "  <svg xmlns=\"http://www.w3.org/2000/svg\" height=\"24px\"viewBox=\"0 0 24 24\"\n",
              "       width=\"24px\">\n",
              "    <path d=\"M0 0h24v24H0V0z\" fill=\"none\"/>\n",
              "    <path d=\"M18.56 5.44l.94 2.06.94-2.06 2.06-.94-2.06-.94-.94-2.06-.94 2.06-2.06.94zm-11 1L8.5 8.5l.94-2.06 2.06-.94-2.06-.94L8.5 2.5l-.94 2.06-2.06.94zm10 10l.94 2.06.94-2.06 2.06-.94-2.06-.94-.94-2.06-.94 2.06-2.06.94z\"/><path d=\"M17.41 7.96l-1.37-1.37c-.4-.4-.92-.59-1.43-.59-.52 0-1.04.2-1.43.59L10.3 9.45l-7.72 7.72c-.78.78-.78 2.05 0 2.83L4 21.41c.39.39.9.59 1.41.59.51 0 1.02-.2 1.41-.59l7.78-7.78 2.81-2.81c.8-.78.8-2.07 0-2.86zM5.41 20L4 18.59l7.72-7.72 1.47 1.35L5.41 20z\"/>\n",
              "  </svg>\n",
              "      </button>\n",
              "      \n",
              "  <style>\n",
              "    .colab-df-container {\n",
              "      display:flex;\n",
              "      flex-wrap:wrap;\n",
              "      gap: 12px;\n",
              "    }\n",
              "\n",
              "    .colab-df-convert {\n",
              "      background-color: #E8F0FE;\n",
              "      border: none;\n",
              "      border-radius: 50%;\n",
              "      cursor: pointer;\n",
              "      display: none;\n",
              "      fill: #1967D2;\n",
              "      height: 32px;\n",
              "      padding: 0 0 0 0;\n",
              "      width: 32px;\n",
              "    }\n",
              "\n",
              "    .colab-df-convert:hover {\n",
              "      background-color: #E2EBFA;\n",
              "      box-shadow: 0px 1px 2px rgba(60, 64, 67, 0.3), 0px 1px 3px 1px rgba(60, 64, 67, 0.15);\n",
              "      fill: #174EA6;\n",
              "    }\n",
              "\n",
              "    [theme=dark] .colab-df-convert {\n",
              "      background-color: #3B4455;\n",
              "      fill: #D2E3FC;\n",
              "    }\n",
              "\n",
              "    [theme=dark] .colab-df-convert:hover {\n",
              "      background-color: #434B5C;\n",
              "      box-shadow: 0px 1px 3px 1px rgba(0, 0, 0, 0.15);\n",
              "      filter: drop-shadow(0px 1px 2px rgba(0, 0, 0, 0.3));\n",
              "      fill: #FFFFFF;\n",
              "    }\n",
              "  </style>\n",
              "\n",
              "      <script>\n",
              "        const buttonEl =\n",
              "          document.querySelector('#df-827218b7-3bf4-40c0-ad92-2ef0ecdf8415 button.colab-df-convert');\n",
              "        buttonEl.style.display =\n",
              "          google.colab.kernel.accessAllowed ? 'block' : 'none';\n",
              "\n",
              "        async function convertToInteractive(key) {\n",
              "          const element = document.querySelector('#df-827218b7-3bf4-40c0-ad92-2ef0ecdf8415');\n",
              "          const dataTable =\n",
              "            await google.colab.kernel.invokeFunction('convertToInteractive',\n",
              "                                                     [key], {});\n",
              "          if (!dataTable) return;\n",
              "\n",
              "          const docLinkHtml = 'Like what you see? Visit the ' +\n",
              "            '<a target=\"_blank\" href=https://colab.research.google.com/notebooks/data_table.ipynb>data table notebook</a>'\n",
              "            + ' to learn more about interactive tables.';\n",
              "          element.innerHTML = '';\n",
              "          dataTable['output_type'] = 'display_data';\n",
              "          await google.colab.output.renderOutput(dataTable, element);\n",
              "          const docLink = document.createElement('div');\n",
              "          docLink.innerHTML = docLinkHtml;\n",
              "          element.appendChild(docLink);\n",
              "        }\n",
              "      </script>\n",
              "    </div>\n",
              "  </div>\n",
              "  "
            ]
          },
          "metadata": {},
          "execution_count": 39
        }
      ]
    },
    {
      "cell_type": "code",
      "source": [
        "len(df)"
      ],
      "metadata": {
        "colab": {
          "base_uri": "https://localhost:8080/"
        },
        "id": "WRJU9rFy1XQR",
        "outputId": "f1dd2944-6d04-4b9a-f7ee-7422d4d5d7f9"
      },
      "execution_count": 40,
      "outputs": [
        {
          "output_type": "execute_result",
          "data": {
            "text/plain": [
              "5572"
            ]
          },
          "metadata": {},
          "execution_count": 40
        }
      ]
    },
    {
      "cell_type": "code",
      "metadata": {
        "id": "Wnv0v4T6sqJQ"
      },
      "source": [
        "from sklearn import metrics, neighbors\n",
        "from sklearn.model_selection import train_test_split, cross_val_score, cross_val_predict\n",
        "## TASK - 2: Tweak the models below and see results with different parameters and distance metrics.\n",
        "def bow_knn():\n",
        "    \"\"\"Method for determining nearest neighbors using bag-of-words and K-Nearest Neighbor algorithm\"\"\"\n",
        "\n",
        "    training_data = pd.read_csv('spam.csv')\n",
        "    training_data['Category'] = training_data['Category'].map({'ham': 0, 'spam': 1})\n",
        "    X_train, X_test, y_train, y_test = train_test_split(training_data[\"Message\"], training_data[\"Category\"], test_size=0.2, random_state=5)\n",
        "    X_train, X_test = createBagOfWords(X_train, X_test, remove_stopwords=True, lemmatize=True, stemmer=False)\n",
        "    knn = neighbors.KNeighborsClassifier(n_neighbors=5, weights='uniform', algorithm='auto', leaf_size=30, p=2, metric='euclidean', metric_params=None, n_jobs=1)\n",
        "\n",
        "    knn.fit(X_train, y_train)\n",
        "    predicted = knn.predict(X_test)\n",
        "    acc = metrics.accuracy_score(y_test, predicted)\n",
        "    print('KNN with BOW accuracy = ' + str(acc * 100) + '%')\n",
        "\n",
        "    scores = cross_val_score(knn, X_train, y_train, cv=3)\n",
        "    print(\"Cross Validation Accuracy: %0.2f\" % (scores.mean()))\n",
        "    print(scores)\n",
        "    print('\\n')\n",
        "    return predicted, y_test\n",
        "def tfidf_knn():\n",
        "    \"\"\"Method for determining nearest neighbors using tf-idf and K-Nearest Neighbor algorithm\"\"\"\n",
        "\n",
        "    training_data = pd.read_csv('spam.csv')\n",
        "    training_data['Category'] = training_data['Category'].map({'ham': 0, 'spam': 1})\n",
        "    X_train, X_test, y_train, y_test = train_test_split(training_data[\"Message\"], training_data[\"Category\"], test_size=0.2, random_state=5)\n",
        "    X_train, X_test = createTFIDF(X_train, X_test, remove_stopwords=True, lemmatize=True, stemmer=False)\n",
        "    knn = neighbors.KNeighborsClassifier(n_neighbors=5, weights='distance', algorithm='brute', leaf_size=30, p=2, metric='cosine', metric_params=None, n_jobs=1)\n",
        "\n",
        "    knn.fit(X_train, y_train)\n",
        "    predicted = knn.predict(X_test)\n",
        "    acc = metrics.accuracy_score(y_test, predicted)\n",
        "    print('KNN with TFIDF accuracy = ' + str(acc * 100) + '%')\n",
        "\n",
        "    scores = cross_val_score(knn, X_train, y_train, cv=3)\n",
        "    print(\"Cross Validation Accuracy: %0.2f\" % (scores.mean()))\n",
        "    print(scores)\n",
        "    return predicted, y_test"
      ],
      "execution_count": 56,
      "outputs": []
    },
    {
      "cell_type": "code",
      "metadata": {
        "colab": {
          "base_uri": "https://localhost:8080/"
        },
        "id": "W8PwydHYs1h_",
        "outputId": "ebfe8114-3e36-4f66-c02b-b75e29bdfd8a"
      },
      "source": [
        "# This cell may take some time to run\n",
        "predicted, y_test = bow_knn()"
      ],
      "execution_count": 57,
      "outputs": [
        {
          "output_type": "stream",
          "name": "stdout",
          "text": [
            "KNN with BOW accuracy = 92.19730941704036%\n",
            "Cross Validation Accuracy: 0.91\n",
            "[0.90713324 0.90040377 0.91245791]\n",
            "\n",
            "\n"
          ]
        }
      ]
    },
    {
      "cell_type": "code",
      "source": [
        "# This cell may take some time to run\n",
        "predicted, y_test = tfidf_knn()"
      ],
      "metadata": {
        "colab": {
          "base_uri": "https://localhost:8080/"
        },
        "id": "zf8i2P1nxpl8",
        "outputId": "b67f40c0-ee30-4afb-efb0-891130da19df"
      },
      "execution_count": 58,
      "outputs": [
        {
          "output_type": "stream",
          "name": "stdout",
          "text": [
            "KNN with TFIDF accuracy = 98.56502242152466%\n",
            "Cross Validation Accuracy: 0.97\n",
            "[0.96837147 0.96769852 0.96363636]\n"
          ]
        }
      ]
    },
    {
      "cell_type": "code",
      "source": [
        "from sklearn import metrics, neighbors\n",
        "from sklearn.model_selection import train_test_split, cross_val_score, cross_val_predict\n",
        "## TASK - 2: Tweak the models below and see results with different parameters and distance metrics.\n",
        "def bow_knn():\n",
        "    \"\"\"Method for determining nearest neighbors using bag-of-words and K-Nearest Neighbor algorithm\"\"\"\n",
        "    training_data = pd.read_csv('spam.csv')\n",
        "    training_data['Category'] = training_data['Category'].map({'ham': 0, 'spam': 1})\n",
        "    X_train, X_test, y_train, y_test = train_test_split(training_data[\"Message\"], training_data[\"Category\"], test_size=0.2, random_state=5)\n",
        "    X_train, X_test = createBagOfWords(X_train, X_test, remove_stopwords=True, lemmatize=True, stemmer=False)\n",
        "    knn = neighbors.KNeighborsClassifier(n_neighbors=5, weights='uniform', algorithm='auto', leaf_size=30, p=2, metric='jaccard', metric_params=None, n_jobs=1)\n",
        "    knn.fit(X_train, y_train)\n",
        "    predicted = knn.predict(X_test)\n",
        "    acc = metrics.accuracy_score(y_test, predicted)\n",
        "    print('KNN with BOW accuracy = ' + str(acc * 100) + '%')\n",
        "\n",
        "    scores = cross_val_score(knn, X_train, y_train, cv=3)\n",
        "    print(\"Cross Validation Accuracy: %0.2f\" % (scores.mean()))\n",
        "    print(scores)\n",
        "    print('\\n')\n",
        "    return predicted, y_test\n",
        "def tfidf_knn():\n",
        "    \"\"\"Method for determining nearest neighbors using tf-idf and K-Nearest Neighbor algorithm\"\"\"\n",
        "    training_data = pd.read_csv('spam.csv')\n",
        "    training_data['Category'] = training_data['Category'].map({'ham': 0, 'spam': 1})\n",
        "    X_train, X_test, y_train, y_test = train_test_split(training_data[\"Message\"], training_data[\"Category\"], test_size=0.2, random_state=5)\n",
        "    X_train, X_test = createTFIDF(X_train, X_test, remove_stopwords=True, lemmatize=True, stemmer=False)\n",
        "    knn = neighbors.KNeighborsClassifier(n_neighbors=5, weights='distance', algorithm='brute', leaf_size=30, p=2, metric='jaccard', metric_params=None, n_jobs=1)\n",
        "    knn.fit(X_train, y_train)\n",
        "    predicted = knn.predict(X_test)\n",
        "    acc = metrics.accuracy_score(y_test, predicted)\n",
        "    print('KNN with TFIDF accuracy = ' + str(acc * 100) + '%')\n",
        "    scores = cross_val_score(knn, X_train, y_train, cv=3)\n",
        "    print(\"Cross Validation Accuracy: %0.2f\" % (scores.mean()))\n",
        "    print(scores)\n",
        "    return predicted, y_test"
      ],
      "metadata": {
        "id": "q-jg8ybi6lfP"
      },
      "execution_count": 59,
      "outputs": []
    },
    {
      "cell_type": "code",
      "source": [
        "# This cell may take some time to run\n",
        "predicted, y_test = bow_knn()"
      ],
      "metadata": {
        "colab": {
          "base_uri": "https://localhost:8080/"
        },
        "id": "Y-nBA_fe9DSq",
        "outputId": "725f26cd-699c-43e6-8bb9-263e9271474f"
      },
      "execution_count": 60,
      "outputs": [
        {
          "output_type": "stream",
          "name": "stderr",
          "text": [
            "/usr/local/lib/python3.8/dist-packages/sklearn/metrics/pairwise.py:1875: DataConversionWarning: Data was converted to boolean for metric jaccard\n",
            "  warnings.warn(msg, DataConversionWarning)\n"
          ]
        },
        {
          "output_type": "stream",
          "name": "stdout",
          "text": [
            "KNN with BOW accuracy = 98.20627802690582%\n"
          ]
        },
        {
          "output_type": "stream",
          "name": "stderr",
          "text": [
            "/usr/local/lib/python3.8/dist-packages/sklearn/metrics/pairwise.py:1875: DataConversionWarning: Data was converted to boolean for metric jaccard\n",
            "  warnings.warn(msg, DataConversionWarning)\n",
            "/usr/local/lib/python3.8/dist-packages/sklearn/metrics/pairwise.py:1875: DataConversionWarning: Data was converted to boolean for metric jaccard\n",
            "  warnings.warn(msg, DataConversionWarning)\n",
            "/usr/local/lib/python3.8/dist-packages/sklearn/metrics/pairwise.py:1875: DataConversionWarning: Data was converted to boolean for metric jaccard\n",
            "  warnings.warn(msg, DataConversionWarning)\n"
          ]
        },
        {
          "output_type": "stream",
          "name": "stdout",
          "text": [
            "Cross Validation Accuracy: 0.97\n",
            "[0.97375505 0.97510094 0.97508418]\n",
            "\n",
            "\n"
          ]
        }
      ]
    },
    {
      "cell_type": "code",
      "source": [
        "# This cell may take some time to run\n",
        "predicted, y_test = tfidf_knn()"
      ],
      "metadata": {
        "colab": {
          "base_uri": "https://localhost:8080/"
        },
        "id": "WsC_vq8D9ndb",
        "outputId": "f4946170-c433-4db2-f729-8f4822479d15"
      },
      "execution_count": 61,
      "outputs": [
        {
          "output_type": "stream",
          "name": "stderr",
          "text": [
            "/usr/local/lib/python3.8/dist-packages/sklearn/metrics/pairwise.py:1875: DataConversionWarning: Data was converted to boolean for metric jaccard\n",
            "  warnings.warn(msg, DataConversionWarning)\n"
          ]
        },
        {
          "output_type": "stream",
          "name": "stdout",
          "text": [
            "KNN with TFIDF accuracy = 98.56502242152466%\n"
          ]
        },
        {
          "output_type": "stream",
          "name": "stderr",
          "text": [
            "/usr/local/lib/python3.8/dist-packages/sklearn/metrics/pairwise.py:1875: DataConversionWarning: Data was converted to boolean for metric jaccard\n",
            "  warnings.warn(msg, DataConversionWarning)\n",
            "/usr/local/lib/python3.8/dist-packages/sklearn/metrics/pairwise.py:1875: DataConversionWarning: Data was converted to boolean for metric jaccard\n",
            "  warnings.warn(msg, DataConversionWarning)\n",
            "/usr/local/lib/python3.8/dist-packages/sklearn/metrics/pairwise.py:1875: DataConversionWarning: Data was converted to boolean for metric jaccard\n",
            "  warnings.warn(msg, DataConversionWarning)\n"
          ]
        },
        {
          "output_type": "stream",
          "name": "stdout",
          "text": [
            "Cross Validation Accuracy: 0.98\n",
            "[0.97913863 0.97913863 0.97643098]\n"
          ]
        }
      ]
    },
    {
      "cell_type": "markdown",
      "source": [
        "### Questions to Think About and Answer\n",
        "1. Why does the TF-IDF approach generally result in a better accuracy than Bag-of-Words ?\n",
        "2. Can you think of techniques that are better than both BoW and TF-IDF ?\n",
        "3. Read about Stemming and Lemmatization from the resources given below. Think about the pros/cons of each."
      ],
      "metadata": {
        "id": "f9xvbzS4yLTr"
      }
    },
    {
      "cell_type": "markdown",
      "source": [
        "#1.Why does the TF-IDF approach generally result in a better accuracy than Bag-of-Words ?\n",
        "\n",
        "Bag of Words just creates a set of vectors containing the count of word occurrences in the document (reviews), while the TF-IDF model contains information on the more important words and the less important ones as well."
      ],
      "metadata": {
        "id": "XMpzMuMi-RSJ"
      }
    },
    {
      "cell_type": "markdown",
      "source": [
        "#2.Can you think of techniques that are better than both BoW and TF-IDF ?\n",
        "\n"
      ],
      "metadata": {
        "id": "FKOjImSx_A0B"
      }
    },
    {
      "cell_type": "markdown",
      "source": [
        "#3.Read about Stemming and Lemmatization from the resources given below. Think about the pros/cons of each.\n",
        "\n",
        "#----#\n",
        "\n",
        "Stemming is the process of converting the words of a sentence to its non-changing portions. In the example of amusing, amusement, and amused above, the stem would be amus.\n",
        "\n",
        "but lematization also considers the context of those words in a sentence\n",
        "\n",
        "like for is ,am are are --- be\n",
        "\n",
        "etc.\n",
        "\n",
        "![image.png](data:image/png;base64,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)\n",
        "\n",
        "\n",
        "Lemmatization usually refers to doing things properly with the use of a vocabulary and morphological analysis of words, normally aiming to remove inflectional endings only and to return the base or dictionary form of a word, which is known as the lemma .\n"
      ],
      "metadata": {
        "id": "7IuRoP_P_e0x"
      }
    },
    {
      "cell_type": "markdown",
      "source": [
        "### Useful Resources for further reading\n",
        "1. Stemming and Lemmatization: https://nlp.stanford.edu/IR-book/html/htmledition/stemming-and-lemmatization-1.html\n",
        "2. TF-IDF and BoW : https://www.analyticsvidhya.com/blog/2020/02/quick-introduction-bag-of-words-bow-tf-idf/\n",
        "3. TF-IDF: https://scikit-learn.org/stable/modules/generated/sklearn.feature_extraction.text.TfidfTransformer.html\n"
      ],
      "metadata": {
        "id": "T6xPL6smyWG-"
      }
    }
  ]
}